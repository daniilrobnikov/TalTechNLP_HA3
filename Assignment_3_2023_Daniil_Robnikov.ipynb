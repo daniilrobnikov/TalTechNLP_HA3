{
  "cells": [
    {
      "attachments": {},
      "cell_type": "markdown",
      "metadata": {
        "id": "xmk-ceXa7RA-"
      },
      "source": [
        "In this assignment you have to experiment with letter-to-phoneme conversion. This task is an important part of speech technologies including recognition and synthesis.\n",
        "\n",
        "The language is French, but you are not expected to know French to do well in this task.\n",
        "\n",
        "Let's first download the data:"
      ]
    },
    {
      "cell_type": "code",
      "execution_count": 49,
      "metadata": {
        "colab": {
          "base_uri": "https://localhost:8080/"
        },
        "id": "KK_vg1J7ix26",
        "outputId": "d442973d-3681-42c8-aa85-6df167dc7e28",
        "vscode": {
          "languageId": "python"
        }
      },
      "outputs": [
        {
          "name": "stdout",
          "output_type": "stream",
          "text": [
            "--2023-05-11 19:05:17--  https://bark.phon.ioc.ee/tanel/tmp/fre_train.tsv\n",
            "Resolving bark.phon.ioc.ee (bark.phon.ioc.ee)... 193.40.251.129\n",
            "Connecting to bark.phon.ioc.ee (bark.phon.ioc.ee)|193.40.251.129|:443... connected.\n",
            "HTTP request sent, awaiting response... 200 OK\n",
            "Length: 79465 (78K) [text/tab-separated-values]\n",
            "Saving to: ‘fre_train.tsv.1’\n",
            "\n",
            "fre_train.tsv.1     100%[===================>]  77.60K   183KB/s    in 0.4s    \n",
            "\n",
            "2023-05-11 19:05:20 (183 KB/s) - ‘fre_train.tsv.1’ saved [79465/79465]\n",
            "\n",
            "--2023-05-11 19:05:20--  https://bark.phon.ioc.ee/tanel/tmp/fre_dev.tsv\n",
            "Resolving bark.phon.ioc.ee (bark.phon.ioc.ee)... 193.40.251.129\n",
            "Connecting to bark.phon.ioc.ee (bark.phon.ioc.ee)|193.40.251.129|:443... connected.\n",
            "HTTP request sent, awaiting response... 200 OK\n",
            "Length: 9925 (9.7K) [text/tab-separated-values]\n",
            "Saving to: ‘fre_dev.tsv.1’\n",
            "\n",
            "fre_dev.tsv.1       100%[===================>]   9.69K  --.-KB/s    in 0.1s    \n",
            "\n",
            "2023-05-11 19:05:22 (69.2 KB/s) - ‘fre_dev.tsv.1’ saved [9925/9925]\n",
            "\n",
            "--2023-05-11 19:05:22--  https://bark.phon.ioc.ee/tanel/tmp/fre_test.unlabelled.tsv\n",
            "Resolving bark.phon.ioc.ee (bark.phon.ioc.ee)... 193.40.251.129\n",
            "Connecting to bark.phon.ioc.ee (bark.phon.ioc.ee)|193.40.251.129|:443... connected.\n",
            "HTTP request sent, awaiting response... 200 OK\n",
            "Length: 3854 (3.8K) [text/tab-separated-values]\n",
            "Saving to: ‘fre_test.unlabelled.tsv.1’\n",
            "\n",
            "fre_test.unlabelled 100%[===================>]   3.76K  --.-KB/s    in 0s      \n",
            "\n",
            "2023-05-11 19:05:24 (185 MB/s) - ‘fre_test.unlabelled.tsv.1’ saved [3854/3854]\n",
            "\n"
          ]
        }
      ],
      "source": [
        "! wget --no-check-certificate https://bark.phon.ioc.ee/tanel/tmp/fre_train.tsv\n",
        "! wget --no-check-certificate https://bark.phon.ioc.ee/tanel/tmp/fre_dev.tsv\n",
        "! wget --no-check-certificate https://bark.phon.ioc.ee/tanel/tmp/fre_test.unlabelled.tsv"
      ]
    },
    {
      "attachments": {},
      "cell_type": "markdown",
      "metadata": {
        "id": "fgxkUnw5bD3k"
      },
      "source": [
        "Let's explore the data:"
      ]
    },
    {
      "cell_type": "code",
      "execution_count": 50,
      "metadata": {
        "colab": {
          "base_uri": "https://localhost:8080/"
        },
        "id": "nf1GriE7jnxZ",
        "outputId": "de72c016-169c-4944-9b5d-47efa82595e2",
        "vscode": {
          "languageId": "python"
        }
      },
      "outputs": [
        {
          "name": "stdout",
          "output_type": "stream",
          "text": [
            "abandonner\ta b ɑ̃ d ɔ n e\n",
            "abby\ta b i\n",
            "abidjan\ta b i d ʒ ɑ̃\n",
            "abject\ta b ʒ ɛ k t\n",
            "abolir\ta b ɔ l i ʁ\n",
            "abonnement\ta b ɔ n m ɑ̃\n",
            "abou\ta b u\n",
            "absence\ta p s ɑ̃ s\n",
            "absolument\ta p s ɔ l y m ɑ̃\n",
            "absolus\ta p s ɔ l y\n"
          ]
        }
      ],
      "source": [
        "!head fre_train.tsv"
      ]
    },
    {
      "cell_type": "code",
      "execution_count": 51,
      "metadata": {
        "colab": {
          "base_uri": "https://localhost:8080/"
        },
        "id": "ovga5JvO8LE6",
        "outputId": "1f127223-74bd-4e1d-f8e7-59a3aeb4e451",
        "vscode": {
          "languageId": "python"
        }
      },
      "outputs": [
        {
          "name": "stdout",
          "output_type": "stream",
          "text": [
            "absent\ta p s ɑ̃\n",
            "abîme\ta b i m\n",
            "accéder\ta k s e d e\n",
            "accélérer\ta k s e l e ʁ e\n",
            "achat\ta ʃ a\n",
            "action\ta k s j ɔ̃\n",
            "activité\ta k t i v i t e\n",
            "adorner\ta d ɔ ʁ n e\n",
            "agence\ta ʒ ɑ̃ s\n",
            "aile\tɛ l\n"
          ]
        }
      ],
      "source": [
        "!head fre_dev.tsv"
      ]
    },
    {
      "cell_type": "code",
      "execution_count": 52,
      "metadata": {
        "colab": {
          "base_uri": "https://localhost:8080/"
        },
        "id": "GJmSIwoHmAsJ",
        "outputId": "a2a61844-651e-4a98-f2c2-ab67fa4f52c3",
        "vscode": {
          "languageId": "python"
        }
      },
      "outputs": [
        {
          "name": "stdout",
          "output_type": "stream",
          "text": [
            "tandis\n",
            "serres\n",
            "enfer\n",
            "réunion\n",
            "moderne\n",
            "star\n",
            "classique\n",
            "bientôt\n",
            "bouddhiste\n",
            "défaut\n"
          ]
        }
      ],
      "source": [
        "!head fre_test.unlabelled.tsv"
      ]
    },
    {
      "attachments": {},
      "cell_type": "markdown",
      "metadata": {
        "id": "zl8u2CLB8NoA"
      },
      "source": [
        "As you see, the data consists of lines. On each line there is a word and its pronunciation, seperated by TABs. Pronunciation consists of IPA-like symbols, seperated by space. The test data is unlabelled, i.e., the pronunciations are not given.\n",
        "\n",
        "We use the datasets package that is good for handling this kind of data."
      ]
    },
    {
      "cell_type": "code",
      "execution_count": 53,
      "metadata": {
        "colab": {
          "base_uri": "https://localhost:8080/"
        },
        "id": "fD60CcyqUE5I",
        "outputId": "c1a0ec38-b938-4935-c68a-849d9d2cdbba",
        "vscode": {
          "languageId": "python"
        }
      },
      "outputs": [
        {
          "name": "stdout",
          "output_type": "stream",
          "text": [
            "Looking in indexes: https://pypi.org/simple, https://us-python.pkg.dev/colab-wheels/public/simple/\n",
            "Requirement already satisfied: datasets in /usr/local/lib/python3.10/dist-packages (2.12.0)\n",
            "Requirement already satisfied: numpy>=1.17 in /usr/local/lib/python3.10/dist-packages (from datasets) (1.22.4)\n",
            "Requirement already satisfied: pyarrow>=8.0.0 in /usr/local/lib/python3.10/dist-packages (from datasets) (9.0.0)\n",
            "Requirement already satisfied: dill<0.3.7,>=0.3.0 in /usr/local/lib/python3.10/dist-packages (from datasets) (0.3.6)\n",
            "Requirement already satisfied: pandas in /usr/local/lib/python3.10/dist-packages (from datasets) (1.5.3)\n",
            "Requirement already satisfied: requests>=2.19.0 in /usr/local/lib/python3.10/dist-packages (from datasets) (2.27.1)\n",
            "Requirement already satisfied: tqdm>=4.62.1 in /usr/local/lib/python3.10/dist-packages (from datasets) (4.65.0)\n",
            "Requirement already satisfied: xxhash in /usr/local/lib/python3.10/dist-packages (from datasets) (3.2.0)\n",
            "Requirement already satisfied: multiprocess in /usr/local/lib/python3.10/dist-packages (from datasets) (0.70.14)\n",
            "Requirement already satisfied: fsspec[http]>=2021.11.1 in /usr/local/lib/python3.10/dist-packages (from datasets) (2023.4.0)\n",
            "Requirement already satisfied: aiohttp in /usr/local/lib/python3.10/dist-packages (from datasets) (3.8.4)\n",
            "Requirement already satisfied: huggingface-hub<1.0.0,>=0.11.0 in /usr/local/lib/python3.10/dist-packages (from datasets) (0.14.1)\n",
            "Requirement already satisfied: packaging in /usr/local/lib/python3.10/dist-packages (from datasets) (23.1)\n",
            "Requirement already satisfied: responses<0.19 in /usr/local/lib/python3.10/dist-packages (from datasets) (0.18.0)\n",
            "Requirement already satisfied: pyyaml>=5.1 in /usr/local/lib/python3.10/dist-packages (from datasets) (6.0)\n",
            "Requirement already satisfied: attrs>=17.3.0 in /usr/local/lib/python3.10/dist-packages (from aiohttp->datasets) (23.1.0)\n",
            "Requirement already satisfied: charset-normalizer<4.0,>=2.0 in /usr/local/lib/python3.10/dist-packages (from aiohttp->datasets) (2.0.12)\n",
            "Requirement already satisfied: multidict<7.0,>=4.5 in /usr/local/lib/python3.10/dist-packages (from aiohttp->datasets) (6.0.4)\n",
            "Requirement already satisfied: async-timeout<5.0,>=4.0.0a3 in /usr/local/lib/python3.10/dist-packages (from aiohttp->datasets) (4.0.2)\n",
            "Requirement already satisfied: yarl<2.0,>=1.0 in /usr/local/lib/python3.10/dist-packages (from aiohttp->datasets) (1.9.2)\n",
            "Requirement already satisfied: frozenlist>=1.1.1 in /usr/local/lib/python3.10/dist-packages (from aiohttp->datasets) (1.3.3)\n",
            "Requirement already satisfied: aiosignal>=1.1.2 in /usr/local/lib/python3.10/dist-packages (from aiohttp->datasets) (1.3.1)\n",
            "Requirement already satisfied: filelock in /usr/local/lib/python3.10/dist-packages (from huggingface-hub<1.0.0,>=0.11.0->datasets) (3.12.0)\n",
            "Requirement already satisfied: typing-extensions>=3.7.4.3 in /usr/local/lib/python3.10/dist-packages (from huggingface-hub<1.0.0,>=0.11.0->datasets) (4.5.0)\n",
            "Requirement already satisfied: urllib3<1.27,>=1.21.1 in /usr/local/lib/python3.10/dist-packages (from requests>=2.19.0->datasets) (1.26.15)\n",
            "Requirement already satisfied: certifi>=2017.4.17 in /usr/local/lib/python3.10/dist-packages (from requests>=2.19.0->datasets) (2022.12.7)\n",
            "Requirement already satisfied: idna<4,>=2.5 in /usr/local/lib/python3.10/dist-packages (from requests>=2.19.0->datasets) (3.4)\n",
            "Requirement already satisfied: python-dateutil>=2.8.1 in /usr/local/lib/python3.10/dist-packages (from pandas->datasets) (2.8.2)\n",
            "Requirement already satisfied: pytz>=2020.1 in /usr/local/lib/python3.10/dist-packages (from pandas->datasets) (2022.7.1)\n",
            "Requirement already satisfied: six>=1.5 in /usr/local/lib/python3.10/dist-packages (from python-dateutil>=2.8.1->pandas->datasets) (1.16.0)\n"
          ]
        }
      ],
      "source": [
        "! pip install datasets"
      ]
    },
    {
      "cell_type": "code",
      "execution_count": 54,
      "metadata": {
        "id": "Tig9k3lpjlMu",
        "vscode": {
          "languageId": "python"
        }
      },
      "outputs": [],
      "source": [
        "import torch"
      ]
    },
    {
      "cell_type": "code",
      "execution_count": 55,
      "metadata": {
        "colab": {
          "base_uri": "https://localhost:8080/",
          "height": 86,
          "referenced_widgets": [
            "37e32866cd1d4c1c99a5117bae17b820",
            "c603a9c4f8554837926e84ef3f654738",
            "8c42d1ea3f944aa6bcbf8af7c64dcd84",
            "e6096ce0aa824c0d9dc4b1032520ffe6",
            "6594d014400546db9f20940fdfbc837c",
            "863f72355f154f4f99697f8b1e667b3e",
            "5f8e8d8b2c904f0c839609216b5e7874",
            "1e24b7fef9784787b7d3e5d2cf4f4477",
            "19473b6793154cc38db4f28ed161a796",
            "7773d48cbc2244fdb065bfac7b7321fa",
            "e95bcc329a72442daa2732d9fe4af21d"
          ]
        },
        "id": "AUFPUM56iJTY",
        "outputId": "98255894-c95f-4317-b5df-243f8ca11fb3",
        "vscode": {
          "languageId": "python"
        }
      },
      "outputs": [
        {
          "name": "stderr",
          "output_type": "stream",
          "text": [
            "WARNING:datasets.builder:Found cached dataset csv (/root/.cache/huggingface/datasets/csv/default-b52b0e433059ed70/0.0.0/6954658bab30a358235fa864b05cf819af0e179325c740e4bc853bcc7ec513e1)\n"
          ]
        },
        {
          "data": {
            "application/vnd.jupyter.widget-view+json": {
              "model_id": "37e32866cd1d4c1c99a5117bae17b820",
              "version_major": 2,
              "version_minor": 0
            },
            "text/plain": [
              "  0%|          | 0/2 [00:00<?, ?it/s]"
            ]
          },
          "metadata": {},
          "output_type": "display_data"
        }
      ],
      "source": [
        "from datasets import load_dataset\n",
        "# define field names for each column in the CSV files\n",
        "field_names = [\"chars\", \"phonemes\"]\n",
        "# load train, dev and test datasets from CSV files\n",
        "data = load_dataset('csv', data_files={'train': 'fre_train.tsv', 'dev': 'fre_dev.tsv'}, delimiter='\\t', column_names=field_names)\n",
        "\n",
        "test_word_list = [l.strip() for l in open(\"fre_test.unlabelled.tsv\")]"
      ]
    },
    {
      "cell_type": "code",
      "execution_count": 56,
      "metadata": {
        "colab": {
          "base_uri": "https://localhost:8080/"
        },
        "id": "CzKqp_gwj2aB",
        "outputId": "d723a747-4a1f-439f-8543-387c88ef2a19",
        "vscode": {
          "languageId": "python"
        }
      },
      "outputs": [
        {
          "data": {
            "text/plain": [
              "DatasetDict({\n",
              "    train: Dataset({\n",
              "        features: ['chars', 'phonemes'],\n",
              "        num_rows: 3600\n",
              "    })\n",
              "    dev: Dataset({\n",
              "        features: ['chars', 'phonemes'],\n",
              "        num_rows: 450\n",
              "    })\n",
              "})"
            ]
          },
          "execution_count": 56,
          "metadata": {},
          "output_type": "execute_result"
        }
      ],
      "source": [
        "data"
      ]
    },
    {
      "cell_type": "code",
      "execution_count": 57,
      "metadata": {
        "colab": {
          "base_uri": "https://localhost:8080/",
          "height": 35
        },
        "id": "I_G-XnwRlwCu",
        "outputId": "86af1d27-115a-4625-ee04-748ed0b278b8",
        "vscode": {
          "languageId": "python"
        }
      },
      "outputs": [
        {
          "data": {
            "application/vnd.google.colaboratory.intrinsic+json": {
              "type": "string"
            },
            "text/plain": [
              "'a b ɑ̃ d ɔ n e'"
            ]
          },
          "execution_count": 57,
          "metadata": {},
          "output_type": "execute_result"
        }
      ],
      "source": [
        "data[\"train\"][0][\"phonemes\"]"
      ]
    },
    {
      "cell_type": "code",
      "execution_count": 58,
      "metadata": {
        "colab": {
          "base_uri": "https://localhost:8080/"
        },
        "id": "1A90Bqn6ki4k",
        "outputId": "593858f3-f4ba-469b-e5df-66b0dcf0a0d4",
        "vscode": {
          "languageId": "python"
        }
      },
      "outputs": [
        {
          "name": "stderr",
          "output_type": "stream",
          "text": [
            "WARNING:datasets.arrow_dataset:Loading cached processed dataset at /root/.cache/huggingface/datasets/csv/default-b52b0e433059ed70/0.0.0/6954658bab30a358235fa864b05cf819af0e179325c740e4bc853bcc7ec513e1/cache-7d4d2e3176db096f.arrow\n",
            "WARNING:datasets.arrow_dataset:Loading cached processed dataset at /root/.cache/huggingface/datasets/csv/default-b52b0e433059ed70/0.0.0/6954658bab30a358235fa864b05cf819af0e179325c740e4bc853bcc7ec513e1/cache-22224fc8a98c22bc.arrow\n"
          ]
        }
      ],
      "source": [
        "# define a function to split both fields to a list of characters\n",
        "def split_chars(example):\n",
        "    example['chars'] = list(example['chars'])\n",
        "    example['phonemes'] = example['phonemes'].split()\n",
        "    return example\n",
        "\n",
        "data = data.map(split_chars, batched=False)    "
      ]
    },
    {
      "cell_type": "code",
      "execution_count": 59,
      "metadata": {
        "id": "mxqn_mRKkSBV",
        "vscode": {
          "languageId": "python"
        }
      },
      "outputs": [],
      "source": [
        "train_dataset = data[\"train\"]\n",
        "dev_dataset = data[\"dev\"]\n"
      ]
    },
    {
      "attachments": {},
      "cell_type": "markdown",
      "metadata": {
        "id": "YFAKDzIz8wHh"
      },
      "source": [
        "Let's explore the datasets:"
      ]
    },
    {
      "cell_type": "code",
      "execution_count": 60,
      "metadata": {
        "colab": {
          "base_uri": "https://localhost:8080/"
        },
        "id": "PpjKWdxdkW25",
        "outputId": "8648e9cd-eb83-47cd-ea53-97068a4a86aa",
        "vscode": {
          "languageId": "python"
        }
      },
      "outputs": [
        {
          "name": "stdout",
          "output_type": "stream",
          "text": [
            "3600\n",
            "['a', 'b', 'a', 'n', 'd', 'o', 'n', 'n', 'e', 'r'] ['a', 'b', 'ɑ̃', 'd', 'ɔ', 'n', 'e']\n"
          ]
        }
      ],
      "source": [
        "print(len(train_dataset))\n",
        "print(train_dataset[0][\"chars\"], train_dataset[0][\"phonemes\"])"
      ]
    },
    {
      "attachments": {},
      "cell_type": "markdown",
      "metadata": {
        "id": "bQxHWUPol_5W"
      },
      "source": [
        "Now let's build the char-to-id and phoneme-to-id mappings."
      ]
    },
    {
      "cell_type": "code",
      "execution_count": 61,
      "metadata": {
        "id": "0AJhoJY1k35B",
        "vscode": {
          "languageId": "python"
        }
      },
      "outputs": [],
      "source": [
        "from torchtext.vocab import vocab\n",
        "from torchtext.vocab import build_vocab_from_iterator\n",
        "\n",
        "chars_vocab = build_vocab_from_iterator(train_dataset[\"chars\"], min_freq=1, specials=('<unk>', '<BOS>', '<EOS>', '<PAD>'))\n",
        "phoneme_vocab = build_vocab_from_iterator(train_dataset[\"phonemes\"], min_freq=1, specials=('<unk>', '<BOS>', '<EOS>', '<PAD>'))"
      ]
    },
    {
      "cell_type": "code",
      "execution_count": 62,
      "metadata": {
        "colab": {
          "base_uri": "https://localhost:8080/"
        },
        "id": "923z9o7umS4m",
        "outputId": "bfdb0b2f-2115-4e95-83cf-253cfcb0a914",
        "vscode": {
          "languageId": "python"
        }
      },
      "outputs": [
        {
          "data": {
            "text/plain": [
              "['<unk>',\n",
              " '<BOS>',\n",
              " '<EOS>',\n",
              " '<PAD>',\n",
              " 'e',\n",
              " 'r',\n",
              " 'i',\n",
              " 'a',\n",
              " 'n',\n",
              " 't',\n",
              " 'o',\n",
              " 's',\n",
              " 'l',\n",
              " 'c',\n",
              " 'u',\n",
              " 'm',\n",
              " 'p',\n",
              " 'é',\n",
              " 'd',\n",
              " 'g',\n",
              " 'b',\n",
              " 'v',\n",
              " 'f',\n",
              " 'h',\n",
              " 'q',\n",
              " 'x',\n",
              " 'è',\n",
              " 'y',\n",
              " 'j',\n",
              " 'k',\n",
              " 'z',\n",
              " 'ê',\n",
              " 'ô',\n",
              " 'î',\n",
              " 'â',\n",
              " 'ï',\n",
              " 'ç',\n",
              " 'w',\n",
              " 'û',\n",
              " 'ë',\n",
              " 'à']"
            ]
          },
          "execution_count": 62,
          "metadata": {},
          "output_type": "execute_result"
        }
      ],
      "source": [
        "chars_vocab.get_itos()"
      ]
    },
    {
      "cell_type": "code",
      "execution_count": 63,
      "metadata": {
        "colab": {
          "base_uri": "https://localhost:8080/"
        },
        "id": "eX0TDAKFmiS1",
        "outputId": "33d10bc2-5849-40e7-b804-7c9113ef9c48",
        "vscode": {
          "languageId": "python"
        }
      },
      "outputs": [
        {
          "data": {
            "text/plain": [
              "['<unk>',\n",
              " '<BOS>',\n",
              " '<EOS>',\n",
              " '<PAD>',\n",
              " 'ʁ',\n",
              " 'a',\n",
              " 'i',\n",
              " 's',\n",
              " 't',\n",
              " 'e',\n",
              " 'l',\n",
              " 'k',\n",
              " 'ɛ',\n",
              " 'ɔ',\n",
              " 'ɑ̃',\n",
              " 'p',\n",
              " 'm',\n",
              " 'd',\n",
              " 'j',\n",
              " 'n',\n",
              " 'ɔ̃',\n",
              " 'y',\n",
              " 'v',\n",
              " 'b',\n",
              " 'f',\n",
              " 'ʒ',\n",
              " 'z',\n",
              " 'ɛ̃',\n",
              " 'u',\n",
              " 'ə',\n",
              " 'o',\n",
              " 'ɡ',\n",
              " 'w',\n",
              " 'ʃ',\n",
              " 'œ',\n",
              " 'ɥ',\n",
              " 'ø',\n",
              " 'ɑ',\n",
              " 'ɲ',\n",
              " 'œ̃',\n",
              " 'ŋ',\n",
              " 'h',\n",
              " 'ɪ',\n",
              " '‿']"
            ]
          },
          "execution_count": 63,
          "metadata": {},
          "output_type": "execute_result"
        }
      ],
      "source": [
        "phoneme_vocab.get_itos()"
      ]
    },
    {
      "cell_type": "code",
      "execution_count": 64,
      "metadata": {
        "colab": {
          "base_uri": "https://localhost:8080/"
        },
        "id": "rWf5z1o-pXam",
        "outputId": "4de55ab5-d32f-4068-fdc9-0b293ac31026",
        "vscode": {
          "languageId": "python"
        }
      },
      "outputs": [
        {
          "data": {
            "text/plain": [
              "[7, 20]"
            ]
          },
          "execution_count": 64,
          "metadata": {},
          "output_type": "execute_result"
        }
      ],
      "source": [
        "chars_vocab([\"a\", \"b\"])"
      ]
    },
    {
      "cell_type": "code",
      "execution_count": 65,
      "metadata": {
        "colab": {
          "base_uri": "https://localhost:8080/"
        },
        "id": "Ja9p5iJnp5wR",
        "outputId": "1e61486f-2349-4386-c71a-9b4da5795feb",
        "vscode": {
          "languageId": "python"
        }
      },
      "outputs": [
        {
          "data": {
            "text/plain": [
              "3"
            ]
          },
          "execution_count": 65,
          "metadata": {},
          "output_type": "execute_result"
        }
      ],
      "source": [
        "chars_vocab[\"<PAD>\"]"
      ]
    },
    {
      "cell_type": "code",
      "execution_count": 66,
      "metadata": {
        "colab": {
          "base_uri": "https://localhost:8080/"
        },
        "id": "8BSjElRrlSMe",
        "outputId": "840d29f5-d5b7-424a-c8ff-e2c43ae215ff",
        "vscode": {
          "languageId": "python"
        }
      },
      "outputs": [
        {
          "name": "stdout",
          "output_type": "stream",
          "text": [
            "cuda\n"
          ]
        }
      ],
      "source": [
        "device = 'cpu'\n",
        "if torch.cuda.is_available():\n",
        "  device = torch.device('cuda')\n",
        "\n",
        "print(device)"
      ]
    },
    {
      "attachments": {},
      "cell_type": "markdown",
      "metadata": {
        "id": "9_gqj9hJmKJJ"
      },
      "source": [
        "Let's define the collate function for batching:"
      ]
    },
    {
      "cell_type": "code",
      "execution_count": 67,
      "metadata": {
        "id": "eVgtgScjlTPq",
        "vscode": {
          "languageId": "python"
        }
      },
      "outputs": [],
      "source": [
        "import torch\n",
        "from torch.nn.utils.rnn import pad_sequence\n",
        "\n",
        "# define a collate function to tokenize and pad the text fields\n",
        "def collate_fn(batch):\n",
        "  chars = [torch.Tensor(chars_vocab([\"<BOS>\"]  + example['chars'] +  [\"<EOS>\"])).long() for example in batch]\n",
        "  phonemes = [torch.Tensor(phoneme_vocab([\"<BOS>\"] +  example['phonemes'] + [\"<EOS>\"])).long() for example in batch]\n",
        "  return {\n",
        "    'chars': pad_sequence(chars, batch_first=True, padding_value=chars_vocab['<PAD>']),\n",
        "    'phonemes': pad_sequence(phonemes, batch_first=True, padding_value=phoneme_vocab['<PAD>'])\n",
        "  }"
      ]
    },
    {
      "cell_type": "code",
      "execution_count": 68,
      "metadata": {
        "colab": {
          "base_uri": "https://localhost:8080/"
        },
        "id": "i1Sws5wAqOGD",
        "outputId": "0743f73a-eeb5-4e67-c50f-2ef049ddc04a",
        "vscode": {
          "languageId": "python"
        }
      },
      "outputs": [
        {
          "data": {
            "text/plain": [
              "{'chars': tensor([[ 1,  7, 20,  7,  8, 18, 10,  8,  8,  4,  5,  2],\n",
              "         [ 1,  7, 20, 20, 27,  2,  3,  3,  3,  3,  3,  3]]),\n",
              " 'phonemes': tensor([[ 1,  5, 23, 14, 17, 13, 19,  9,  2],\n",
              "         [ 1,  5, 23,  6,  2,  3,  3,  3,  3]])}"
            ]
          },
          "execution_count": 68,
          "metadata": {},
          "output_type": "execute_result"
        }
      ],
      "source": [
        "collate_fn([train_dataset[0], train_dataset[1]])"
      ]
    },
    {
      "attachments": {},
      "cell_type": "markdown",
      "metadata": {
        "id": "rp4UWWhK8_6M"
      },
      "source": [
        "Each batch is now a map with two keys (chars and phonemes) which each are both tensors (matrices)."
      ]
    },
    {
      "attachments": {},
      "cell_type": "markdown",
      "metadata": {
        "id": "nFZbRgvv9Tml"
      },
      "source": [
        "We will first implement a basic encoder-decoder model for this task. Both encoder and decoder have an embedding layer and a recurrent (GRU) layer. The last hidden state of the GRU layer of the encoder is passed to the decoder, which then generates the pronunication from this representation.\n",
        "\n",
        "The picture below describes this model: an input character sequence \"abou\" is transformed to a phoneme sequence \"abu\". Note how the outputs of the encoder GRU are completely ignored by the decoder."
      ]
    },
    {
      "attachments": {},
      "cell_type": "markdown",
      "metadata": {
        "id": "_nEI0ovXANQE"
      },
      "source": [
        "<img src=\"data:image/png;base64,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\" style=\"cursor:pointer;max-width:100%;\" onclick=\"(function(img){if(img.wnd!=null&&!img.wnd.closed){img.wnd.focus();}else{var r=function(evt){if(evt.data=='ready'&&evt.source==img.wnd){img.wnd.postMessage(decodeURIComponent(img.getAttribute('src')),'*');window.removeEventListener('message',r);}};window.addEventListener('message',r);img.wnd=window.open('https://app.diagrams.net/?client=1&lightbox=1&edit=_blank');}})(this);\"/>"
      ]
    },
    {
      "cell_type": "code",
      "execution_count": null,
      "metadata": {
        "vscode": {
          "languageId": "python"
        }
      },
      "outputs": [],
      "source": [
        "import math\n",
        "from torch import Tensor\n",
        "import torch.nn as nn\n",
        "from torch.nn import Transformer\n",
        "\n",
        "DEVICE = torch.device('cuda' if torch.cuda.is_available() else 'cpu')\n",
        "UNK_IDX, BOS_IDX, EOS_IDX, PAD_IDX = 0, 1, 2, 3"
      ]
    },
    {
      "cell_type": "code",
      "execution_count": 69,
      "metadata": {
        "id": "ozUkA42Os7Cx",
        "vscode": {
          "languageId": "python"
        }
      },
      "outputs": [],
      "source": [
        "# helper Module that adds positional encoding to the token embedding to introduce a notion of word order.\n",
        "class PositionalEncoding(nn.Module):\n",
        "    def __init__(self, d_model, dropout: float, max_len=5000):\n",
        "        super(PositionalEncoding, self).__init__()\n",
        "        \n",
        "        # Create positional encoding matrix\n",
        "        pe = torch.zeros(max_len, d_model)\n",
        "        position = torch.arange(0, max_len, dtype=torch.float).unsqueeze(1)\n",
        "        div_term = torch.exp(torch.arange(0, d_model, 2).float() * (-torch.log(torch.tensor(1e4)) / d_model))\n",
        "        pe[:, 0::2] = torch.sin(position * div_term)\n",
        "        pe[:, 1::2] = torch.cos(position * div_term)\n",
        "        pe = pe.unsqueeze(0)\n",
        "        self.dropout = nn.Dropout(dropout)\n",
        "        self.register_buffer('pe', pe)\n",
        "\n",
        "    def forward(self, x):\n",
        "        \"\"\"\n",
        "        Args:\n",
        "            x: Tensor, shape [batch_size, seq_len, d_model]\n",
        "        Returns:\n",
        "            Tensor, shape [batch_size, seq_len, d_model]\n",
        "        \"\"\"\n",
        "        x = self.dropout(x + self.pe[:, :x.size(1), :])\n",
        "        return x\n",
        "\n",
        "# helper Module to convert tensor of input indices into corresponding tensor of token embeddings\n",
        "class TokenEmbedding(nn.Module):\n",
        "    def __init__(self, vocab_size: int, emb_size):\n",
        "        super(TokenEmbedding, self).__init__()\n",
        "        self.embedding = nn.Embedding(vocab_size, emb_size)\n",
        "        self.emb_size = emb_size\n",
        "        self.layer_norm = nn.LayerNorm(emb_size)\n",
        "\n",
        "    def forward(self, tokens: Tensor):\n",
        "        embed = self.embedding(tokens.long()) * math.sqrt(self.emb_size)\n",
        "        return self.layer_norm(embed)\n",
        "\n",
        "\n",
        "# Seq2Seq Network\n",
        "class Seq2SeqTransformer(nn.Module):\n",
        "    def __init__(self,\n",
        "                 num_encoder_layers: int,\n",
        "                 num_decoder_layers: int,\n",
        "                 emb_size: int,\n",
        "                 nhead: int,\n",
        "                 src_vocab_size: int,\n",
        "                 tgt_vocab_size: int,\n",
        "                 dim_feedforward: int = 512,\n",
        "                 dropout: float = 0.1):\n",
        "        super(Seq2SeqTransformer, self).__init__()\n",
        "        self.transformer = Transformer(d_model=emb_size,\n",
        "                                       nhead=nhead,\n",
        "                                       num_encoder_layers=num_encoder_layers,\n",
        "                                       num_decoder_layers=num_decoder_layers,\n",
        "                                       dim_feedforward=dim_feedforward,\n",
        "                                       dropout=dropout,\n",
        "                                       batch_first=True)\n",
        "        self.generator = nn.Linear(emb_size, tgt_vocab_size)\n",
        "        self.src_tok_emb = TokenEmbedding(src_vocab_size, emb_size)\n",
        "        self.tgt_tok_emb = TokenEmbedding(tgt_vocab_size, emb_size)\n",
        "        self.positional_encoding = PositionalEncoding(\n",
        "            emb_size, dropout=dropout)\n",
        "        self.layer_norm = nn.LayerNorm(emb_size)\n",
        "\n",
        "\n",
        "    def forward(self,\n",
        "                src: Tensor,\n",
        "                trg: Tensor,\n",
        "                src_mask: Tensor,\n",
        "                tgt_mask: Tensor,\n",
        "                src_padding_mask: Tensor,\n",
        "                tgt_padding_mask: Tensor,\n",
        "                memory_key_padding_mask: Tensor):\n",
        "        src_emb = self.positional_encoding(self.src_tok_emb(src))\n",
        "        tgt_emb = self.positional_encoding(self.tgt_tok_emb(trg))\n",
        "        src_emb = self.layer_norm(src_emb)\n",
        "        tgt_emb = self.layer_norm(tgt_emb)\n",
        "        outs = self.transformer(src_emb, tgt_emb, src_mask, tgt_mask, None,\n",
        "                                src_padding_mask, tgt_padding_mask, memory_key_padding_mask)\n",
        "        return self.generator(outs)\n",
        "\n",
        "    def encode(self, src: Tensor, src_mask: Tensor):\n",
        "        return self.transformer.encoder(self.positional_encoding(\n",
        "                            self.src_tok_emb(src)), src_mask)\n",
        "\n",
        "    def decode(self, tgt: Tensor, memory: Tensor, tgt_mask: Tensor):\n",
        "        return self.transformer.decoder(self.positional_encoding(\n",
        "                          self.tgt_tok_emb(tgt)), memory,\n",
        "                          tgt_mask)\n",
        "        \n",
        "    def clip_gradients(self, max_norm: float):\n",
        "        torch.nn.utils.clip_grad_norm_(self.parameters(), max_norm)"
      ]
    },
    {
      "attachments": {},
      "cell_type": "markdown",
      "metadata": {
        "id": "cHKK8AVnJqxA"
      },
      "source": [
        "During training, we need a subsequent word mask that will prevent the model from looking into\n",
        "the future words when making predictions. We will also need masks to hide\n",
        "source and target padding tokens.\n",
        "\n",
        "\n"
      ]
    },
    {
      "cell_type": "code",
      "execution_count": 70,
      "metadata": {
        "id": "cnim-XMSJqxB",
        "vscode": {
          "languageId": "python"
        }
      },
      "outputs": [],
      "source": [
        "def generate_square_subsequent_mask(sz):\n",
        "    mask = (torch.triu(torch.ones((sz, sz), device=DEVICE)) == 1).transpose(0, 1)\n",
        "    mask = mask.float().masked_fill(mask == 0, float('-inf')).masked_fill(mask == 1, float(0.0))\n",
        "    return mask\n",
        "\n",
        "\n",
        "def create_mask(src, tgt):\n",
        "    src_seq_len = src.shape[1]\n",
        "    tgt_seq_len = tgt.shape[1]\n",
        "\n",
        "    tgt_mask = generate_square_subsequent_mask(tgt_seq_len)\n",
        "    src_mask = torch.zeros((src_seq_len, src_seq_len),device=DEVICE).type(torch.bool)\n",
        "\n",
        "    src_padding_mask = (src == PAD_IDX)\n",
        "    tgt_padding_mask = (tgt == PAD_IDX)\n",
        "    return src_mask, tgt_mask, src_padding_mask, tgt_padding_mask"
      ]
    },
    {
      "attachments": {},
      "cell_type": "markdown",
      "metadata": {
        "id": "srB5gXT0JqxC"
      },
      "source": [
        "Let's now define the parameters of our model and instantiate the same.\n",
        "\n",
        "\n"
      ]
    },
    {
      "cell_type": "code",
      "execution_count": 71,
      "metadata": {
        "id": "aMM4hv-EJqxD",
        "vscode": {
          "languageId": "python"
        }
      },
      "outputs": [],
      "source": [
        "SRC_VOCAB_SIZE = len(chars_vocab)\n",
        "TGT_VOCAB_SIZE = len(phoneme_vocab)\n",
        "EMB_SIZE = 1024\n",
        "FFN_HID_DIM = 1024\n",
        "NHEAD = 16\n",
        "BATCH_SIZE = 16\n",
        "NUM_ENCODER_LAYERS = 3\n",
        "NUM_DECODER_LAYERS = 3\n",
        "\n",
        "transformer = Seq2SeqTransformer(NUM_ENCODER_LAYERS, NUM_DECODER_LAYERS, EMB_SIZE,\n",
        "                                 NHEAD, SRC_VOCAB_SIZE, TGT_VOCAB_SIZE, FFN_HID_DIM)\n",
        "\n",
        "for p in transformer.parameters():\n",
        "    if p.dim() > 1:\n",
        "        nn.init.xavier_uniform_(p)\n",
        "\n",
        "transformer = transformer.to(DEVICE)\n",
        "\n",
        "loss_fn = torch.nn.CrossEntropyLoss(ignore_index=PAD_IDX)\n",
        "\n",
        "optimizer = torch.optim.AdamW(transformer.parameters(), lr=0.0001, betas=(0.9, 0.98), eps=1e-9, weight_decay=0.0001)\n",
        "scheduler = torch.optim.lr_scheduler.ReduceLROnPlateau(optimizer, 'min', patience=10, factor=0.1)"
      ]
    },
    {
      "attachments": {},
      "cell_type": "markdown",
      "metadata": {
        "id": "8ZmNwqHlJqxF"
      },
      "source": [
        "Let's define training and evaluation loop that will be called for each\n",
        "epoch.\n",
        "\n",
        "\n"
      ]
    },
    {
      "cell_type": "code",
      "execution_count": 72,
      "metadata": {
        "id": "TBkxrvG7JqxG",
        "vscode": {
          "languageId": "python"
        }
      },
      "outputs": [],
      "source": [
        "from tqdm.notebook import tqdm\n",
        "from torch.utils.data import DataLoader\n",
        "\n",
        "def train_epoch(model, optimizer, scheduler):\n",
        "    model.train()\n",
        "    losses = 0\n",
        "    train_dataloader = DataLoader(data[\"train\"], batch_size=BATCH_SIZE, collate_fn=collate_fn)\n",
        "\n",
        "    for batch in tqdm(train_dataloader, desc=\"Training for one epoch\"):\n",
        "        src = batch[\"chars\"].to(DEVICE)\n",
        "        tgt = batch[\"phonemes\"].to(DEVICE)\n",
        "\n",
        "        tgt_input = tgt[:, :-1]\n",
        "\n",
        "        src_mask, tgt_mask, src_padding_mask, tgt_padding_mask = create_mask(src, tgt_input)\n",
        "\n",
        "        logits = model(src, tgt_input, src_mask, tgt_mask, src_padding_mask, tgt_padding_mask, src_padding_mask)\n",
        "\n",
        "        optimizer.zero_grad()\n",
        "\n",
        "        tgt_out = tgt[:, 1:]\n",
        "        loss = loss_fn(logits.reshape(-1, logits.shape[-1]), tgt_out.reshape(-1))\n",
        "        loss.backward()\n",
        "        transformer.clip_gradients(1.0)\n",
        "        optimizer.step()\n",
        "        losses += loss.item()\n",
        "\n",
        "    return losses / len(list(train_dataloader))\n",
        "\n",
        "\n",
        "def eval(model):\n",
        "    model.eval()\n",
        "    losses = 0\n",
        "\n",
        "    val_dataloader = DataLoader(data[\"dev\"], batch_size=BATCH_SIZE, collate_fn=collate_fn)\n",
        "\n",
        "    for batch in val_dataloader:\n",
        "        src = batch[\"chars\"].to(DEVICE)\n",
        "        tgt = batch[\"phonemes\"].to(DEVICE)\n",
        "\n",
        "        tgt_input = tgt[:, :-1]\n",
        "\n",
        "        src_mask, tgt_mask, src_padding_mask, tgt_padding_mask = create_mask(src, tgt_input)\n",
        "\n",
        "        logits = model(src, tgt_input, src_mask, tgt_mask,src_padding_mask, tgt_padding_mask, src_padding_mask)\n",
        "\n",
        "        tgt_out = tgt[:, 1:]\n",
        "        loss = loss_fn(logits.reshape(-1, logits.shape[-1]), tgt_out.reshape(-1))\n",
        "        losses += loss.item()\n",
        "\n",
        "    return losses / len(list(val_dataloader))"
      ]
    },
    {
      "attachments": {},
      "cell_type": "markdown",
      "metadata": {
        "id": "nxWW32bdJqxG"
      },
      "source": [
        "Now we have everything to train our model.\n",
        "\n",
        "\n"
      ]
    },
    {
      "cell_type": "code",
      "execution_count": null,
      "metadata": {
        "colab": {
          "base_uri": "https://localhost:8080/",
          "height": 246,
          "referenced_widgets": [
            "e6bc0b22bc5641d4aeb441a154c7005d",
            "7c2c29f7a7af49cf8392a76e0d0692f7",
            "62df0df7fbd94f619974d2291ea0890f",
            "cc0370b43a64447491b0695d491e25a7",
            "542253a924bb42ed924f50e49d4b0b59",
            "ac3d72d5535a4a859dfcef5a4e12c840",
            "d57d0117a12a4f97a3a5ab2251a38d5d",
            "3a9cd9c4f1f2434496889530f3da0bd8",
            "8fde12ba7c7349d7ac312ecdc1893dd9",
            "ba1fa6f98b6841bba104c6a686e7c0cf",
            "d5c6e3980b4b4f2b891bf3e42750b86a",
            "e0f15bf75bcc49c68dc9ba7b29b58ae4",
            "b9504e3ccced4a909d998a6b24d69210",
            "8011e0735b4c439797eda2ea0993020e",
            "a0ca9270d76f47c4b1ad57120e0444d0",
            "05ec0641a887434da5c060663579c5ab",
            "8edb515a19f54dda81196413eb0f3dbf",
            "f768ae6353554b4b8b1bb2f477396a96",
            "0d977a28c6cd4442a25c2bbfd46bcb1e",
            "55338b2d77d84d9196ebbc1915c0a569",
            "a5e8820680e146448f9e6557f223c05a",
            "ac567a3766e64ebaa930eec4afe5a600",
            "05b1244e8c2f4f559360322fd6dfb57a",
            "4e2419b87f6d49e3a8caecda953d98f4",
            "94593d46dfa44d129d1465eaef4e33a2",
            "9f624d992c9740f39bc7acdb43b36ad6",
            "40460b16a49a4c1bbeacbe9b9402b616",
            "dc42e85e615643b0b2dec7d0ca92a8e4",
            "1b5e58f0905b4421953c0d26c9bcdc84",
            "d291c11ebfef4841b218454bf60bd323",
            "193cb80b0c394973adb15710cbb3692a",
            "326fea65e8534eeeaf5148c5c339579d",
            "6616045821394bd4b2aca4403f16641e",
            "a0cb1063cbd04647ac70ffb190883e6a",
            "f9ee3108faac4d888cbf491a2935d4ee",
            "0ae4036074e44194b69d6bf73c3905cd",
            "9e24e05871ab4834858efc46d02840b9",
            "b96b2579b6b74d5baaff0202ec50df90",
            "5a8062570ec94591adadbf82b1b78fda",
            "4e485574005a44e0b7e63d2206a72282",
            "fcc0efbcc082420e92730be23ce4ebcb",
            "89ccd068c6f141c1b903411aebfa5945",
            "a298dc1d1f364db5a5dbde85a191292b",
            "741bc9d1c3a14554aef88fd7d234ee13",
            "2a74cebac36b4b20b5103a0a56e88568",
            "b3a926db475248699b3df9b9c7242efa",
            "ccb47656e0fc4afda87cf4cf02966a17",
            "b0a4139e41d44738baaaa1b3bbb9ce52",
            "822f7f9c72174f07b49d27291a7f2868",
            "7bf25cfbb4f64d8c96b042eb5b4980c6",
            "1886468c8e9e499da0bce199a4f3e5ba",
            "8115ea36d40049edb49e9ec06ee00af2",
            "c0a77de7570b47179a0ae2b36e9b54a4",
            "4cfdb931664c401bb514cee8ee3e57d5",
            "9c7a69d052434c51a43da7f910a33882"
          ]
        },
        "id": "EYuuiEZvJqxH",
        "outputId": "0769058f-bed2-400f-9c60-dbf0db14eb51",
        "vscode": {
          "languageId": "python"
        }
      },
      "outputs": [
        {
          "data": {
            "application/vnd.jupyter.widget-view+json": {
              "model_id": "e6bc0b22bc5641d4aeb441a154c7005d",
              "version_major": 2,
              "version_minor": 0
            },
            "text/plain": [
              "Training for one epoch:   0%|          | 0/225 [00:00<?, ?it/s]"
            ]
          },
          "metadata": {},
          "output_type": "display_data"
        },
        {
          "name": "stdout",
          "output_type": "stream",
          "text": [
            "Epoch: 1, Train loss: 2.8739, Val loss: 2.4795, Epoch time = 17.271s\n"
          ]
        },
        {
          "data": {
            "application/vnd.jupyter.widget-view+json": {
              "model_id": "e0f15bf75bcc49c68dc9ba7b29b58ae4",
              "version_major": 2,
              "version_minor": 0
            },
            "text/plain": [
              "Training for one epoch:   0%|          | 0/225 [00:00<?, ?it/s]"
            ]
          },
          "metadata": {},
          "output_type": "display_data"
        },
        {
          "name": "stdout",
          "output_type": "stream",
          "text": [
            "Epoch: 2, Train loss: 1.9645, Val loss: 1.8118, Epoch time = 12.644s\n"
          ]
        },
        {
          "data": {
            "application/vnd.jupyter.widget-view+json": {
              "model_id": "05b1244e8c2f4f559360322fd6dfb57a",
              "version_major": 2,
              "version_minor": 0
            },
            "text/plain": [
              "Training for one epoch:   0%|          | 0/225 [00:00<?, ?it/s]"
            ]
          },
          "metadata": {},
          "output_type": "display_data"
        },
        {
          "name": "stdout",
          "output_type": "stream",
          "text": [
            "Epoch: 3, Train loss: 1.2014, Val loss: 0.9951, Epoch time = 12.585s\n"
          ]
        },
        {
          "data": {
            "application/vnd.jupyter.widget-view+json": {
              "model_id": "a0cb1063cbd04647ac70ffb190883e6a",
              "version_major": 2,
              "version_minor": 0
            },
            "text/plain": [
              "Training for one epoch:   0%|          | 0/225 [00:00<?, ?it/s]"
            ]
          },
          "metadata": {},
          "output_type": "display_data"
        },
        {
          "name": "stdout",
          "output_type": "stream",
          "text": [
            "Epoch: 4, Train loss: 0.8352, Val loss: 0.7970, Epoch time = 13.823s\n"
          ]
        },
        {
          "data": {
            "application/vnd.jupyter.widget-view+json": {
              "model_id": "2a74cebac36b4b20b5103a0a56e88568",
              "version_major": 2,
              "version_minor": 0
            },
            "text/plain": [
              "Training for one epoch:   0%|          | 0/225 [00:00<?, ?it/s]"
            ]
          },
          "metadata": {},
          "output_type": "display_data"
        }
      ],
      "source": [
        "from timeit import default_timer as timer\n",
        "NUM_EPOCHS = 80\n",
        "\n",
        "for epoch in range(1, NUM_EPOCHS+1):\n",
        "    start_time = timer()\n",
        "    train_loss = train_epoch(transformer, optimizer, scheduler)\n",
        "    val_loss = eval(transformer)\n",
        "    scheduler.step(val_loss)\n",
        "    end_time = timer()\n",
        "\n",
        "    print(f'Epoch: {epoch+1:02} | Time: {(end_time - start_time):.3f}s')\n",
        "    print(f'\\tTrain Loss: {train_loss:.4f} | Train PPL: {math.exp(train_loss):7.3f}')\n",
        "    print(f'\\t Val. Loss: {val_loss:.4f} |  Val. PPL: {math.exp(val_loss):7.3f}')"
      ]
    },
    {
      "attachments": {},
      "cell_type": "markdown",
      "metadata": {},
      "source": [
        "Let's define functions for decoding a test sentence:"
      ]
    },
    {
      "cell_type": "code",
      "execution_count": null,
      "metadata": {
        "vscode": {
          "languageId": "python"
        }
      },
      "outputs": [],
      "source": [
        "# Greedy algorithm\n",
        "def greedy_decode(model, src, src_mask, max_len, start_symbol):\n",
        "    src = src.to(DEVICE)\n",
        "    src_mask = src_mask.to(DEVICE)\n",
        "\n",
        "    memory = model.encode(src, src_mask)\n",
        "    ys = torch.ones(1, 1).fill_(start_symbol).type(torch.long).to(DEVICE)\n",
        "    for i in range(max_len-1):\n",
        "        memory = memory.to(DEVICE)\n",
        "        tgt_mask = (generate_square_subsequent_mask(ys.size(1))\n",
        "                    .type(torch.bool)).to(DEVICE)\n",
        "        out = model.decode(ys, memory, tgt_mask)\n",
        "        out = out.transpose(0, 1)\n",
        "        prob = model.generator(out[-1:, 0])\n",
        "        _, next_word = torch.max(prob, dim=1)\n",
        "        next_word = next_word.item()\n",
        "\n",
        "        ys = torch.cat([ys,\n",
        "                        torch.ones(1, 1).type_as(src.data).fill_(next_word)], dim=1)\n",
        "        if next_word == EOS_IDX:\n",
        "            break\n",
        "    return ys\n",
        "\n",
        "# Beam search algorithm\n",
        "def beam_search_decode(model, src, src_mask, max_len, start_symbol, beam_size=5):\n",
        "    src = src.to(DEVICE)\n",
        "    src_mask = src_mask.to(DEVICE)\n",
        "\n",
        "    memory = model.encode(src, src_mask)\n",
        "    ys = torch.ones(1, 1).fill_(start_symbol).type(torch.long).to(DEVICE)\n",
        "    memory = memory.to(DEVICE)\n",
        "    tgt_mask = (generate_square_subsequent_mask(ys.size(1))\n",
        "                .type(torch.bool)).to(DEVICE)\n",
        "    out = model.decode(ys, memory, tgt_mask)\n",
        "    out = out.transpose(0, 1)\n",
        "    prob = model.generator(out[-1:, 0])\n",
        "    values, indices = torch.topk(prob, beam_size)\n",
        "    next_word = indices[0][0].item()\n",
        "\n",
        "    ys = torch.cat([ys,\n",
        "                    torch.ones(1, 1).type_as(src.data).fill_(next_word)], dim=1)\n",
        "    if next_word == EOS_IDX:\n",
        "        return ys\n",
        "    for i in range(max_len-1):\n",
        "        memory = memory.to(DEVICE)\n",
        "        tgt_mask = (generate_square_subsequent_mask(ys.size(1))\n",
        "                    .type(torch.bool)).to(DEVICE)\n",
        "        out = model.decode(ys, memory, tgt_mask)\n",
        "        out = out.transpose(0, 1)\n",
        "        prob = model.generator(out[-1:, 0])\n",
        "        values, indices = torch.topk(prob, beam_size)\n",
        "        candidates = []\n",
        "        for k in range(beam_size):\n",
        "            value = values[0][k].item()\n",
        "            index = indices[0][k].item()\n",
        "            candidate = {'seq': torch.cat([ys,\n",
        "                                           torch.ones(1, 1).type_as(src.data).fill_(index)], dim=1),\n",
        "                         'score': value}\n",
        "            candidates.append(candidate)\n",
        "        candidates = sorted(candidates, key=lambda x: x['score'], reverse=True)\n",
        "        ys = candidates[0]['seq']\n",
        "        next_word = ys[0][len(ys[0])-1].item()\n",
        "        if next_word == EOS_IDX:\n",
        "            break\n",
        "    return ys\n"
      ]
    },
    {
      "cell_type": "code",
      "execution_count": null,
      "metadata": {
        "id": "fEQGKrlSzbZH",
        "vscode": {
          "languageId": "python"
        }
      },
      "outputs": [],
      "source": [
        "def chars2phonemes(model: torch.nn.Module, word, search_algorithm: str = \"greedy\", max_len=50):\n",
        "    model.eval()\n",
        "    chars = torch.Tensor([chars_vocab([\"<BOS>\"] + list(word) + [\"<EOS>\"])]).long().to(device)\n",
        "    \n",
        "    num_tokens = chars.shape[1]\n",
        "    src_mask = (torch.zeros(num_tokens, num_tokens)).type(torch.bool)\n",
        "\n",
        "    if search_algorithm == \"greedy\":\n",
        "        tgt_tokens = greedy_decode(\n",
        "        model, chars, src_mask, max_len=num_tokens + 5, start_symbol=BOS_IDX).flatten()\n",
        "        tgt_phoneme = [phoneme_vocab.get_itos()[i] for i in tgt_tokens]\n",
        "    elif search_algorithm == \"beam\":\n",
        "        tgt_tokens = beam_search_decode(\n",
        "            model, chars, src_mask, max_len=num_tokens + 5, start_symbol=BOS_IDX, beam_size=5)\n",
        "        tgt_phoneme = [phoneme_vocab.get_itos()[i] for i in tgt_tokens[0]]\n",
        "    else:\n",
        "        raise ValueError(\"Unknown search algorithm\")\n",
        "\n",
        "    return \" \".join(tgt_phoneme[1:-1])"
      ]
    },
    {
      "cell_type": "code",
      "execution_count": null,
      "metadata": {
        "id": "sg77d2bEztoe",
        "vscode": {
          "languageId": "python"
        }
      },
      "outputs": [],
      "source": [
        "chars2phonemes(transformer, \"appartement\", search_algorithm=\"beam\")"
      ]
    },
    {
      "attachments": {},
      "cell_type": "markdown",
      "metadata": {
        "id": "DoB0d8-fztoo"
      },
      "source": [
        "This should be a correct pronunciation ('a p a ʁ t ə m ɑ̃')."
      ]
    },
    {
      "attachments": {},
      "cell_type": "markdown",
      "metadata": {
        "id": "K-ST7k4AMO9F"
      },
      "source": [
        "Now, we implement scoring functionality that allows to evaluate our model based on *phoneme error rate* (how many phonemes in the output are correct, compared to the reference). We use the implementation in jiwer package. The appropriate function is called `wer` (word error rate) because this is typically used to measure the word error rate of a speech recognition system."
      ]
    },
    {
      "cell_type": "code",
      "execution_count": null,
      "metadata": {
        "id": "KpEhgeE5MO9O",
        "vscode": {
          "languageId": "python"
        }
      },
      "outputs": [],
      "source": [
        "! pip install jiwer"
      ]
    },
    {
      "cell_type": "code",
      "execution_count": null,
      "metadata": {
        "id": "nbNnv-eUMO9O",
        "vscode": {
          "languageId": "python"
        }
      },
      "outputs": [],
      "source": [
        "import jiwer\n",
        "ref = \"a b a c\"\n",
        "hyp = \"a b a d\"\n",
        "jiwer.wer(ref, hyp)"
      ]
    },
    {
      "attachments": {},
      "cell_type": "markdown",
      "metadata": {},
      "source": [
        "Both substitution, insertion and deletion errors are taken into account when computing WER:"
      ]
    },
    {
      "cell_type": "code",
      "execution_count": null,
      "metadata": {
        "vscode": {
          "languageId": "python"
        }
      },
      "outputs": [
        {
          "data": {
            "text/plain": [
              "0.25"
            ]
          },
          "metadata": {},
          "output_type": "display_data"
        }
      ],
      "source": [
        "ref = \"a b a c\"\n",
        "hyp = \"a b a a c\"\n",
        "jiwer.wer(ref, hyp)"
      ]
    },
    {
      "cell_type": "code",
      "execution_count": null,
      "metadata": {
        "vscode": {
          "languageId": "python"
        }
      },
      "outputs": [
        {
          "data": {
            "text/plain": [
              "0.25"
            ]
          },
          "metadata": {},
          "output_type": "display_data"
        }
      ],
      "source": [
        "ref = \"a b a c\"\n",
        "hyp = \"a b c\"\n",
        "jiwer.wer(ref, hyp)"
      ]
    },
    {
      "attachments": {},
      "cell_type": "markdown",
      "metadata": {},
      "source": [
        "Finally, the function that computes the scoring metrics based on the development set:"
      ]
    },
    {
      "cell_type": "code",
      "execution_count": null,
      "metadata": {
        "vscode": {
          "languageId": "python"
        }
      },
      "outputs": [],
      "source": [
        "def per(model):\n",
        "  refs = [] \n",
        "  hyps = []\n",
        "  for item in iter(dev_dataset):\n",
        "    ref = \" \".join(item[\"phonemes\"])\n",
        "    hyp = chars2phonemes(transformer, \"\".join(item[\"chars\"]), beam_search_decode)\n",
        "    refs.append(ref)\n",
        "    hyps.append(hyp)\n",
        "\n",
        "  per = jiwer.wer(refs, hyps)\n",
        "  print(f\"Phoneme error rate: {per}\")"
      ]
    },
    {
      "cell_type": "code",
      "execution_count": null,
      "metadata": {
        "vscode": {
          "languageId": "python"
        }
      },
      "outputs": [
        {
          "name": "stdout",
          "output_type": "stream",
          "text": [
            "Phoneme error rate: 0.19855884707766214\n"
          ]
        }
      ],
      "source": [
        "per(transformer)"
      ]
    },
    {
      "attachments": {},
      "cell_type": "markdown",
      "metadata": {},
      "source": [
        "Finally, we implement a function that applies the model to our test data and saves it is a file called `submission.tsv`."
      ]
    },
    {
      "cell_type": "code",
      "execution_count": null,
      "metadata": {
        "vscode": {
          "languageId": "python"
        }
      },
      "outputs": [],
      "source": [
        "def make_submission(model):\n",
        "  with open(\"submission.tsv\", \"w\") as f:\n",
        "    print(\"Word\\tPhonemes\", file=f)\n",
        "    for word in test_word_list:\n",
        "      hyp = chars2phonemes(word, model)\n",
        "      print(f\"{word}\\t{hyp}\", file=f)\n"
      ]
    },
    {
      "cell_type": "code",
      "execution_count": null,
      "metadata": {
        "vscode": {
          "languageId": "python"
        }
      },
      "outputs": [],
      "source": [
        "make_submission(model)"
      ]
    },
    {
      "cell_type": "code",
      "execution_count": null,
      "metadata": {
        "vscode": {
          "languageId": "python"
        }
      },
      "outputs": [
        {
          "name": "stdout",
          "output_type": "stream",
          "text": [
            "Word\tPhonemes\n",
            "tandis\tt ɑ̃ d i\n",
            "serres\ts ɛ ʁ\n",
            "enfer\tɑ̃ f ɛ ʁ\n",
            "réunion\tʁ e y n i z ɔ̃\n",
            "moderne\tm ɔ d ɛ ʁ\n",
            "star\ts t a ʁ\n",
            "classique\tk a l s k a\n",
            "bientôt\tb j ɑ̃ t\n",
            "bouddhiste\tb u d d i s t\n"
          ]
        }
      ],
      "source": [
        "!head submission.tsv"
      ]
    },
    {
      "attachments": {},
      "cell_type": "markdown",
      "metadata": {
        "id": "t03ik4CgTAUp"
      },
      "source": [
        "## Your assignment\n",
        "\n",
        "Your task is to improve the performance of the baseline model. You can use any method do this, with the following exceptions:\n",
        "  * You cannot use some some pretrained model that you found on the Internet that already does this task\n",
        "  * You cannot use additional French data for training\n",
        "  * You have to stick to basic Pytorch, and not use libraries that implement whole models for you (you can copy/paste code from there though, as long as you understand what this code is doing)\n",
        "  * You cannot hand-label additional data\n",
        "  * You are not allowed to fold the dev set into training data\n",
        "\n",
        "Some things you can do:\n",
        "\n",
        "  * Tune basic learning hyperparametes, such as number of epochs, learning rate, optimizer\n",
        "  * Tune model architecture (number of outputs in the layers, number of layers, etc)\n",
        "  * Add regularization (dropout, etc)\n",
        "\n",
        "But the most lucrative thing to try is to implement attention mechanism.  In the baseline model, decoder has to generate a pronunciation solely based on the hidden state passed from the encoder.\n",
        "\n",
        "You should try to implement attention mechanism between the encoder and decoder.\n",
        "\n",
        "More specifically, decoder should at each time step generate a new weighted view over the encoder GRU outputs (that are luckily already passed to the decoder's forward method). You should use the query-key-value based attention: output from the decoder's GRU is passed through a (learnable) linear transform that results in a query vector $q$. Another linear transform is applied to encoder outputs that results in key vectors $k_i$. Note that query and keys should have the same dimensionality. Now the query is compared to the keys (using dot product) and the results is softmaxed, resulting in attention weights $w_i$ over the encoder outputs. Encoder outputs are now passed through another linear transform (resulting in $v_i$ ) and summed up to form $v*$, using the computed weights. \n",
        "\n",
        "\n",
        "Luckily, most of the attention functionality is implemented in torch's `nn.MultiheadAttention` class. You just have to take care of the linear transforms and some other stuff.\n",
        "\n",
        "The picture below describes this. Note how how the decoder generates a character \"a\" based on the output from it's GRU *and* the output $v*$ from the attention mechanism."
      ]
    },
    {
      "attachments": {},
      "cell_type": "markdown",
      "metadata": {
        "id": "djXt5AFyc4bn"
      },
      "source": [
        "<img src=\"data:image/png;base64,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\" style=\"cursor:pointer;max-width:100%;\" onclick=\"(function(img){if(img.wnd!=null&&!img.wnd.closed){img.wnd.focus();}else{var r=function(evt){if(evt.data=='ready'&&evt.source==img.wnd){img.wnd.postMessage(decodeURIComponent(img.getAttribute('src')),'*');window.removeEventListener('message',r);}};window.addEventListener('message',r);img.wnd=window.open('https://app.diagrams.net/?client=1&lightbox=1&edit=_blank');}})(this);\"/>"
      ]
    },
    {
      "attachments": {},
      "cell_type": "markdown",
      "metadata": {
        "id": "Ij-yW7NpaKaC"
      },
      "source": [
        "You only need modify the Decoder to implement this. \n",
        "\n"
      ]
    },
    {
      "attachments": {},
      "cell_type": "markdown",
      "metadata": {
        "id": "yP6Gol0pcU7x"
      },
      "source": [
        "If implemented correctly, your phoneme error rate around 0.04 ... 0.08 (actually different training runs give quite different results). That is, attention really works very well in this task, compared to the more basic models."
      ]
    },
    {
      "attachments": {},
      "cell_type": "markdown",
      "metadata": {
        "id": "OnWhZYPusRVv"
      },
      "source": [
        "**Another thing that you should try is to use the Transformer architecture**, i.e., get rid of the GRU layers in both encoder and decoder completely. You should also then use positional encoding in both encoder and decoder. There are plenty of tutorials and code samples about this, and see our lab about Machine Translation!\n",
        "\n"
      ]
    },
    {
      "attachments": {},
      "cell_type": "markdown",
      "metadata": {
        "id": "19ePLdkht6Ze"
      },
      "source": [
        "## Grading\n",
        "\n",
        "In order to be graded, you have to submit the generated test pronunciations (i.e., the `submission.tsv` file generated by you improved model) to the evaluation leaderboard at http://bark.phon.ioc.ee/am3-leaderboard/. \n",
        "\n",
        "In the leaderboard, you have to enter your UniID and upload the generated `submission.tsv` file. *NB!* If you don't feel comfortable that other students see your score, use a nickname (i.e., could be random string only you know), but please be consistent, that is, use only one name across all your submissions. If you use a nickname, let me know what it is when you submit your code.\n",
        "\n",
        "*Another NB!* The leaderboard is totally unsecure and you don't even have to authenticate yourself, so please don't do stupid things, like uploading under other people's names, etc.\n",
        "\n",
        "Your grade is determined by the error rate of your best model on test data, compared to the average score of the top 3 students. \n",
        "\n",
        "More specifially:\n",
        "  * First, the average of the top 3 students' models will be computed. Let's call it $score_{top3}$. Let's also save the error rate of the baseline model to $score_{baseline}$.\n",
        "  * Then, we'll compute how much of the error rate reduction does your best score $score_i$ achieve  over the baseline, when baseline would give you 0% points and $score_{top3}$ 100% points. \n",
        "  * That is, your points will be calculated as $max(15, \\delta * 15)$, where \n",
        "  $\\delta=\\frac{score_{baseline} - score_{i}}{score_{baseline} - score_{top3}}$\n",
        "  * For example: baseline score is 0.18, top3 average  is 0.07, and your score 0.11. This would give you $\\delta=\\frac{0.18-0.11}{0.18-0.07}=0.63$ and $0.63 \\times 15 = 9.6 ≃ 10$ points.\n",
        "  \n",
        "\n",
        "\n",
        "### More rules!\n",
        "\n",
        "  * You can make *up to 20 submissions* to the leaderboard\n",
        "  * The leaderboard $score_{top3}$ will be taken at the time of the assignment deadline. Later submissions that make it to the top 3 will not change it.\n",
        "\n",
        "You should also submit the jupyter notebook (link) that reproduces your best model. Note that it's expected that multiple runs of the training won't have the same results. \n",
        "\n",
        "Please make sure that you share your notebook's link so that \"anyone with the link\" can see it."
      ]
    },
    {
      "cell_type": "code",
      "execution_count": null,
      "metadata": {
        "id": "PR2F5BrHu5OI",
        "vscode": {
          "languageId": "python"
        }
      },
      "outputs": [],
      "source": []
    }
  ],
  "metadata": {
    "accelerator": "GPU",
    "colab": {
      "gpuType": "T4",
      "provenance": []
    },
    "gpuClass": "standard",
    "kernelspec": {
      "display_name": "Python 3",
      "name": "python3"
    },
    "widgets": {
      "application/vnd.jupyter.widget-state+json": {
        "05b1244e8c2f4f559360322fd6dfb57a": {
          "model_module": "@jupyter-widgets/controls",
          "model_module_version": "1.5.0",
          "model_name": "HBoxModel",
          "state": {
            "_dom_classes": [],
            "_model_module": "@jupyter-widgets/controls",
            "_model_module_version": "1.5.0",
            "_model_name": "HBoxModel",
            "_view_count": null,
            "_view_module": "@jupyter-widgets/controls",
            "_view_module_version": "1.5.0",
            "_view_name": "HBoxView",
            "box_style": "",
            "children": [
              "IPY_MODEL_4e2419b87f6d49e3a8caecda953d98f4",
              "IPY_MODEL_94593d46dfa44d129d1465eaef4e33a2",
              "IPY_MODEL_9f624d992c9740f39bc7acdb43b36ad6"
            ],
            "layout": "IPY_MODEL_40460b16a49a4c1bbeacbe9b9402b616"
          }
        },
        "05ec0641a887434da5c060663579c5ab": {
          "model_module": "@jupyter-widgets/base",
          "model_module_version": "1.2.0",
          "model_name": "LayoutModel",
          "state": {
            "_model_module": "@jupyter-widgets/base",
            "_model_module_version": "1.2.0",
            "_model_name": "LayoutModel",
            "_view_count": null,
            "_view_module": "@jupyter-widgets/base",
            "_view_module_version": "1.2.0",
            "_view_name": "LayoutView",
            "align_content": null,
            "align_items": null,
            "align_self": null,
            "border": null,
            "bottom": null,
            "display": null,
            "flex": null,
            "flex_flow": null,
            "grid_area": null,
            "grid_auto_columns": null,
            "grid_auto_flow": null,
            "grid_auto_rows": null,
            "grid_column": null,
            "grid_gap": null,
            "grid_row": null,
            "grid_template_areas": null,
            "grid_template_columns": null,
            "grid_template_rows": null,
            "height": null,
            "justify_content": null,
            "justify_items": null,
            "left": null,
            "margin": null,
            "max_height": null,
            "max_width": null,
            "min_height": null,
            "min_width": null,
            "object_fit": null,
            "object_position": null,
            "order": null,
            "overflow": null,
            "overflow_x": null,
            "overflow_y": null,
            "padding": null,
            "right": null,
            "top": null,
            "visibility": null,
            "width": null
          }
        },
        "0ae4036074e44194b69d6bf73c3905cd": {
          "model_module": "@jupyter-widgets/controls",
          "model_module_version": "1.5.0",
          "model_name": "FloatProgressModel",
          "state": {
            "_dom_classes": [],
            "_model_module": "@jupyter-widgets/controls",
            "_model_module_version": "1.5.0",
            "_model_name": "FloatProgressModel",
            "_view_count": null,
            "_view_module": "@jupyter-widgets/controls",
            "_view_module_version": "1.5.0",
            "_view_name": "ProgressView",
            "bar_style": "success",
            "description": "",
            "description_tooltip": null,
            "layout": "IPY_MODEL_fcc0efbcc082420e92730be23ce4ebcb",
            "max": 225,
            "min": 0,
            "orientation": "horizontal",
            "style": "IPY_MODEL_89ccd068c6f141c1b903411aebfa5945",
            "value": 225
          }
        },
        "0d977a28c6cd4442a25c2bbfd46bcb1e": {
          "model_module": "@jupyter-widgets/base",
          "model_module_version": "1.2.0",
          "model_name": "LayoutModel",
          "state": {
            "_model_module": "@jupyter-widgets/base",
            "_model_module_version": "1.2.0",
            "_model_name": "LayoutModel",
            "_view_count": null,
            "_view_module": "@jupyter-widgets/base",
            "_view_module_version": "1.2.0",
            "_view_name": "LayoutView",
            "align_content": null,
            "align_items": null,
            "align_self": null,
            "border": null,
            "bottom": null,
            "display": null,
            "flex": null,
            "flex_flow": null,
            "grid_area": null,
            "grid_auto_columns": null,
            "grid_auto_flow": null,
            "grid_auto_rows": null,
            "grid_column": null,
            "grid_gap": null,
            "grid_row": null,
            "grid_template_areas": null,
            "grid_template_columns": null,
            "grid_template_rows": null,
            "height": null,
            "justify_content": null,
            "justify_items": null,
            "left": null,
            "margin": null,
            "max_height": null,
            "max_width": null,
            "min_height": null,
            "min_width": null,
            "object_fit": null,
            "object_position": null,
            "order": null,
            "overflow": null,
            "overflow_x": null,
            "overflow_y": null,
            "padding": null,
            "right": null,
            "top": null,
            "visibility": null,
            "width": null
          }
        },
        "1886468c8e9e499da0bce199a4f3e5ba": {
          "model_module": "@jupyter-widgets/controls",
          "model_module_version": "1.5.0",
          "model_name": "DescriptionStyleModel",
          "state": {
            "_model_module": "@jupyter-widgets/controls",
            "_model_module_version": "1.5.0",
            "_model_name": "DescriptionStyleModel",
            "_view_count": null,
            "_view_module": "@jupyter-widgets/base",
            "_view_module_version": "1.2.0",
            "_view_name": "StyleView",
            "description_width": ""
          }
        },
        "193cb80b0c394973adb15710cbb3692a": {
          "model_module": "@jupyter-widgets/controls",
          "model_module_version": "1.5.0",
          "model_name": "ProgressStyleModel",
          "state": {
            "_model_module": "@jupyter-widgets/controls",
            "_model_module_version": "1.5.0",
            "_model_name": "ProgressStyleModel",
            "_view_count": null,
            "_view_module": "@jupyter-widgets/base",
            "_view_module_version": "1.2.0",
            "_view_name": "StyleView",
            "bar_color": null,
            "description_width": ""
          }
        },
        "19473b6793154cc38db4f28ed161a796": {
          "model_module": "@jupyter-widgets/controls",
          "model_module_version": "1.5.0",
          "model_name": "ProgressStyleModel",
          "state": {
            "_model_module": "@jupyter-widgets/controls",
            "_model_module_version": "1.5.0",
            "_model_name": "ProgressStyleModel",
            "_view_count": null,
            "_view_module": "@jupyter-widgets/base",
            "_view_module_version": "1.2.0",
            "_view_name": "StyleView",
            "bar_color": null,
            "description_width": ""
          }
        },
        "1b5e58f0905b4421953c0d26c9bcdc84": {
          "model_module": "@jupyter-widgets/controls",
          "model_module_version": "1.5.0",
          "model_name": "DescriptionStyleModel",
          "state": {
            "_model_module": "@jupyter-widgets/controls",
            "_model_module_version": "1.5.0",
            "_model_name": "DescriptionStyleModel",
            "_view_count": null,
            "_view_module": "@jupyter-widgets/base",
            "_view_module_version": "1.2.0",
            "_view_name": "StyleView",
            "description_width": ""
          }
        },
        "1e24b7fef9784787b7d3e5d2cf4f4477": {
          "model_module": "@jupyter-widgets/base",
          "model_module_version": "1.2.0",
          "model_name": "LayoutModel",
          "state": {
            "_model_module": "@jupyter-widgets/base",
            "_model_module_version": "1.2.0",
            "_model_name": "LayoutModel",
            "_view_count": null,
            "_view_module": "@jupyter-widgets/base",
            "_view_module_version": "1.2.0",
            "_view_name": "LayoutView",
            "align_content": null,
            "align_items": null,
            "align_self": null,
            "border": null,
            "bottom": null,
            "display": null,
            "flex": null,
            "flex_flow": null,
            "grid_area": null,
            "grid_auto_columns": null,
            "grid_auto_flow": null,
            "grid_auto_rows": null,
            "grid_column": null,
            "grid_gap": null,
            "grid_row": null,
            "grid_template_areas": null,
            "grid_template_columns": null,
            "grid_template_rows": null,
            "height": null,
            "justify_content": null,
            "justify_items": null,
            "left": null,
            "margin": null,
            "max_height": null,
            "max_width": null,
            "min_height": null,
            "min_width": null,
            "object_fit": null,
            "object_position": null,
            "order": null,
            "overflow": null,
            "overflow_x": null,
            "overflow_y": null,
            "padding": null,
            "right": null,
            "top": null,
            "visibility": null,
            "width": null
          }
        },
        "2a74cebac36b4b20b5103a0a56e88568": {
          "model_module": "@jupyter-widgets/controls",
          "model_module_version": "1.5.0",
          "model_name": "HBoxModel",
          "state": {
            "_dom_classes": [],
            "_model_module": "@jupyter-widgets/controls",
            "_model_module_version": "1.5.0",
            "_model_name": "HBoxModel",
            "_view_count": null,
            "_view_module": "@jupyter-widgets/controls",
            "_view_module_version": "1.5.0",
            "_view_name": "HBoxView",
            "box_style": "",
            "children": [
              "IPY_MODEL_b3a926db475248699b3df9b9c7242efa",
              "IPY_MODEL_ccb47656e0fc4afda87cf4cf02966a17",
              "IPY_MODEL_b0a4139e41d44738baaaa1b3bbb9ce52"
            ],
            "layout": "IPY_MODEL_822f7f9c72174f07b49d27291a7f2868"
          }
        },
        "326fea65e8534eeeaf5148c5c339579d": {
          "model_module": "@jupyter-widgets/base",
          "model_module_version": "1.2.0",
          "model_name": "LayoutModel",
          "state": {
            "_model_module": "@jupyter-widgets/base",
            "_model_module_version": "1.2.0",
            "_model_name": "LayoutModel",
            "_view_count": null,
            "_view_module": "@jupyter-widgets/base",
            "_view_module_version": "1.2.0",
            "_view_name": "LayoutView",
            "align_content": null,
            "align_items": null,
            "align_self": null,
            "border": null,
            "bottom": null,
            "display": null,
            "flex": null,
            "flex_flow": null,
            "grid_area": null,
            "grid_auto_columns": null,
            "grid_auto_flow": null,
            "grid_auto_rows": null,
            "grid_column": null,
            "grid_gap": null,
            "grid_row": null,
            "grid_template_areas": null,
            "grid_template_columns": null,
            "grid_template_rows": null,
            "height": null,
            "justify_content": null,
            "justify_items": null,
            "left": null,
            "margin": null,
            "max_height": null,
            "max_width": null,
            "min_height": null,
            "min_width": null,
            "object_fit": null,
            "object_position": null,
            "order": null,
            "overflow": null,
            "overflow_x": null,
            "overflow_y": null,
            "padding": null,
            "right": null,
            "top": null,
            "visibility": null,
            "width": null
          }
        },
        "37e32866cd1d4c1c99a5117bae17b820": {
          "model_module": "@jupyter-widgets/controls",
          "model_module_version": "1.5.0",
          "model_name": "HBoxModel",
          "state": {
            "_dom_classes": [],
            "_model_module": "@jupyter-widgets/controls",
            "_model_module_version": "1.5.0",
            "_model_name": "HBoxModel",
            "_view_count": null,
            "_view_module": "@jupyter-widgets/controls",
            "_view_module_version": "1.5.0",
            "_view_name": "HBoxView",
            "box_style": "",
            "children": [
              "IPY_MODEL_c603a9c4f8554837926e84ef3f654738",
              "IPY_MODEL_8c42d1ea3f944aa6bcbf8af7c64dcd84",
              "IPY_MODEL_e6096ce0aa824c0d9dc4b1032520ffe6"
            ],
            "layout": "IPY_MODEL_6594d014400546db9f20940fdfbc837c"
          }
        },
        "3a9cd9c4f1f2434496889530f3da0bd8": {
          "model_module": "@jupyter-widgets/base",
          "model_module_version": "1.2.0",
          "model_name": "LayoutModel",
          "state": {
            "_model_module": "@jupyter-widgets/base",
            "_model_module_version": "1.2.0",
            "_model_name": "LayoutModel",
            "_view_count": null,
            "_view_module": "@jupyter-widgets/base",
            "_view_module_version": "1.2.0",
            "_view_name": "LayoutView",
            "align_content": null,
            "align_items": null,
            "align_self": null,
            "border": null,
            "bottom": null,
            "display": null,
            "flex": null,
            "flex_flow": null,
            "grid_area": null,
            "grid_auto_columns": null,
            "grid_auto_flow": null,
            "grid_auto_rows": null,
            "grid_column": null,
            "grid_gap": null,
            "grid_row": null,
            "grid_template_areas": null,
            "grid_template_columns": null,
            "grid_template_rows": null,
            "height": null,
            "justify_content": null,
            "justify_items": null,
            "left": null,
            "margin": null,
            "max_height": null,
            "max_width": null,
            "min_height": null,
            "min_width": null,
            "object_fit": null,
            "object_position": null,
            "order": null,
            "overflow": null,
            "overflow_x": null,
            "overflow_y": null,
            "padding": null,
            "right": null,
            "top": null,
            "visibility": null,
            "width": null
          }
        },
        "40460b16a49a4c1bbeacbe9b9402b616": {
          "model_module": "@jupyter-widgets/base",
          "model_module_version": "1.2.0",
          "model_name": "LayoutModel",
          "state": {
            "_model_module": "@jupyter-widgets/base",
            "_model_module_version": "1.2.0",
            "_model_name": "LayoutModel",
            "_view_count": null,
            "_view_module": "@jupyter-widgets/base",
            "_view_module_version": "1.2.0",
            "_view_name": "LayoutView",
            "align_content": null,
            "align_items": null,
            "align_self": null,
            "border": null,
            "bottom": null,
            "display": null,
            "flex": null,
            "flex_flow": null,
            "grid_area": null,
            "grid_auto_columns": null,
            "grid_auto_flow": null,
            "grid_auto_rows": null,
            "grid_column": null,
            "grid_gap": null,
            "grid_row": null,
            "grid_template_areas": null,
            "grid_template_columns": null,
            "grid_template_rows": null,
            "height": null,
            "justify_content": null,
            "justify_items": null,
            "left": null,
            "margin": null,
            "max_height": null,
            "max_width": null,
            "min_height": null,
            "min_width": null,
            "object_fit": null,
            "object_position": null,
            "order": null,
            "overflow": null,
            "overflow_x": null,
            "overflow_y": null,
            "padding": null,
            "right": null,
            "top": null,
            "visibility": null,
            "width": null
          }
        },
        "4cfdb931664c401bb514cee8ee3e57d5": {
          "model_module": "@jupyter-widgets/base",
          "model_module_version": "1.2.0",
          "model_name": "LayoutModel",
          "state": {
            "_model_module": "@jupyter-widgets/base",
            "_model_module_version": "1.2.0",
            "_model_name": "LayoutModel",
            "_view_count": null,
            "_view_module": "@jupyter-widgets/base",
            "_view_module_version": "1.2.0",
            "_view_name": "LayoutView",
            "align_content": null,
            "align_items": null,
            "align_self": null,
            "border": null,
            "bottom": null,
            "display": null,
            "flex": null,
            "flex_flow": null,
            "grid_area": null,
            "grid_auto_columns": null,
            "grid_auto_flow": null,
            "grid_auto_rows": null,
            "grid_column": null,
            "grid_gap": null,
            "grid_row": null,
            "grid_template_areas": null,
            "grid_template_columns": null,
            "grid_template_rows": null,
            "height": null,
            "justify_content": null,
            "justify_items": null,
            "left": null,
            "margin": null,
            "max_height": null,
            "max_width": null,
            "min_height": null,
            "min_width": null,
            "object_fit": null,
            "object_position": null,
            "order": null,
            "overflow": null,
            "overflow_x": null,
            "overflow_y": null,
            "padding": null,
            "right": null,
            "top": null,
            "visibility": null,
            "width": null
          }
        },
        "4e2419b87f6d49e3a8caecda953d98f4": {
          "model_module": "@jupyter-widgets/controls",
          "model_module_version": "1.5.0",
          "model_name": "HTMLModel",
          "state": {
            "_dom_classes": [],
            "_model_module": "@jupyter-widgets/controls",
            "_model_module_version": "1.5.0",
            "_model_name": "HTMLModel",
            "_view_count": null,
            "_view_module": "@jupyter-widgets/controls",
            "_view_module_version": "1.5.0",
            "_view_name": "HTMLView",
            "description": "",
            "description_tooltip": null,
            "layout": "IPY_MODEL_dc42e85e615643b0b2dec7d0ca92a8e4",
            "placeholder": "​",
            "style": "IPY_MODEL_1b5e58f0905b4421953c0d26c9bcdc84",
            "value": "Training for one epoch: 100%"
          }
        },
        "4e485574005a44e0b7e63d2206a72282": {
          "model_module": "@jupyter-widgets/controls",
          "model_module_version": "1.5.0",
          "model_name": "DescriptionStyleModel",
          "state": {
            "_model_module": "@jupyter-widgets/controls",
            "_model_module_version": "1.5.0",
            "_model_name": "DescriptionStyleModel",
            "_view_count": null,
            "_view_module": "@jupyter-widgets/base",
            "_view_module_version": "1.2.0",
            "_view_name": "StyleView",
            "description_width": ""
          }
        },
        "542253a924bb42ed924f50e49d4b0b59": {
          "model_module": "@jupyter-widgets/base",
          "model_module_version": "1.2.0",
          "model_name": "LayoutModel",
          "state": {
            "_model_module": "@jupyter-widgets/base",
            "_model_module_version": "1.2.0",
            "_model_name": "LayoutModel",
            "_view_count": null,
            "_view_module": "@jupyter-widgets/base",
            "_view_module_version": "1.2.0",
            "_view_name": "LayoutView",
            "align_content": null,
            "align_items": null,
            "align_self": null,
            "border": null,
            "bottom": null,
            "display": null,
            "flex": null,
            "flex_flow": null,
            "grid_area": null,
            "grid_auto_columns": null,
            "grid_auto_flow": null,
            "grid_auto_rows": null,
            "grid_column": null,
            "grid_gap": null,
            "grid_row": null,
            "grid_template_areas": null,
            "grid_template_columns": null,
            "grid_template_rows": null,
            "height": null,
            "justify_content": null,
            "justify_items": null,
            "left": null,
            "margin": null,
            "max_height": null,
            "max_width": null,
            "min_height": null,
            "min_width": null,
            "object_fit": null,
            "object_position": null,
            "order": null,
            "overflow": null,
            "overflow_x": null,
            "overflow_y": null,
            "padding": null,
            "right": null,
            "top": null,
            "visibility": null,
            "width": null
          }
        },
        "55338b2d77d84d9196ebbc1915c0a569": {
          "model_module": "@jupyter-widgets/controls",
          "model_module_version": "1.5.0",
          "model_name": "ProgressStyleModel",
          "state": {
            "_model_module": "@jupyter-widgets/controls",
            "_model_module_version": "1.5.0",
            "_model_name": "ProgressStyleModel",
            "_view_count": null,
            "_view_module": "@jupyter-widgets/base",
            "_view_module_version": "1.2.0",
            "_view_name": "StyleView",
            "bar_color": null,
            "description_width": ""
          }
        },
        "5a8062570ec94591adadbf82b1b78fda": {
          "model_module": "@jupyter-widgets/base",
          "model_module_version": "1.2.0",
          "model_name": "LayoutModel",
          "state": {
            "_model_module": "@jupyter-widgets/base",
            "_model_module_version": "1.2.0",
            "_model_name": "LayoutModel",
            "_view_count": null,
            "_view_module": "@jupyter-widgets/base",
            "_view_module_version": "1.2.0",
            "_view_name": "LayoutView",
            "align_content": null,
            "align_items": null,
            "align_self": null,
            "border": null,
            "bottom": null,
            "display": null,
            "flex": null,
            "flex_flow": null,
            "grid_area": null,
            "grid_auto_columns": null,
            "grid_auto_flow": null,
            "grid_auto_rows": null,
            "grid_column": null,
            "grid_gap": null,
            "grid_row": null,
            "grid_template_areas": null,
            "grid_template_columns": null,
            "grid_template_rows": null,
            "height": null,
            "justify_content": null,
            "justify_items": null,
            "left": null,
            "margin": null,
            "max_height": null,
            "max_width": null,
            "min_height": null,
            "min_width": null,
            "object_fit": null,
            "object_position": null,
            "order": null,
            "overflow": null,
            "overflow_x": null,
            "overflow_y": null,
            "padding": null,
            "right": null,
            "top": null,
            "visibility": null,
            "width": null
          }
        },
        "5f8e8d8b2c904f0c839609216b5e7874": {
          "model_module": "@jupyter-widgets/controls",
          "model_module_version": "1.5.0",
          "model_name": "DescriptionStyleModel",
          "state": {
            "_model_module": "@jupyter-widgets/controls",
            "_model_module_version": "1.5.0",
            "_model_name": "DescriptionStyleModel",
            "_view_count": null,
            "_view_module": "@jupyter-widgets/base",
            "_view_module_version": "1.2.0",
            "_view_name": "StyleView",
            "description_width": ""
          }
        },
        "62df0df7fbd94f619974d2291ea0890f": {
          "model_module": "@jupyter-widgets/controls",
          "model_module_version": "1.5.0",
          "model_name": "FloatProgressModel",
          "state": {
            "_dom_classes": [],
            "_model_module": "@jupyter-widgets/controls",
            "_model_module_version": "1.5.0",
            "_model_name": "FloatProgressModel",
            "_view_count": null,
            "_view_module": "@jupyter-widgets/controls",
            "_view_module_version": "1.5.0",
            "_view_name": "ProgressView",
            "bar_style": "success",
            "description": "",
            "description_tooltip": null,
            "layout": "IPY_MODEL_3a9cd9c4f1f2434496889530f3da0bd8",
            "max": 225,
            "min": 0,
            "orientation": "horizontal",
            "style": "IPY_MODEL_8fde12ba7c7349d7ac312ecdc1893dd9",
            "value": 225
          }
        },
        "6594d014400546db9f20940fdfbc837c": {
          "model_module": "@jupyter-widgets/base",
          "model_module_version": "1.2.0",
          "model_name": "LayoutModel",
          "state": {
            "_model_module": "@jupyter-widgets/base",
            "_model_module_version": "1.2.0",
            "_model_name": "LayoutModel",
            "_view_count": null,
            "_view_module": "@jupyter-widgets/base",
            "_view_module_version": "1.2.0",
            "_view_name": "LayoutView",
            "align_content": null,
            "align_items": null,
            "align_self": null,
            "border": null,
            "bottom": null,
            "display": null,
            "flex": null,
            "flex_flow": null,
            "grid_area": null,
            "grid_auto_columns": null,
            "grid_auto_flow": null,
            "grid_auto_rows": null,
            "grid_column": null,
            "grid_gap": null,
            "grid_row": null,
            "grid_template_areas": null,
            "grid_template_columns": null,
            "grid_template_rows": null,
            "height": null,
            "justify_content": null,
            "justify_items": null,
            "left": null,
            "margin": null,
            "max_height": null,
            "max_width": null,
            "min_height": null,
            "min_width": null,
            "object_fit": null,
            "object_position": null,
            "order": null,
            "overflow": null,
            "overflow_x": null,
            "overflow_y": null,
            "padding": null,
            "right": null,
            "top": null,
            "visibility": null,
            "width": null
          }
        },
        "6616045821394bd4b2aca4403f16641e": {
          "model_module": "@jupyter-widgets/controls",
          "model_module_version": "1.5.0",
          "model_name": "DescriptionStyleModel",
          "state": {
            "_model_module": "@jupyter-widgets/controls",
            "_model_module_version": "1.5.0",
            "_model_name": "DescriptionStyleModel",
            "_view_count": null,
            "_view_module": "@jupyter-widgets/base",
            "_view_module_version": "1.2.0",
            "_view_name": "StyleView",
            "description_width": ""
          }
        },
        "741bc9d1c3a14554aef88fd7d234ee13": {
          "model_module": "@jupyter-widgets/controls",
          "model_module_version": "1.5.0",
          "model_name": "DescriptionStyleModel",
          "state": {
            "_model_module": "@jupyter-widgets/controls",
            "_model_module_version": "1.5.0",
            "_model_name": "DescriptionStyleModel",
            "_view_count": null,
            "_view_module": "@jupyter-widgets/base",
            "_view_module_version": "1.2.0",
            "_view_name": "StyleView",
            "description_width": ""
          }
        },
        "7773d48cbc2244fdb065bfac7b7321fa": {
          "model_module": "@jupyter-widgets/base",
          "model_module_version": "1.2.0",
          "model_name": "LayoutModel",
          "state": {
            "_model_module": "@jupyter-widgets/base",
            "_model_module_version": "1.2.0",
            "_model_name": "LayoutModel",
            "_view_count": null,
            "_view_module": "@jupyter-widgets/base",
            "_view_module_version": "1.2.0",
            "_view_name": "LayoutView",
            "align_content": null,
            "align_items": null,
            "align_self": null,
            "border": null,
            "bottom": null,
            "display": null,
            "flex": null,
            "flex_flow": null,
            "grid_area": null,
            "grid_auto_columns": null,
            "grid_auto_flow": null,
            "grid_auto_rows": null,
            "grid_column": null,
            "grid_gap": null,
            "grid_row": null,
            "grid_template_areas": null,
            "grid_template_columns": null,
            "grid_template_rows": null,
            "height": null,
            "justify_content": null,
            "justify_items": null,
            "left": null,
            "margin": null,
            "max_height": null,
            "max_width": null,
            "min_height": null,
            "min_width": null,
            "object_fit": null,
            "object_position": null,
            "order": null,
            "overflow": null,
            "overflow_x": null,
            "overflow_y": null,
            "padding": null,
            "right": null,
            "top": null,
            "visibility": null,
            "width": null
          }
        },
        "7bf25cfbb4f64d8c96b042eb5b4980c6": {
          "model_module": "@jupyter-widgets/base",
          "model_module_version": "1.2.0",
          "model_name": "LayoutModel",
          "state": {
            "_model_module": "@jupyter-widgets/base",
            "_model_module_version": "1.2.0",
            "_model_name": "LayoutModel",
            "_view_count": null,
            "_view_module": "@jupyter-widgets/base",
            "_view_module_version": "1.2.0",
            "_view_name": "LayoutView",
            "align_content": null,
            "align_items": null,
            "align_self": null,
            "border": null,
            "bottom": null,
            "display": null,
            "flex": null,
            "flex_flow": null,
            "grid_area": null,
            "grid_auto_columns": null,
            "grid_auto_flow": null,
            "grid_auto_rows": null,
            "grid_column": null,
            "grid_gap": null,
            "grid_row": null,
            "grid_template_areas": null,
            "grid_template_columns": null,
            "grid_template_rows": null,
            "height": null,
            "justify_content": null,
            "justify_items": null,
            "left": null,
            "margin": null,
            "max_height": null,
            "max_width": null,
            "min_height": null,
            "min_width": null,
            "object_fit": null,
            "object_position": null,
            "order": null,
            "overflow": null,
            "overflow_x": null,
            "overflow_y": null,
            "padding": null,
            "right": null,
            "top": null,
            "visibility": null,
            "width": null
          }
        },
        "7c2c29f7a7af49cf8392a76e0d0692f7": {
          "model_module": "@jupyter-widgets/controls",
          "model_module_version": "1.5.0",
          "model_name": "HTMLModel",
          "state": {
            "_dom_classes": [],
            "_model_module": "@jupyter-widgets/controls",
            "_model_module_version": "1.5.0",
            "_model_name": "HTMLModel",
            "_view_count": null,
            "_view_module": "@jupyter-widgets/controls",
            "_view_module_version": "1.5.0",
            "_view_name": "HTMLView",
            "description": "",
            "description_tooltip": null,
            "layout": "IPY_MODEL_ac3d72d5535a4a859dfcef5a4e12c840",
            "placeholder": "​",
            "style": "IPY_MODEL_d57d0117a12a4f97a3a5ab2251a38d5d",
            "value": "Training for one epoch: 100%"
          }
        },
        "8011e0735b4c439797eda2ea0993020e": {
          "model_module": "@jupyter-widgets/controls",
          "model_module_version": "1.5.0",
          "model_name": "FloatProgressModel",
          "state": {
            "_dom_classes": [],
            "_model_module": "@jupyter-widgets/controls",
            "_model_module_version": "1.5.0",
            "_model_name": "FloatProgressModel",
            "_view_count": null,
            "_view_module": "@jupyter-widgets/controls",
            "_view_module_version": "1.5.0",
            "_view_name": "ProgressView",
            "bar_style": "success",
            "description": "",
            "description_tooltip": null,
            "layout": "IPY_MODEL_0d977a28c6cd4442a25c2bbfd46bcb1e",
            "max": 225,
            "min": 0,
            "orientation": "horizontal",
            "style": "IPY_MODEL_55338b2d77d84d9196ebbc1915c0a569",
            "value": 225
          }
        },
        "8115ea36d40049edb49e9ec06ee00af2": {
          "model_module": "@jupyter-widgets/base",
          "model_module_version": "1.2.0",
          "model_name": "LayoutModel",
          "state": {
            "_model_module": "@jupyter-widgets/base",
            "_model_module_version": "1.2.0",
            "_model_name": "LayoutModel",
            "_view_count": null,
            "_view_module": "@jupyter-widgets/base",
            "_view_module_version": "1.2.0",
            "_view_name": "LayoutView",
            "align_content": null,
            "align_items": null,
            "align_self": null,
            "border": null,
            "bottom": null,
            "display": null,
            "flex": null,
            "flex_flow": null,
            "grid_area": null,
            "grid_auto_columns": null,
            "grid_auto_flow": null,
            "grid_auto_rows": null,
            "grid_column": null,
            "grid_gap": null,
            "grid_row": null,
            "grid_template_areas": null,
            "grid_template_columns": null,
            "grid_template_rows": null,
            "height": null,
            "justify_content": null,
            "justify_items": null,
            "left": null,
            "margin": null,
            "max_height": null,
            "max_width": null,
            "min_height": null,
            "min_width": null,
            "object_fit": null,
            "object_position": null,
            "order": null,
            "overflow": null,
            "overflow_x": null,
            "overflow_y": null,
            "padding": null,
            "right": null,
            "top": null,
            "visibility": null,
            "width": null
          }
        },
        "822f7f9c72174f07b49d27291a7f2868": {
          "model_module": "@jupyter-widgets/base",
          "model_module_version": "1.2.0",
          "model_name": "LayoutModel",
          "state": {
            "_model_module": "@jupyter-widgets/base",
            "_model_module_version": "1.2.0",
            "_model_name": "LayoutModel",
            "_view_count": null,
            "_view_module": "@jupyter-widgets/base",
            "_view_module_version": "1.2.0",
            "_view_name": "LayoutView",
            "align_content": null,
            "align_items": null,
            "align_self": null,
            "border": null,
            "bottom": null,
            "display": null,
            "flex": null,
            "flex_flow": null,
            "grid_area": null,
            "grid_auto_columns": null,
            "grid_auto_flow": null,
            "grid_auto_rows": null,
            "grid_column": null,
            "grid_gap": null,
            "grid_row": null,
            "grid_template_areas": null,
            "grid_template_columns": null,
            "grid_template_rows": null,
            "height": null,
            "justify_content": null,
            "justify_items": null,
            "left": null,
            "margin": null,
            "max_height": null,
            "max_width": null,
            "min_height": null,
            "min_width": null,
            "object_fit": null,
            "object_position": null,
            "order": null,
            "overflow": null,
            "overflow_x": null,
            "overflow_y": null,
            "padding": null,
            "right": null,
            "top": null,
            "visibility": null,
            "width": null
          }
        },
        "863f72355f154f4f99697f8b1e667b3e": {
          "model_module": "@jupyter-widgets/base",
          "model_module_version": "1.2.0",
          "model_name": "LayoutModel",
          "state": {
            "_model_module": "@jupyter-widgets/base",
            "_model_module_version": "1.2.0",
            "_model_name": "LayoutModel",
            "_view_count": null,
            "_view_module": "@jupyter-widgets/base",
            "_view_module_version": "1.2.0",
            "_view_name": "LayoutView",
            "align_content": null,
            "align_items": null,
            "align_self": null,
            "border": null,
            "bottom": null,
            "display": null,
            "flex": null,
            "flex_flow": null,
            "grid_area": null,
            "grid_auto_columns": null,
            "grid_auto_flow": null,
            "grid_auto_rows": null,
            "grid_column": null,
            "grid_gap": null,
            "grid_row": null,
            "grid_template_areas": null,
            "grid_template_columns": null,
            "grid_template_rows": null,
            "height": null,
            "justify_content": null,
            "justify_items": null,
            "left": null,
            "margin": null,
            "max_height": null,
            "max_width": null,
            "min_height": null,
            "min_width": null,
            "object_fit": null,
            "object_position": null,
            "order": null,
            "overflow": null,
            "overflow_x": null,
            "overflow_y": null,
            "padding": null,
            "right": null,
            "top": null,
            "visibility": null,
            "width": null
          }
        },
        "89ccd068c6f141c1b903411aebfa5945": {
          "model_module": "@jupyter-widgets/controls",
          "model_module_version": "1.5.0",
          "model_name": "ProgressStyleModel",
          "state": {
            "_model_module": "@jupyter-widgets/controls",
            "_model_module_version": "1.5.0",
            "_model_name": "ProgressStyleModel",
            "_view_count": null,
            "_view_module": "@jupyter-widgets/base",
            "_view_module_version": "1.2.0",
            "_view_name": "StyleView",
            "bar_color": null,
            "description_width": ""
          }
        },
        "8c42d1ea3f944aa6bcbf8af7c64dcd84": {
          "model_module": "@jupyter-widgets/controls",
          "model_module_version": "1.5.0",
          "model_name": "FloatProgressModel",
          "state": {
            "_dom_classes": [],
            "_model_module": "@jupyter-widgets/controls",
            "_model_module_version": "1.5.0",
            "_model_name": "FloatProgressModel",
            "_view_count": null,
            "_view_module": "@jupyter-widgets/controls",
            "_view_module_version": "1.5.0",
            "_view_name": "ProgressView",
            "bar_style": "success",
            "description": "",
            "description_tooltip": null,
            "layout": "IPY_MODEL_1e24b7fef9784787b7d3e5d2cf4f4477",
            "max": 2,
            "min": 0,
            "orientation": "horizontal",
            "style": "IPY_MODEL_19473b6793154cc38db4f28ed161a796",
            "value": 2
          }
        },
        "8edb515a19f54dda81196413eb0f3dbf": {
          "model_module": "@jupyter-widgets/base",
          "model_module_version": "1.2.0",
          "model_name": "LayoutModel",
          "state": {
            "_model_module": "@jupyter-widgets/base",
            "_model_module_version": "1.2.0",
            "_model_name": "LayoutModel",
            "_view_count": null,
            "_view_module": "@jupyter-widgets/base",
            "_view_module_version": "1.2.0",
            "_view_name": "LayoutView",
            "align_content": null,
            "align_items": null,
            "align_self": null,
            "border": null,
            "bottom": null,
            "display": null,
            "flex": null,
            "flex_flow": null,
            "grid_area": null,
            "grid_auto_columns": null,
            "grid_auto_flow": null,
            "grid_auto_rows": null,
            "grid_column": null,
            "grid_gap": null,
            "grid_row": null,
            "grid_template_areas": null,
            "grid_template_columns": null,
            "grid_template_rows": null,
            "height": null,
            "justify_content": null,
            "justify_items": null,
            "left": null,
            "margin": null,
            "max_height": null,
            "max_width": null,
            "min_height": null,
            "min_width": null,
            "object_fit": null,
            "object_position": null,
            "order": null,
            "overflow": null,
            "overflow_x": null,
            "overflow_y": null,
            "padding": null,
            "right": null,
            "top": null,
            "visibility": null,
            "width": null
          }
        },
        "8fde12ba7c7349d7ac312ecdc1893dd9": {
          "model_module": "@jupyter-widgets/controls",
          "model_module_version": "1.5.0",
          "model_name": "ProgressStyleModel",
          "state": {
            "_model_module": "@jupyter-widgets/controls",
            "_model_module_version": "1.5.0",
            "_model_name": "ProgressStyleModel",
            "_view_count": null,
            "_view_module": "@jupyter-widgets/base",
            "_view_module_version": "1.2.0",
            "_view_name": "StyleView",
            "bar_color": null,
            "description_width": ""
          }
        },
        "94593d46dfa44d129d1465eaef4e33a2": {
          "model_module": "@jupyter-widgets/controls",
          "model_module_version": "1.5.0",
          "model_name": "FloatProgressModel",
          "state": {
            "_dom_classes": [],
            "_model_module": "@jupyter-widgets/controls",
            "_model_module_version": "1.5.0",
            "_model_name": "FloatProgressModel",
            "_view_count": null,
            "_view_module": "@jupyter-widgets/controls",
            "_view_module_version": "1.5.0",
            "_view_name": "ProgressView",
            "bar_style": "success",
            "description": "",
            "description_tooltip": null,
            "layout": "IPY_MODEL_d291c11ebfef4841b218454bf60bd323",
            "max": 225,
            "min": 0,
            "orientation": "horizontal",
            "style": "IPY_MODEL_193cb80b0c394973adb15710cbb3692a",
            "value": 225
          }
        },
        "9c7a69d052434c51a43da7f910a33882": {
          "model_module": "@jupyter-widgets/controls",
          "model_module_version": "1.5.0",
          "model_name": "DescriptionStyleModel",
          "state": {
            "_model_module": "@jupyter-widgets/controls",
            "_model_module_version": "1.5.0",
            "_model_name": "DescriptionStyleModel",
            "_view_count": null,
            "_view_module": "@jupyter-widgets/base",
            "_view_module_version": "1.2.0",
            "_view_name": "StyleView",
            "description_width": ""
          }
        },
        "9e24e05871ab4834858efc46d02840b9": {
          "model_module": "@jupyter-widgets/controls",
          "model_module_version": "1.5.0",
          "model_name": "HTMLModel",
          "state": {
            "_dom_classes": [],
            "_model_module": "@jupyter-widgets/controls",
            "_model_module_version": "1.5.0",
            "_model_name": "HTMLModel",
            "_view_count": null,
            "_view_module": "@jupyter-widgets/controls",
            "_view_module_version": "1.5.0",
            "_view_name": "HTMLView",
            "description": "",
            "description_tooltip": null,
            "layout": "IPY_MODEL_a298dc1d1f364db5a5dbde85a191292b",
            "placeholder": "​",
            "style": "IPY_MODEL_741bc9d1c3a14554aef88fd7d234ee13",
            "value": " 225/225 [00:13&lt;00:00, 19.79it/s]"
          }
        },
        "9f624d992c9740f39bc7acdb43b36ad6": {
          "model_module": "@jupyter-widgets/controls",
          "model_module_version": "1.5.0",
          "model_name": "HTMLModel",
          "state": {
            "_dom_classes": [],
            "_model_module": "@jupyter-widgets/controls",
            "_model_module_version": "1.5.0",
            "_model_name": "HTMLModel",
            "_view_count": null,
            "_view_module": "@jupyter-widgets/controls",
            "_view_module_version": "1.5.0",
            "_view_name": "HTMLView",
            "description": "",
            "description_tooltip": null,
            "layout": "IPY_MODEL_326fea65e8534eeeaf5148c5c339579d",
            "placeholder": "​",
            "style": "IPY_MODEL_6616045821394bd4b2aca4403f16641e",
            "value": " 225/225 [00:12&lt;00:00, 18.29it/s]"
          }
        },
        "a0ca9270d76f47c4b1ad57120e0444d0": {
          "model_module": "@jupyter-widgets/controls",
          "model_module_version": "1.5.0",
          "model_name": "HTMLModel",
          "state": {
            "_dom_classes": [],
            "_model_module": "@jupyter-widgets/controls",
            "_model_module_version": "1.5.0",
            "_model_name": "HTMLModel",
            "_view_count": null,
            "_view_module": "@jupyter-widgets/controls",
            "_view_module_version": "1.5.0",
            "_view_name": "HTMLView",
            "description": "",
            "description_tooltip": null,
            "layout": "IPY_MODEL_a5e8820680e146448f9e6557f223c05a",
            "placeholder": "​",
            "style": "IPY_MODEL_ac567a3766e64ebaa930eec4afe5a600",
            "value": " 225/225 [00:12&lt;00:00, 19.52it/s]"
          }
        },
        "a0cb1063cbd04647ac70ffb190883e6a": {
          "model_module": "@jupyter-widgets/controls",
          "model_module_version": "1.5.0",
          "model_name": "HBoxModel",
          "state": {
            "_dom_classes": [],
            "_model_module": "@jupyter-widgets/controls",
            "_model_module_version": "1.5.0",
            "_model_name": "HBoxModel",
            "_view_count": null,
            "_view_module": "@jupyter-widgets/controls",
            "_view_module_version": "1.5.0",
            "_view_name": "HBoxView",
            "box_style": "",
            "children": [
              "IPY_MODEL_f9ee3108faac4d888cbf491a2935d4ee",
              "IPY_MODEL_0ae4036074e44194b69d6bf73c3905cd",
              "IPY_MODEL_9e24e05871ab4834858efc46d02840b9"
            ],
            "layout": "IPY_MODEL_b96b2579b6b74d5baaff0202ec50df90"
          }
        },
        "a298dc1d1f364db5a5dbde85a191292b": {
          "model_module": "@jupyter-widgets/base",
          "model_module_version": "1.2.0",
          "model_name": "LayoutModel",
          "state": {
            "_model_module": "@jupyter-widgets/base",
            "_model_module_version": "1.2.0",
            "_model_name": "LayoutModel",
            "_view_count": null,
            "_view_module": "@jupyter-widgets/base",
            "_view_module_version": "1.2.0",
            "_view_name": "LayoutView",
            "align_content": null,
            "align_items": null,
            "align_self": null,
            "border": null,
            "bottom": null,
            "display": null,
            "flex": null,
            "flex_flow": null,
            "grid_area": null,
            "grid_auto_columns": null,
            "grid_auto_flow": null,
            "grid_auto_rows": null,
            "grid_column": null,
            "grid_gap": null,
            "grid_row": null,
            "grid_template_areas": null,
            "grid_template_columns": null,
            "grid_template_rows": null,
            "height": null,
            "justify_content": null,
            "justify_items": null,
            "left": null,
            "margin": null,
            "max_height": null,
            "max_width": null,
            "min_height": null,
            "min_width": null,
            "object_fit": null,
            "object_position": null,
            "order": null,
            "overflow": null,
            "overflow_x": null,
            "overflow_y": null,
            "padding": null,
            "right": null,
            "top": null,
            "visibility": null,
            "width": null
          }
        },
        "a5e8820680e146448f9e6557f223c05a": {
          "model_module": "@jupyter-widgets/base",
          "model_module_version": "1.2.0",
          "model_name": "LayoutModel",
          "state": {
            "_model_module": "@jupyter-widgets/base",
            "_model_module_version": "1.2.0",
            "_model_name": "LayoutModel",
            "_view_count": null,
            "_view_module": "@jupyter-widgets/base",
            "_view_module_version": "1.2.0",
            "_view_name": "LayoutView",
            "align_content": null,
            "align_items": null,
            "align_self": null,
            "border": null,
            "bottom": null,
            "display": null,
            "flex": null,
            "flex_flow": null,
            "grid_area": null,
            "grid_auto_columns": null,
            "grid_auto_flow": null,
            "grid_auto_rows": null,
            "grid_column": null,
            "grid_gap": null,
            "grid_row": null,
            "grid_template_areas": null,
            "grid_template_columns": null,
            "grid_template_rows": null,
            "height": null,
            "justify_content": null,
            "justify_items": null,
            "left": null,
            "margin": null,
            "max_height": null,
            "max_width": null,
            "min_height": null,
            "min_width": null,
            "object_fit": null,
            "object_position": null,
            "order": null,
            "overflow": null,
            "overflow_x": null,
            "overflow_y": null,
            "padding": null,
            "right": null,
            "top": null,
            "visibility": null,
            "width": null
          }
        },
        "ac3d72d5535a4a859dfcef5a4e12c840": {
          "model_module": "@jupyter-widgets/base",
          "model_module_version": "1.2.0",
          "model_name": "LayoutModel",
          "state": {
            "_model_module": "@jupyter-widgets/base",
            "_model_module_version": "1.2.0",
            "_model_name": "LayoutModel",
            "_view_count": null,
            "_view_module": "@jupyter-widgets/base",
            "_view_module_version": "1.2.0",
            "_view_name": "LayoutView",
            "align_content": null,
            "align_items": null,
            "align_self": null,
            "border": null,
            "bottom": null,
            "display": null,
            "flex": null,
            "flex_flow": null,
            "grid_area": null,
            "grid_auto_columns": null,
            "grid_auto_flow": null,
            "grid_auto_rows": null,
            "grid_column": null,
            "grid_gap": null,
            "grid_row": null,
            "grid_template_areas": null,
            "grid_template_columns": null,
            "grid_template_rows": null,
            "height": null,
            "justify_content": null,
            "justify_items": null,
            "left": null,
            "margin": null,
            "max_height": null,
            "max_width": null,
            "min_height": null,
            "min_width": null,
            "object_fit": null,
            "object_position": null,
            "order": null,
            "overflow": null,
            "overflow_x": null,
            "overflow_y": null,
            "padding": null,
            "right": null,
            "top": null,
            "visibility": null,
            "width": null
          }
        },
        "ac567a3766e64ebaa930eec4afe5a600": {
          "model_module": "@jupyter-widgets/controls",
          "model_module_version": "1.5.0",
          "model_name": "DescriptionStyleModel",
          "state": {
            "_model_module": "@jupyter-widgets/controls",
            "_model_module_version": "1.5.0",
            "_model_name": "DescriptionStyleModel",
            "_view_count": null,
            "_view_module": "@jupyter-widgets/base",
            "_view_module_version": "1.2.0",
            "_view_name": "StyleView",
            "description_width": ""
          }
        },
        "b0a4139e41d44738baaaa1b3bbb9ce52": {
          "model_module": "@jupyter-widgets/controls",
          "model_module_version": "1.5.0",
          "model_name": "HTMLModel",
          "state": {
            "_dom_classes": [],
            "_model_module": "@jupyter-widgets/controls",
            "_model_module_version": "1.5.0",
            "_model_name": "HTMLModel",
            "_view_count": null,
            "_view_module": "@jupyter-widgets/controls",
            "_view_module_version": "1.5.0",
            "_view_name": "HTMLView",
            "description": "",
            "description_tooltip": null,
            "layout": "IPY_MODEL_4cfdb931664c401bb514cee8ee3e57d5",
            "placeholder": "​",
            "style": "IPY_MODEL_9c7a69d052434c51a43da7f910a33882",
            "value": " 155/225 [00:10&lt;00:03, 19.24it/s]"
          }
        },
        "b3a926db475248699b3df9b9c7242efa": {
          "model_module": "@jupyter-widgets/controls",
          "model_module_version": "1.5.0",
          "model_name": "HTMLModel",
          "state": {
            "_dom_classes": [],
            "_model_module": "@jupyter-widgets/controls",
            "_model_module_version": "1.5.0",
            "_model_name": "HTMLModel",
            "_view_count": null,
            "_view_module": "@jupyter-widgets/controls",
            "_view_module_version": "1.5.0",
            "_view_name": "HTMLView",
            "description": "",
            "description_tooltip": null,
            "layout": "IPY_MODEL_7bf25cfbb4f64d8c96b042eb5b4980c6",
            "placeholder": "​",
            "style": "IPY_MODEL_1886468c8e9e499da0bce199a4f3e5ba",
            "value": "Training for one epoch:  69%"
          }
        },
        "b9504e3ccced4a909d998a6b24d69210": {
          "model_module": "@jupyter-widgets/controls",
          "model_module_version": "1.5.0",
          "model_name": "HTMLModel",
          "state": {
            "_dom_classes": [],
            "_model_module": "@jupyter-widgets/controls",
            "_model_module_version": "1.5.0",
            "_model_name": "HTMLModel",
            "_view_count": null,
            "_view_module": "@jupyter-widgets/controls",
            "_view_module_version": "1.5.0",
            "_view_name": "HTMLView",
            "description": "",
            "description_tooltip": null,
            "layout": "IPY_MODEL_8edb515a19f54dda81196413eb0f3dbf",
            "placeholder": "​",
            "style": "IPY_MODEL_f768ae6353554b4b8b1bb2f477396a96",
            "value": "Training for one epoch: 100%"
          }
        },
        "b96b2579b6b74d5baaff0202ec50df90": {
          "model_module": "@jupyter-widgets/base",
          "model_module_version": "1.2.0",
          "model_name": "LayoutModel",
          "state": {
            "_model_module": "@jupyter-widgets/base",
            "_model_module_version": "1.2.0",
            "_model_name": "LayoutModel",
            "_view_count": null,
            "_view_module": "@jupyter-widgets/base",
            "_view_module_version": "1.2.0",
            "_view_name": "LayoutView",
            "align_content": null,
            "align_items": null,
            "align_self": null,
            "border": null,
            "bottom": null,
            "display": null,
            "flex": null,
            "flex_flow": null,
            "grid_area": null,
            "grid_auto_columns": null,
            "grid_auto_flow": null,
            "grid_auto_rows": null,
            "grid_column": null,
            "grid_gap": null,
            "grid_row": null,
            "grid_template_areas": null,
            "grid_template_columns": null,
            "grid_template_rows": null,
            "height": null,
            "justify_content": null,
            "justify_items": null,
            "left": null,
            "margin": null,
            "max_height": null,
            "max_width": null,
            "min_height": null,
            "min_width": null,
            "object_fit": null,
            "object_position": null,
            "order": null,
            "overflow": null,
            "overflow_x": null,
            "overflow_y": null,
            "padding": null,
            "right": null,
            "top": null,
            "visibility": null,
            "width": null
          }
        },
        "ba1fa6f98b6841bba104c6a686e7c0cf": {
          "model_module": "@jupyter-widgets/base",
          "model_module_version": "1.2.0",
          "model_name": "LayoutModel",
          "state": {
            "_model_module": "@jupyter-widgets/base",
            "_model_module_version": "1.2.0",
            "_model_name": "LayoutModel",
            "_view_count": null,
            "_view_module": "@jupyter-widgets/base",
            "_view_module_version": "1.2.0",
            "_view_name": "LayoutView",
            "align_content": null,
            "align_items": null,
            "align_self": null,
            "border": null,
            "bottom": null,
            "display": null,
            "flex": null,
            "flex_flow": null,
            "grid_area": null,
            "grid_auto_columns": null,
            "grid_auto_flow": null,
            "grid_auto_rows": null,
            "grid_column": null,
            "grid_gap": null,
            "grid_row": null,
            "grid_template_areas": null,
            "grid_template_columns": null,
            "grid_template_rows": null,
            "height": null,
            "justify_content": null,
            "justify_items": null,
            "left": null,
            "margin": null,
            "max_height": null,
            "max_width": null,
            "min_height": null,
            "min_width": null,
            "object_fit": null,
            "object_position": null,
            "order": null,
            "overflow": null,
            "overflow_x": null,
            "overflow_y": null,
            "padding": null,
            "right": null,
            "top": null,
            "visibility": null,
            "width": null
          }
        },
        "c0a77de7570b47179a0ae2b36e9b54a4": {
          "model_module": "@jupyter-widgets/controls",
          "model_module_version": "1.5.0",
          "model_name": "ProgressStyleModel",
          "state": {
            "_model_module": "@jupyter-widgets/controls",
            "_model_module_version": "1.5.0",
            "_model_name": "ProgressStyleModel",
            "_view_count": null,
            "_view_module": "@jupyter-widgets/base",
            "_view_module_version": "1.2.0",
            "_view_name": "StyleView",
            "bar_color": null,
            "description_width": ""
          }
        },
        "c603a9c4f8554837926e84ef3f654738": {
          "model_module": "@jupyter-widgets/controls",
          "model_module_version": "1.5.0",
          "model_name": "HTMLModel",
          "state": {
            "_dom_classes": [],
            "_model_module": "@jupyter-widgets/controls",
            "_model_module_version": "1.5.0",
            "_model_name": "HTMLModel",
            "_view_count": null,
            "_view_module": "@jupyter-widgets/controls",
            "_view_module_version": "1.5.0",
            "_view_name": "HTMLView",
            "description": "",
            "description_tooltip": null,
            "layout": "IPY_MODEL_863f72355f154f4f99697f8b1e667b3e",
            "placeholder": "​",
            "style": "IPY_MODEL_5f8e8d8b2c904f0c839609216b5e7874",
            "value": "100%"
          }
        },
        "cc0370b43a64447491b0695d491e25a7": {
          "model_module": "@jupyter-widgets/controls",
          "model_module_version": "1.5.0",
          "model_name": "HTMLModel",
          "state": {
            "_dom_classes": [],
            "_model_module": "@jupyter-widgets/controls",
            "_model_module_version": "1.5.0",
            "_model_name": "HTMLModel",
            "_view_count": null,
            "_view_module": "@jupyter-widgets/controls",
            "_view_module_version": "1.5.0",
            "_view_name": "HTMLView",
            "description": "",
            "description_tooltip": null,
            "layout": "IPY_MODEL_ba1fa6f98b6841bba104c6a686e7c0cf",
            "placeholder": "​",
            "style": "IPY_MODEL_d5c6e3980b4b4f2b891bf3e42750b86a",
            "value": " 225/225 [00:16&lt;00:00, 12.01it/s]"
          }
        },
        "ccb47656e0fc4afda87cf4cf02966a17": {
          "model_module": "@jupyter-widgets/controls",
          "model_module_version": "1.5.0",
          "model_name": "FloatProgressModel",
          "state": {
            "_dom_classes": [],
            "_model_module": "@jupyter-widgets/controls",
            "_model_module_version": "1.5.0",
            "_model_name": "FloatProgressModel",
            "_view_count": null,
            "_view_module": "@jupyter-widgets/controls",
            "_view_module_version": "1.5.0",
            "_view_name": "ProgressView",
            "bar_style": "",
            "description": "",
            "description_tooltip": null,
            "layout": "IPY_MODEL_8115ea36d40049edb49e9ec06ee00af2",
            "max": 225,
            "min": 0,
            "orientation": "horizontal",
            "style": "IPY_MODEL_c0a77de7570b47179a0ae2b36e9b54a4",
            "value": 155
          }
        },
        "d291c11ebfef4841b218454bf60bd323": {
          "model_module": "@jupyter-widgets/base",
          "model_module_version": "1.2.0",
          "model_name": "LayoutModel",
          "state": {
            "_model_module": "@jupyter-widgets/base",
            "_model_module_version": "1.2.0",
            "_model_name": "LayoutModel",
            "_view_count": null,
            "_view_module": "@jupyter-widgets/base",
            "_view_module_version": "1.2.0",
            "_view_name": "LayoutView",
            "align_content": null,
            "align_items": null,
            "align_self": null,
            "border": null,
            "bottom": null,
            "display": null,
            "flex": null,
            "flex_flow": null,
            "grid_area": null,
            "grid_auto_columns": null,
            "grid_auto_flow": null,
            "grid_auto_rows": null,
            "grid_column": null,
            "grid_gap": null,
            "grid_row": null,
            "grid_template_areas": null,
            "grid_template_columns": null,
            "grid_template_rows": null,
            "height": null,
            "justify_content": null,
            "justify_items": null,
            "left": null,
            "margin": null,
            "max_height": null,
            "max_width": null,
            "min_height": null,
            "min_width": null,
            "object_fit": null,
            "object_position": null,
            "order": null,
            "overflow": null,
            "overflow_x": null,
            "overflow_y": null,
            "padding": null,
            "right": null,
            "top": null,
            "visibility": null,
            "width": null
          }
        },
        "d57d0117a12a4f97a3a5ab2251a38d5d": {
          "model_module": "@jupyter-widgets/controls",
          "model_module_version": "1.5.0",
          "model_name": "DescriptionStyleModel",
          "state": {
            "_model_module": "@jupyter-widgets/controls",
            "_model_module_version": "1.5.0",
            "_model_name": "DescriptionStyleModel",
            "_view_count": null,
            "_view_module": "@jupyter-widgets/base",
            "_view_module_version": "1.2.0",
            "_view_name": "StyleView",
            "description_width": ""
          }
        },
        "d5c6e3980b4b4f2b891bf3e42750b86a": {
          "model_module": "@jupyter-widgets/controls",
          "model_module_version": "1.5.0",
          "model_name": "DescriptionStyleModel",
          "state": {
            "_model_module": "@jupyter-widgets/controls",
            "_model_module_version": "1.5.0",
            "_model_name": "DescriptionStyleModel",
            "_view_count": null,
            "_view_module": "@jupyter-widgets/base",
            "_view_module_version": "1.2.0",
            "_view_name": "StyleView",
            "description_width": ""
          }
        },
        "dc42e85e615643b0b2dec7d0ca92a8e4": {
          "model_module": "@jupyter-widgets/base",
          "model_module_version": "1.2.0",
          "model_name": "LayoutModel",
          "state": {
            "_model_module": "@jupyter-widgets/base",
            "_model_module_version": "1.2.0",
            "_model_name": "LayoutModel",
            "_view_count": null,
            "_view_module": "@jupyter-widgets/base",
            "_view_module_version": "1.2.0",
            "_view_name": "LayoutView",
            "align_content": null,
            "align_items": null,
            "align_self": null,
            "border": null,
            "bottom": null,
            "display": null,
            "flex": null,
            "flex_flow": null,
            "grid_area": null,
            "grid_auto_columns": null,
            "grid_auto_flow": null,
            "grid_auto_rows": null,
            "grid_column": null,
            "grid_gap": null,
            "grid_row": null,
            "grid_template_areas": null,
            "grid_template_columns": null,
            "grid_template_rows": null,
            "height": null,
            "justify_content": null,
            "justify_items": null,
            "left": null,
            "margin": null,
            "max_height": null,
            "max_width": null,
            "min_height": null,
            "min_width": null,
            "object_fit": null,
            "object_position": null,
            "order": null,
            "overflow": null,
            "overflow_x": null,
            "overflow_y": null,
            "padding": null,
            "right": null,
            "top": null,
            "visibility": null,
            "width": null
          }
        },
        "e0f15bf75bcc49c68dc9ba7b29b58ae4": {
          "model_module": "@jupyter-widgets/controls",
          "model_module_version": "1.5.0",
          "model_name": "HBoxModel",
          "state": {
            "_dom_classes": [],
            "_model_module": "@jupyter-widgets/controls",
            "_model_module_version": "1.5.0",
            "_model_name": "HBoxModel",
            "_view_count": null,
            "_view_module": "@jupyter-widgets/controls",
            "_view_module_version": "1.5.0",
            "_view_name": "HBoxView",
            "box_style": "",
            "children": [
              "IPY_MODEL_b9504e3ccced4a909d998a6b24d69210",
              "IPY_MODEL_8011e0735b4c439797eda2ea0993020e",
              "IPY_MODEL_a0ca9270d76f47c4b1ad57120e0444d0"
            ],
            "layout": "IPY_MODEL_05ec0641a887434da5c060663579c5ab"
          }
        },
        "e6096ce0aa824c0d9dc4b1032520ffe6": {
          "model_module": "@jupyter-widgets/controls",
          "model_module_version": "1.5.0",
          "model_name": "HTMLModel",
          "state": {
            "_dom_classes": [],
            "_model_module": "@jupyter-widgets/controls",
            "_model_module_version": "1.5.0",
            "_model_name": "HTMLModel",
            "_view_count": null,
            "_view_module": "@jupyter-widgets/controls",
            "_view_module_version": "1.5.0",
            "_view_name": "HTMLView",
            "description": "",
            "description_tooltip": null,
            "layout": "IPY_MODEL_7773d48cbc2244fdb065bfac7b7321fa",
            "placeholder": "​",
            "style": "IPY_MODEL_e95bcc329a72442daa2732d9fe4af21d",
            "value": " 2/2 [00:00&lt;00:00, 119.73it/s]"
          }
        },
        "e6bc0b22bc5641d4aeb441a154c7005d": {
          "model_module": "@jupyter-widgets/controls",
          "model_module_version": "1.5.0",
          "model_name": "HBoxModel",
          "state": {
            "_dom_classes": [],
            "_model_module": "@jupyter-widgets/controls",
            "_model_module_version": "1.5.0",
            "_model_name": "HBoxModel",
            "_view_count": null,
            "_view_module": "@jupyter-widgets/controls",
            "_view_module_version": "1.5.0",
            "_view_name": "HBoxView",
            "box_style": "",
            "children": [
              "IPY_MODEL_7c2c29f7a7af49cf8392a76e0d0692f7",
              "IPY_MODEL_62df0df7fbd94f619974d2291ea0890f",
              "IPY_MODEL_cc0370b43a64447491b0695d491e25a7"
            ],
            "layout": "IPY_MODEL_542253a924bb42ed924f50e49d4b0b59"
          }
        },
        "e95bcc329a72442daa2732d9fe4af21d": {
          "model_module": "@jupyter-widgets/controls",
          "model_module_version": "1.5.0",
          "model_name": "DescriptionStyleModel",
          "state": {
            "_model_module": "@jupyter-widgets/controls",
            "_model_module_version": "1.5.0",
            "_model_name": "DescriptionStyleModel",
            "_view_count": null,
            "_view_module": "@jupyter-widgets/base",
            "_view_module_version": "1.2.0",
            "_view_name": "StyleView",
            "description_width": ""
          }
        },
        "f768ae6353554b4b8b1bb2f477396a96": {
          "model_module": "@jupyter-widgets/controls",
          "model_module_version": "1.5.0",
          "model_name": "DescriptionStyleModel",
          "state": {
            "_model_module": "@jupyter-widgets/controls",
            "_model_module_version": "1.5.0",
            "_model_name": "DescriptionStyleModel",
            "_view_count": null,
            "_view_module": "@jupyter-widgets/base",
            "_view_module_version": "1.2.0",
            "_view_name": "StyleView",
            "description_width": ""
          }
        },
        "f9ee3108faac4d888cbf491a2935d4ee": {
          "model_module": "@jupyter-widgets/controls",
          "model_module_version": "1.5.0",
          "model_name": "HTMLModel",
          "state": {
            "_dom_classes": [],
            "_model_module": "@jupyter-widgets/controls",
            "_model_module_version": "1.5.0",
            "_model_name": "HTMLModel",
            "_view_count": null,
            "_view_module": "@jupyter-widgets/controls",
            "_view_module_version": "1.5.0",
            "_view_name": "HTMLView",
            "description": "",
            "description_tooltip": null,
            "layout": "IPY_MODEL_5a8062570ec94591adadbf82b1b78fda",
            "placeholder": "​",
            "style": "IPY_MODEL_4e485574005a44e0b7e63d2206a72282",
            "value": "Training for one epoch: 100%"
          }
        },
        "fcc0efbcc082420e92730be23ce4ebcb": {
          "model_module": "@jupyter-widgets/base",
          "model_module_version": "1.2.0",
          "model_name": "LayoutModel",
          "state": {
            "_model_module": "@jupyter-widgets/base",
            "_model_module_version": "1.2.0",
            "_model_name": "LayoutModel",
            "_view_count": null,
            "_view_module": "@jupyter-widgets/base",
            "_view_module_version": "1.2.0",
            "_view_name": "LayoutView",
            "align_content": null,
            "align_items": null,
            "align_self": null,
            "border": null,
            "bottom": null,
            "display": null,
            "flex": null,
            "flex_flow": null,
            "grid_area": null,
            "grid_auto_columns": null,
            "grid_auto_flow": null,
            "grid_auto_rows": null,
            "grid_column": null,
            "grid_gap": null,
            "grid_row": null,
            "grid_template_areas": null,
            "grid_template_columns": null,
            "grid_template_rows": null,
            "height": null,
            "justify_content": null,
            "justify_items": null,
            "left": null,
            "margin": null,
            "max_height": null,
            "max_width": null,
            "min_height": null,
            "min_width": null,
            "object_fit": null,
            "object_position": null,
            "order": null,
            "overflow": null,
            "overflow_x": null,
            "overflow_y": null,
            "padding": null,
            "right": null,
            "top": null,
            "visibility": null,
            "width": null
          }
        }
      }
    }
  },
  "nbformat": 4,
  "nbformat_minor": 0
}
