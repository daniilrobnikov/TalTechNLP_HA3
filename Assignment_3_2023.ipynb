{
  "nbformat": 4,
  "nbformat_minor": 0,
  "metadata": {
    "colab": {
      "provenance": []
    },
    "kernelspec": {
      "name": "python3",
      "display_name": "Python 3"
    },
    "accelerator": "GPU",
    "widgets": {
      "application/vnd.jupyter.widget-state+json": {
        "8decc6cf14df4b9db2781d26bec6540b": {
          "model_module": "@jupyter-widgets/controls",
          "model_name": "HBoxModel",
          "model_module_version": "1.5.0",
          "state": {
            "_dom_classes": [],
            "_model_module": "@jupyter-widgets/controls",
            "_model_module_version": "1.5.0",
            "_model_name": "HBoxModel",
            "_view_count": null,
            "_view_module": "@jupyter-widgets/controls",
            "_view_module_version": "1.5.0",
            "_view_name": "HBoxView",
            "box_style": "",
            "children": [
              "IPY_MODEL_2e1562178a6a4344b67aa0c335be67f9",
              "IPY_MODEL_15dc3bb2f0e546ca871ba284670d2bcf",
              "IPY_MODEL_2539293828f04401afc93333509f1989"
            ],
            "layout": "IPY_MODEL_d81f5431eab54fc3b65ff3e18be66a7d"
          }
        },
        "2e1562178a6a4344b67aa0c335be67f9": {
          "model_module": "@jupyter-widgets/controls",
          "model_name": "HTMLModel",
          "model_module_version": "1.5.0",
          "state": {
            "_dom_classes": [],
            "_model_module": "@jupyter-widgets/controls",
            "_model_module_version": "1.5.0",
            "_model_name": "HTMLModel",
            "_view_count": null,
            "_view_module": "@jupyter-widgets/controls",
            "_view_module_version": "1.5.0",
            "_view_name": "HTMLView",
            "description": "",
            "description_tooltip": null,
            "layout": "IPY_MODEL_d15f3f9e356c4ec780218aa6495fb311",
            "placeholder": "​",
            "style": "IPY_MODEL_a6f7972dc5814d98b70ff22dcd44e2b2",
            "value": "100%"
          }
        },
        "15dc3bb2f0e546ca871ba284670d2bcf": {
          "model_module": "@jupyter-widgets/controls",
          "model_name": "FloatProgressModel",
          "model_module_version": "1.5.0",
          "state": {
            "_dom_classes": [],
            "_model_module": "@jupyter-widgets/controls",
            "_model_module_version": "1.5.0",
            "_model_name": "FloatProgressModel",
            "_view_count": null,
            "_view_module": "@jupyter-widgets/controls",
            "_view_module_version": "1.5.0",
            "_view_name": "ProgressView",
            "bar_style": "success",
            "description": "",
            "description_tooltip": null,
            "layout": "IPY_MODEL_a79679f621ec4b4cb0ad6152864e6f22",
            "max": 2,
            "min": 0,
            "orientation": "horizontal",
            "style": "IPY_MODEL_c3afbbe4bb9a4b0fbe934c32929a1012",
            "value": 2
          }
        },
        "2539293828f04401afc93333509f1989": {
          "model_module": "@jupyter-widgets/controls",
          "model_name": "HTMLModel",
          "model_module_version": "1.5.0",
          "state": {
            "_dom_classes": [],
            "_model_module": "@jupyter-widgets/controls",
            "_model_module_version": "1.5.0",
            "_model_name": "HTMLModel",
            "_view_count": null,
            "_view_module": "@jupyter-widgets/controls",
            "_view_module_version": "1.5.0",
            "_view_name": "HTMLView",
            "description": "",
            "description_tooltip": null,
            "layout": "IPY_MODEL_2c9f6fc55b89461aa0972b451f745133",
            "placeholder": "​",
            "style": "IPY_MODEL_e3bd8f71f06b4b9ab6acda8a32c0dae7",
            "value": " 2/2 [00:00&lt;00:00, 58.52it/s]"
          }
        },
        "d81f5431eab54fc3b65ff3e18be66a7d": {
          "model_module": "@jupyter-widgets/base",
          "model_name": "LayoutModel",
          "model_module_version": "1.2.0",
          "state": {
            "_model_module": "@jupyter-widgets/base",
            "_model_module_version": "1.2.0",
            "_model_name": "LayoutModel",
            "_view_count": null,
            "_view_module": "@jupyter-widgets/base",
            "_view_module_version": "1.2.0",
            "_view_name": "LayoutView",
            "align_content": null,
            "align_items": null,
            "align_self": null,
            "border": null,
            "bottom": null,
            "display": null,
            "flex": null,
            "flex_flow": null,
            "grid_area": null,
            "grid_auto_columns": null,
            "grid_auto_flow": null,
            "grid_auto_rows": null,
            "grid_column": null,
            "grid_gap": null,
            "grid_row": null,
            "grid_template_areas": null,
            "grid_template_columns": null,
            "grid_template_rows": null,
            "height": null,
            "justify_content": null,
            "justify_items": null,
            "left": null,
            "margin": null,
            "max_height": null,
            "max_width": null,
            "min_height": null,
            "min_width": null,
            "object_fit": null,
            "object_position": null,
            "order": null,
            "overflow": null,
            "overflow_x": null,
            "overflow_y": null,
            "padding": null,
            "right": null,
            "top": null,
            "visibility": null,
            "width": null
          }
        },
        "d15f3f9e356c4ec780218aa6495fb311": {
          "model_module": "@jupyter-widgets/base",
          "model_name": "LayoutModel",
          "model_module_version": "1.2.0",
          "state": {
            "_model_module": "@jupyter-widgets/base",
            "_model_module_version": "1.2.0",
            "_model_name": "LayoutModel",
            "_view_count": null,
            "_view_module": "@jupyter-widgets/base",
            "_view_module_version": "1.2.0",
            "_view_name": "LayoutView",
            "align_content": null,
            "align_items": null,
            "align_self": null,
            "border": null,
            "bottom": null,
            "display": null,
            "flex": null,
            "flex_flow": null,
            "grid_area": null,
            "grid_auto_columns": null,
            "grid_auto_flow": null,
            "grid_auto_rows": null,
            "grid_column": null,
            "grid_gap": null,
            "grid_row": null,
            "grid_template_areas": null,
            "grid_template_columns": null,
            "grid_template_rows": null,
            "height": null,
            "justify_content": null,
            "justify_items": null,
            "left": null,
            "margin": null,
            "max_height": null,
            "max_width": null,
            "min_height": null,
            "min_width": null,
            "object_fit": null,
            "object_position": null,
            "order": null,
            "overflow": null,
            "overflow_x": null,
            "overflow_y": null,
            "padding": null,
            "right": null,
            "top": null,
            "visibility": null,
            "width": null
          }
        },
        "a6f7972dc5814d98b70ff22dcd44e2b2": {
          "model_module": "@jupyter-widgets/controls",
          "model_name": "DescriptionStyleModel",
          "model_module_version": "1.5.0",
          "state": {
            "_model_module": "@jupyter-widgets/controls",
            "_model_module_version": "1.5.0",
            "_model_name": "DescriptionStyleModel",
            "_view_count": null,
            "_view_module": "@jupyter-widgets/base",
            "_view_module_version": "1.2.0",
            "_view_name": "StyleView",
            "description_width": ""
          }
        },
        "a79679f621ec4b4cb0ad6152864e6f22": {
          "model_module": "@jupyter-widgets/base",
          "model_name": "LayoutModel",
          "model_module_version": "1.2.0",
          "state": {
            "_model_module": "@jupyter-widgets/base",
            "_model_module_version": "1.2.0",
            "_model_name": "LayoutModel",
            "_view_count": null,
            "_view_module": "@jupyter-widgets/base",
            "_view_module_version": "1.2.0",
            "_view_name": "LayoutView",
            "align_content": null,
            "align_items": null,
            "align_self": null,
            "border": null,
            "bottom": null,
            "display": null,
            "flex": null,
            "flex_flow": null,
            "grid_area": null,
            "grid_auto_columns": null,
            "grid_auto_flow": null,
            "grid_auto_rows": null,
            "grid_column": null,
            "grid_gap": null,
            "grid_row": null,
            "grid_template_areas": null,
            "grid_template_columns": null,
            "grid_template_rows": null,
            "height": null,
            "justify_content": null,
            "justify_items": null,
            "left": null,
            "margin": null,
            "max_height": null,
            "max_width": null,
            "min_height": null,
            "min_width": null,
            "object_fit": null,
            "object_position": null,
            "order": null,
            "overflow": null,
            "overflow_x": null,
            "overflow_y": null,
            "padding": null,
            "right": null,
            "top": null,
            "visibility": null,
            "width": null
          }
        },
        "c3afbbe4bb9a4b0fbe934c32929a1012": {
          "model_module": "@jupyter-widgets/controls",
          "model_name": "ProgressStyleModel",
          "model_module_version": "1.5.0",
          "state": {
            "_model_module": "@jupyter-widgets/controls",
            "_model_module_version": "1.5.0",
            "_model_name": "ProgressStyleModel",
            "_view_count": null,
            "_view_module": "@jupyter-widgets/base",
            "_view_module_version": "1.2.0",
            "_view_name": "StyleView",
            "bar_color": null,
            "description_width": ""
          }
        },
        "2c9f6fc55b89461aa0972b451f745133": {
          "model_module": "@jupyter-widgets/base",
          "model_name": "LayoutModel",
          "model_module_version": "1.2.0",
          "state": {
            "_model_module": "@jupyter-widgets/base",
            "_model_module_version": "1.2.0",
            "_model_name": "LayoutModel",
            "_view_count": null,
            "_view_module": "@jupyter-widgets/base",
            "_view_module_version": "1.2.0",
            "_view_name": "LayoutView",
            "align_content": null,
            "align_items": null,
            "align_self": null,
            "border": null,
            "bottom": null,
            "display": null,
            "flex": null,
            "flex_flow": null,
            "grid_area": null,
            "grid_auto_columns": null,
            "grid_auto_flow": null,
            "grid_auto_rows": null,
            "grid_column": null,
            "grid_gap": null,
            "grid_row": null,
            "grid_template_areas": null,
            "grid_template_columns": null,
            "grid_template_rows": null,
            "height": null,
            "justify_content": null,
            "justify_items": null,
            "left": null,
            "margin": null,
            "max_height": null,
            "max_width": null,
            "min_height": null,
            "min_width": null,
            "object_fit": null,
            "object_position": null,
            "order": null,
            "overflow": null,
            "overflow_x": null,
            "overflow_y": null,
            "padding": null,
            "right": null,
            "top": null,
            "visibility": null,
            "width": null
          }
        },
        "e3bd8f71f06b4b9ab6acda8a32c0dae7": {
          "model_module": "@jupyter-widgets/controls",
          "model_name": "DescriptionStyleModel",
          "model_module_version": "1.5.0",
          "state": {
            "_model_module": "@jupyter-widgets/controls",
            "_model_module_version": "1.5.0",
            "_model_name": "DescriptionStyleModel",
            "_view_count": null,
            "_view_module": "@jupyter-widgets/base",
            "_view_module_version": "1.2.0",
            "_view_name": "StyleView",
            "description_width": ""
          }
        },
        "65ce1d52e1a9451c9cac871a80ab0a36": {
          "model_module": "@jupyter-widgets/controls",
          "model_name": "HBoxModel",
          "model_module_version": "1.5.0",
          "state": {
            "_dom_classes": [],
            "_model_module": "@jupyter-widgets/controls",
            "_model_module_version": "1.5.0",
            "_model_name": "HBoxModel",
            "_view_count": null,
            "_view_module": "@jupyter-widgets/controls",
            "_view_module_version": "1.5.0",
            "_view_name": "HBoxView",
            "box_style": "",
            "children": [
              "IPY_MODEL_1b2b66e079674096bd7216a671922419",
              "IPY_MODEL_f68173c8d39a419db83572653857e41a",
              "IPY_MODEL_03475ceea2b74841a2e2d8aff66d009b"
            ],
            "layout": "IPY_MODEL_27de5c6639d240a6a41099dae754d711"
          }
        },
        "1b2b66e079674096bd7216a671922419": {
          "model_module": "@jupyter-widgets/controls",
          "model_name": "HTMLModel",
          "model_module_version": "1.5.0",
          "state": {
            "_dom_classes": [],
            "_model_module": "@jupyter-widgets/controls",
            "_model_module_version": "1.5.0",
            "_model_name": "HTMLModel",
            "_view_count": null,
            "_view_module": "@jupyter-widgets/controls",
            "_view_module_version": "1.5.0",
            "_view_name": "HTMLView",
            "description": "",
            "description_tooltip": null,
            "layout": "IPY_MODEL_b04b33769c604fa199fb5527dab1a59e",
            "placeholder": "​",
            "style": "IPY_MODEL_317b7b616e7c4afca9b0cf20798685e7",
            "value": "Map:  50%"
          }
        },
        "f68173c8d39a419db83572653857e41a": {
          "model_module": "@jupyter-widgets/controls",
          "model_name": "FloatProgressModel",
          "model_module_version": "1.5.0",
          "state": {
            "_dom_classes": [],
            "_model_module": "@jupyter-widgets/controls",
            "_model_module_version": "1.5.0",
            "_model_name": "FloatProgressModel",
            "_view_count": null,
            "_view_module": "@jupyter-widgets/controls",
            "_view_module_version": "1.5.0",
            "_view_name": "ProgressView",
            "bar_style": "",
            "description": "",
            "description_tooltip": null,
            "layout": "IPY_MODEL_1f72860a8c5f4bef84663ee49a8b2d8a",
            "max": 3600,
            "min": 0,
            "orientation": "horizontal",
            "style": "IPY_MODEL_aa5ff23606554b01938f38eb6212a123",
            "value": 3600
          }
        },
        "03475ceea2b74841a2e2d8aff66d009b": {
          "model_module": "@jupyter-widgets/controls",
          "model_name": "HTMLModel",
          "model_module_version": "1.5.0",
          "state": {
            "_dom_classes": [],
            "_model_module": "@jupyter-widgets/controls",
            "_model_module_version": "1.5.0",
            "_model_name": "HTMLModel",
            "_view_count": null,
            "_view_module": "@jupyter-widgets/controls",
            "_view_module_version": "1.5.0",
            "_view_name": "HTMLView",
            "description": "",
            "description_tooltip": null,
            "layout": "IPY_MODEL_311d1f4731e648e2a37e62c72aa005b6",
            "placeholder": "​",
            "style": "IPY_MODEL_b0cdfb3e054e44b583b29e80c46ca828",
            "value": " 1817/3600 [00:00&lt;00:00, 15672.53 examples/s]"
          }
        },
        "27de5c6639d240a6a41099dae754d711": {
          "model_module": "@jupyter-widgets/base",
          "model_name": "LayoutModel",
          "model_module_version": "1.2.0",
          "state": {
            "_model_module": "@jupyter-widgets/base",
            "_model_module_version": "1.2.0",
            "_model_name": "LayoutModel",
            "_view_count": null,
            "_view_module": "@jupyter-widgets/base",
            "_view_module_version": "1.2.0",
            "_view_name": "LayoutView",
            "align_content": null,
            "align_items": null,
            "align_self": null,
            "border": null,
            "bottom": null,
            "display": null,
            "flex": null,
            "flex_flow": null,
            "grid_area": null,
            "grid_auto_columns": null,
            "grid_auto_flow": null,
            "grid_auto_rows": null,
            "grid_column": null,
            "grid_gap": null,
            "grid_row": null,
            "grid_template_areas": null,
            "grid_template_columns": null,
            "grid_template_rows": null,
            "height": null,
            "justify_content": null,
            "justify_items": null,
            "left": null,
            "margin": null,
            "max_height": null,
            "max_width": null,
            "min_height": null,
            "min_width": null,
            "object_fit": null,
            "object_position": null,
            "order": null,
            "overflow": null,
            "overflow_x": null,
            "overflow_y": null,
            "padding": null,
            "right": null,
            "top": null,
            "visibility": "hidden",
            "width": null
          }
        },
        "b04b33769c604fa199fb5527dab1a59e": {
          "model_module": "@jupyter-widgets/base",
          "model_name": "LayoutModel",
          "model_module_version": "1.2.0",
          "state": {
            "_model_module": "@jupyter-widgets/base",
            "_model_module_version": "1.2.0",
            "_model_name": "LayoutModel",
            "_view_count": null,
            "_view_module": "@jupyter-widgets/base",
            "_view_module_version": "1.2.0",
            "_view_name": "LayoutView",
            "align_content": null,
            "align_items": null,
            "align_self": null,
            "border": null,
            "bottom": null,
            "display": null,
            "flex": null,
            "flex_flow": null,
            "grid_area": null,
            "grid_auto_columns": null,
            "grid_auto_flow": null,
            "grid_auto_rows": null,
            "grid_column": null,
            "grid_gap": null,
            "grid_row": null,
            "grid_template_areas": null,
            "grid_template_columns": null,
            "grid_template_rows": null,
            "height": null,
            "justify_content": null,
            "justify_items": null,
            "left": null,
            "margin": null,
            "max_height": null,
            "max_width": null,
            "min_height": null,
            "min_width": null,
            "object_fit": null,
            "object_position": null,
            "order": null,
            "overflow": null,
            "overflow_x": null,
            "overflow_y": null,
            "padding": null,
            "right": null,
            "top": null,
            "visibility": null,
            "width": null
          }
        },
        "317b7b616e7c4afca9b0cf20798685e7": {
          "model_module": "@jupyter-widgets/controls",
          "model_name": "DescriptionStyleModel",
          "model_module_version": "1.5.0",
          "state": {
            "_model_module": "@jupyter-widgets/controls",
            "_model_module_version": "1.5.0",
            "_model_name": "DescriptionStyleModel",
            "_view_count": null,
            "_view_module": "@jupyter-widgets/base",
            "_view_module_version": "1.2.0",
            "_view_name": "StyleView",
            "description_width": ""
          }
        },
        "1f72860a8c5f4bef84663ee49a8b2d8a": {
          "model_module": "@jupyter-widgets/base",
          "model_name": "LayoutModel",
          "model_module_version": "1.2.0",
          "state": {
            "_model_module": "@jupyter-widgets/base",
            "_model_module_version": "1.2.0",
            "_model_name": "LayoutModel",
            "_view_count": null,
            "_view_module": "@jupyter-widgets/base",
            "_view_module_version": "1.2.0",
            "_view_name": "LayoutView",
            "align_content": null,
            "align_items": null,
            "align_self": null,
            "border": null,
            "bottom": null,
            "display": null,
            "flex": null,
            "flex_flow": null,
            "grid_area": null,
            "grid_auto_columns": null,
            "grid_auto_flow": null,
            "grid_auto_rows": null,
            "grid_column": null,
            "grid_gap": null,
            "grid_row": null,
            "grid_template_areas": null,
            "grid_template_columns": null,
            "grid_template_rows": null,
            "height": null,
            "justify_content": null,
            "justify_items": null,
            "left": null,
            "margin": null,
            "max_height": null,
            "max_width": null,
            "min_height": null,
            "min_width": null,
            "object_fit": null,
            "object_position": null,
            "order": null,
            "overflow": null,
            "overflow_x": null,
            "overflow_y": null,
            "padding": null,
            "right": null,
            "top": null,
            "visibility": null,
            "width": null
          }
        },
        "aa5ff23606554b01938f38eb6212a123": {
          "model_module": "@jupyter-widgets/controls",
          "model_name": "ProgressStyleModel",
          "model_module_version": "1.5.0",
          "state": {
            "_model_module": "@jupyter-widgets/controls",
            "_model_module_version": "1.5.0",
            "_model_name": "ProgressStyleModel",
            "_view_count": null,
            "_view_module": "@jupyter-widgets/base",
            "_view_module_version": "1.2.0",
            "_view_name": "StyleView",
            "bar_color": null,
            "description_width": ""
          }
        },
        "311d1f4731e648e2a37e62c72aa005b6": {
          "model_module": "@jupyter-widgets/base",
          "model_name": "LayoutModel",
          "model_module_version": "1.2.0",
          "state": {
            "_model_module": "@jupyter-widgets/base",
            "_model_module_version": "1.2.0",
            "_model_name": "LayoutModel",
            "_view_count": null,
            "_view_module": "@jupyter-widgets/base",
            "_view_module_version": "1.2.0",
            "_view_name": "LayoutView",
            "align_content": null,
            "align_items": null,
            "align_self": null,
            "border": null,
            "bottom": null,
            "display": null,
            "flex": null,
            "flex_flow": null,
            "grid_area": null,
            "grid_auto_columns": null,
            "grid_auto_flow": null,
            "grid_auto_rows": null,
            "grid_column": null,
            "grid_gap": null,
            "grid_row": null,
            "grid_template_areas": null,
            "grid_template_columns": null,
            "grid_template_rows": null,
            "height": null,
            "justify_content": null,
            "justify_items": null,
            "left": null,
            "margin": null,
            "max_height": null,
            "max_width": null,
            "min_height": null,
            "min_width": null,
            "object_fit": null,
            "object_position": null,
            "order": null,
            "overflow": null,
            "overflow_x": null,
            "overflow_y": null,
            "padding": null,
            "right": null,
            "top": null,
            "visibility": null,
            "width": null
          }
        },
        "b0cdfb3e054e44b583b29e80c46ca828": {
          "model_module": "@jupyter-widgets/controls",
          "model_name": "DescriptionStyleModel",
          "model_module_version": "1.5.0",
          "state": {
            "_model_module": "@jupyter-widgets/controls",
            "_model_module_version": "1.5.0",
            "_model_name": "DescriptionStyleModel",
            "_view_count": null,
            "_view_module": "@jupyter-widgets/base",
            "_view_module_version": "1.2.0",
            "_view_name": "StyleView",
            "description_width": ""
          }
        },
        "d9e12330aec54e2eaf020bd7df147dc8": {
          "model_module": "@jupyter-widgets/controls",
          "model_name": "HBoxModel",
          "model_module_version": "1.5.0",
          "state": {
            "_dom_classes": [],
            "_model_module": "@jupyter-widgets/controls",
            "_model_module_version": "1.5.0",
            "_model_name": "HBoxModel",
            "_view_count": null,
            "_view_module": "@jupyter-widgets/controls",
            "_view_module_version": "1.5.0",
            "_view_name": "HBoxView",
            "box_style": "",
            "children": [
              "IPY_MODEL_fb7fb8cbaa994c79bff98bfe6954d59a",
              "IPY_MODEL_452aeca145b74e3c8d3993402f23496e",
              "IPY_MODEL_b84945b5cc824e1faa71a505854a309c"
            ],
            "layout": "IPY_MODEL_40a1de7edf5247f3bee62c06911e727b"
          }
        },
        "fb7fb8cbaa994c79bff98bfe6954d59a": {
          "model_module": "@jupyter-widgets/controls",
          "model_name": "HTMLModel",
          "model_module_version": "1.5.0",
          "state": {
            "_dom_classes": [],
            "_model_module": "@jupyter-widgets/controls",
            "_model_module_version": "1.5.0",
            "_model_name": "HTMLModel",
            "_view_count": null,
            "_view_module": "@jupyter-widgets/controls",
            "_view_module_version": "1.5.0",
            "_view_name": "HTMLView",
            "description": "",
            "description_tooltip": null,
            "layout": "IPY_MODEL_fbc85426af274c8bbe48d697570da207",
            "placeholder": "​",
            "style": "IPY_MODEL_76915fa490dc40c99f32c1030da48d04",
            "value": "Map:   0%"
          }
        },
        "452aeca145b74e3c8d3993402f23496e": {
          "model_module": "@jupyter-widgets/controls",
          "model_name": "FloatProgressModel",
          "model_module_version": "1.5.0",
          "state": {
            "_dom_classes": [],
            "_model_module": "@jupyter-widgets/controls",
            "_model_module_version": "1.5.0",
            "_model_name": "FloatProgressModel",
            "_view_count": null,
            "_view_module": "@jupyter-widgets/controls",
            "_view_module_version": "1.5.0",
            "_view_name": "ProgressView",
            "bar_style": "",
            "description": "",
            "description_tooltip": null,
            "layout": "IPY_MODEL_11d847864ec24c63882e8b015fd030b7",
            "max": 450,
            "min": 0,
            "orientation": "horizontal",
            "style": "IPY_MODEL_5091ec151cfc402285cd391b9bb314a0",
            "value": 450
          }
        },
        "b84945b5cc824e1faa71a505854a309c": {
          "model_module": "@jupyter-widgets/controls",
          "model_name": "HTMLModel",
          "model_module_version": "1.5.0",
          "state": {
            "_dom_classes": [],
            "_model_module": "@jupyter-widgets/controls",
            "_model_module_version": "1.5.0",
            "_model_name": "HTMLModel",
            "_view_count": null,
            "_view_module": "@jupyter-widgets/controls",
            "_view_module_version": "1.5.0",
            "_view_name": "HTMLView",
            "description": "",
            "description_tooltip": null,
            "layout": "IPY_MODEL_5c39c0d3035a4e5bb6454c99240b0bf6",
            "placeholder": "​",
            "style": "IPY_MODEL_2561d5f45bfa4ffab9c123de97e0814c",
            "value": " 0/450 [00:00&lt;?, ? examples/s]"
          }
        },
        "40a1de7edf5247f3bee62c06911e727b": {
          "model_module": "@jupyter-widgets/base",
          "model_name": "LayoutModel",
          "model_module_version": "1.2.0",
          "state": {
            "_model_module": "@jupyter-widgets/base",
            "_model_module_version": "1.2.0",
            "_model_name": "LayoutModel",
            "_view_count": null,
            "_view_module": "@jupyter-widgets/base",
            "_view_module_version": "1.2.0",
            "_view_name": "LayoutView",
            "align_content": null,
            "align_items": null,
            "align_self": null,
            "border": null,
            "bottom": null,
            "display": null,
            "flex": null,
            "flex_flow": null,
            "grid_area": null,
            "grid_auto_columns": null,
            "grid_auto_flow": null,
            "grid_auto_rows": null,
            "grid_column": null,
            "grid_gap": null,
            "grid_row": null,
            "grid_template_areas": null,
            "grid_template_columns": null,
            "grid_template_rows": null,
            "height": null,
            "justify_content": null,
            "justify_items": null,
            "left": null,
            "margin": null,
            "max_height": null,
            "max_width": null,
            "min_height": null,
            "min_width": null,
            "object_fit": null,
            "object_position": null,
            "order": null,
            "overflow": null,
            "overflow_x": null,
            "overflow_y": null,
            "padding": null,
            "right": null,
            "top": null,
            "visibility": "hidden",
            "width": null
          }
        },
        "fbc85426af274c8bbe48d697570da207": {
          "model_module": "@jupyter-widgets/base",
          "model_name": "LayoutModel",
          "model_module_version": "1.2.0",
          "state": {
            "_model_module": "@jupyter-widgets/base",
            "_model_module_version": "1.2.0",
            "_model_name": "LayoutModel",
            "_view_count": null,
            "_view_module": "@jupyter-widgets/base",
            "_view_module_version": "1.2.0",
            "_view_name": "LayoutView",
            "align_content": null,
            "align_items": null,
            "align_self": null,
            "border": null,
            "bottom": null,
            "display": null,
            "flex": null,
            "flex_flow": null,
            "grid_area": null,
            "grid_auto_columns": null,
            "grid_auto_flow": null,
            "grid_auto_rows": null,
            "grid_column": null,
            "grid_gap": null,
            "grid_row": null,
            "grid_template_areas": null,
            "grid_template_columns": null,
            "grid_template_rows": null,
            "height": null,
            "justify_content": null,
            "justify_items": null,
            "left": null,
            "margin": null,
            "max_height": null,
            "max_width": null,
            "min_height": null,
            "min_width": null,
            "object_fit": null,
            "object_position": null,
            "order": null,
            "overflow": null,
            "overflow_x": null,
            "overflow_y": null,
            "padding": null,
            "right": null,
            "top": null,
            "visibility": null,
            "width": null
          }
        },
        "76915fa490dc40c99f32c1030da48d04": {
          "model_module": "@jupyter-widgets/controls",
          "model_name": "DescriptionStyleModel",
          "model_module_version": "1.5.0",
          "state": {
            "_model_module": "@jupyter-widgets/controls",
            "_model_module_version": "1.5.0",
            "_model_name": "DescriptionStyleModel",
            "_view_count": null,
            "_view_module": "@jupyter-widgets/base",
            "_view_module_version": "1.2.0",
            "_view_name": "StyleView",
            "description_width": ""
          }
        },
        "11d847864ec24c63882e8b015fd030b7": {
          "model_module": "@jupyter-widgets/base",
          "model_name": "LayoutModel",
          "model_module_version": "1.2.0",
          "state": {
            "_model_module": "@jupyter-widgets/base",
            "_model_module_version": "1.2.0",
            "_model_name": "LayoutModel",
            "_view_count": null,
            "_view_module": "@jupyter-widgets/base",
            "_view_module_version": "1.2.0",
            "_view_name": "LayoutView",
            "align_content": null,
            "align_items": null,
            "align_self": null,
            "border": null,
            "bottom": null,
            "display": null,
            "flex": null,
            "flex_flow": null,
            "grid_area": null,
            "grid_auto_columns": null,
            "grid_auto_flow": null,
            "grid_auto_rows": null,
            "grid_column": null,
            "grid_gap": null,
            "grid_row": null,
            "grid_template_areas": null,
            "grid_template_columns": null,
            "grid_template_rows": null,
            "height": null,
            "justify_content": null,
            "justify_items": null,
            "left": null,
            "margin": null,
            "max_height": null,
            "max_width": null,
            "min_height": null,
            "min_width": null,
            "object_fit": null,
            "object_position": null,
            "order": null,
            "overflow": null,
            "overflow_x": null,
            "overflow_y": null,
            "padding": null,
            "right": null,
            "top": null,
            "visibility": null,
            "width": null
          }
        },
        "5091ec151cfc402285cd391b9bb314a0": {
          "model_module": "@jupyter-widgets/controls",
          "model_name": "ProgressStyleModel",
          "model_module_version": "1.5.0",
          "state": {
            "_model_module": "@jupyter-widgets/controls",
            "_model_module_version": "1.5.0",
            "_model_name": "ProgressStyleModel",
            "_view_count": null,
            "_view_module": "@jupyter-widgets/base",
            "_view_module_version": "1.2.0",
            "_view_name": "StyleView",
            "bar_color": null,
            "description_width": ""
          }
        },
        "5c39c0d3035a4e5bb6454c99240b0bf6": {
          "model_module": "@jupyter-widgets/base",
          "model_name": "LayoutModel",
          "model_module_version": "1.2.0",
          "state": {
            "_model_module": "@jupyter-widgets/base",
            "_model_module_version": "1.2.0",
            "_model_name": "LayoutModel",
            "_view_count": null,
            "_view_module": "@jupyter-widgets/base",
            "_view_module_version": "1.2.0",
            "_view_name": "LayoutView",
            "align_content": null,
            "align_items": null,
            "align_self": null,
            "border": null,
            "bottom": null,
            "display": null,
            "flex": null,
            "flex_flow": null,
            "grid_area": null,
            "grid_auto_columns": null,
            "grid_auto_flow": null,
            "grid_auto_rows": null,
            "grid_column": null,
            "grid_gap": null,
            "grid_row": null,
            "grid_template_areas": null,
            "grid_template_columns": null,
            "grid_template_rows": null,
            "height": null,
            "justify_content": null,
            "justify_items": null,
            "left": null,
            "margin": null,
            "max_height": null,
            "max_width": null,
            "min_height": null,
            "min_width": null,
            "object_fit": null,
            "object_position": null,
            "order": null,
            "overflow": null,
            "overflow_x": null,
            "overflow_y": null,
            "padding": null,
            "right": null,
            "top": null,
            "visibility": null,
            "width": null
          }
        },
        "2561d5f45bfa4ffab9c123de97e0814c": {
          "model_module": "@jupyter-widgets/controls",
          "model_name": "DescriptionStyleModel",
          "model_module_version": "1.5.0",
          "state": {
            "_model_module": "@jupyter-widgets/controls",
            "_model_module_version": "1.5.0",
            "_model_name": "DescriptionStyleModel",
            "_view_count": null,
            "_view_module": "@jupyter-widgets/base",
            "_view_module_version": "1.2.0",
            "_view_name": "StyleView",
            "description_width": ""
          }
        },
        "1305e8c751ec44adb2554cd0fe32d01d": {
          "model_module": "@jupyter-widgets/controls",
          "model_name": "HBoxModel",
          "model_module_version": "1.5.0",
          "state": {
            "_dom_classes": [],
            "_model_module": "@jupyter-widgets/controls",
            "_model_module_version": "1.5.0",
            "_model_name": "HBoxModel",
            "_view_count": null,
            "_view_module": "@jupyter-widgets/controls",
            "_view_module_version": "1.5.0",
            "_view_name": "HBoxView",
            "box_style": "",
            "children": [
              "IPY_MODEL_54ebbe7c35944eb79ab9425c0b33b328",
              "IPY_MODEL_f289ba8a40884a45a524b31a1e088daa",
              "IPY_MODEL_b8a3a7a366e64c37ac04795242bc442b"
            ],
            "layout": "IPY_MODEL_97243c750f874b4baa5069e74e978d77"
          }
        },
        "54ebbe7c35944eb79ab9425c0b33b328": {
          "model_module": "@jupyter-widgets/controls",
          "model_name": "HTMLModel",
          "model_module_version": "1.5.0",
          "state": {
            "_dom_classes": [],
            "_model_module": "@jupyter-widgets/controls",
            "_model_module_version": "1.5.0",
            "_model_name": "HTMLModel",
            "_view_count": null,
            "_view_module": "@jupyter-widgets/controls",
            "_view_module_version": "1.5.0",
            "_view_name": "HTMLView",
            "description": "",
            "description_tooltip": null,
            "layout": "IPY_MODEL_3b1389a87997419dbe1af177b42f1bb0",
            "placeholder": "​",
            "style": "IPY_MODEL_c817a353f0d442519d5fc8abd044af66",
            "value": ""
          }
        },
        "f289ba8a40884a45a524b31a1e088daa": {
          "model_module": "@jupyter-widgets/controls",
          "model_name": "FloatProgressModel",
          "model_module_version": "1.5.0",
          "state": {
            "_dom_classes": [],
            "_model_module": "@jupyter-widgets/controls",
            "_model_module_version": "1.5.0",
            "_model_name": "FloatProgressModel",
            "_view_count": null,
            "_view_module": "@jupyter-widgets/controls",
            "_view_module_version": "1.5.0",
            "_view_name": "ProgressView",
            "bar_style": "success",
            "description": "",
            "description_tooltip": null,
            "layout": "IPY_MODEL_2fe34569e0ac4f7e8cac183deb2e00ff",
            "max": 1,
            "min": 0,
            "orientation": "horizontal",
            "style": "IPY_MODEL_5491c6a876c3448285408c29dd6f4fef",
            "value": 1
          }
        },
        "b8a3a7a366e64c37ac04795242bc442b": {
          "model_module": "@jupyter-widgets/controls",
          "model_name": "HTMLModel",
          "model_module_version": "1.5.0",
          "state": {
            "_dom_classes": [],
            "_model_module": "@jupyter-widgets/controls",
            "_model_module_version": "1.5.0",
            "_model_name": "HTMLModel",
            "_view_count": null,
            "_view_module": "@jupyter-widgets/controls",
            "_view_module_version": "1.5.0",
            "_view_name": "HTMLView",
            "description": "",
            "description_tooltip": null,
            "layout": "IPY_MODEL_93e9b55dd1ba4e4ba393d730589c73bf",
            "placeholder": "​",
            "style": "IPY_MODEL_1c6ccbdb48de4821989ce179ba78683a",
            "value": " 113/? [00:02&lt;00:00, 71.25it/s]"
          }
        },
        "97243c750f874b4baa5069e74e978d77": {
          "model_module": "@jupyter-widgets/base",
          "model_name": "LayoutModel",
          "model_module_version": "1.2.0",
          "state": {
            "_model_module": "@jupyter-widgets/base",
            "_model_module_version": "1.2.0",
            "_model_name": "LayoutModel",
            "_view_count": null,
            "_view_module": "@jupyter-widgets/base",
            "_view_module_version": "1.2.0",
            "_view_name": "LayoutView",
            "align_content": null,
            "align_items": null,
            "align_self": null,
            "border": null,
            "bottom": null,
            "display": null,
            "flex": null,
            "flex_flow": null,
            "grid_area": null,
            "grid_auto_columns": null,
            "grid_auto_flow": null,
            "grid_auto_rows": null,
            "grid_column": null,
            "grid_gap": null,
            "grid_row": null,
            "grid_template_areas": null,
            "grid_template_columns": null,
            "grid_template_rows": null,
            "height": null,
            "justify_content": null,
            "justify_items": null,
            "left": null,
            "margin": null,
            "max_height": null,
            "max_width": null,
            "min_height": null,
            "min_width": null,
            "object_fit": null,
            "object_position": null,
            "order": null,
            "overflow": null,
            "overflow_x": null,
            "overflow_y": null,
            "padding": null,
            "right": null,
            "top": null,
            "visibility": null,
            "width": null
          }
        },
        "3b1389a87997419dbe1af177b42f1bb0": {
          "model_module": "@jupyter-widgets/base",
          "model_name": "LayoutModel",
          "model_module_version": "1.2.0",
          "state": {
            "_model_module": "@jupyter-widgets/base",
            "_model_module_version": "1.2.0",
            "_model_name": "LayoutModel",
            "_view_count": null,
            "_view_module": "@jupyter-widgets/base",
            "_view_module_version": "1.2.0",
            "_view_name": "LayoutView",
            "align_content": null,
            "align_items": null,
            "align_self": null,
            "border": null,
            "bottom": null,
            "display": null,
            "flex": null,
            "flex_flow": null,
            "grid_area": null,
            "grid_auto_columns": null,
            "grid_auto_flow": null,
            "grid_auto_rows": null,
            "grid_column": null,
            "grid_gap": null,
            "grid_row": null,
            "grid_template_areas": null,
            "grid_template_columns": null,
            "grid_template_rows": null,
            "height": null,
            "justify_content": null,
            "justify_items": null,
            "left": null,
            "margin": null,
            "max_height": null,
            "max_width": null,
            "min_height": null,
            "min_width": null,
            "object_fit": null,
            "object_position": null,
            "order": null,
            "overflow": null,
            "overflow_x": null,
            "overflow_y": null,
            "padding": null,
            "right": null,
            "top": null,
            "visibility": null,
            "width": null
          }
        },
        "c817a353f0d442519d5fc8abd044af66": {
          "model_module": "@jupyter-widgets/controls",
          "model_name": "DescriptionStyleModel",
          "model_module_version": "1.5.0",
          "state": {
            "_model_module": "@jupyter-widgets/controls",
            "_model_module_version": "1.5.0",
            "_model_name": "DescriptionStyleModel",
            "_view_count": null,
            "_view_module": "@jupyter-widgets/base",
            "_view_module_version": "1.2.0",
            "_view_name": "StyleView",
            "description_width": ""
          }
        },
        "2fe34569e0ac4f7e8cac183deb2e00ff": {
          "model_module": "@jupyter-widgets/base",
          "model_name": "LayoutModel",
          "model_module_version": "1.2.0",
          "state": {
            "_model_module": "@jupyter-widgets/base",
            "_model_module_version": "1.2.0",
            "_model_name": "LayoutModel",
            "_view_count": null,
            "_view_module": "@jupyter-widgets/base",
            "_view_module_version": "1.2.0",
            "_view_name": "LayoutView",
            "align_content": null,
            "align_items": null,
            "align_self": null,
            "border": null,
            "bottom": null,
            "display": null,
            "flex": null,
            "flex_flow": null,
            "grid_area": null,
            "grid_auto_columns": null,
            "grid_auto_flow": null,
            "grid_auto_rows": null,
            "grid_column": null,
            "grid_gap": null,
            "grid_row": null,
            "grid_template_areas": null,
            "grid_template_columns": null,
            "grid_template_rows": null,
            "height": null,
            "justify_content": null,
            "justify_items": null,
            "left": null,
            "margin": null,
            "max_height": null,
            "max_width": null,
            "min_height": null,
            "min_width": null,
            "object_fit": null,
            "object_position": null,
            "order": null,
            "overflow": null,
            "overflow_x": null,
            "overflow_y": null,
            "padding": null,
            "right": null,
            "top": null,
            "visibility": null,
            "width": "20px"
          }
        },
        "5491c6a876c3448285408c29dd6f4fef": {
          "model_module": "@jupyter-widgets/controls",
          "model_name": "ProgressStyleModel",
          "model_module_version": "1.5.0",
          "state": {
            "_model_module": "@jupyter-widgets/controls",
            "_model_module_version": "1.5.0",
            "_model_name": "ProgressStyleModel",
            "_view_count": null,
            "_view_module": "@jupyter-widgets/base",
            "_view_module_version": "1.2.0",
            "_view_name": "StyleView",
            "bar_color": null,
            "description_width": ""
          }
        },
        "93e9b55dd1ba4e4ba393d730589c73bf": {
          "model_module": "@jupyter-widgets/base",
          "model_name": "LayoutModel",
          "model_module_version": "1.2.0",
          "state": {
            "_model_module": "@jupyter-widgets/base",
            "_model_module_version": "1.2.0",
            "_model_name": "LayoutModel",
            "_view_count": null,
            "_view_module": "@jupyter-widgets/base",
            "_view_module_version": "1.2.0",
            "_view_name": "LayoutView",
            "align_content": null,
            "align_items": null,
            "align_self": null,
            "border": null,
            "bottom": null,
            "display": null,
            "flex": null,
            "flex_flow": null,
            "grid_area": null,
            "grid_auto_columns": null,
            "grid_auto_flow": null,
            "grid_auto_rows": null,
            "grid_column": null,
            "grid_gap": null,
            "grid_row": null,
            "grid_template_areas": null,
            "grid_template_columns": null,
            "grid_template_rows": null,
            "height": null,
            "justify_content": null,
            "justify_items": null,
            "left": null,
            "margin": null,
            "max_height": null,
            "max_width": null,
            "min_height": null,
            "min_width": null,
            "object_fit": null,
            "object_position": null,
            "order": null,
            "overflow": null,
            "overflow_x": null,
            "overflow_y": null,
            "padding": null,
            "right": null,
            "top": null,
            "visibility": null,
            "width": null
          }
        },
        "1c6ccbdb48de4821989ce179ba78683a": {
          "model_module": "@jupyter-widgets/controls",
          "model_name": "DescriptionStyleModel",
          "model_module_version": "1.5.0",
          "state": {
            "_model_module": "@jupyter-widgets/controls",
            "_model_module_version": "1.5.0",
            "_model_name": "DescriptionStyleModel",
            "_view_count": null,
            "_view_module": "@jupyter-widgets/base",
            "_view_module_version": "1.2.0",
            "_view_name": "StyleView",
            "description_width": ""
          }
        },
        "2a9169d37c0f4443b26ab9a8ddaa4209": {
          "model_module": "@jupyter-widgets/controls",
          "model_name": "HBoxModel",
          "model_module_version": "1.5.0",
          "state": {
            "_dom_classes": [],
            "_model_module": "@jupyter-widgets/controls",
            "_model_module_version": "1.5.0",
            "_model_name": "HBoxModel",
            "_view_count": null,
            "_view_module": "@jupyter-widgets/controls",
            "_view_module_version": "1.5.0",
            "_view_name": "HBoxView",
            "box_style": "",
            "children": [
              "IPY_MODEL_77ea856c899a488f8ceaf19af27d0965",
              "IPY_MODEL_b7d2fcff79024ea4894f6c3d5d26564f",
              "IPY_MODEL_776a05844d8f4880903179d5c4cf91f6"
            ],
            "layout": "IPY_MODEL_8a3ebaf7471d4556a133d14488eaec6b"
          }
        },
        "77ea856c899a488f8ceaf19af27d0965": {
          "model_module": "@jupyter-widgets/controls",
          "model_name": "HTMLModel",
          "model_module_version": "1.5.0",
          "state": {
            "_dom_classes": [],
            "_model_module": "@jupyter-widgets/controls",
            "_model_module_version": "1.5.0",
            "_model_name": "HTMLModel",
            "_view_count": null,
            "_view_module": "@jupyter-widgets/controls",
            "_view_module_version": "1.5.0",
            "_view_name": "HTMLView",
            "description": "",
            "description_tooltip": null,
            "layout": "IPY_MODEL_da8142acd75640c9bbf39514e80464f4",
            "placeholder": "​",
            "style": "IPY_MODEL_1add2ec785344a62bcb7cfc497bde064",
            "value": ""
          }
        },
        "b7d2fcff79024ea4894f6c3d5d26564f": {
          "model_module": "@jupyter-widgets/controls",
          "model_name": "FloatProgressModel",
          "model_module_version": "1.5.0",
          "state": {
            "_dom_classes": [],
            "_model_module": "@jupyter-widgets/controls",
            "_model_module_version": "1.5.0",
            "_model_name": "FloatProgressModel",
            "_view_count": null,
            "_view_module": "@jupyter-widgets/controls",
            "_view_module_version": "1.5.0",
            "_view_name": "ProgressView",
            "bar_style": "success",
            "description": "",
            "description_tooltip": null,
            "layout": "IPY_MODEL_a50e3337495a410f81366ef43f1297ae",
            "max": 1,
            "min": 0,
            "orientation": "horizontal",
            "style": "IPY_MODEL_d80edb32be9d4aee85a36d4cd496072b",
            "value": 1
          }
        },
        "776a05844d8f4880903179d5c4cf91f6": {
          "model_module": "@jupyter-widgets/controls",
          "model_name": "HTMLModel",
          "model_module_version": "1.5.0",
          "state": {
            "_dom_classes": [],
            "_model_module": "@jupyter-widgets/controls",
            "_model_module_version": "1.5.0",
            "_model_name": "HTMLModel",
            "_view_count": null,
            "_view_module": "@jupyter-widgets/controls",
            "_view_module_version": "1.5.0",
            "_view_name": "HTMLView",
            "description": "",
            "description_tooltip": null,
            "layout": "IPY_MODEL_ce88e7429cfe4f468354530008879ee9",
            "placeholder": "​",
            "style": "IPY_MODEL_93ec73d3de3d403185e188ffec79c2a4",
            "value": " 113/? [00:03&lt;00:00, 43.29it/s]"
          }
        },
        "8a3ebaf7471d4556a133d14488eaec6b": {
          "model_module": "@jupyter-widgets/base",
          "model_name": "LayoutModel",
          "model_module_version": "1.2.0",
          "state": {
            "_model_module": "@jupyter-widgets/base",
            "_model_module_version": "1.2.0",
            "_model_name": "LayoutModel",
            "_view_count": null,
            "_view_module": "@jupyter-widgets/base",
            "_view_module_version": "1.2.0",
            "_view_name": "LayoutView",
            "align_content": null,
            "align_items": null,
            "align_self": null,
            "border": null,
            "bottom": null,
            "display": null,
            "flex": null,
            "flex_flow": null,
            "grid_area": null,
            "grid_auto_columns": null,
            "grid_auto_flow": null,
            "grid_auto_rows": null,
            "grid_column": null,
            "grid_gap": null,
            "grid_row": null,
            "grid_template_areas": null,
            "grid_template_columns": null,
            "grid_template_rows": null,
            "height": null,
            "justify_content": null,
            "justify_items": null,
            "left": null,
            "margin": null,
            "max_height": null,
            "max_width": null,
            "min_height": null,
            "min_width": null,
            "object_fit": null,
            "object_position": null,
            "order": null,
            "overflow": null,
            "overflow_x": null,
            "overflow_y": null,
            "padding": null,
            "right": null,
            "top": null,
            "visibility": null,
            "width": null
          }
        },
        "da8142acd75640c9bbf39514e80464f4": {
          "model_module": "@jupyter-widgets/base",
          "model_name": "LayoutModel",
          "model_module_version": "1.2.0",
          "state": {
            "_model_module": "@jupyter-widgets/base",
            "_model_module_version": "1.2.0",
            "_model_name": "LayoutModel",
            "_view_count": null,
            "_view_module": "@jupyter-widgets/base",
            "_view_module_version": "1.2.0",
            "_view_name": "LayoutView",
            "align_content": null,
            "align_items": null,
            "align_self": null,
            "border": null,
            "bottom": null,
            "display": null,
            "flex": null,
            "flex_flow": null,
            "grid_area": null,
            "grid_auto_columns": null,
            "grid_auto_flow": null,
            "grid_auto_rows": null,
            "grid_column": null,
            "grid_gap": null,
            "grid_row": null,
            "grid_template_areas": null,
            "grid_template_columns": null,
            "grid_template_rows": null,
            "height": null,
            "justify_content": null,
            "justify_items": null,
            "left": null,
            "margin": null,
            "max_height": null,
            "max_width": null,
            "min_height": null,
            "min_width": null,
            "object_fit": null,
            "object_position": null,
            "order": null,
            "overflow": null,
            "overflow_x": null,
            "overflow_y": null,
            "padding": null,
            "right": null,
            "top": null,
            "visibility": null,
            "width": null
          }
        },
        "1add2ec785344a62bcb7cfc497bde064": {
          "model_module": "@jupyter-widgets/controls",
          "model_name": "DescriptionStyleModel",
          "model_module_version": "1.5.0",
          "state": {
            "_model_module": "@jupyter-widgets/controls",
            "_model_module_version": "1.5.0",
            "_model_name": "DescriptionStyleModel",
            "_view_count": null,
            "_view_module": "@jupyter-widgets/base",
            "_view_module_version": "1.2.0",
            "_view_name": "StyleView",
            "description_width": ""
          }
        },
        "a50e3337495a410f81366ef43f1297ae": {
          "model_module": "@jupyter-widgets/base",
          "model_name": "LayoutModel",
          "model_module_version": "1.2.0",
          "state": {
            "_model_module": "@jupyter-widgets/base",
            "_model_module_version": "1.2.0",
            "_model_name": "LayoutModel",
            "_view_count": null,
            "_view_module": "@jupyter-widgets/base",
            "_view_module_version": "1.2.0",
            "_view_name": "LayoutView",
            "align_content": null,
            "align_items": null,
            "align_self": null,
            "border": null,
            "bottom": null,
            "display": null,
            "flex": null,
            "flex_flow": null,
            "grid_area": null,
            "grid_auto_columns": null,
            "grid_auto_flow": null,
            "grid_auto_rows": null,
            "grid_column": null,
            "grid_gap": null,
            "grid_row": null,
            "grid_template_areas": null,
            "grid_template_columns": null,
            "grid_template_rows": null,
            "height": null,
            "justify_content": null,
            "justify_items": null,
            "left": null,
            "margin": null,
            "max_height": null,
            "max_width": null,
            "min_height": null,
            "min_width": null,
            "object_fit": null,
            "object_position": null,
            "order": null,
            "overflow": null,
            "overflow_x": null,
            "overflow_y": null,
            "padding": null,
            "right": null,
            "top": null,
            "visibility": null,
            "width": "20px"
          }
        },
        "d80edb32be9d4aee85a36d4cd496072b": {
          "model_module": "@jupyter-widgets/controls",
          "model_name": "ProgressStyleModel",
          "model_module_version": "1.5.0",
          "state": {
            "_model_module": "@jupyter-widgets/controls",
            "_model_module_version": "1.5.0",
            "_model_name": "ProgressStyleModel",
            "_view_count": null,
            "_view_module": "@jupyter-widgets/base",
            "_view_module_version": "1.2.0",
            "_view_name": "StyleView",
            "bar_color": null,
            "description_width": ""
          }
        },
        "ce88e7429cfe4f468354530008879ee9": {
          "model_module": "@jupyter-widgets/base",
          "model_name": "LayoutModel",
          "model_module_version": "1.2.0",
          "state": {
            "_model_module": "@jupyter-widgets/base",
            "_model_module_version": "1.2.0",
            "_model_name": "LayoutModel",
            "_view_count": null,
            "_view_module": "@jupyter-widgets/base",
            "_view_module_version": "1.2.0",
            "_view_name": "LayoutView",
            "align_content": null,
            "align_items": null,
            "align_self": null,
            "border": null,
            "bottom": null,
            "display": null,
            "flex": null,
            "flex_flow": null,
            "grid_area": null,
            "grid_auto_columns": null,
            "grid_auto_flow": null,
            "grid_auto_rows": null,
            "grid_column": null,
            "grid_gap": null,
            "grid_row": null,
            "grid_template_areas": null,
            "grid_template_columns": null,
            "grid_template_rows": null,
            "height": null,
            "justify_content": null,
            "justify_items": null,
            "left": null,
            "margin": null,
            "max_height": null,
            "max_width": null,
            "min_height": null,
            "min_width": null,
            "object_fit": null,
            "object_position": null,
            "order": null,
            "overflow": null,
            "overflow_x": null,
            "overflow_y": null,
            "padding": null,
            "right": null,
            "top": null,
            "visibility": null,
            "width": null
          }
        },
        "93ec73d3de3d403185e188ffec79c2a4": {
          "model_module": "@jupyter-widgets/controls",
          "model_name": "DescriptionStyleModel",
          "model_module_version": "1.5.0",
          "state": {
            "_model_module": "@jupyter-widgets/controls",
            "_model_module_version": "1.5.0",
            "_model_name": "DescriptionStyleModel",
            "_view_count": null,
            "_view_module": "@jupyter-widgets/base",
            "_view_module_version": "1.2.0",
            "_view_name": "StyleView",
            "description_width": ""
          }
        },
        "1727e994f2e9495ca3241516293f2dc5": {
          "model_module": "@jupyter-widgets/controls",
          "model_name": "HBoxModel",
          "model_module_version": "1.5.0",
          "state": {
            "_dom_classes": [],
            "_model_module": "@jupyter-widgets/controls",
            "_model_module_version": "1.5.0",
            "_model_name": "HBoxModel",
            "_view_count": null,
            "_view_module": "@jupyter-widgets/controls",
            "_view_module_version": "1.5.0",
            "_view_name": "HBoxView",
            "box_style": "",
            "children": [
              "IPY_MODEL_4fcb2dae102b42bd8f991bf5e5facbf4",
              "IPY_MODEL_6785d770cc2b4048ad63e67123429186",
              "IPY_MODEL_90868608b7004ad99b9ff7f67f09652d"
            ],
            "layout": "IPY_MODEL_f66e3f29e1c941738919ebb355fd8e78"
          }
        },
        "4fcb2dae102b42bd8f991bf5e5facbf4": {
          "model_module": "@jupyter-widgets/controls",
          "model_name": "HTMLModel",
          "model_module_version": "1.5.0",
          "state": {
            "_dom_classes": [],
            "_model_module": "@jupyter-widgets/controls",
            "_model_module_version": "1.5.0",
            "_model_name": "HTMLModel",
            "_view_count": null,
            "_view_module": "@jupyter-widgets/controls",
            "_view_module_version": "1.5.0",
            "_view_name": "HTMLView",
            "description": "",
            "description_tooltip": null,
            "layout": "IPY_MODEL_2227ed35e117420d90bd373250fa0942",
            "placeholder": "​",
            "style": "IPY_MODEL_2de43a8080704a6fba92c18928f94b60",
            "value": ""
          }
        },
        "6785d770cc2b4048ad63e67123429186": {
          "model_module": "@jupyter-widgets/controls",
          "model_name": "FloatProgressModel",
          "model_module_version": "1.5.0",
          "state": {
            "_dom_classes": [],
            "_model_module": "@jupyter-widgets/controls",
            "_model_module_version": "1.5.0",
            "_model_name": "FloatProgressModel",
            "_view_count": null,
            "_view_module": "@jupyter-widgets/controls",
            "_view_module_version": "1.5.0",
            "_view_name": "ProgressView",
            "bar_style": "success",
            "description": "",
            "description_tooltip": null,
            "layout": "IPY_MODEL_b20bf92fbab64ca2815c35ccf800d88d",
            "max": 1,
            "min": 0,
            "orientation": "horizontal",
            "style": "IPY_MODEL_75c15baa3d854dc8880b77e37f3696e4",
            "value": 1
          }
        },
        "90868608b7004ad99b9ff7f67f09652d": {
          "model_module": "@jupyter-widgets/controls",
          "model_name": "HTMLModel",
          "model_module_version": "1.5.0",
          "state": {
            "_dom_classes": [],
            "_model_module": "@jupyter-widgets/controls",
            "_model_module_version": "1.5.0",
            "_model_name": "HTMLModel",
            "_view_count": null,
            "_view_module": "@jupyter-widgets/controls",
            "_view_module_version": "1.5.0",
            "_view_name": "HTMLView",
            "description": "",
            "description_tooltip": null,
            "layout": "IPY_MODEL_50c75d776c134b22bb46a31346b4527e",
            "placeholder": "​",
            "style": "IPY_MODEL_da57bbc03a4248538469a3f88c901e0d",
            "value": " 113/? [00:01&lt;00:00, 73.59it/s]"
          }
        },
        "f66e3f29e1c941738919ebb355fd8e78": {
          "model_module": "@jupyter-widgets/base",
          "model_name": "LayoutModel",
          "model_module_version": "1.2.0",
          "state": {
            "_model_module": "@jupyter-widgets/base",
            "_model_module_version": "1.2.0",
            "_model_name": "LayoutModel",
            "_view_count": null,
            "_view_module": "@jupyter-widgets/base",
            "_view_module_version": "1.2.0",
            "_view_name": "LayoutView",
            "align_content": null,
            "align_items": null,
            "align_self": null,
            "border": null,
            "bottom": null,
            "display": null,
            "flex": null,
            "flex_flow": null,
            "grid_area": null,
            "grid_auto_columns": null,
            "grid_auto_flow": null,
            "grid_auto_rows": null,
            "grid_column": null,
            "grid_gap": null,
            "grid_row": null,
            "grid_template_areas": null,
            "grid_template_columns": null,
            "grid_template_rows": null,
            "height": null,
            "justify_content": null,
            "justify_items": null,
            "left": null,
            "margin": null,
            "max_height": null,
            "max_width": null,
            "min_height": null,
            "min_width": null,
            "object_fit": null,
            "object_position": null,
            "order": null,
            "overflow": null,
            "overflow_x": null,
            "overflow_y": null,
            "padding": null,
            "right": null,
            "top": null,
            "visibility": null,
            "width": null
          }
        },
        "2227ed35e117420d90bd373250fa0942": {
          "model_module": "@jupyter-widgets/base",
          "model_name": "LayoutModel",
          "model_module_version": "1.2.0",
          "state": {
            "_model_module": "@jupyter-widgets/base",
            "_model_module_version": "1.2.0",
            "_model_name": "LayoutModel",
            "_view_count": null,
            "_view_module": "@jupyter-widgets/base",
            "_view_module_version": "1.2.0",
            "_view_name": "LayoutView",
            "align_content": null,
            "align_items": null,
            "align_self": null,
            "border": null,
            "bottom": null,
            "display": null,
            "flex": null,
            "flex_flow": null,
            "grid_area": null,
            "grid_auto_columns": null,
            "grid_auto_flow": null,
            "grid_auto_rows": null,
            "grid_column": null,
            "grid_gap": null,
            "grid_row": null,
            "grid_template_areas": null,
            "grid_template_columns": null,
            "grid_template_rows": null,
            "height": null,
            "justify_content": null,
            "justify_items": null,
            "left": null,
            "margin": null,
            "max_height": null,
            "max_width": null,
            "min_height": null,
            "min_width": null,
            "object_fit": null,
            "object_position": null,
            "order": null,
            "overflow": null,
            "overflow_x": null,
            "overflow_y": null,
            "padding": null,
            "right": null,
            "top": null,
            "visibility": null,
            "width": null
          }
        },
        "2de43a8080704a6fba92c18928f94b60": {
          "model_module": "@jupyter-widgets/controls",
          "model_name": "DescriptionStyleModel",
          "model_module_version": "1.5.0",
          "state": {
            "_model_module": "@jupyter-widgets/controls",
            "_model_module_version": "1.5.0",
            "_model_name": "DescriptionStyleModel",
            "_view_count": null,
            "_view_module": "@jupyter-widgets/base",
            "_view_module_version": "1.2.0",
            "_view_name": "StyleView",
            "description_width": ""
          }
        },
        "b20bf92fbab64ca2815c35ccf800d88d": {
          "model_module": "@jupyter-widgets/base",
          "model_name": "LayoutModel",
          "model_module_version": "1.2.0",
          "state": {
            "_model_module": "@jupyter-widgets/base",
            "_model_module_version": "1.2.0",
            "_model_name": "LayoutModel",
            "_view_count": null,
            "_view_module": "@jupyter-widgets/base",
            "_view_module_version": "1.2.0",
            "_view_name": "LayoutView",
            "align_content": null,
            "align_items": null,
            "align_self": null,
            "border": null,
            "bottom": null,
            "display": null,
            "flex": null,
            "flex_flow": null,
            "grid_area": null,
            "grid_auto_columns": null,
            "grid_auto_flow": null,
            "grid_auto_rows": null,
            "grid_column": null,
            "grid_gap": null,
            "grid_row": null,
            "grid_template_areas": null,
            "grid_template_columns": null,
            "grid_template_rows": null,
            "height": null,
            "justify_content": null,
            "justify_items": null,
            "left": null,
            "margin": null,
            "max_height": null,
            "max_width": null,
            "min_height": null,
            "min_width": null,
            "object_fit": null,
            "object_position": null,
            "order": null,
            "overflow": null,
            "overflow_x": null,
            "overflow_y": null,
            "padding": null,
            "right": null,
            "top": null,
            "visibility": null,
            "width": "20px"
          }
        },
        "75c15baa3d854dc8880b77e37f3696e4": {
          "model_module": "@jupyter-widgets/controls",
          "model_name": "ProgressStyleModel",
          "model_module_version": "1.5.0",
          "state": {
            "_model_module": "@jupyter-widgets/controls",
            "_model_module_version": "1.5.0",
            "_model_name": "ProgressStyleModel",
            "_view_count": null,
            "_view_module": "@jupyter-widgets/base",
            "_view_module_version": "1.2.0",
            "_view_name": "StyleView",
            "bar_color": null,
            "description_width": ""
          }
        },
        "50c75d776c134b22bb46a31346b4527e": {
          "model_module": "@jupyter-widgets/base",
          "model_name": "LayoutModel",
          "model_module_version": "1.2.0",
          "state": {
            "_model_module": "@jupyter-widgets/base",
            "_model_module_version": "1.2.0",
            "_model_name": "LayoutModel",
            "_view_count": null,
            "_view_module": "@jupyter-widgets/base",
            "_view_module_version": "1.2.0",
            "_view_name": "LayoutView",
            "align_content": null,
            "align_items": null,
            "align_self": null,
            "border": null,
            "bottom": null,
            "display": null,
            "flex": null,
            "flex_flow": null,
            "grid_area": null,
            "grid_auto_columns": null,
            "grid_auto_flow": null,
            "grid_auto_rows": null,
            "grid_column": null,
            "grid_gap": null,
            "grid_row": null,
            "grid_template_areas": null,
            "grid_template_columns": null,
            "grid_template_rows": null,
            "height": null,
            "justify_content": null,
            "justify_items": null,
            "left": null,
            "margin": null,
            "max_height": null,
            "max_width": null,
            "min_height": null,
            "min_width": null,
            "object_fit": null,
            "object_position": null,
            "order": null,
            "overflow": null,
            "overflow_x": null,
            "overflow_y": null,
            "padding": null,
            "right": null,
            "top": null,
            "visibility": null,
            "width": null
          }
        },
        "da57bbc03a4248538469a3f88c901e0d": {
          "model_module": "@jupyter-widgets/controls",
          "model_name": "DescriptionStyleModel",
          "model_module_version": "1.5.0",
          "state": {
            "_model_module": "@jupyter-widgets/controls",
            "_model_module_version": "1.5.0",
            "_model_name": "DescriptionStyleModel",
            "_view_count": null,
            "_view_module": "@jupyter-widgets/base",
            "_view_module_version": "1.2.0",
            "_view_name": "StyleView",
            "description_width": ""
          }
        },
        "a4c4b5351cbd40dd97842c34112b6170": {
          "model_module": "@jupyter-widgets/controls",
          "model_name": "HBoxModel",
          "model_module_version": "1.5.0",
          "state": {
            "_dom_classes": [],
            "_model_module": "@jupyter-widgets/controls",
            "_model_module_version": "1.5.0",
            "_model_name": "HBoxModel",
            "_view_count": null,
            "_view_module": "@jupyter-widgets/controls",
            "_view_module_version": "1.5.0",
            "_view_name": "HBoxView",
            "box_style": "",
            "children": [
              "IPY_MODEL_9b074e36394f4becae3ada43dd1f1f7d",
              "IPY_MODEL_ad010254aa8944ec963f1d1d4f132ac1",
              "IPY_MODEL_027d63b7b1a949208cf008cd103d7eb5"
            ],
            "layout": "IPY_MODEL_5f9bc9df163a4ec0a67a72eb57b26cf1"
          }
        },
        "9b074e36394f4becae3ada43dd1f1f7d": {
          "model_module": "@jupyter-widgets/controls",
          "model_name": "HTMLModel",
          "model_module_version": "1.5.0",
          "state": {
            "_dom_classes": [],
            "_model_module": "@jupyter-widgets/controls",
            "_model_module_version": "1.5.0",
            "_model_name": "HTMLModel",
            "_view_count": null,
            "_view_module": "@jupyter-widgets/controls",
            "_view_module_version": "1.5.0",
            "_view_name": "HTMLView",
            "description": "",
            "description_tooltip": null,
            "layout": "IPY_MODEL_9a8ec115625d41dcaef0a07f5497e844",
            "placeholder": "​",
            "style": "IPY_MODEL_5cb909facfec4b7ea38e36edb8bba9f3",
            "value": ""
          }
        },
        "ad010254aa8944ec963f1d1d4f132ac1": {
          "model_module": "@jupyter-widgets/controls",
          "model_name": "FloatProgressModel",
          "model_module_version": "1.5.0",
          "state": {
            "_dom_classes": [],
            "_model_module": "@jupyter-widgets/controls",
            "_model_module_version": "1.5.0",
            "_model_name": "FloatProgressModel",
            "_view_count": null,
            "_view_module": "@jupyter-widgets/controls",
            "_view_module_version": "1.5.0",
            "_view_name": "ProgressView",
            "bar_style": "success",
            "description": "",
            "description_tooltip": null,
            "layout": "IPY_MODEL_40b3356310d74cf7bd46990d9e20fe1b",
            "max": 1,
            "min": 0,
            "orientation": "horizontal",
            "style": "IPY_MODEL_46b7109efb2b4fd6a40a3d5663d639b1",
            "value": 1
          }
        },
        "027d63b7b1a949208cf008cd103d7eb5": {
          "model_module": "@jupyter-widgets/controls",
          "model_name": "HTMLModel",
          "model_module_version": "1.5.0",
          "state": {
            "_dom_classes": [],
            "_model_module": "@jupyter-widgets/controls",
            "_model_module_version": "1.5.0",
            "_model_name": "HTMLModel",
            "_view_count": null,
            "_view_module": "@jupyter-widgets/controls",
            "_view_module_version": "1.5.0",
            "_view_name": "HTMLView",
            "description": "",
            "description_tooltip": null,
            "layout": "IPY_MODEL_beb909e016af468bb2768bf169c5a92b",
            "placeholder": "​",
            "style": "IPY_MODEL_bc70596c0c284ea68fd7ba97a0c65588",
            "value": " 113/? [00:01&lt;00:00, 72.87it/s]"
          }
        },
        "5f9bc9df163a4ec0a67a72eb57b26cf1": {
          "model_module": "@jupyter-widgets/base",
          "model_name": "LayoutModel",
          "model_module_version": "1.2.0",
          "state": {
            "_model_module": "@jupyter-widgets/base",
            "_model_module_version": "1.2.0",
            "_model_name": "LayoutModel",
            "_view_count": null,
            "_view_module": "@jupyter-widgets/base",
            "_view_module_version": "1.2.0",
            "_view_name": "LayoutView",
            "align_content": null,
            "align_items": null,
            "align_self": null,
            "border": null,
            "bottom": null,
            "display": null,
            "flex": null,
            "flex_flow": null,
            "grid_area": null,
            "grid_auto_columns": null,
            "grid_auto_flow": null,
            "grid_auto_rows": null,
            "grid_column": null,
            "grid_gap": null,
            "grid_row": null,
            "grid_template_areas": null,
            "grid_template_columns": null,
            "grid_template_rows": null,
            "height": null,
            "justify_content": null,
            "justify_items": null,
            "left": null,
            "margin": null,
            "max_height": null,
            "max_width": null,
            "min_height": null,
            "min_width": null,
            "object_fit": null,
            "object_position": null,
            "order": null,
            "overflow": null,
            "overflow_x": null,
            "overflow_y": null,
            "padding": null,
            "right": null,
            "top": null,
            "visibility": null,
            "width": null
          }
        },
        "9a8ec115625d41dcaef0a07f5497e844": {
          "model_module": "@jupyter-widgets/base",
          "model_name": "LayoutModel",
          "model_module_version": "1.2.0",
          "state": {
            "_model_module": "@jupyter-widgets/base",
            "_model_module_version": "1.2.0",
            "_model_name": "LayoutModel",
            "_view_count": null,
            "_view_module": "@jupyter-widgets/base",
            "_view_module_version": "1.2.0",
            "_view_name": "LayoutView",
            "align_content": null,
            "align_items": null,
            "align_self": null,
            "border": null,
            "bottom": null,
            "display": null,
            "flex": null,
            "flex_flow": null,
            "grid_area": null,
            "grid_auto_columns": null,
            "grid_auto_flow": null,
            "grid_auto_rows": null,
            "grid_column": null,
            "grid_gap": null,
            "grid_row": null,
            "grid_template_areas": null,
            "grid_template_columns": null,
            "grid_template_rows": null,
            "height": null,
            "justify_content": null,
            "justify_items": null,
            "left": null,
            "margin": null,
            "max_height": null,
            "max_width": null,
            "min_height": null,
            "min_width": null,
            "object_fit": null,
            "object_position": null,
            "order": null,
            "overflow": null,
            "overflow_x": null,
            "overflow_y": null,
            "padding": null,
            "right": null,
            "top": null,
            "visibility": null,
            "width": null
          }
        },
        "5cb909facfec4b7ea38e36edb8bba9f3": {
          "model_module": "@jupyter-widgets/controls",
          "model_name": "DescriptionStyleModel",
          "model_module_version": "1.5.0",
          "state": {
            "_model_module": "@jupyter-widgets/controls",
            "_model_module_version": "1.5.0",
            "_model_name": "DescriptionStyleModel",
            "_view_count": null,
            "_view_module": "@jupyter-widgets/base",
            "_view_module_version": "1.2.0",
            "_view_name": "StyleView",
            "description_width": ""
          }
        },
        "40b3356310d74cf7bd46990d9e20fe1b": {
          "model_module": "@jupyter-widgets/base",
          "model_name": "LayoutModel",
          "model_module_version": "1.2.0",
          "state": {
            "_model_module": "@jupyter-widgets/base",
            "_model_module_version": "1.2.0",
            "_model_name": "LayoutModel",
            "_view_count": null,
            "_view_module": "@jupyter-widgets/base",
            "_view_module_version": "1.2.0",
            "_view_name": "LayoutView",
            "align_content": null,
            "align_items": null,
            "align_self": null,
            "border": null,
            "bottom": null,
            "display": null,
            "flex": null,
            "flex_flow": null,
            "grid_area": null,
            "grid_auto_columns": null,
            "grid_auto_flow": null,
            "grid_auto_rows": null,
            "grid_column": null,
            "grid_gap": null,
            "grid_row": null,
            "grid_template_areas": null,
            "grid_template_columns": null,
            "grid_template_rows": null,
            "height": null,
            "justify_content": null,
            "justify_items": null,
            "left": null,
            "margin": null,
            "max_height": null,
            "max_width": null,
            "min_height": null,
            "min_width": null,
            "object_fit": null,
            "object_position": null,
            "order": null,
            "overflow": null,
            "overflow_x": null,
            "overflow_y": null,
            "padding": null,
            "right": null,
            "top": null,
            "visibility": null,
            "width": "20px"
          }
        },
        "46b7109efb2b4fd6a40a3d5663d639b1": {
          "model_module": "@jupyter-widgets/controls",
          "model_name": "ProgressStyleModel",
          "model_module_version": "1.5.0",
          "state": {
            "_model_module": "@jupyter-widgets/controls",
            "_model_module_version": "1.5.0",
            "_model_name": "ProgressStyleModel",
            "_view_count": null,
            "_view_module": "@jupyter-widgets/base",
            "_view_module_version": "1.2.0",
            "_view_name": "StyleView",
            "bar_color": null,
            "description_width": ""
          }
        },
        "beb909e016af468bb2768bf169c5a92b": {
          "model_module": "@jupyter-widgets/base",
          "model_name": "LayoutModel",
          "model_module_version": "1.2.0",
          "state": {
            "_model_module": "@jupyter-widgets/base",
            "_model_module_version": "1.2.0",
            "_model_name": "LayoutModel",
            "_view_count": null,
            "_view_module": "@jupyter-widgets/base",
            "_view_module_version": "1.2.0",
            "_view_name": "LayoutView",
            "align_content": null,
            "align_items": null,
            "align_self": null,
            "border": null,
            "bottom": null,
            "display": null,
            "flex": null,
            "flex_flow": null,
            "grid_area": null,
            "grid_auto_columns": null,
            "grid_auto_flow": null,
            "grid_auto_rows": null,
            "grid_column": null,
            "grid_gap": null,
            "grid_row": null,
            "grid_template_areas": null,
            "grid_template_columns": null,
            "grid_template_rows": null,
            "height": null,
            "justify_content": null,
            "justify_items": null,
            "left": null,
            "margin": null,
            "max_height": null,
            "max_width": null,
            "min_height": null,
            "min_width": null,
            "object_fit": null,
            "object_position": null,
            "order": null,
            "overflow": null,
            "overflow_x": null,
            "overflow_y": null,
            "padding": null,
            "right": null,
            "top": null,
            "visibility": null,
            "width": null
          }
        },
        "bc70596c0c284ea68fd7ba97a0c65588": {
          "model_module": "@jupyter-widgets/controls",
          "model_name": "DescriptionStyleModel",
          "model_module_version": "1.5.0",
          "state": {
            "_model_module": "@jupyter-widgets/controls",
            "_model_module_version": "1.5.0",
            "_model_name": "DescriptionStyleModel",
            "_view_count": null,
            "_view_module": "@jupyter-widgets/base",
            "_view_module_version": "1.2.0",
            "_view_name": "StyleView",
            "description_width": ""
          }
        },
        "2d4b3e238ac648b791f358b6550ef25b": {
          "model_module": "@jupyter-widgets/controls",
          "model_name": "HBoxModel",
          "model_module_version": "1.5.0",
          "state": {
            "_dom_classes": [],
            "_model_module": "@jupyter-widgets/controls",
            "_model_module_version": "1.5.0",
            "_model_name": "HBoxModel",
            "_view_count": null,
            "_view_module": "@jupyter-widgets/controls",
            "_view_module_version": "1.5.0",
            "_view_name": "HBoxView",
            "box_style": "",
            "children": [
              "IPY_MODEL_a3bd134b150d45ed8de91a337b6199ef",
              "IPY_MODEL_9dddb5cd81d049b1902ec731a5b7b26f",
              "IPY_MODEL_405cfd58d9fb400b9aac0d844033827f"
            ],
            "layout": "IPY_MODEL_ef6e28a97f784a4ea86946f7c5b5f6bd"
          }
        },
        "a3bd134b150d45ed8de91a337b6199ef": {
          "model_module": "@jupyter-widgets/controls",
          "model_name": "HTMLModel",
          "model_module_version": "1.5.0",
          "state": {
            "_dom_classes": [],
            "_model_module": "@jupyter-widgets/controls",
            "_model_module_version": "1.5.0",
            "_model_name": "HTMLModel",
            "_view_count": null,
            "_view_module": "@jupyter-widgets/controls",
            "_view_module_version": "1.5.0",
            "_view_name": "HTMLView",
            "description": "",
            "description_tooltip": null,
            "layout": "IPY_MODEL_2bb30f7ed26f4c70a0f040b19ccbd7b3",
            "placeholder": "​",
            "style": "IPY_MODEL_d35e6fc4725048ca84a144019d6dbcf7",
            "value": ""
          }
        },
        "9dddb5cd81d049b1902ec731a5b7b26f": {
          "model_module": "@jupyter-widgets/controls",
          "model_name": "FloatProgressModel",
          "model_module_version": "1.5.0",
          "state": {
            "_dom_classes": [],
            "_model_module": "@jupyter-widgets/controls",
            "_model_module_version": "1.5.0",
            "_model_name": "FloatProgressModel",
            "_view_count": null,
            "_view_module": "@jupyter-widgets/controls",
            "_view_module_version": "1.5.0",
            "_view_name": "ProgressView",
            "bar_style": "success",
            "description": "",
            "description_tooltip": null,
            "layout": "IPY_MODEL_4e3c60d1663c41ed90fd62f43d60b6e3",
            "max": 1,
            "min": 0,
            "orientation": "horizontal",
            "style": "IPY_MODEL_465c5f67c4534f48bc5eda9c98af1827",
            "value": 1
          }
        },
        "405cfd58d9fb400b9aac0d844033827f": {
          "model_module": "@jupyter-widgets/controls",
          "model_name": "HTMLModel",
          "model_module_version": "1.5.0",
          "state": {
            "_dom_classes": [],
            "_model_module": "@jupyter-widgets/controls",
            "_model_module_version": "1.5.0",
            "_model_name": "HTMLModel",
            "_view_count": null,
            "_view_module": "@jupyter-widgets/controls",
            "_view_module_version": "1.5.0",
            "_view_name": "HTMLView",
            "description": "",
            "description_tooltip": null,
            "layout": "IPY_MODEL_c30d9f1b1985451cb38ea978a0127254",
            "placeholder": "​",
            "style": "IPY_MODEL_f72381053a524681a03795f493bb8b71",
            "value": " 113/? [00:01&lt;00:00, 73.52it/s]"
          }
        },
        "ef6e28a97f784a4ea86946f7c5b5f6bd": {
          "model_module": "@jupyter-widgets/base",
          "model_name": "LayoutModel",
          "model_module_version": "1.2.0",
          "state": {
            "_model_module": "@jupyter-widgets/base",
            "_model_module_version": "1.2.0",
            "_model_name": "LayoutModel",
            "_view_count": null,
            "_view_module": "@jupyter-widgets/base",
            "_view_module_version": "1.2.0",
            "_view_name": "LayoutView",
            "align_content": null,
            "align_items": null,
            "align_self": null,
            "border": null,
            "bottom": null,
            "display": null,
            "flex": null,
            "flex_flow": null,
            "grid_area": null,
            "grid_auto_columns": null,
            "grid_auto_flow": null,
            "grid_auto_rows": null,
            "grid_column": null,
            "grid_gap": null,
            "grid_row": null,
            "grid_template_areas": null,
            "grid_template_columns": null,
            "grid_template_rows": null,
            "height": null,
            "justify_content": null,
            "justify_items": null,
            "left": null,
            "margin": null,
            "max_height": null,
            "max_width": null,
            "min_height": null,
            "min_width": null,
            "object_fit": null,
            "object_position": null,
            "order": null,
            "overflow": null,
            "overflow_x": null,
            "overflow_y": null,
            "padding": null,
            "right": null,
            "top": null,
            "visibility": null,
            "width": null
          }
        },
        "2bb30f7ed26f4c70a0f040b19ccbd7b3": {
          "model_module": "@jupyter-widgets/base",
          "model_name": "LayoutModel",
          "model_module_version": "1.2.0",
          "state": {
            "_model_module": "@jupyter-widgets/base",
            "_model_module_version": "1.2.0",
            "_model_name": "LayoutModel",
            "_view_count": null,
            "_view_module": "@jupyter-widgets/base",
            "_view_module_version": "1.2.0",
            "_view_name": "LayoutView",
            "align_content": null,
            "align_items": null,
            "align_self": null,
            "border": null,
            "bottom": null,
            "display": null,
            "flex": null,
            "flex_flow": null,
            "grid_area": null,
            "grid_auto_columns": null,
            "grid_auto_flow": null,
            "grid_auto_rows": null,
            "grid_column": null,
            "grid_gap": null,
            "grid_row": null,
            "grid_template_areas": null,
            "grid_template_columns": null,
            "grid_template_rows": null,
            "height": null,
            "justify_content": null,
            "justify_items": null,
            "left": null,
            "margin": null,
            "max_height": null,
            "max_width": null,
            "min_height": null,
            "min_width": null,
            "object_fit": null,
            "object_position": null,
            "order": null,
            "overflow": null,
            "overflow_x": null,
            "overflow_y": null,
            "padding": null,
            "right": null,
            "top": null,
            "visibility": null,
            "width": null
          }
        },
        "d35e6fc4725048ca84a144019d6dbcf7": {
          "model_module": "@jupyter-widgets/controls",
          "model_name": "DescriptionStyleModel",
          "model_module_version": "1.5.0",
          "state": {
            "_model_module": "@jupyter-widgets/controls",
            "_model_module_version": "1.5.0",
            "_model_name": "DescriptionStyleModel",
            "_view_count": null,
            "_view_module": "@jupyter-widgets/base",
            "_view_module_version": "1.2.0",
            "_view_name": "StyleView",
            "description_width": ""
          }
        },
        "4e3c60d1663c41ed90fd62f43d60b6e3": {
          "model_module": "@jupyter-widgets/base",
          "model_name": "LayoutModel",
          "model_module_version": "1.2.0",
          "state": {
            "_model_module": "@jupyter-widgets/base",
            "_model_module_version": "1.2.0",
            "_model_name": "LayoutModel",
            "_view_count": null,
            "_view_module": "@jupyter-widgets/base",
            "_view_module_version": "1.2.0",
            "_view_name": "LayoutView",
            "align_content": null,
            "align_items": null,
            "align_self": null,
            "border": null,
            "bottom": null,
            "display": null,
            "flex": null,
            "flex_flow": null,
            "grid_area": null,
            "grid_auto_columns": null,
            "grid_auto_flow": null,
            "grid_auto_rows": null,
            "grid_column": null,
            "grid_gap": null,
            "grid_row": null,
            "grid_template_areas": null,
            "grid_template_columns": null,
            "grid_template_rows": null,
            "height": null,
            "justify_content": null,
            "justify_items": null,
            "left": null,
            "margin": null,
            "max_height": null,
            "max_width": null,
            "min_height": null,
            "min_width": null,
            "object_fit": null,
            "object_position": null,
            "order": null,
            "overflow": null,
            "overflow_x": null,
            "overflow_y": null,
            "padding": null,
            "right": null,
            "top": null,
            "visibility": null,
            "width": "20px"
          }
        },
        "465c5f67c4534f48bc5eda9c98af1827": {
          "model_module": "@jupyter-widgets/controls",
          "model_name": "ProgressStyleModel",
          "model_module_version": "1.5.0",
          "state": {
            "_model_module": "@jupyter-widgets/controls",
            "_model_module_version": "1.5.0",
            "_model_name": "ProgressStyleModel",
            "_view_count": null,
            "_view_module": "@jupyter-widgets/base",
            "_view_module_version": "1.2.0",
            "_view_name": "StyleView",
            "bar_color": null,
            "description_width": ""
          }
        },
        "c30d9f1b1985451cb38ea978a0127254": {
          "model_module": "@jupyter-widgets/base",
          "model_name": "LayoutModel",
          "model_module_version": "1.2.0",
          "state": {
            "_model_module": "@jupyter-widgets/base",
            "_model_module_version": "1.2.0",
            "_model_name": "LayoutModel",
            "_view_count": null,
            "_view_module": "@jupyter-widgets/base",
            "_view_module_version": "1.2.0",
            "_view_name": "LayoutView",
            "align_content": null,
            "align_items": null,
            "align_self": null,
            "border": null,
            "bottom": null,
            "display": null,
            "flex": null,
            "flex_flow": null,
            "grid_area": null,
            "grid_auto_columns": null,
            "grid_auto_flow": null,
            "grid_auto_rows": null,
            "grid_column": null,
            "grid_gap": null,
            "grid_row": null,
            "grid_template_areas": null,
            "grid_template_columns": null,
            "grid_template_rows": null,
            "height": null,
            "justify_content": null,
            "justify_items": null,
            "left": null,
            "margin": null,
            "max_height": null,
            "max_width": null,
            "min_height": null,
            "min_width": null,
            "object_fit": null,
            "object_position": null,
            "order": null,
            "overflow": null,
            "overflow_x": null,
            "overflow_y": null,
            "padding": null,
            "right": null,
            "top": null,
            "visibility": null,
            "width": null
          }
        },
        "f72381053a524681a03795f493bb8b71": {
          "model_module": "@jupyter-widgets/controls",
          "model_name": "DescriptionStyleModel",
          "model_module_version": "1.5.0",
          "state": {
            "_model_module": "@jupyter-widgets/controls",
            "_model_module_version": "1.5.0",
            "_model_name": "DescriptionStyleModel",
            "_view_count": null,
            "_view_module": "@jupyter-widgets/base",
            "_view_module_version": "1.2.0",
            "_view_name": "StyleView",
            "description_width": ""
          }
        },
        "207bcc5bd4914e71a52cb6dd5d78a5ff": {
          "model_module": "@jupyter-widgets/controls",
          "model_name": "HBoxModel",
          "model_module_version": "1.5.0",
          "state": {
            "_dom_classes": [],
            "_model_module": "@jupyter-widgets/controls",
            "_model_module_version": "1.5.0",
            "_model_name": "HBoxModel",
            "_view_count": null,
            "_view_module": "@jupyter-widgets/controls",
            "_view_module_version": "1.5.0",
            "_view_name": "HBoxView",
            "box_style": "",
            "children": [
              "IPY_MODEL_adf9b06802554fe8aad8c77305dc6f55",
              "IPY_MODEL_66e2b19b497f4ad282ec04bdbfc3326d",
              "IPY_MODEL_3ce67f3d8c5d4ee98591c2170f908042"
            ],
            "layout": "IPY_MODEL_0236414b95f146b491aa6c065be89a4b"
          }
        },
        "adf9b06802554fe8aad8c77305dc6f55": {
          "model_module": "@jupyter-widgets/controls",
          "model_name": "HTMLModel",
          "model_module_version": "1.5.0",
          "state": {
            "_dom_classes": [],
            "_model_module": "@jupyter-widgets/controls",
            "_model_module_version": "1.5.0",
            "_model_name": "HTMLModel",
            "_view_count": null,
            "_view_module": "@jupyter-widgets/controls",
            "_view_module_version": "1.5.0",
            "_view_name": "HTMLView",
            "description": "",
            "description_tooltip": null,
            "layout": "IPY_MODEL_2140e08e82fd4c27baa7153e9bbc7510",
            "placeholder": "​",
            "style": "IPY_MODEL_b80d75788cdf4c668af94a5910a84152",
            "value": ""
          }
        },
        "66e2b19b497f4ad282ec04bdbfc3326d": {
          "model_module": "@jupyter-widgets/controls",
          "model_name": "FloatProgressModel",
          "model_module_version": "1.5.0",
          "state": {
            "_dom_classes": [],
            "_model_module": "@jupyter-widgets/controls",
            "_model_module_version": "1.5.0",
            "_model_name": "FloatProgressModel",
            "_view_count": null,
            "_view_module": "@jupyter-widgets/controls",
            "_view_module_version": "1.5.0",
            "_view_name": "ProgressView",
            "bar_style": "success",
            "description": "",
            "description_tooltip": null,
            "layout": "IPY_MODEL_1ff351305bcb4ccf8d528fe65c302499",
            "max": 1,
            "min": 0,
            "orientation": "horizontal",
            "style": "IPY_MODEL_1516120a8ceb4e549aa979ec34a9fa0d",
            "value": 1
          }
        },
        "3ce67f3d8c5d4ee98591c2170f908042": {
          "model_module": "@jupyter-widgets/controls",
          "model_name": "HTMLModel",
          "model_module_version": "1.5.0",
          "state": {
            "_dom_classes": [],
            "_model_module": "@jupyter-widgets/controls",
            "_model_module_version": "1.5.0",
            "_model_name": "HTMLModel",
            "_view_count": null,
            "_view_module": "@jupyter-widgets/controls",
            "_view_module_version": "1.5.0",
            "_view_name": "HTMLView",
            "description": "",
            "description_tooltip": null,
            "layout": "IPY_MODEL_2f7f85b1d739457094e393449f4f5189",
            "placeholder": "​",
            "style": "IPY_MODEL_4b9c8186696a4922b8e6ff56f6760cf6",
            "value": " 113/? [00:01&lt;00:00, 70.67it/s]"
          }
        },
        "0236414b95f146b491aa6c065be89a4b": {
          "model_module": "@jupyter-widgets/base",
          "model_name": "LayoutModel",
          "model_module_version": "1.2.0",
          "state": {
            "_model_module": "@jupyter-widgets/base",
            "_model_module_version": "1.2.0",
            "_model_name": "LayoutModel",
            "_view_count": null,
            "_view_module": "@jupyter-widgets/base",
            "_view_module_version": "1.2.0",
            "_view_name": "LayoutView",
            "align_content": null,
            "align_items": null,
            "align_self": null,
            "border": null,
            "bottom": null,
            "display": null,
            "flex": null,
            "flex_flow": null,
            "grid_area": null,
            "grid_auto_columns": null,
            "grid_auto_flow": null,
            "grid_auto_rows": null,
            "grid_column": null,
            "grid_gap": null,
            "grid_row": null,
            "grid_template_areas": null,
            "grid_template_columns": null,
            "grid_template_rows": null,
            "height": null,
            "justify_content": null,
            "justify_items": null,
            "left": null,
            "margin": null,
            "max_height": null,
            "max_width": null,
            "min_height": null,
            "min_width": null,
            "object_fit": null,
            "object_position": null,
            "order": null,
            "overflow": null,
            "overflow_x": null,
            "overflow_y": null,
            "padding": null,
            "right": null,
            "top": null,
            "visibility": null,
            "width": null
          }
        },
        "2140e08e82fd4c27baa7153e9bbc7510": {
          "model_module": "@jupyter-widgets/base",
          "model_name": "LayoutModel",
          "model_module_version": "1.2.0",
          "state": {
            "_model_module": "@jupyter-widgets/base",
            "_model_module_version": "1.2.0",
            "_model_name": "LayoutModel",
            "_view_count": null,
            "_view_module": "@jupyter-widgets/base",
            "_view_module_version": "1.2.0",
            "_view_name": "LayoutView",
            "align_content": null,
            "align_items": null,
            "align_self": null,
            "border": null,
            "bottom": null,
            "display": null,
            "flex": null,
            "flex_flow": null,
            "grid_area": null,
            "grid_auto_columns": null,
            "grid_auto_flow": null,
            "grid_auto_rows": null,
            "grid_column": null,
            "grid_gap": null,
            "grid_row": null,
            "grid_template_areas": null,
            "grid_template_columns": null,
            "grid_template_rows": null,
            "height": null,
            "justify_content": null,
            "justify_items": null,
            "left": null,
            "margin": null,
            "max_height": null,
            "max_width": null,
            "min_height": null,
            "min_width": null,
            "object_fit": null,
            "object_position": null,
            "order": null,
            "overflow": null,
            "overflow_x": null,
            "overflow_y": null,
            "padding": null,
            "right": null,
            "top": null,
            "visibility": null,
            "width": null
          }
        },
        "b80d75788cdf4c668af94a5910a84152": {
          "model_module": "@jupyter-widgets/controls",
          "model_name": "DescriptionStyleModel",
          "model_module_version": "1.5.0",
          "state": {
            "_model_module": "@jupyter-widgets/controls",
            "_model_module_version": "1.5.0",
            "_model_name": "DescriptionStyleModel",
            "_view_count": null,
            "_view_module": "@jupyter-widgets/base",
            "_view_module_version": "1.2.0",
            "_view_name": "StyleView",
            "description_width": ""
          }
        },
        "1ff351305bcb4ccf8d528fe65c302499": {
          "model_module": "@jupyter-widgets/base",
          "model_name": "LayoutModel",
          "model_module_version": "1.2.0",
          "state": {
            "_model_module": "@jupyter-widgets/base",
            "_model_module_version": "1.2.0",
            "_model_name": "LayoutModel",
            "_view_count": null,
            "_view_module": "@jupyter-widgets/base",
            "_view_module_version": "1.2.0",
            "_view_name": "LayoutView",
            "align_content": null,
            "align_items": null,
            "align_self": null,
            "border": null,
            "bottom": null,
            "display": null,
            "flex": null,
            "flex_flow": null,
            "grid_area": null,
            "grid_auto_columns": null,
            "grid_auto_flow": null,
            "grid_auto_rows": null,
            "grid_column": null,
            "grid_gap": null,
            "grid_row": null,
            "grid_template_areas": null,
            "grid_template_columns": null,
            "grid_template_rows": null,
            "height": null,
            "justify_content": null,
            "justify_items": null,
            "left": null,
            "margin": null,
            "max_height": null,
            "max_width": null,
            "min_height": null,
            "min_width": null,
            "object_fit": null,
            "object_position": null,
            "order": null,
            "overflow": null,
            "overflow_x": null,
            "overflow_y": null,
            "padding": null,
            "right": null,
            "top": null,
            "visibility": null,
            "width": "20px"
          }
        },
        "1516120a8ceb4e549aa979ec34a9fa0d": {
          "model_module": "@jupyter-widgets/controls",
          "model_name": "ProgressStyleModel",
          "model_module_version": "1.5.0",
          "state": {
            "_model_module": "@jupyter-widgets/controls",
            "_model_module_version": "1.5.0",
            "_model_name": "ProgressStyleModel",
            "_view_count": null,
            "_view_module": "@jupyter-widgets/base",
            "_view_module_version": "1.2.0",
            "_view_name": "StyleView",
            "bar_color": null,
            "description_width": ""
          }
        },
        "2f7f85b1d739457094e393449f4f5189": {
          "model_module": "@jupyter-widgets/base",
          "model_name": "LayoutModel",
          "model_module_version": "1.2.0",
          "state": {
            "_model_module": "@jupyter-widgets/base",
            "_model_module_version": "1.2.0",
            "_model_name": "LayoutModel",
            "_view_count": null,
            "_view_module": "@jupyter-widgets/base",
            "_view_module_version": "1.2.0",
            "_view_name": "LayoutView",
            "align_content": null,
            "align_items": null,
            "align_self": null,
            "border": null,
            "bottom": null,
            "display": null,
            "flex": null,
            "flex_flow": null,
            "grid_area": null,
            "grid_auto_columns": null,
            "grid_auto_flow": null,
            "grid_auto_rows": null,
            "grid_column": null,
            "grid_gap": null,
            "grid_row": null,
            "grid_template_areas": null,
            "grid_template_columns": null,
            "grid_template_rows": null,
            "height": null,
            "justify_content": null,
            "justify_items": null,
            "left": null,
            "margin": null,
            "max_height": null,
            "max_width": null,
            "min_height": null,
            "min_width": null,
            "object_fit": null,
            "object_position": null,
            "order": null,
            "overflow": null,
            "overflow_x": null,
            "overflow_y": null,
            "padding": null,
            "right": null,
            "top": null,
            "visibility": null,
            "width": null
          }
        },
        "4b9c8186696a4922b8e6ff56f6760cf6": {
          "model_module": "@jupyter-widgets/controls",
          "model_name": "DescriptionStyleModel",
          "model_module_version": "1.5.0",
          "state": {
            "_model_module": "@jupyter-widgets/controls",
            "_model_module_version": "1.5.0",
            "_model_name": "DescriptionStyleModel",
            "_view_count": null,
            "_view_module": "@jupyter-widgets/base",
            "_view_module_version": "1.2.0",
            "_view_name": "StyleView",
            "description_width": ""
          }
        },
        "a1f6c8b5f94c43c1a02b2201f0cb7acd": {
          "model_module": "@jupyter-widgets/controls",
          "model_name": "HBoxModel",
          "model_module_version": "1.5.0",
          "state": {
            "_dom_classes": [],
            "_model_module": "@jupyter-widgets/controls",
            "_model_module_version": "1.5.0",
            "_model_name": "HBoxModel",
            "_view_count": null,
            "_view_module": "@jupyter-widgets/controls",
            "_view_module_version": "1.5.0",
            "_view_name": "HBoxView",
            "box_style": "",
            "children": [
              "IPY_MODEL_aac715dd18064eec9a08a7b28e0ffd16",
              "IPY_MODEL_7a018c74d0214e1e897f65e53213230f",
              "IPY_MODEL_059cdffa90374a389e6e33473d01109c"
            ],
            "layout": "IPY_MODEL_78abce9279774356a82a477c40861a71"
          }
        },
        "aac715dd18064eec9a08a7b28e0ffd16": {
          "model_module": "@jupyter-widgets/controls",
          "model_name": "HTMLModel",
          "model_module_version": "1.5.0",
          "state": {
            "_dom_classes": [],
            "_model_module": "@jupyter-widgets/controls",
            "_model_module_version": "1.5.0",
            "_model_name": "HTMLModel",
            "_view_count": null,
            "_view_module": "@jupyter-widgets/controls",
            "_view_module_version": "1.5.0",
            "_view_name": "HTMLView",
            "description": "",
            "description_tooltip": null,
            "layout": "IPY_MODEL_b23de0f61d714f58a6c77dbaf14a4e3d",
            "placeholder": "​",
            "style": "IPY_MODEL_59dbd814ad854954b8e26c2dac3a0337",
            "value": ""
          }
        },
        "7a018c74d0214e1e897f65e53213230f": {
          "model_module": "@jupyter-widgets/controls",
          "model_name": "FloatProgressModel",
          "model_module_version": "1.5.0",
          "state": {
            "_dom_classes": [],
            "_model_module": "@jupyter-widgets/controls",
            "_model_module_version": "1.5.0",
            "_model_name": "FloatProgressModel",
            "_view_count": null,
            "_view_module": "@jupyter-widgets/controls",
            "_view_module_version": "1.5.0",
            "_view_name": "ProgressView",
            "bar_style": "success",
            "description": "",
            "description_tooltip": null,
            "layout": "IPY_MODEL_c5f0963e643d42eba48ca9623c7e1b99",
            "max": 1,
            "min": 0,
            "orientation": "horizontal",
            "style": "IPY_MODEL_11f8b3cfb56b4e42978e8063a83b5196",
            "value": 1
          }
        },
        "059cdffa90374a389e6e33473d01109c": {
          "model_module": "@jupyter-widgets/controls",
          "model_name": "HTMLModel",
          "model_module_version": "1.5.0",
          "state": {
            "_dom_classes": [],
            "_model_module": "@jupyter-widgets/controls",
            "_model_module_version": "1.5.0",
            "_model_name": "HTMLModel",
            "_view_count": null,
            "_view_module": "@jupyter-widgets/controls",
            "_view_module_version": "1.5.0",
            "_view_name": "HTMLView",
            "description": "",
            "description_tooltip": null,
            "layout": "IPY_MODEL_b3201da90809408194ab65e632dbdfc5",
            "placeholder": "​",
            "style": "IPY_MODEL_0a4437f280644ebe90221df1d3375057",
            "value": " 113/? [00:01&lt;00:00, 71.94it/s]"
          }
        },
        "78abce9279774356a82a477c40861a71": {
          "model_module": "@jupyter-widgets/base",
          "model_name": "LayoutModel",
          "model_module_version": "1.2.0",
          "state": {
            "_model_module": "@jupyter-widgets/base",
            "_model_module_version": "1.2.0",
            "_model_name": "LayoutModel",
            "_view_count": null,
            "_view_module": "@jupyter-widgets/base",
            "_view_module_version": "1.2.0",
            "_view_name": "LayoutView",
            "align_content": null,
            "align_items": null,
            "align_self": null,
            "border": null,
            "bottom": null,
            "display": null,
            "flex": null,
            "flex_flow": null,
            "grid_area": null,
            "grid_auto_columns": null,
            "grid_auto_flow": null,
            "grid_auto_rows": null,
            "grid_column": null,
            "grid_gap": null,
            "grid_row": null,
            "grid_template_areas": null,
            "grid_template_columns": null,
            "grid_template_rows": null,
            "height": null,
            "justify_content": null,
            "justify_items": null,
            "left": null,
            "margin": null,
            "max_height": null,
            "max_width": null,
            "min_height": null,
            "min_width": null,
            "object_fit": null,
            "object_position": null,
            "order": null,
            "overflow": null,
            "overflow_x": null,
            "overflow_y": null,
            "padding": null,
            "right": null,
            "top": null,
            "visibility": null,
            "width": null
          }
        },
        "b23de0f61d714f58a6c77dbaf14a4e3d": {
          "model_module": "@jupyter-widgets/base",
          "model_name": "LayoutModel",
          "model_module_version": "1.2.0",
          "state": {
            "_model_module": "@jupyter-widgets/base",
            "_model_module_version": "1.2.0",
            "_model_name": "LayoutModel",
            "_view_count": null,
            "_view_module": "@jupyter-widgets/base",
            "_view_module_version": "1.2.0",
            "_view_name": "LayoutView",
            "align_content": null,
            "align_items": null,
            "align_self": null,
            "border": null,
            "bottom": null,
            "display": null,
            "flex": null,
            "flex_flow": null,
            "grid_area": null,
            "grid_auto_columns": null,
            "grid_auto_flow": null,
            "grid_auto_rows": null,
            "grid_column": null,
            "grid_gap": null,
            "grid_row": null,
            "grid_template_areas": null,
            "grid_template_columns": null,
            "grid_template_rows": null,
            "height": null,
            "justify_content": null,
            "justify_items": null,
            "left": null,
            "margin": null,
            "max_height": null,
            "max_width": null,
            "min_height": null,
            "min_width": null,
            "object_fit": null,
            "object_position": null,
            "order": null,
            "overflow": null,
            "overflow_x": null,
            "overflow_y": null,
            "padding": null,
            "right": null,
            "top": null,
            "visibility": null,
            "width": null
          }
        },
        "59dbd814ad854954b8e26c2dac3a0337": {
          "model_module": "@jupyter-widgets/controls",
          "model_name": "DescriptionStyleModel",
          "model_module_version": "1.5.0",
          "state": {
            "_model_module": "@jupyter-widgets/controls",
            "_model_module_version": "1.5.0",
            "_model_name": "DescriptionStyleModel",
            "_view_count": null,
            "_view_module": "@jupyter-widgets/base",
            "_view_module_version": "1.2.0",
            "_view_name": "StyleView",
            "description_width": ""
          }
        },
        "c5f0963e643d42eba48ca9623c7e1b99": {
          "model_module": "@jupyter-widgets/base",
          "model_name": "LayoutModel",
          "model_module_version": "1.2.0",
          "state": {
            "_model_module": "@jupyter-widgets/base",
            "_model_module_version": "1.2.0",
            "_model_name": "LayoutModel",
            "_view_count": null,
            "_view_module": "@jupyter-widgets/base",
            "_view_module_version": "1.2.0",
            "_view_name": "LayoutView",
            "align_content": null,
            "align_items": null,
            "align_self": null,
            "border": null,
            "bottom": null,
            "display": null,
            "flex": null,
            "flex_flow": null,
            "grid_area": null,
            "grid_auto_columns": null,
            "grid_auto_flow": null,
            "grid_auto_rows": null,
            "grid_column": null,
            "grid_gap": null,
            "grid_row": null,
            "grid_template_areas": null,
            "grid_template_columns": null,
            "grid_template_rows": null,
            "height": null,
            "justify_content": null,
            "justify_items": null,
            "left": null,
            "margin": null,
            "max_height": null,
            "max_width": null,
            "min_height": null,
            "min_width": null,
            "object_fit": null,
            "object_position": null,
            "order": null,
            "overflow": null,
            "overflow_x": null,
            "overflow_y": null,
            "padding": null,
            "right": null,
            "top": null,
            "visibility": null,
            "width": "20px"
          }
        },
        "11f8b3cfb56b4e42978e8063a83b5196": {
          "model_module": "@jupyter-widgets/controls",
          "model_name": "ProgressStyleModel",
          "model_module_version": "1.5.0",
          "state": {
            "_model_module": "@jupyter-widgets/controls",
            "_model_module_version": "1.5.0",
            "_model_name": "ProgressStyleModel",
            "_view_count": null,
            "_view_module": "@jupyter-widgets/base",
            "_view_module_version": "1.2.0",
            "_view_name": "StyleView",
            "bar_color": null,
            "description_width": ""
          }
        },
        "b3201da90809408194ab65e632dbdfc5": {
          "model_module": "@jupyter-widgets/base",
          "model_name": "LayoutModel",
          "model_module_version": "1.2.0",
          "state": {
            "_model_module": "@jupyter-widgets/base",
            "_model_module_version": "1.2.0",
            "_model_name": "LayoutModel",
            "_view_count": null,
            "_view_module": "@jupyter-widgets/base",
            "_view_module_version": "1.2.0",
            "_view_name": "LayoutView",
            "align_content": null,
            "align_items": null,
            "align_self": null,
            "border": null,
            "bottom": null,
            "display": null,
            "flex": null,
            "flex_flow": null,
            "grid_area": null,
            "grid_auto_columns": null,
            "grid_auto_flow": null,
            "grid_auto_rows": null,
            "grid_column": null,
            "grid_gap": null,
            "grid_row": null,
            "grid_template_areas": null,
            "grid_template_columns": null,
            "grid_template_rows": null,
            "height": null,
            "justify_content": null,
            "justify_items": null,
            "left": null,
            "margin": null,
            "max_height": null,
            "max_width": null,
            "min_height": null,
            "min_width": null,
            "object_fit": null,
            "object_position": null,
            "order": null,
            "overflow": null,
            "overflow_x": null,
            "overflow_y": null,
            "padding": null,
            "right": null,
            "top": null,
            "visibility": null,
            "width": null
          }
        },
        "0a4437f280644ebe90221df1d3375057": {
          "model_module": "@jupyter-widgets/controls",
          "model_name": "DescriptionStyleModel",
          "model_module_version": "1.5.0",
          "state": {
            "_model_module": "@jupyter-widgets/controls",
            "_model_module_version": "1.5.0",
            "_model_name": "DescriptionStyleModel",
            "_view_count": null,
            "_view_module": "@jupyter-widgets/base",
            "_view_module_version": "1.2.0",
            "_view_name": "StyleView",
            "description_width": ""
          }
        },
        "206d590f14064aab8a9cf3ee505950e2": {
          "model_module": "@jupyter-widgets/controls",
          "model_name": "HBoxModel",
          "model_module_version": "1.5.0",
          "state": {
            "_dom_classes": [],
            "_model_module": "@jupyter-widgets/controls",
            "_model_module_version": "1.5.0",
            "_model_name": "HBoxModel",
            "_view_count": null,
            "_view_module": "@jupyter-widgets/controls",
            "_view_module_version": "1.5.0",
            "_view_name": "HBoxView",
            "box_style": "",
            "children": [
              "IPY_MODEL_d16905a0ebbc44b985fdf6ecc7491eb6",
              "IPY_MODEL_f8cb153706254e9e9da87b6e20fa229d",
              "IPY_MODEL_cfb8f59ee26d4aa688f0252ada459eac"
            ],
            "layout": "IPY_MODEL_93f35220a638494191412afd82cf1172"
          }
        },
        "d16905a0ebbc44b985fdf6ecc7491eb6": {
          "model_module": "@jupyter-widgets/controls",
          "model_name": "HTMLModel",
          "model_module_version": "1.5.0",
          "state": {
            "_dom_classes": [],
            "_model_module": "@jupyter-widgets/controls",
            "_model_module_version": "1.5.0",
            "_model_name": "HTMLModel",
            "_view_count": null,
            "_view_module": "@jupyter-widgets/controls",
            "_view_module_version": "1.5.0",
            "_view_name": "HTMLView",
            "description": "",
            "description_tooltip": null,
            "layout": "IPY_MODEL_01792045aa094a038759d272e2d55d4f",
            "placeholder": "​",
            "style": "IPY_MODEL_181213c2c38d468cb63e7fb6bf574bb8",
            "value": ""
          }
        },
        "f8cb153706254e9e9da87b6e20fa229d": {
          "model_module": "@jupyter-widgets/controls",
          "model_name": "FloatProgressModel",
          "model_module_version": "1.5.0",
          "state": {
            "_dom_classes": [],
            "_model_module": "@jupyter-widgets/controls",
            "_model_module_version": "1.5.0",
            "_model_name": "FloatProgressModel",
            "_view_count": null,
            "_view_module": "@jupyter-widgets/controls",
            "_view_module_version": "1.5.0",
            "_view_name": "ProgressView",
            "bar_style": "success",
            "description": "",
            "description_tooltip": null,
            "layout": "IPY_MODEL_58cc7e9c1dcd41c9bdcf26b3f20f34ce",
            "max": 1,
            "min": 0,
            "orientation": "horizontal",
            "style": "IPY_MODEL_9dbe995bf6884fa395dca1d137e5faef",
            "value": 1
          }
        },
        "cfb8f59ee26d4aa688f0252ada459eac": {
          "model_module": "@jupyter-widgets/controls",
          "model_name": "HTMLModel",
          "model_module_version": "1.5.0",
          "state": {
            "_dom_classes": [],
            "_model_module": "@jupyter-widgets/controls",
            "_model_module_version": "1.5.0",
            "_model_name": "HTMLModel",
            "_view_count": null,
            "_view_module": "@jupyter-widgets/controls",
            "_view_module_version": "1.5.0",
            "_view_name": "HTMLView",
            "description": "",
            "description_tooltip": null,
            "layout": "IPY_MODEL_ded0123cad9b4d849d216ae416bb927e",
            "placeholder": "​",
            "style": "IPY_MODEL_940ff349249540c887751c1e9d014d66",
            "value": " 113/? [00:01&lt;00:00, 71.40it/s]"
          }
        },
        "93f35220a638494191412afd82cf1172": {
          "model_module": "@jupyter-widgets/base",
          "model_name": "LayoutModel",
          "model_module_version": "1.2.0",
          "state": {
            "_model_module": "@jupyter-widgets/base",
            "_model_module_version": "1.2.0",
            "_model_name": "LayoutModel",
            "_view_count": null,
            "_view_module": "@jupyter-widgets/base",
            "_view_module_version": "1.2.0",
            "_view_name": "LayoutView",
            "align_content": null,
            "align_items": null,
            "align_self": null,
            "border": null,
            "bottom": null,
            "display": null,
            "flex": null,
            "flex_flow": null,
            "grid_area": null,
            "grid_auto_columns": null,
            "grid_auto_flow": null,
            "grid_auto_rows": null,
            "grid_column": null,
            "grid_gap": null,
            "grid_row": null,
            "grid_template_areas": null,
            "grid_template_columns": null,
            "grid_template_rows": null,
            "height": null,
            "justify_content": null,
            "justify_items": null,
            "left": null,
            "margin": null,
            "max_height": null,
            "max_width": null,
            "min_height": null,
            "min_width": null,
            "object_fit": null,
            "object_position": null,
            "order": null,
            "overflow": null,
            "overflow_x": null,
            "overflow_y": null,
            "padding": null,
            "right": null,
            "top": null,
            "visibility": null,
            "width": null
          }
        },
        "01792045aa094a038759d272e2d55d4f": {
          "model_module": "@jupyter-widgets/base",
          "model_name": "LayoutModel",
          "model_module_version": "1.2.0",
          "state": {
            "_model_module": "@jupyter-widgets/base",
            "_model_module_version": "1.2.0",
            "_model_name": "LayoutModel",
            "_view_count": null,
            "_view_module": "@jupyter-widgets/base",
            "_view_module_version": "1.2.0",
            "_view_name": "LayoutView",
            "align_content": null,
            "align_items": null,
            "align_self": null,
            "border": null,
            "bottom": null,
            "display": null,
            "flex": null,
            "flex_flow": null,
            "grid_area": null,
            "grid_auto_columns": null,
            "grid_auto_flow": null,
            "grid_auto_rows": null,
            "grid_column": null,
            "grid_gap": null,
            "grid_row": null,
            "grid_template_areas": null,
            "grid_template_columns": null,
            "grid_template_rows": null,
            "height": null,
            "justify_content": null,
            "justify_items": null,
            "left": null,
            "margin": null,
            "max_height": null,
            "max_width": null,
            "min_height": null,
            "min_width": null,
            "object_fit": null,
            "object_position": null,
            "order": null,
            "overflow": null,
            "overflow_x": null,
            "overflow_y": null,
            "padding": null,
            "right": null,
            "top": null,
            "visibility": null,
            "width": null
          }
        },
        "181213c2c38d468cb63e7fb6bf574bb8": {
          "model_module": "@jupyter-widgets/controls",
          "model_name": "DescriptionStyleModel",
          "model_module_version": "1.5.0",
          "state": {
            "_model_module": "@jupyter-widgets/controls",
            "_model_module_version": "1.5.0",
            "_model_name": "DescriptionStyleModel",
            "_view_count": null,
            "_view_module": "@jupyter-widgets/base",
            "_view_module_version": "1.2.0",
            "_view_name": "StyleView",
            "description_width": ""
          }
        },
        "58cc7e9c1dcd41c9bdcf26b3f20f34ce": {
          "model_module": "@jupyter-widgets/base",
          "model_name": "LayoutModel",
          "model_module_version": "1.2.0",
          "state": {
            "_model_module": "@jupyter-widgets/base",
            "_model_module_version": "1.2.0",
            "_model_name": "LayoutModel",
            "_view_count": null,
            "_view_module": "@jupyter-widgets/base",
            "_view_module_version": "1.2.0",
            "_view_name": "LayoutView",
            "align_content": null,
            "align_items": null,
            "align_self": null,
            "border": null,
            "bottom": null,
            "display": null,
            "flex": null,
            "flex_flow": null,
            "grid_area": null,
            "grid_auto_columns": null,
            "grid_auto_flow": null,
            "grid_auto_rows": null,
            "grid_column": null,
            "grid_gap": null,
            "grid_row": null,
            "grid_template_areas": null,
            "grid_template_columns": null,
            "grid_template_rows": null,
            "height": null,
            "justify_content": null,
            "justify_items": null,
            "left": null,
            "margin": null,
            "max_height": null,
            "max_width": null,
            "min_height": null,
            "min_width": null,
            "object_fit": null,
            "object_position": null,
            "order": null,
            "overflow": null,
            "overflow_x": null,
            "overflow_y": null,
            "padding": null,
            "right": null,
            "top": null,
            "visibility": null,
            "width": "20px"
          }
        },
        "9dbe995bf6884fa395dca1d137e5faef": {
          "model_module": "@jupyter-widgets/controls",
          "model_name": "ProgressStyleModel",
          "model_module_version": "1.5.0",
          "state": {
            "_model_module": "@jupyter-widgets/controls",
            "_model_module_version": "1.5.0",
            "_model_name": "ProgressStyleModel",
            "_view_count": null,
            "_view_module": "@jupyter-widgets/base",
            "_view_module_version": "1.2.0",
            "_view_name": "StyleView",
            "bar_color": null,
            "description_width": ""
          }
        },
        "ded0123cad9b4d849d216ae416bb927e": {
          "model_module": "@jupyter-widgets/base",
          "model_name": "LayoutModel",
          "model_module_version": "1.2.0",
          "state": {
            "_model_module": "@jupyter-widgets/base",
            "_model_module_version": "1.2.0",
            "_model_name": "LayoutModel",
            "_view_count": null,
            "_view_module": "@jupyter-widgets/base",
            "_view_module_version": "1.2.0",
            "_view_name": "LayoutView",
            "align_content": null,
            "align_items": null,
            "align_self": null,
            "border": null,
            "bottom": null,
            "display": null,
            "flex": null,
            "flex_flow": null,
            "grid_area": null,
            "grid_auto_columns": null,
            "grid_auto_flow": null,
            "grid_auto_rows": null,
            "grid_column": null,
            "grid_gap": null,
            "grid_row": null,
            "grid_template_areas": null,
            "grid_template_columns": null,
            "grid_template_rows": null,
            "height": null,
            "justify_content": null,
            "justify_items": null,
            "left": null,
            "margin": null,
            "max_height": null,
            "max_width": null,
            "min_height": null,
            "min_width": null,
            "object_fit": null,
            "object_position": null,
            "order": null,
            "overflow": null,
            "overflow_x": null,
            "overflow_y": null,
            "padding": null,
            "right": null,
            "top": null,
            "visibility": null,
            "width": null
          }
        },
        "940ff349249540c887751c1e9d014d66": {
          "model_module": "@jupyter-widgets/controls",
          "model_name": "DescriptionStyleModel",
          "model_module_version": "1.5.0",
          "state": {
            "_model_module": "@jupyter-widgets/controls",
            "_model_module_version": "1.5.0",
            "_model_name": "DescriptionStyleModel",
            "_view_count": null,
            "_view_module": "@jupyter-widgets/base",
            "_view_module_version": "1.2.0",
            "_view_name": "StyleView",
            "description_width": ""
          }
        },
        "30aa3e842a354b7fb192907378c18cfc": {
          "model_module": "@jupyter-widgets/controls",
          "model_name": "HBoxModel",
          "model_module_version": "1.5.0",
          "state": {
            "_dom_classes": [],
            "_model_module": "@jupyter-widgets/controls",
            "_model_module_version": "1.5.0",
            "_model_name": "HBoxModel",
            "_view_count": null,
            "_view_module": "@jupyter-widgets/controls",
            "_view_module_version": "1.5.0",
            "_view_name": "HBoxView",
            "box_style": "",
            "children": [
              "IPY_MODEL_26bf0a8309f140af9b4b2e700674dbf8",
              "IPY_MODEL_9e46f4f62f754f39b498767e68870d12",
              "IPY_MODEL_f17e51f6f83c4ea1a1cb5a216fcd96ef"
            ],
            "layout": "IPY_MODEL_9d11e6ba36454936b291de99c3a587d0"
          }
        },
        "26bf0a8309f140af9b4b2e700674dbf8": {
          "model_module": "@jupyter-widgets/controls",
          "model_name": "HTMLModel",
          "model_module_version": "1.5.0",
          "state": {
            "_dom_classes": [],
            "_model_module": "@jupyter-widgets/controls",
            "_model_module_version": "1.5.0",
            "_model_name": "HTMLModel",
            "_view_count": null,
            "_view_module": "@jupyter-widgets/controls",
            "_view_module_version": "1.5.0",
            "_view_name": "HTMLView",
            "description": "",
            "description_tooltip": null,
            "layout": "IPY_MODEL_4eac20dcc5e64eb6ab23fffd7ef2df80",
            "placeholder": "​",
            "style": "IPY_MODEL_5b3b21d439094c7785de741232d12fd6",
            "value": ""
          }
        },
        "9e46f4f62f754f39b498767e68870d12": {
          "model_module": "@jupyter-widgets/controls",
          "model_name": "FloatProgressModel",
          "model_module_version": "1.5.0",
          "state": {
            "_dom_classes": [],
            "_model_module": "@jupyter-widgets/controls",
            "_model_module_version": "1.5.0",
            "_model_name": "FloatProgressModel",
            "_view_count": null,
            "_view_module": "@jupyter-widgets/controls",
            "_view_module_version": "1.5.0",
            "_view_name": "ProgressView",
            "bar_style": "success",
            "description": "",
            "description_tooltip": null,
            "layout": "IPY_MODEL_bbbde1d95b7c428d9c509081146c4b79",
            "max": 1,
            "min": 0,
            "orientation": "horizontal",
            "style": "IPY_MODEL_9b1fd8ccc9cc48b8a1d1e9d592e28a4d",
            "value": 1
          }
        },
        "f17e51f6f83c4ea1a1cb5a216fcd96ef": {
          "model_module": "@jupyter-widgets/controls",
          "model_name": "HTMLModel",
          "model_module_version": "1.5.0",
          "state": {
            "_dom_classes": [],
            "_model_module": "@jupyter-widgets/controls",
            "_model_module_version": "1.5.0",
            "_model_name": "HTMLModel",
            "_view_count": null,
            "_view_module": "@jupyter-widgets/controls",
            "_view_module_version": "1.5.0",
            "_view_name": "HTMLView",
            "description": "",
            "description_tooltip": null,
            "layout": "IPY_MODEL_b8a583a335eb4b93b6312bdb99110071",
            "placeholder": "​",
            "style": "IPY_MODEL_a45cd13aff2244bfbb5904167f5400b1",
            "value": " 113/? [00:02&lt;00:00, 51.22it/s]"
          }
        },
        "9d11e6ba36454936b291de99c3a587d0": {
          "model_module": "@jupyter-widgets/base",
          "model_name": "LayoutModel",
          "model_module_version": "1.2.0",
          "state": {
            "_model_module": "@jupyter-widgets/base",
            "_model_module_version": "1.2.0",
            "_model_name": "LayoutModel",
            "_view_count": null,
            "_view_module": "@jupyter-widgets/base",
            "_view_module_version": "1.2.0",
            "_view_name": "LayoutView",
            "align_content": null,
            "align_items": null,
            "align_self": null,
            "border": null,
            "bottom": null,
            "display": null,
            "flex": null,
            "flex_flow": null,
            "grid_area": null,
            "grid_auto_columns": null,
            "grid_auto_flow": null,
            "grid_auto_rows": null,
            "grid_column": null,
            "grid_gap": null,
            "grid_row": null,
            "grid_template_areas": null,
            "grid_template_columns": null,
            "grid_template_rows": null,
            "height": null,
            "justify_content": null,
            "justify_items": null,
            "left": null,
            "margin": null,
            "max_height": null,
            "max_width": null,
            "min_height": null,
            "min_width": null,
            "object_fit": null,
            "object_position": null,
            "order": null,
            "overflow": null,
            "overflow_x": null,
            "overflow_y": null,
            "padding": null,
            "right": null,
            "top": null,
            "visibility": null,
            "width": null
          }
        },
        "4eac20dcc5e64eb6ab23fffd7ef2df80": {
          "model_module": "@jupyter-widgets/base",
          "model_name": "LayoutModel",
          "model_module_version": "1.2.0",
          "state": {
            "_model_module": "@jupyter-widgets/base",
            "_model_module_version": "1.2.0",
            "_model_name": "LayoutModel",
            "_view_count": null,
            "_view_module": "@jupyter-widgets/base",
            "_view_module_version": "1.2.0",
            "_view_name": "LayoutView",
            "align_content": null,
            "align_items": null,
            "align_self": null,
            "border": null,
            "bottom": null,
            "display": null,
            "flex": null,
            "flex_flow": null,
            "grid_area": null,
            "grid_auto_columns": null,
            "grid_auto_flow": null,
            "grid_auto_rows": null,
            "grid_column": null,
            "grid_gap": null,
            "grid_row": null,
            "grid_template_areas": null,
            "grid_template_columns": null,
            "grid_template_rows": null,
            "height": null,
            "justify_content": null,
            "justify_items": null,
            "left": null,
            "margin": null,
            "max_height": null,
            "max_width": null,
            "min_height": null,
            "min_width": null,
            "object_fit": null,
            "object_position": null,
            "order": null,
            "overflow": null,
            "overflow_x": null,
            "overflow_y": null,
            "padding": null,
            "right": null,
            "top": null,
            "visibility": null,
            "width": null
          }
        },
        "5b3b21d439094c7785de741232d12fd6": {
          "model_module": "@jupyter-widgets/controls",
          "model_name": "DescriptionStyleModel",
          "model_module_version": "1.5.0",
          "state": {
            "_model_module": "@jupyter-widgets/controls",
            "_model_module_version": "1.5.0",
            "_model_name": "DescriptionStyleModel",
            "_view_count": null,
            "_view_module": "@jupyter-widgets/base",
            "_view_module_version": "1.2.0",
            "_view_name": "StyleView",
            "description_width": ""
          }
        },
        "bbbde1d95b7c428d9c509081146c4b79": {
          "model_module": "@jupyter-widgets/base",
          "model_name": "LayoutModel",
          "model_module_version": "1.2.0",
          "state": {
            "_model_module": "@jupyter-widgets/base",
            "_model_module_version": "1.2.0",
            "_model_name": "LayoutModel",
            "_view_count": null,
            "_view_module": "@jupyter-widgets/base",
            "_view_module_version": "1.2.0",
            "_view_name": "LayoutView",
            "align_content": null,
            "align_items": null,
            "align_self": null,
            "border": null,
            "bottom": null,
            "display": null,
            "flex": null,
            "flex_flow": null,
            "grid_area": null,
            "grid_auto_columns": null,
            "grid_auto_flow": null,
            "grid_auto_rows": null,
            "grid_column": null,
            "grid_gap": null,
            "grid_row": null,
            "grid_template_areas": null,
            "grid_template_columns": null,
            "grid_template_rows": null,
            "height": null,
            "justify_content": null,
            "justify_items": null,
            "left": null,
            "margin": null,
            "max_height": null,
            "max_width": null,
            "min_height": null,
            "min_width": null,
            "object_fit": null,
            "object_position": null,
            "order": null,
            "overflow": null,
            "overflow_x": null,
            "overflow_y": null,
            "padding": null,
            "right": null,
            "top": null,
            "visibility": null,
            "width": "20px"
          }
        },
        "9b1fd8ccc9cc48b8a1d1e9d592e28a4d": {
          "model_module": "@jupyter-widgets/controls",
          "model_name": "ProgressStyleModel",
          "model_module_version": "1.5.0",
          "state": {
            "_model_module": "@jupyter-widgets/controls",
            "_model_module_version": "1.5.0",
            "_model_name": "ProgressStyleModel",
            "_view_count": null,
            "_view_module": "@jupyter-widgets/base",
            "_view_module_version": "1.2.0",
            "_view_name": "StyleView",
            "bar_color": null,
            "description_width": ""
          }
        },
        "b8a583a335eb4b93b6312bdb99110071": {
          "model_module": "@jupyter-widgets/base",
          "model_name": "LayoutModel",
          "model_module_version": "1.2.0",
          "state": {
            "_model_module": "@jupyter-widgets/base",
            "_model_module_version": "1.2.0",
            "_model_name": "LayoutModel",
            "_view_count": null,
            "_view_module": "@jupyter-widgets/base",
            "_view_module_version": "1.2.0",
            "_view_name": "LayoutView",
            "align_content": null,
            "align_items": null,
            "align_self": null,
            "border": null,
            "bottom": null,
            "display": null,
            "flex": null,
            "flex_flow": null,
            "grid_area": null,
            "grid_auto_columns": null,
            "grid_auto_flow": null,
            "grid_auto_rows": null,
            "grid_column": null,
            "grid_gap": null,
            "grid_row": null,
            "grid_template_areas": null,
            "grid_template_columns": null,
            "grid_template_rows": null,
            "height": null,
            "justify_content": null,
            "justify_items": null,
            "left": null,
            "margin": null,
            "max_height": null,
            "max_width": null,
            "min_height": null,
            "min_width": null,
            "object_fit": null,
            "object_position": null,
            "order": null,
            "overflow": null,
            "overflow_x": null,
            "overflow_y": null,
            "padding": null,
            "right": null,
            "top": null,
            "visibility": null,
            "width": null
          }
        },
        "a45cd13aff2244bfbb5904167f5400b1": {
          "model_module": "@jupyter-widgets/controls",
          "model_name": "DescriptionStyleModel",
          "model_module_version": "1.5.0",
          "state": {
            "_model_module": "@jupyter-widgets/controls",
            "_model_module_version": "1.5.0",
            "_model_name": "DescriptionStyleModel",
            "_view_count": null,
            "_view_module": "@jupyter-widgets/base",
            "_view_module_version": "1.2.0",
            "_view_name": "StyleView",
            "description_width": ""
          }
        },
        "fc60a24db5074ef5b181c66f7710fa01": {
          "model_module": "@jupyter-widgets/controls",
          "model_name": "HBoxModel",
          "model_module_version": "1.5.0",
          "state": {
            "_dom_classes": [],
            "_model_module": "@jupyter-widgets/controls",
            "_model_module_version": "1.5.0",
            "_model_name": "HBoxModel",
            "_view_count": null,
            "_view_module": "@jupyter-widgets/controls",
            "_view_module_version": "1.5.0",
            "_view_name": "HBoxView",
            "box_style": "",
            "children": [
              "IPY_MODEL_4ec9c25067cf447e8f13c6084bcd0dbf",
              "IPY_MODEL_2bd981cdcd63495d9a6858f1a5918be9",
              "IPY_MODEL_9a6845b9303e4ee6bb1548de1adc455e"
            ],
            "layout": "IPY_MODEL_e2e7989f53a348afa18d14a14cb4c7a5"
          }
        },
        "4ec9c25067cf447e8f13c6084bcd0dbf": {
          "model_module": "@jupyter-widgets/controls",
          "model_name": "HTMLModel",
          "model_module_version": "1.5.0",
          "state": {
            "_dom_classes": [],
            "_model_module": "@jupyter-widgets/controls",
            "_model_module_version": "1.5.0",
            "_model_name": "HTMLModel",
            "_view_count": null,
            "_view_module": "@jupyter-widgets/controls",
            "_view_module_version": "1.5.0",
            "_view_name": "HTMLView",
            "description": "",
            "description_tooltip": null,
            "layout": "IPY_MODEL_8c51f57fcce84174a69162b444cce77f",
            "placeholder": "​",
            "style": "IPY_MODEL_fe98abfabf0d4b1097ce0d18e3702c74",
            "value": ""
          }
        },
        "2bd981cdcd63495d9a6858f1a5918be9": {
          "model_module": "@jupyter-widgets/controls",
          "model_name": "FloatProgressModel",
          "model_module_version": "1.5.0",
          "state": {
            "_dom_classes": [],
            "_model_module": "@jupyter-widgets/controls",
            "_model_module_version": "1.5.0",
            "_model_name": "FloatProgressModel",
            "_view_count": null,
            "_view_module": "@jupyter-widgets/controls",
            "_view_module_version": "1.5.0",
            "_view_name": "ProgressView",
            "bar_style": "success",
            "description": "",
            "description_tooltip": null,
            "layout": "IPY_MODEL_64c8bc14ab50401eab11a46527aa2a12",
            "max": 1,
            "min": 0,
            "orientation": "horizontal",
            "style": "IPY_MODEL_42e6e32d1968494d90b2b6ba0665d869",
            "value": 1
          }
        },
        "9a6845b9303e4ee6bb1548de1adc455e": {
          "model_module": "@jupyter-widgets/controls",
          "model_name": "HTMLModel",
          "model_module_version": "1.5.0",
          "state": {
            "_dom_classes": [],
            "_model_module": "@jupyter-widgets/controls",
            "_model_module_version": "1.5.0",
            "_model_name": "HTMLModel",
            "_view_count": null,
            "_view_module": "@jupyter-widgets/controls",
            "_view_module_version": "1.5.0",
            "_view_name": "HTMLView",
            "description": "",
            "description_tooltip": null,
            "layout": "IPY_MODEL_71d3210a944f40209397a293bf2addff",
            "placeholder": "​",
            "style": "IPY_MODEL_889e0ec130fb48758133abea53039784",
            "value": " 113/? [00:01&lt;00:00, 70.80it/s]"
          }
        },
        "e2e7989f53a348afa18d14a14cb4c7a5": {
          "model_module": "@jupyter-widgets/base",
          "model_name": "LayoutModel",
          "model_module_version": "1.2.0",
          "state": {
            "_model_module": "@jupyter-widgets/base",
            "_model_module_version": "1.2.0",
            "_model_name": "LayoutModel",
            "_view_count": null,
            "_view_module": "@jupyter-widgets/base",
            "_view_module_version": "1.2.0",
            "_view_name": "LayoutView",
            "align_content": null,
            "align_items": null,
            "align_self": null,
            "border": null,
            "bottom": null,
            "display": null,
            "flex": null,
            "flex_flow": null,
            "grid_area": null,
            "grid_auto_columns": null,
            "grid_auto_flow": null,
            "grid_auto_rows": null,
            "grid_column": null,
            "grid_gap": null,
            "grid_row": null,
            "grid_template_areas": null,
            "grid_template_columns": null,
            "grid_template_rows": null,
            "height": null,
            "justify_content": null,
            "justify_items": null,
            "left": null,
            "margin": null,
            "max_height": null,
            "max_width": null,
            "min_height": null,
            "min_width": null,
            "object_fit": null,
            "object_position": null,
            "order": null,
            "overflow": null,
            "overflow_x": null,
            "overflow_y": null,
            "padding": null,
            "right": null,
            "top": null,
            "visibility": null,
            "width": null
          }
        },
        "8c51f57fcce84174a69162b444cce77f": {
          "model_module": "@jupyter-widgets/base",
          "model_name": "LayoutModel",
          "model_module_version": "1.2.0",
          "state": {
            "_model_module": "@jupyter-widgets/base",
            "_model_module_version": "1.2.0",
            "_model_name": "LayoutModel",
            "_view_count": null,
            "_view_module": "@jupyter-widgets/base",
            "_view_module_version": "1.2.0",
            "_view_name": "LayoutView",
            "align_content": null,
            "align_items": null,
            "align_self": null,
            "border": null,
            "bottom": null,
            "display": null,
            "flex": null,
            "flex_flow": null,
            "grid_area": null,
            "grid_auto_columns": null,
            "grid_auto_flow": null,
            "grid_auto_rows": null,
            "grid_column": null,
            "grid_gap": null,
            "grid_row": null,
            "grid_template_areas": null,
            "grid_template_columns": null,
            "grid_template_rows": null,
            "height": null,
            "justify_content": null,
            "justify_items": null,
            "left": null,
            "margin": null,
            "max_height": null,
            "max_width": null,
            "min_height": null,
            "min_width": null,
            "object_fit": null,
            "object_position": null,
            "order": null,
            "overflow": null,
            "overflow_x": null,
            "overflow_y": null,
            "padding": null,
            "right": null,
            "top": null,
            "visibility": null,
            "width": null
          }
        },
        "fe98abfabf0d4b1097ce0d18e3702c74": {
          "model_module": "@jupyter-widgets/controls",
          "model_name": "DescriptionStyleModel",
          "model_module_version": "1.5.0",
          "state": {
            "_model_module": "@jupyter-widgets/controls",
            "_model_module_version": "1.5.0",
            "_model_name": "DescriptionStyleModel",
            "_view_count": null,
            "_view_module": "@jupyter-widgets/base",
            "_view_module_version": "1.2.0",
            "_view_name": "StyleView",
            "description_width": ""
          }
        },
        "64c8bc14ab50401eab11a46527aa2a12": {
          "model_module": "@jupyter-widgets/base",
          "model_name": "LayoutModel",
          "model_module_version": "1.2.0",
          "state": {
            "_model_module": "@jupyter-widgets/base",
            "_model_module_version": "1.2.0",
            "_model_name": "LayoutModel",
            "_view_count": null,
            "_view_module": "@jupyter-widgets/base",
            "_view_module_version": "1.2.0",
            "_view_name": "LayoutView",
            "align_content": null,
            "align_items": null,
            "align_self": null,
            "border": null,
            "bottom": null,
            "display": null,
            "flex": null,
            "flex_flow": null,
            "grid_area": null,
            "grid_auto_columns": null,
            "grid_auto_flow": null,
            "grid_auto_rows": null,
            "grid_column": null,
            "grid_gap": null,
            "grid_row": null,
            "grid_template_areas": null,
            "grid_template_columns": null,
            "grid_template_rows": null,
            "height": null,
            "justify_content": null,
            "justify_items": null,
            "left": null,
            "margin": null,
            "max_height": null,
            "max_width": null,
            "min_height": null,
            "min_width": null,
            "object_fit": null,
            "object_position": null,
            "order": null,
            "overflow": null,
            "overflow_x": null,
            "overflow_y": null,
            "padding": null,
            "right": null,
            "top": null,
            "visibility": null,
            "width": "20px"
          }
        },
        "42e6e32d1968494d90b2b6ba0665d869": {
          "model_module": "@jupyter-widgets/controls",
          "model_name": "ProgressStyleModel",
          "model_module_version": "1.5.0",
          "state": {
            "_model_module": "@jupyter-widgets/controls",
            "_model_module_version": "1.5.0",
            "_model_name": "ProgressStyleModel",
            "_view_count": null,
            "_view_module": "@jupyter-widgets/base",
            "_view_module_version": "1.2.0",
            "_view_name": "StyleView",
            "bar_color": null,
            "description_width": ""
          }
        },
        "71d3210a944f40209397a293bf2addff": {
          "model_module": "@jupyter-widgets/base",
          "model_name": "LayoutModel",
          "model_module_version": "1.2.0",
          "state": {
            "_model_module": "@jupyter-widgets/base",
            "_model_module_version": "1.2.0",
            "_model_name": "LayoutModel",
            "_view_count": null,
            "_view_module": "@jupyter-widgets/base",
            "_view_module_version": "1.2.0",
            "_view_name": "LayoutView",
            "align_content": null,
            "align_items": null,
            "align_self": null,
            "border": null,
            "bottom": null,
            "display": null,
            "flex": null,
            "flex_flow": null,
            "grid_area": null,
            "grid_auto_columns": null,
            "grid_auto_flow": null,
            "grid_auto_rows": null,
            "grid_column": null,
            "grid_gap": null,
            "grid_row": null,
            "grid_template_areas": null,
            "grid_template_columns": null,
            "grid_template_rows": null,
            "height": null,
            "justify_content": null,
            "justify_items": null,
            "left": null,
            "margin": null,
            "max_height": null,
            "max_width": null,
            "min_height": null,
            "min_width": null,
            "object_fit": null,
            "object_position": null,
            "order": null,
            "overflow": null,
            "overflow_x": null,
            "overflow_y": null,
            "padding": null,
            "right": null,
            "top": null,
            "visibility": null,
            "width": null
          }
        },
        "889e0ec130fb48758133abea53039784": {
          "model_module": "@jupyter-widgets/controls",
          "model_name": "DescriptionStyleModel",
          "model_module_version": "1.5.0",
          "state": {
            "_model_module": "@jupyter-widgets/controls",
            "_model_module_version": "1.5.0",
            "_model_name": "DescriptionStyleModel",
            "_view_count": null,
            "_view_module": "@jupyter-widgets/base",
            "_view_module_version": "1.2.0",
            "_view_name": "StyleView",
            "description_width": ""
          }
        }
      }
    }
  },
  "cells": [
    {
      "cell_type": "markdown",
      "metadata": {
        "id": "xmk-ceXa7RA-"
      },
      "source": [
        "In this assignment you have to experiment with letter-to-phoneme conversion. This task is an important part of speech technologies including recognition and synthesis.\n",
        "\n",
        "The language is French, but you are not expected to know French to do well in this task.\n",
        "\n",
        "Let's first download the data:"
      ]
    },
    {
      "cell_type": "code",
      "metadata": {
        "id": "KK_vg1J7ix26",
        "colab": {
          "base_uri": "https://localhost:8080/"
        },
        "outputId": "eedf73b3-5962-4461-f82c-4942c7e82a0e"
      },
      "source": [
        "! wget --no-check-certificate https://bark.phon.ioc.ee/tanel/tmp/fre_train.tsv\n",
        "! wget --no-check-certificate https://bark.phon.ioc.ee/tanel/tmp/fre_dev.tsv\n",
        "! wget --no-check-certificate https://bark.phon.ioc.ee/tanel/tmp/fre_test.unlabelled.tsv"
      ],
      "execution_count": null,
      "outputs": [
        {
          "output_type": "stream",
          "name": "stdout",
          "text": [
            "--2023-04-26 08:01:05--  https://bark.phon.ioc.ee/tanel/tmp/fre_train.tsv\n",
            "Resolving bark.phon.ioc.ee (bark.phon.ioc.ee)... 193.40.251.129\n",
            "Connecting to bark.phon.ioc.ee (bark.phon.ioc.ee)|193.40.251.129|:443... connected.\n",
            "HTTP request sent, awaiting response... 200 OK\n",
            "Length: 79465 (78K) [text/tab-separated-values]\n",
            "Saving to: ‘fre_train.tsv’\n",
            "\n",
            "fre_train.tsv       100%[===================>]  77.60K   365KB/s    in 0.2s    \n",
            "\n",
            "2023-04-26 08:01:05 (365 KB/s) - ‘fre_train.tsv’ saved [79465/79465]\n",
            "\n",
            "--2023-04-26 08:01:05--  https://bark.phon.ioc.ee/tanel/tmp/fre_dev.tsv\n",
            "Resolving bark.phon.ioc.ee (bark.phon.ioc.ee)... 193.40.251.129\n",
            "Connecting to bark.phon.ioc.ee (bark.phon.ioc.ee)|193.40.251.129|:443... connected.\n",
            "HTTP request sent, awaiting response... 200 OK\n",
            "Length: 9925 (9.7K) [text/tab-separated-values]\n",
            "Saving to: ‘fre_dev.tsv’\n",
            "\n",
            "fre_dev.tsv         100%[===================>]   9.69K  --.-KB/s    in 0s      \n",
            "\n",
            "2023-04-26 08:01:06 (139 MB/s) - ‘fre_dev.tsv’ saved [9925/9925]\n",
            "\n",
            "--2023-04-26 08:01:06--  https://bark.phon.ioc.ee/tanel/tmp/fre_test.unlabelled.tsv\n",
            "Resolving bark.phon.ioc.ee (bark.phon.ioc.ee)... 193.40.251.129\n",
            "Connecting to bark.phon.ioc.ee (bark.phon.ioc.ee)|193.40.251.129|:443... connected.\n",
            "HTTP request sent, awaiting response... 200 OK\n",
            "Length: 3854 (3.8K) [text/tab-separated-values]\n",
            "Saving to: ‘fre_test.unlabelled.tsv’\n",
            "\n",
            "fre_test.unlabelled 100%[===================>]   3.76K  --.-KB/s    in 0s      \n",
            "\n",
            "2023-04-26 08:01:06 (184 MB/s) - ‘fre_test.unlabelled.tsv’ saved [3854/3854]\n",
            "\n"
          ]
        }
      ]
    },
    {
      "cell_type": "markdown",
      "metadata": {
        "id": "fgxkUnw5bD3k"
      },
      "source": [
        "Let's explore the data:"
      ]
    },
    {
      "cell_type": "code",
      "metadata": {
        "id": "nf1GriE7jnxZ",
        "colab": {
          "base_uri": "https://localhost:8080/"
        },
        "outputId": "5a53dd2d-23a1-48a8-b29b-3bcf1493b43d"
      },
      "source": [
        "!head fre_train.tsv"
      ],
      "execution_count": null,
      "outputs": [
        {
          "output_type": "stream",
          "name": "stdout",
          "text": [
            "abandonner\ta b ɑ̃ d ɔ n e\n",
            "abby\ta b i\n",
            "abidjan\ta b i d ʒ ɑ̃\n",
            "abject\ta b ʒ ɛ k t\n",
            "abolir\ta b ɔ l i ʁ\n",
            "abonnement\ta b ɔ n m ɑ̃\n",
            "abou\ta b u\n",
            "absence\ta p s ɑ̃ s\n",
            "absolument\ta p s ɔ l y m ɑ̃\n",
            "absolus\ta p s ɔ l y\n"
          ]
        }
      ]
    },
    {
      "cell_type": "code",
      "metadata": {
        "id": "ovga5JvO8LE6",
        "colab": {
          "base_uri": "https://localhost:8080/"
        },
        "outputId": "26d0303e-20c1-457d-e2a8-5d678fc6ae62"
      },
      "source": [
        "!head fre_dev.tsv"
      ],
      "execution_count": null,
      "outputs": [
        {
          "output_type": "stream",
          "name": "stdout",
          "text": [
            "absent\ta p s ɑ̃\n",
            "abîme\ta b i m\n",
            "accéder\ta k s e d e\n",
            "accélérer\ta k s e l e ʁ e\n",
            "achat\ta ʃ a\n",
            "action\ta k s j ɔ̃\n",
            "activité\ta k t i v i t e\n",
            "adorner\ta d ɔ ʁ n e\n",
            "agence\ta ʒ ɑ̃ s\n",
            "aile\tɛ l\n"
          ]
        }
      ]
    },
    {
      "cell_type": "code",
      "metadata": {
        "id": "GJmSIwoHmAsJ",
        "colab": {
          "base_uri": "https://localhost:8080/"
        },
        "outputId": "d2fca30d-c8f5-47c2-949b-8f363ca98f67"
      },
      "source": [
        "!head fre_test.unlabelled.tsv"
      ],
      "execution_count": null,
      "outputs": [
        {
          "output_type": "stream",
          "name": "stdout",
          "text": [
            "tandis\n",
            "serres\n",
            "enfer\n",
            "réunion\n",
            "moderne\n",
            "star\n",
            "classique\n",
            "bientôt\n",
            "bouddhiste\n",
            "défaut\n"
          ]
        }
      ]
    },
    {
      "cell_type": "markdown",
      "metadata": {
        "id": "zl8u2CLB8NoA"
      },
      "source": [
        "As you see, the data consists of lines. On each line there is a word and its pronunciation, seperated by TABs. Pronunciation consists of IPA-like symbols, seperated by space. The test data is unlabelled, i.e., the pronunciations are not given.\n",
        "\n",
        "We use the datasets package that is good for handling this kind of data."
      ]
    },
    {
      "cell_type": "code",
      "source": [
        "! pip install datasets"
      ],
      "metadata": {
        "id": "fD60CcyqUE5I",
        "colab": {
          "base_uri": "https://localhost:8080/"
        },
        "outputId": "7263c6b3-3dd1-4a17-cd17-881168277303"
      },
      "execution_count": null,
      "outputs": [
        {
          "output_type": "stream",
          "name": "stdout",
          "text": [
            "Looking in indexes: https://pypi.org/simple, https://us-python.pkg.dev/colab-wheels/public/simple/\n",
            "Collecting datasets\n",
            "  Downloading datasets-2.11.0-py3-none-any.whl (468 kB)\n",
            "\u001b[2K     \u001b[90m━━━━━━━━━━━━━━━━━━━━━━━━━━━━━━━━━━━━━━\u001b[0m \u001b[32m468.7/468.7 kB\u001b[0m \u001b[31m28.3 MB/s\u001b[0m eta \u001b[36m0:00:00\u001b[0m\n",
            "\u001b[?25hRequirement already satisfied: numpy>=1.17 in /usr/local/lib/python3.9/dist-packages (from datasets) (1.22.4)\n",
            "Collecting aiohttp\n",
            "  Downloading aiohttp-3.8.4-cp39-cp39-manylinux_2_17_x86_64.manylinux2014_x86_64.whl (1.0 MB)\n",
            "\u001b[2K     \u001b[90m━━━━━━━━━━━━━━━━━━━━━━━━━━━━━━━━━━━━━━━━\u001b[0m \u001b[32m1.0/1.0 MB\u001b[0m \u001b[31m64.6 MB/s\u001b[0m eta \u001b[36m0:00:00\u001b[0m\n",
            "\u001b[?25hCollecting multiprocess\n",
            "  Downloading multiprocess-0.70.14-py39-none-any.whl (132 kB)\n",
            "\u001b[2K     \u001b[90m━━━━━━━━━━━━━━━━━━━━━━━━━━━━━━━━━━━━━━\u001b[0m \u001b[32m132.9/132.9 kB\u001b[0m \u001b[31m14.9 MB/s\u001b[0m eta \u001b[36m0:00:00\u001b[0m\n",
            "\u001b[?25hRequirement already satisfied: fsspec[http]>=2021.11.1 in /usr/local/lib/python3.9/dist-packages (from datasets) (2023.4.0)\n",
            "Requirement already satisfied: pandas in /usr/local/lib/python3.9/dist-packages (from datasets) (1.5.3)\n",
            "Collecting responses<0.19\n",
            "  Downloading responses-0.18.0-py3-none-any.whl (38 kB)\n",
            "Requirement already satisfied: requests>=2.19.0 in /usr/local/lib/python3.9/dist-packages (from datasets) (2.27.1)\n",
            "Requirement already satisfied: tqdm>=4.62.1 in /usr/local/lib/python3.9/dist-packages (from datasets) (4.65.0)\n",
            "Collecting dill<0.3.7,>=0.3.0\n",
            "  Downloading dill-0.3.6-py3-none-any.whl (110 kB)\n",
            "\u001b[2K     \u001b[90m━━━━━━━━━━━━━━━━━━━━━━━━━━━━━━━━━━━━━━\u001b[0m \u001b[32m110.5/110.5 kB\u001b[0m \u001b[31m13.7 MB/s\u001b[0m eta \u001b[36m0:00:00\u001b[0m\n",
            "\u001b[?25hRequirement already satisfied: pyyaml>=5.1 in /usr/local/lib/python3.9/dist-packages (from datasets) (6.0)\n",
            "Collecting huggingface-hub<1.0.0,>=0.11.0\n",
            "  Downloading huggingface_hub-0.14.1-py3-none-any.whl (224 kB)\n",
            "\u001b[2K     \u001b[90m━━━━━━━━━━━━━━━━━━━━━━━━━━━━━━━━━━━━━━\u001b[0m \u001b[32m224.5/224.5 kB\u001b[0m \u001b[31m25.8 MB/s\u001b[0m eta \u001b[36m0:00:00\u001b[0m\n",
            "\u001b[?25hRequirement already satisfied: pyarrow>=8.0.0 in /usr/local/lib/python3.9/dist-packages (from datasets) (9.0.0)\n",
            "Collecting xxhash\n",
            "  Downloading xxhash-3.2.0-cp39-cp39-manylinux_2_17_x86_64.manylinux2014_x86_64.whl (212 kB)\n",
            "\u001b[2K     \u001b[90m━━━━━━━━━━━━━━━━━━━━━━━━━━━━━━━━━━━━━━\u001b[0m \u001b[32m212.2/212.2 kB\u001b[0m \u001b[31m18.3 MB/s\u001b[0m eta \u001b[36m0:00:00\u001b[0m\n",
            "\u001b[?25hRequirement already satisfied: packaging in /usr/local/lib/python3.9/dist-packages (from datasets) (23.1)\n",
            "Collecting async-timeout<5.0,>=4.0.0a3\n",
            "  Downloading async_timeout-4.0.2-py3-none-any.whl (5.8 kB)\n",
            "Collecting multidict<7.0,>=4.5\n",
            "  Downloading multidict-6.0.4-cp39-cp39-manylinux_2_17_x86_64.manylinux2014_x86_64.whl (114 kB)\n",
            "\u001b[2K     \u001b[90m━━━━━━━━━━━━━━━━━━━━━━━━━━━━━━━━━━━━━━\u001b[0m \u001b[32m114.2/114.2 kB\u001b[0m \u001b[31m13.9 MB/s\u001b[0m eta \u001b[36m0:00:00\u001b[0m\n",
            "\u001b[?25hRequirement already satisfied: attrs>=17.3.0 in /usr/local/lib/python3.9/dist-packages (from aiohttp->datasets) (23.1.0)\n",
            "Collecting frozenlist>=1.1.1\n",
            "  Downloading frozenlist-1.3.3-cp39-cp39-manylinux_2_5_x86_64.manylinux1_x86_64.manylinux_2_17_x86_64.manylinux2014_x86_64.whl (158 kB)\n",
            "\u001b[2K     \u001b[90m━━━━━━━━━━━━━━━━━━━━━━━━━━━━━━━━━━━━━━\u001b[0m \u001b[32m158.8/158.8 kB\u001b[0m \u001b[31m18.0 MB/s\u001b[0m eta \u001b[36m0:00:00\u001b[0m\n",
            "\u001b[?25hCollecting yarl<2.0,>=1.0\n",
            "  Downloading yarl-1.9.2-cp39-cp39-manylinux_2_17_x86_64.manylinux2014_x86_64.whl (269 kB)\n",
            "\u001b[2K     \u001b[90m━━━━━━━━━━━━━━━━━━━━━━━━━━━━━━━━━━━━━━\u001b[0m \u001b[32m269.4/269.4 kB\u001b[0m \u001b[31m26.8 MB/s\u001b[0m eta \u001b[36m0:00:00\u001b[0m\n",
            "\u001b[?25hCollecting aiosignal>=1.1.2\n",
            "  Downloading aiosignal-1.3.1-py3-none-any.whl (7.6 kB)\n",
            "Requirement already satisfied: charset-normalizer<4.0,>=2.0 in /usr/local/lib/python3.9/dist-packages (from aiohttp->datasets) (2.0.12)\n",
            "Requirement already satisfied: typing-extensions>=3.7.4.3 in /usr/local/lib/python3.9/dist-packages (from huggingface-hub<1.0.0,>=0.11.0->datasets) (4.5.0)\n",
            "Requirement already satisfied: filelock in /usr/local/lib/python3.9/dist-packages (from huggingface-hub<1.0.0,>=0.11.0->datasets) (3.11.0)\n",
            "Requirement already satisfied: idna<4,>=2.5 in /usr/local/lib/python3.9/dist-packages (from requests>=2.19.0->datasets) (3.4)\n",
            "Requirement already satisfied: certifi>=2017.4.17 in /usr/local/lib/python3.9/dist-packages (from requests>=2.19.0->datasets) (2022.12.7)\n",
            "Requirement already satisfied: urllib3<1.27,>=1.21.1 in /usr/local/lib/python3.9/dist-packages (from requests>=2.19.0->datasets) (1.26.15)\n",
            "Requirement already satisfied: python-dateutil>=2.8.1 in /usr/local/lib/python3.9/dist-packages (from pandas->datasets) (2.8.2)\n",
            "Requirement already satisfied: pytz>=2020.1 in /usr/local/lib/python3.9/dist-packages (from pandas->datasets) (2022.7.1)\n",
            "Requirement already satisfied: six>=1.5 in /usr/local/lib/python3.9/dist-packages (from python-dateutil>=2.8.1->pandas->datasets) (1.16.0)\n",
            "Installing collected packages: xxhash, multidict, frozenlist, dill, async-timeout, yarl, responses, multiprocess, huggingface-hub, aiosignal, aiohttp, datasets\n",
            "Successfully installed aiohttp-3.8.4 aiosignal-1.3.1 async-timeout-4.0.2 datasets-2.11.0 dill-0.3.6 frozenlist-1.3.3 huggingface-hub-0.14.1 multidict-6.0.4 multiprocess-0.70.14 responses-0.18.0 xxhash-3.2.0 yarl-1.9.2\n"
          ]
        }
      ]
    },
    {
      "cell_type": "code",
      "metadata": {
        "id": "Tig9k3lpjlMu"
      },
      "source": [
        "import torch\n"
      ],
      "execution_count": null,
      "outputs": []
    },
    {
      "cell_type": "code",
      "source": [
        "from datasets import load_dataset\n",
        "# define field names for each column in the CSV files\n",
        "field_names = [\"chars\", \"phonemes\"]\n",
        "# load train, dev and test datasets from CSV files\n",
        "data = load_dataset('csv', data_files={'train': 'fre_train.tsv', 'dev': 'fre_dev.tsv'}, delimiter='\\t', column_names=field_names)\n",
        "\n",
        "test_word_list = [l.strip() for l in open(\"fre_test.unlabelled.tsv\")]\n",
        "\n"
      ],
      "metadata": {
        "colab": {
          "base_uri": "https://localhost:8080/",
          "height": 66,
          "referenced_widgets": [
            "8decc6cf14df4b9db2781d26bec6540b",
            "2e1562178a6a4344b67aa0c335be67f9",
            "15dc3bb2f0e546ca871ba284670d2bcf",
            "2539293828f04401afc93333509f1989",
            "d81f5431eab54fc3b65ff3e18be66a7d",
            "d15f3f9e356c4ec780218aa6495fb311",
            "a6f7972dc5814d98b70ff22dcd44e2b2",
            "a79679f621ec4b4cb0ad6152864e6f22",
            "c3afbbe4bb9a4b0fbe934c32929a1012",
            "2c9f6fc55b89461aa0972b451f745133",
            "e3bd8f71f06b4b9ab6acda8a32c0dae7"
          ]
        },
        "id": "AUFPUM56iJTY",
        "outputId": "4fbb8e49-7ced-42d9-8ef9-2c88d10d74a7"
      },
      "execution_count": null,
      "outputs": [
        {
          "output_type": "stream",
          "name": "stderr",
          "text": [
            "WARNING:datasets.builder:Found cached dataset csv (/root/.cache/huggingface/datasets/csv/default-b52b0e433059ed70/0.0.0/6954658bab30a358235fa864b05cf819af0e179325c740e4bc853bcc7ec513e1)\n"
          ]
        },
        {
          "output_type": "display_data",
          "data": {
            "text/plain": [
              "  0%|          | 0/2 [00:00<?, ?it/s]"
            ],
            "application/vnd.jupyter.widget-view+json": {
              "version_major": 2,
              "version_minor": 0,
              "model_id": "8decc6cf14df4b9db2781d26bec6540b"
            }
          },
          "metadata": {}
        }
      ]
    },
    {
      "cell_type": "code",
      "source": [
        "data"
      ],
      "metadata": {
        "colab": {
          "base_uri": "https://localhost:8080/"
        },
        "id": "CzKqp_gwj2aB",
        "outputId": "ae912113-dfa9-4084-b69f-dcf961c612f6"
      },
      "execution_count": null,
      "outputs": [
        {
          "output_type": "execute_result",
          "data": {
            "text/plain": [
              "DatasetDict({\n",
              "    train: Dataset({\n",
              "        features: ['chars', 'phonemes'],\n",
              "        num_rows: 3600\n",
              "    })\n",
              "    dev: Dataset({\n",
              "        features: ['chars', 'phonemes'],\n",
              "        num_rows: 450\n",
              "    })\n",
              "})"
            ]
          },
          "metadata": {},
          "execution_count": 14
        }
      ]
    },
    {
      "cell_type": "code",
      "source": [
        "data[\"train\"][0][\"phonemes\"]"
      ],
      "metadata": {
        "colab": {
          "base_uri": "https://localhost:8080/",
          "height": 35
        },
        "id": "I_G-XnwRlwCu",
        "outputId": "500c285e-7bcb-4166-e0a6-dfa4a0a6f278"
      },
      "execution_count": null,
      "outputs": [
        {
          "output_type": "execute_result",
          "data": {
            "text/plain": [
              "'a b ɑ̃ d ɔ n e'"
            ],
            "application/vnd.google.colaboratory.intrinsic+json": {
              "type": "string"
            }
          },
          "metadata": {},
          "execution_count": 15
        }
      ]
    },
    {
      "cell_type": "code",
      "source": [
        "# define a function to split both fields to a list of characters\n",
        "def split_chars(example):\n",
        "    example['chars'] = list(example['chars'])\n",
        "    example['phonemes'] = example['phonemes'].split()\n",
        "    return example\n",
        "\n",
        "data = data.map(split_chars, batched=False)    "
      ],
      "metadata": {
        "colab": {
          "base_uri": "https://localhost:8080/",
          "height": 17,
          "referenced_widgets": [
            "65ce1d52e1a9451c9cac871a80ab0a36",
            "1b2b66e079674096bd7216a671922419",
            "f68173c8d39a419db83572653857e41a",
            "03475ceea2b74841a2e2d8aff66d009b",
            "27de5c6639d240a6a41099dae754d711",
            "b04b33769c604fa199fb5527dab1a59e",
            "317b7b616e7c4afca9b0cf20798685e7",
            "1f72860a8c5f4bef84663ee49a8b2d8a",
            "aa5ff23606554b01938f38eb6212a123",
            "311d1f4731e648e2a37e62c72aa005b6",
            "b0cdfb3e054e44b583b29e80c46ca828",
            "d9e12330aec54e2eaf020bd7df147dc8",
            "fb7fb8cbaa994c79bff98bfe6954d59a",
            "452aeca145b74e3c8d3993402f23496e",
            "b84945b5cc824e1faa71a505854a309c",
            "40a1de7edf5247f3bee62c06911e727b",
            "fbc85426af274c8bbe48d697570da207",
            "76915fa490dc40c99f32c1030da48d04",
            "11d847864ec24c63882e8b015fd030b7",
            "5091ec151cfc402285cd391b9bb314a0",
            "5c39c0d3035a4e5bb6454c99240b0bf6",
            "2561d5f45bfa4ffab9c123de97e0814c"
          ]
        },
        "id": "1A90Bqn6ki4k",
        "outputId": "5a0febb6-2188-4ae7-aeba-8621cf859130"
      },
      "execution_count": null,
      "outputs": [
        {
          "output_type": "display_data",
          "data": {
            "text/plain": [
              "Map:   0%|          | 0/3600 [00:00<?, ? examples/s]"
            ],
            "application/vnd.jupyter.widget-view+json": {
              "version_major": 2,
              "version_minor": 0,
              "model_id": "65ce1d52e1a9451c9cac871a80ab0a36"
            }
          },
          "metadata": {}
        },
        {
          "output_type": "display_data",
          "data": {
            "text/plain": [
              "Map:   0%|          | 0/450 [00:00<?, ? examples/s]"
            ],
            "application/vnd.jupyter.widget-view+json": {
              "version_major": 2,
              "version_minor": 0,
              "model_id": "d9e12330aec54e2eaf020bd7df147dc8"
            }
          },
          "metadata": {}
        }
      ]
    },
    {
      "cell_type": "code",
      "metadata": {
        "id": "mxqn_mRKkSBV"
      },
      "source": [
        "train_dataset = data[\"train\"]\n",
        "dev_dataset = data[\"dev\"]\n"
      ],
      "execution_count": null,
      "outputs": []
    },
    {
      "cell_type": "markdown",
      "metadata": {
        "id": "YFAKDzIz8wHh"
      },
      "source": [
        "Let's explore the datasets:"
      ]
    },
    {
      "cell_type": "code",
      "metadata": {
        "id": "PpjKWdxdkW25",
        "colab": {
          "base_uri": "https://localhost:8080/"
        },
        "outputId": "8fc0400d-cd29-4844-f228-a664ef3351af"
      },
      "source": [
        "print(len(train_dataset))\n",
        "print(train_dataset[0][\"chars\"], train_dataset[0][\"phonemes\"])"
      ],
      "execution_count": null,
      "outputs": [
        {
          "output_type": "stream",
          "name": "stdout",
          "text": [
            "3600\n",
            "['a', 'b', 'a', 'n', 'd', 'o', 'n', 'n', 'e', 'r'] ['a', 'b', 'ɑ̃', 'd', 'ɔ', 'n', 'e']\n"
          ]
        }
      ]
    },
    {
      "cell_type": "markdown",
      "source": [
        "Now let's build the char-to-id and phoneme-to-id mappings."
      ],
      "metadata": {
        "id": "bQxHWUPol_5W"
      }
    },
    {
      "cell_type": "code",
      "metadata": {
        "id": "0AJhoJY1k35B"
      },
      "source": [
        "from torchtext.vocab import vocab\n",
        "from torchtext.vocab import build_vocab_from_iterator\n",
        "\n",
        "chars_vocab = build_vocab_from_iterator(train_dataset[\"chars\"], min_freq=1, specials=('<unk>', '<BOS>', '<EOS>', '<PAD>'))\n",
        "phoneme_vocab = build_vocab_from_iterator(train_dataset[\"phonemes\"], min_freq=1, specials=('<unk>', '<BOS>', '<EOS>', '<PAD>'))"
      ],
      "execution_count": null,
      "outputs": []
    },
    {
      "cell_type": "code",
      "source": [
        "chars_vocab.get_itos()"
      ],
      "metadata": {
        "colab": {
          "base_uri": "https://localhost:8080/"
        },
        "id": "923z9o7umS4m",
        "outputId": "bb080423-2d5f-4252-817b-b09866202336"
      },
      "execution_count": null,
      "outputs": [
        {
          "output_type": "execute_result",
          "data": {
            "text/plain": [
              "['<unk>',\n",
              " '<BOS>',\n",
              " '<EOS>',\n",
              " '<PAD>',\n",
              " 'e',\n",
              " 'r',\n",
              " 'i',\n",
              " 'a',\n",
              " 'n',\n",
              " 't',\n",
              " 'o',\n",
              " 's',\n",
              " 'l',\n",
              " 'c',\n",
              " 'u',\n",
              " 'm',\n",
              " 'p',\n",
              " 'é',\n",
              " 'd',\n",
              " 'g',\n",
              " 'b',\n",
              " 'v',\n",
              " 'f',\n",
              " 'h',\n",
              " 'q',\n",
              " 'x',\n",
              " 'è',\n",
              " 'y',\n",
              " 'j',\n",
              " 'k',\n",
              " 'z',\n",
              " 'ê',\n",
              " 'ô',\n",
              " 'î',\n",
              " 'â',\n",
              " 'ï',\n",
              " 'ç',\n",
              " 'w',\n",
              " 'û',\n",
              " 'ë',\n",
              " 'à']"
            ]
          },
          "metadata": {},
          "execution_count": 20
        }
      ]
    },
    {
      "cell_type": "code",
      "source": [
        "phoneme_vocab.get_itos()"
      ],
      "metadata": {
        "colab": {
          "base_uri": "https://localhost:8080/"
        },
        "id": "eX0TDAKFmiS1",
        "outputId": "a771c245-199a-4b6d-f039-9aa25843846f"
      },
      "execution_count": null,
      "outputs": [
        {
          "output_type": "execute_result",
          "data": {
            "text/plain": [
              "['<unk>',\n",
              " '<BOS>',\n",
              " '<EOS>',\n",
              " '<PAD>',\n",
              " 'ʁ',\n",
              " 'a',\n",
              " 'i',\n",
              " 's',\n",
              " 't',\n",
              " 'e',\n",
              " 'l',\n",
              " 'k',\n",
              " 'ɛ',\n",
              " 'ɔ',\n",
              " 'ɑ̃',\n",
              " 'p',\n",
              " 'm',\n",
              " 'd',\n",
              " 'j',\n",
              " 'n',\n",
              " 'ɔ̃',\n",
              " 'y',\n",
              " 'v',\n",
              " 'b',\n",
              " 'f',\n",
              " 'ʒ',\n",
              " 'z',\n",
              " 'ɛ̃',\n",
              " 'u',\n",
              " 'ə',\n",
              " 'o',\n",
              " 'ɡ',\n",
              " 'w',\n",
              " 'ʃ',\n",
              " 'œ',\n",
              " 'ɥ',\n",
              " 'ø',\n",
              " 'ɑ',\n",
              " 'ɲ',\n",
              " 'œ̃',\n",
              " 'ŋ',\n",
              " 'h',\n",
              " 'ɪ',\n",
              " '‿']"
            ]
          },
          "metadata": {},
          "execution_count": 21
        }
      ]
    },
    {
      "cell_type": "code",
      "source": [
        "chars_vocab([\"a\", \"b\"])"
      ],
      "metadata": {
        "colab": {
          "base_uri": "https://localhost:8080/"
        },
        "id": "rWf5z1o-pXam",
        "outputId": "579cd5c7-91df-4e20-fc8f-cd54a6613922"
      },
      "execution_count": null,
      "outputs": [
        {
          "output_type": "execute_result",
          "data": {
            "text/plain": [
              "[7, 20]"
            ]
          },
          "metadata": {},
          "execution_count": 22
        }
      ]
    },
    {
      "cell_type": "code",
      "source": [
        "chars_vocab[\"<PAD>\"]"
      ],
      "metadata": {
        "colab": {
          "base_uri": "https://localhost:8080/"
        },
        "id": "Ja9p5iJnp5wR",
        "outputId": "8ab69658-6aa8-4fc0-8f04-e71046978f3c"
      },
      "execution_count": null,
      "outputs": [
        {
          "output_type": "execute_result",
          "data": {
            "text/plain": [
              "3"
            ]
          },
          "metadata": {},
          "execution_count": 23
        }
      ]
    },
    {
      "cell_type": "code",
      "metadata": {
        "id": "8BSjElRrlSMe",
        "colab": {
          "base_uri": "https://localhost:8080/"
        },
        "outputId": "f304622f-5ad2-4b18-9096-96e88d8ea02f"
      },
      "source": [
        "device = 'cpu'\n",
        "if torch.cuda.is_available():\n",
        "  device = torch.device('cuda')\n",
        "\n",
        "print(device)"
      ],
      "execution_count": null,
      "outputs": [
        {
          "output_type": "stream",
          "name": "stdout",
          "text": [
            "cuda\n"
          ]
        }
      ]
    },
    {
      "cell_type": "markdown",
      "source": [
        "Let's define the collate function for batching:"
      ],
      "metadata": {
        "id": "9_gqj9hJmKJJ"
      }
    },
    {
      "cell_type": "code",
      "metadata": {
        "id": "eVgtgScjlTPq"
      },
      "source": [
        "import torch\n",
        "from torch.nn.utils.rnn import pad_sequence\n",
        "\n",
        "# define a collate function to tokenize and pad the text fields\n",
        "def collate_fn(batch):\n",
        "  chars = [torch.Tensor(chars_vocab([\"<BOS>\"]  + example['chars'] +  [\"<EOS>\"])).long() for example in batch]\n",
        "  phonemes = [torch.Tensor(phoneme_vocab([\"<BOS>\"] +  example['phonemes'] + [\"<EOS>\"])).long() for example in batch]\n",
        "  return {\n",
        "    'chars': pad_sequence(chars, batch_first=True, padding_value=chars_vocab['<PAD>']),\n",
        "    'phonemes': pad_sequence(phonemes, batch_first=True, padding_value=phoneme_vocab['<PAD>'])\n",
        "  }"
      ],
      "execution_count": null,
      "outputs": []
    },
    {
      "cell_type": "code",
      "source": [
        "collate_fn([train_dataset[0], train_dataset[1]])"
      ],
      "metadata": {
        "colab": {
          "base_uri": "https://localhost:8080/"
        },
        "id": "i1Sws5wAqOGD",
        "outputId": "056bde02-78e9-40fd-f55a-2dca3b34688b"
      },
      "execution_count": null,
      "outputs": [
        {
          "output_type": "execute_result",
          "data": {
            "text/plain": [
              "{'chars': tensor([[ 1,  7, 20,  7,  8, 18, 10,  8,  8,  4,  5,  2],\n",
              "         [ 1,  7, 20, 20, 27,  2,  3,  3,  3,  3,  3,  3]]),\n",
              " 'phonemes': tensor([[ 1,  5, 23, 14, 17, 13, 19,  9,  2],\n",
              "         [ 1,  5, 23,  6,  2,  3,  3,  3,  3]])}"
            ]
          },
          "metadata": {},
          "execution_count": 27
        }
      ]
    },
    {
      "cell_type": "code",
      "source": [],
      "metadata": {
        "id": "I5i_meqkschr"
      },
      "execution_count": null,
      "outputs": []
    },
    {
      "cell_type": "markdown",
      "metadata": {
        "id": "rp4UWWhK8_6M"
      },
      "source": [
        "Each batch is now a map with two keys (chars and phonemes) which each are both tensors (matrices)."
      ]
    },
    {
      "cell_type": "markdown",
      "metadata": {
        "id": "nFZbRgvv9Tml"
      },
      "source": [
        "We will first implement a basic encoder-decoder model for this task. Both encoder and decoder have an embedding layer and a recurrent (GRU) layer. The last hidden state of the GRU layer of the encoder is passed to the decoder, which then generates the pronunication from this representation.\n",
        "\n",
        "The picture below describes this model: an input character sequence \"abou\" is transformed to a phoneme sequence \"abu\". Note how the outputs of the encoder GRU are completely ignored by the decoder."
      ]
    },
    {
      "cell_type": "markdown",
      "metadata": {
        "id": "_nEI0ovXANQE"
      },
      "source": [
        "<img src=\"data:image/png;base64,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\" style=\"cursor:pointer;max-width:100%;\" onclick=\"(function(img){if(img.wnd!=null&&!img.wnd.closed){img.wnd.focus();}else{var r=function(evt){if(evt.data=='ready'&&evt.source==img.wnd){img.wnd.postMessage(decodeURIComponent(img.getAttribute('src')),'*');window.removeEventListener('message',r);}};window.addEventListener('message',r);img.wnd=window.open('https://app.diagrams.net/?client=1&lightbox=1&edit=_blank');}})(this);\"/>"
      ]
    },
    {
      "cell_type": "code",
      "metadata": {
        "id": "c0uTyV11leuK"
      },
      "source": [
        "import sys\n",
        "import torch.nn as nn\n",
        "import torch.nn.functional as F\n",
        "import time\n",
        "import random\n",
        "import math"
      ],
      "execution_count": null,
      "outputs": []
    },
    {
      "cell_type": "markdown",
      "metadata": {
        "id": "7PLGAIn7BhEx"
      },
      "source": [
        "First, the encoder part of the seq2seq model:"
      ]
    },
    {
      "cell_type": "code",
      "metadata": {
        "id": "TJkEk0jjlmiv"
      },
      "source": [
        "class Encoder(nn.Module):\n",
        "    def __init__(self, input_dim, emb_dim, hid_dim, n_layers):\n",
        "        super().__init__()        \n",
        "        self.hid_dim = hid_dim\n",
        "        self.n_layers = n_layers\n",
        "        \n",
        "        self.embedding = nn.Embedding(input_dim, emb_dim)\n",
        "        self.rnn = nn.GRU(emb_dim, hid_dim, n_layers, batch_first=True)\n",
        "        \n",
        "    def forward(self, src):        \n",
        "        # src: [batch size, seq_len]       \n",
        "        embedded = self.embedding(src)\n",
        "        #embedded: [batch_size, seq_len,  emb_dim]\n",
        "        outputs, hidden = self.rnn(embedded)\n",
        "\n",
        "        return hidden, outputs"
      ],
      "execution_count": null,
      "outputs": []
    },
    {
      "cell_type": "markdown",
      "metadata": {
        "id": "3FegsyDKBn8n"
      },
      "source": [
        "Then, the decoder part:"
      ]
    },
    {
      "cell_type": "code",
      "metadata": {
        "id": "PN0vlDLSl_9_"
      },
      "source": [
        "class Decoder(nn.Module):\n",
        "    def __init__(self, output_dim, emb_dim, hid_dim, n_layers):\n",
        "        super().__init__()\n",
        "        self.hid_dim = hid_dim\n",
        "        self.n_layers = n_layers\n",
        "        self.output_dim = output_dim\n",
        "        self.embedding = nn.Embedding(output_dim, emb_dim)\n",
        "        \n",
        "        self.rnn = nn.GRU(emb_dim, hid_dim, n_layers, batch_first=True)\n",
        "        self.fc_out = nn.Linear(hid_dim, output_dim)\n",
        "        \n",
        "        \n",
        "    def forward(self, input, hidden, encoder_outputs):            \n",
        "        #input: [batch size]\n",
        "        #hidden: [batch size, hid_dim]\n",
        "        #encoder_outputs: [batch size, src_len, hid_dim]\n",
        "        \n",
        "        input = input.unsqueeze(1)\n",
        "        #input: [batch size, 1]        \n",
        "        embedded = self.embedding(input)\n",
        "        #embedded: [batch size, 1, emb dim]\n",
        "        output, hidden = self.rnn(embedded, hidden)        \n",
        "        prediction = self.fc_out(output.squeeze(1))        \n",
        "        #prediction: [batch size, output dim]\n",
        "        \n",
        "        return prediction, hidden"
      ],
      "execution_count": null,
      "outputs": []
    },
    {
      "cell_type": "markdown",
      "metadata": {
        "id": "ApLUw3xWCzDi"
      },
      "source": [
        "And finally, the seq2seq model:"
      ]
    },
    {
      "cell_type": "code",
      "metadata": {
        "id": "vpalbvobmHxv"
      },
      "source": [
        "class Seq2Seq(nn.Module):\n",
        "    def __init__(self, encoder, decoder, device):\n",
        "        super().__init__()\n",
        "        \n",
        "        self.encoder = encoder\n",
        "        self.decoder = decoder\n",
        "        self.device = device\n",
        "        \n",
        "        assert encoder.hid_dim == decoder.hid_dim, \\\n",
        "            \"Hidden dimensions of encoder and decoder must be equal!\"\n",
        "        assert encoder.n_layers == decoder.n_layers, \\\n",
        "            \"Encoder and decoder must have equal number of layers!\"\n",
        "        \n",
        "    def forward(self, src, trg, teacher_forcing_ratio = 0.5):\n",
        "        \n",
        "        #src: [batch size, src_len]\n",
        "        #trg: [batch size, trg_len]\n",
        "        #teacher_forcing_ratio is probability to use teacher forcing\n",
        "        #e.g. if teacher_forcing_ratio is 0.75 we use ground-truth inputs 75% of the time\n",
        "        \n",
        "        batch_size = trg.shape[0]\n",
        "        trg_len = trg.shape[1]\n",
        "        trg_vocab_size = self.decoder.output_dim\n",
        "        \n",
        "        #tensor to store decoder outputs\n",
        "        outputs = torch.zeros(batch_size, trg_len, trg_vocab_size).to(self.device)\n",
        "        \n",
        "        #last hidden state of the encoder is used as the initial hidden state of the decoder\n",
        "        hidden, encoder_outputs = self.encoder(src)\n",
        "        \n",
        "        #first input to the decoder is the <sos> tokens\n",
        "        input = trg[:, 0]\n",
        "        \n",
        "        for t in range(1, trg_len):    \n",
        "            #insert input token embedding, previous hidden and previous cell states\n",
        "            #receive output tensor (predictions) and new hidden and cell states\n",
        "            output, hidden = self.decoder(input, hidden, encoder_outputs)\n",
        "            #place predictions in a tensor holding predictions for each token\n",
        "            outputs[:, t, :] = output\n",
        "            #decide if we are going to use teacher forcing or not\n",
        "            teacher_force = random.random() < teacher_forcing_ratio\n",
        "            #get the highest predicted token from our predictions\n",
        "            top1 = output.argmax(1) \n",
        "            #print(\"---\", trg[:, t].shape, top1.shape)\n",
        "            #if teacher forcing, use actual next token as next input\n",
        "            #if not, use predicted token\n",
        "            input = trg[:, t] if teacher_force else top1\n",
        "        \n",
        "        return outputs"
      ],
      "execution_count": null,
      "outputs": []
    },
    {
      "cell_type": "markdown",
      "metadata": {
        "id": "WN1yKlNub3ex"
      },
      "source": [
        "Now, we implement the training routines:"
      ]
    },
    {
      "cell_type": "code",
      "metadata": {
        "id": "YaU5DtN1m3zc"
      },
      "source": [
        "from tqdm.notebook import tqdm\n",
        "\n",
        "def train_one_epoch(model, iterator, optimizer, criterion, clip):\n",
        "    model.train()\n",
        "    epoch_loss = 0\n",
        "    for i, batch in tqdm(enumerate(iterator)):\n",
        "        src = batch[\"chars\"].to(device)\n",
        "        trg = batch[\"phonemes\"].to(device)\n",
        "        optimizer.zero_grad()\n",
        "        output = model(src, trg)\n",
        "        \n",
        "        #trg: [trg_len, batch size]\n",
        "        #output_ [trg_len, batch size, output dim]\n",
        "        output_dim = output.shape[-1]\n",
        "        output = output[1:].view(-1, output_dim)\n",
        "        trg = trg[1:].view(-1)\n",
        "\n",
        "        #trg:  [(trg len - 1) * batch size]\n",
        "        #output: [(trg len - 1) * batch size, output dim]\n",
        "        loss = criterion(output, trg)\n",
        "        loss.backward()\n",
        "        torch.nn.utils.clip_grad_norm_(model.parameters(), clip)\n",
        "        optimizer.step()\n",
        "        epoch_loss += loss.item()\n",
        "        \n",
        "    return epoch_loss / len(iterator)"
      ],
      "execution_count": null,
      "outputs": []
    },
    {
      "cell_type": "code",
      "metadata": {
        "id": "UWGVaLOInL9I"
      },
      "source": [
        "def evaluate(model, iterator, criterion):\n",
        "    model.eval()\n",
        "    epoch_loss = 0\n",
        "    with torch.no_grad():\n",
        "        for i, batch in enumerate(iterator):\n",
        "            src = batch[\"chars\"].to(device)\n",
        "            trg = batch[\"phonemes\"].to(device)\n",
        "            output = model(src, trg, 0) #turn off teacher forcing\n",
        "            #trg: [trg len, batch size]\n",
        "            #output: [trg len, batch size, output dim]\n",
        "            output_dim = output.shape[-1]\n",
        "            output = output[1:].view(-1, output_dim)\n",
        "            trg = trg[1:].view(-1)\n",
        "            #trg: [(trg len - 1) * batch size]\n",
        "            #output: [(trg len - 1) * batch size, output dim]\n",
        "            loss = criterion(output, trg)\n",
        "            epoch_loss += loss.item()\n",
        "        \n",
        "    return epoch_loss / len(iterator)"
      ],
      "execution_count": null,
      "outputs": []
    },
    {
      "cell_type": "code",
      "metadata": {
        "id": "TdAM4PbXnMkn"
      },
      "source": [
        "def epoch_time(start_time, end_time):\n",
        "    elapsed_time = end_time - start_time\n",
        "    elapsed_mins = int(elapsed_time / 60)\n",
        "    elapsed_secs = int(elapsed_time - (elapsed_mins * 60))\n",
        "    return elapsed_mins, elapsed_secs"
      ],
      "execution_count": null,
      "outputs": []
    },
    {
      "cell_type": "code",
      "metadata": {
        "id": "rNA85jXiDKkI"
      },
      "source": [
        "from torch.utils.data import DataLoader\n",
        "\n",
        "\n",
        "def train(model, num_epochs, clip):\n",
        "  optimizer = torch.optim.Adam(model.parameters())\n",
        "  criterion = nn.CrossEntropyLoss(ignore_index=phoneme_vocab[\"<PAD>\"])\n",
        "  \n",
        "  train_iter = DataLoader(train_dataset, batch_size=32, collate_fn=collate_fn, shuffle=True)\n",
        "  dev_iter = DataLoader(dev_dataset, batch_size=32, collate_fn=collate_fn)\n",
        "\n",
        "  for epoch in range(num_epochs):\n",
        "      start_time = time.time()\n",
        "      train_loss = train_one_epoch(model, train_iter, optimizer, criterion, clip)\n",
        "      valid_loss = evaluate(model, dev_iter, criterion)\n",
        "      end_time = time.time()\n",
        "      epoch_mins, epoch_secs = epoch_time(start_time, end_time)\n",
        "      \n",
        "      print(f'Epoch: {epoch+1:02} | Time: {epoch_mins}m {epoch_secs}s')\n",
        "      print(f'\\tTrain Loss: {train_loss:.3f} | Train PPL: {math.exp(train_loss):7.3f}')\n",
        "      print(f'\\t Val. Loss: {valid_loss:.3f} |  Val. PPL: {math.exp(valid_loss):7.3f}')"
      ],
      "execution_count": null,
      "outputs": []
    },
    {
      "cell_type": "markdown",
      "metadata": {
        "id": "efbi9gZrcRhn"
      },
      "source": [
        "Finally we can train our baseline model:"
      ]
    },
    {
      "cell_type": "code",
      "metadata": {
        "id": "xrxLXNiGnP3w",
        "colab": {
          "base_uri": "https://localhost:8080/",
          "height": 858,
          "referenced_widgets": [
            "1305e8c751ec44adb2554cd0fe32d01d",
            "54ebbe7c35944eb79ab9425c0b33b328",
            "f289ba8a40884a45a524b31a1e088daa",
            "b8a3a7a366e64c37ac04795242bc442b",
            "97243c750f874b4baa5069e74e978d77",
            "3b1389a87997419dbe1af177b42f1bb0",
            "c817a353f0d442519d5fc8abd044af66",
            "2fe34569e0ac4f7e8cac183deb2e00ff",
            "5491c6a876c3448285408c29dd6f4fef",
            "93e9b55dd1ba4e4ba393d730589c73bf",
            "1c6ccbdb48de4821989ce179ba78683a",
            "2a9169d37c0f4443b26ab9a8ddaa4209",
            "77ea856c899a488f8ceaf19af27d0965",
            "b7d2fcff79024ea4894f6c3d5d26564f",
            "776a05844d8f4880903179d5c4cf91f6",
            "8a3ebaf7471d4556a133d14488eaec6b",
            "da8142acd75640c9bbf39514e80464f4",
            "1add2ec785344a62bcb7cfc497bde064",
            "a50e3337495a410f81366ef43f1297ae",
            "d80edb32be9d4aee85a36d4cd496072b",
            "ce88e7429cfe4f468354530008879ee9",
            "93ec73d3de3d403185e188ffec79c2a4",
            "1727e994f2e9495ca3241516293f2dc5",
            "4fcb2dae102b42bd8f991bf5e5facbf4",
            "6785d770cc2b4048ad63e67123429186",
            "90868608b7004ad99b9ff7f67f09652d",
            "f66e3f29e1c941738919ebb355fd8e78",
            "2227ed35e117420d90bd373250fa0942",
            "2de43a8080704a6fba92c18928f94b60",
            "b20bf92fbab64ca2815c35ccf800d88d",
            "75c15baa3d854dc8880b77e37f3696e4",
            "50c75d776c134b22bb46a31346b4527e",
            "da57bbc03a4248538469a3f88c901e0d",
            "a4c4b5351cbd40dd97842c34112b6170",
            "9b074e36394f4becae3ada43dd1f1f7d",
            "ad010254aa8944ec963f1d1d4f132ac1",
            "027d63b7b1a949208cf008cd103d7eb5",
            "5f9bc9df163a4ec0a67a72eb57b26cf1",
            "9a8ec115625d41dcaef0a07f5497e844",
            "5cb909facfec4b7ea38e36edb8bba9f3",
            "40b3356310d74cf7bd46990d9e20fe1b",
            "46b7109efb2b4fd6a40a3d5663d639b1",
            "beb909e016af468bb2768bf169c5a92b",
            "bc70596c0c284ea68fd7ba97a0c65588",
            "2d4b3e238ac648b791f358b6550ef25b",
            "a3bd134b150d45ed8de91a337b6199ef",
            "9dddb5cd81d049b1902ec731a5b7b26f",
            "405cfd58d9fb400b9aac0d844033827f",
            "ef6e28a97f784a4ea86946f7c5b5f6bd",
            "2bb30f7ed26f4c70a0f040b19ccbd7b3",
            "d35e6fc4725048ca84a144019d6dbcf7",
            "4e3c60d1663c41ed90fd62f43d60b6e3",
            "465c5f67c4534f48bc5eda9c98af1827",
            "c30d9f1b1985451cb38ea978a0127254",
            "f72381053a524681a03795f493bb8b71",
            "207bcc5bd4914e71a52cb6dd5d78a5ff",
            "adf9b06802554fe8aad8c77305dc6f55",
            "66e2b19b497f4ad282ec04bdbfc3326d",
            "3ce67f3d8c5d4ee98591c2170f908042",
            "0236414b95f146b491aa6c065be89a4b",
            "2140e08e82fd4c27baa7153e9bbc7510",
            "b80d75788cdf4c668af94a5910a84152",
            "1ff351305bcb4ccf8d528fe65c302499",
            "1516120a8ceb4e549aa979ec34a9fa0d",
            "2f7f85b1d739457094e393449f4f5189",
            "4b9c8186696a4922b8e6ff56f6760cf6",
            "a1f6c8b5f94c43c1a02b2201f0cb7acd",
            "aac715dd18064eec9a08a7b28e0ffd16",
            "7a018c74d0214e1e897f65e53213230f",
            "059cdffa90374a389e6e33473d01109c",
            "78abce9279774356a82a477c40861a71",
            "b23de0f61d714f58a6c77dbaf14a4e3d",
            "59dbd814ad854954b8e26c2dac3a0337",
            "c5f0963e643d42eba48ca9623c7e1b99",
            "11f8b3cfb56b4e42978e8063a83b5196",
            "b3201da90809408194ab65e632dbdfc5",
            "0a4437f280644ebe90221df1d3375057",
            "206d590f14064aab8a9cf3ee505950e2",
            "d16905a0ebbc44b985fdf6ecc7491eb6",
            "f8cb153706254e9e9da87b6e20fa229d",
            "cfb8f59ee26d4aa688f0252ada459eac",
            "93f35220a638494191412afd82cf1172",
            "01792045aa094a038759d272e2d55d4f",
            "181213c2c38d468cb63e7fb6bf574bb8",
            "58cc7e9c1dcd41c9bdcf26b3f20f34ce",
            "9dbe995bf6884fa395dca1d137e5faef",
            "ded0123cad9b4d849d216ae416bb927e",
            "940ff349249540c887751c1e9d014d66",
            "30aa3e842a354b7fb192907378c18cfc",
            "26bf0a8309f140af9b4b2e700674dbf8",
            "9e46f4f62f754f39b498767e68870d12",
            "f17e51f6f83c4ea1a1cb5a216fcd96ef",
            "9d11e6ba36454936b291de99c3a587d0",
            "4eac20dcc5e64eb6ab23fffd7ef2df80",
            "5b3b21d439094c7785de741232d12fd6",
            "bbbde1d95b7c428d9c509081146c4b79",
            "9b1fd8ccc9cc48b8a1d1e9d592e28a4d",
            "b8a583a335eb4b93b6312bdb99110071",
            "a45cd13aff2244bfbb5904167f5400b1",
            "fc60a24db5074ef5b181c66f7710fa01",
            "4ec9c25067cf447e8f13c6084bcd0dbf",
            "2bd981cdcd63495d9a6858f1a5918be9",
            "9a6845b9303e4ee6bb1548de1adc455e",
            "e2e7989f53a348afa18d14a14cb4c7a5",
            "8c51f57fcce84174a69162b444cce77f",
            "fe98abfabf0d4b1097ce0d18e3702c74",
            "64c8bc14ab50401eab11a46527aa2a12",
            "42e6e32d1968494d90b2b6ba0665d869",
            "71d3210a944f40209397a293bf2addff",
            "889e0ec130fb48758133abea53039784"
          ]
        },
        "outputId": "82ff1930-4395-4248-856d-16f4d3b1a55f"
      },
      "source": [
        "INPUT_DIM = len(chars_vocab)\n",
        "OUTPUT_DIM = len(phoneme_vocab)\n",
        "ENC_EMB_DIM = 100\n",
        "DEC_EMB_DIM = 100\n",
        "HID_DIM = 256\n",
        "N_LAYERS = 1\n",
        "\n",
        "enc = Encoder(INPUT_DIM, ENC_EMB_DIM, HID_DIM, N_LAYERS)\n",
        "dec = Decoder(OUTPUT_DIM, DEC_EMB_DIM, HID_DIM, N_LAYERS)\n",
        "\n",
        "model = Seq2Seq(enc, dec, device).to(device)\n",
        "\n",
        "N_EPOCHS = 10\n",
        "\n",
        "CLIP = 1.0\n",
        "\n",
        "train(model, N_EPOCHS, CLIP)\n"
      ],
      "execution_count": null,
      "outputs": [
        {
          "output_type": "display_data",
          "data": {
            "text/plain": [
              "0it [00:00, ?it/s]"
            ],
            "application/vnd.jupyter.widget-view+json": {
              "version_major": 2,
              "version_minor": 0,
              "model_id": "1305e8c751ec44adb2554cd0fe32d01d"
            }
          },
          "metadata": {}
        },
        {
          "output_type": "stream",
          "name": "stdout",
          "text": [
            "Epoch: 01 | Time: 0m 2s\n",
            "\tTrain Loss: 3.014 | Train PPL:  20.377\n",
            "\t Val. Loss: 2.961 |  Val. PPL:  19.318\n"
          ]
        },
        {
          "output_type": "display_data",
          "data": {
            "text/plain": [
              "0it [00:00, ?it/s]"
            ],
            "application/vnd.jupyter.widget-view+json": {
              "version_major": 2,
              "version_minor": 0,
              "model_id": "2a9169d37c0f4443b26ab9a8ddaa4209"
            }
          },
          "metadata": {}
        },
        {
          "output_type": "stream",
          "name": "stdout",
          "text": [
            "Epoch: 02 | Time: 0m 3s\n",
            "\tTrain Loss: 2.454 | Train PPL:  11.632\n",
            "\t Val. Loss: 2.451 |  Val. PPL:  11.606\n"
          ]
        },
        {
          "output_type": "display_data",
          "data": {
            "text/plain": [
              "0it [00:00, ?it/s]"
            ],
            "application/vnd.jupyter.widget-view+json": {
              "version_major": 2,
              "version_minor": 0,
              "model_id": "1727e994f2e9495ca3241516293f2dc5"
            }
          },
          "metadata": {}
        },
        {
          "output_type": "stream",
          "name": "stdout",
          "text": [
            "Epoch: 03 | Time: 0m 1s\n",
            "\tTrain Loss: 1.940 | Train PPL:   6.960\n",
            "\t Val. Loss: 2.008 |  Val. PPL:   7.451\n"
          ]
        },
        {
          "output_type": "display_data",
          "data": {
            "text/plain": [
              "0it [00:00, ?it/s]"
            ],
            "application/vnd.jupyter.widget-view+json": {
              "version_major": 2,
              "version_minor": 0,
              "model_id": "a4c4b5351cbd40dd97842c34112b6170"
            }
          },
          "metadata": {}
        },
        {
          "output_type": "stream",
          "name": "stdout",
          "text": [
            "Epoch: 04 | Time: 0m 1s\n",
            "\tTrain Loss: 1.545 | Train PPL:   4.686\n",
            "\t Val. Loss: 1.730 |  Val. PPL:   5.638\n"
          ]
        },
        {
          "output_type": "display_data",
          "data": {
            "text/plain": [
              "0it [00:00, ?it/s]"
            ],
            "application/vnd.jupyter.widget-view+json": {
              "version_major": 2,
              "version_minor": 0,
              "model_id": "2d4b3e238ac648b791f358b6550ef25b"
            }
          },
          "metadata": {}
        },
        {
          "output_type": "stream",
          "name": "stdout",
          "text": [
            "Epoch: 05 | Time: 0m 1s\n",
            "\tTrain Loss: 1.265 | Train PPL:   3.542\n",
            "\t Val. Loss: 1.499 |  Val. PPL:   4.477\n"
          ]
        },
        {
          "output_type": "display_data",
          "data": {
            "text/plain": [
              "0it [00:00, ?it/s]"
            ],
            "application/vnd.jupyter.widget-view+json": {
              "version_major": 2,
              "version_minor": 0,
              "model_id": "207bcc5bd4914e71a52cb6dd5d78a5ff"
            }
          },
          "metadata": {}
        },
        {
          "output_type": "stream",
          "name": "stdout",
          "text": [
            "Epoch: 06 | Time: 0m 1s\n",
            "\tTrain Loss: 1.074 | Train PPL:   2.926\n",
            "\t Val. Loss: 1.367 |  Val. PPL:   3.923\n"
          ]
        },
        {
          "output_type": "display_data",
          "data": {
            "text/plain": [
              "0it [00:00, ?it/s]"
            ],
            "application/vnd.jupyter.widget-view+json": {
              "version_major": 2,
              "version_minor": 0,
              "model_id": "a1f6c8b5f94c43c1a02b2201f0cb7acd"
            }
          },
          "metadata": {}
        },
        {
          "output_type": "stream",
          "name": "stdout",
          "text": [
            "Epoch: 07 | Time: 0m 1s\n",
            "\tTrain Loss: 0.941 | Train PPL:   2.563\n",
            "\t Val. Loss: 1.278 |  Val. PPL:   3.590\n"
          ]
        },
        {
          "output_type": "display_data",
          "data": {
            "text/plain": [
              "0it [00:00, ?it/s]"
            ],
            "application/vnd.jupyter.widget-view+json": {
              "version_major": 2,
              "version_minor": 0,
              "model_id": "206d590f14064aab8a9cf3ee505950e2"
            }
          },
          "metadata": {}
        },
        {
          "output_type": "stream",
          "name": "stdout",
          "text": [
            "Epoch: 08 | Time: 0m 1s\n",
            "\tTrain Loss: 0.852 | Train PPL:   2.345\n",
            "\t Val. Loss: 1.168 |  Val. PPL:   3.214\n"
          ]
        },
        {
          "output_type": "display_data",
          "data": {
            "text/plain": [
              "0it [00:00, ?it/s]"
            ],
            "application/vnd.jupyter.widget-view+json": {
              "version_major": 2,
              "version_minor": 0,
              "model_id": "30aa3e842a354b7fb192907378c18cfc"
            }
          },
          "metadata": {}
        },
        {
          "output_type": "stream",
          "name": "stdout",
          "text": [
            "Epoch: 09 | Time: 0m 2s\n",
            "\tTrain Loss: 0.760 | Train PPL:   2.139\n",
            "\t Val. Loss: 1.208 |  Val. PPL:   3.347\n"
          ]
        },
        {
          "output_type": "display_data",
          "data": {
            "text/plain": [
              "0it [00:00, ?it/s]"
            ],
            "application/vnd.jupyter.widget-view+json": {
              "version_major": 2,
              "version_minor": 0,
              "model_id": "fc60a24db5074ef5b181c66f7710fa01"
            }
          },
          "metadata": {}
        },
        {
          "output_type": "stream",
          "name": "stdout",
          "text": [
            "Epoch: 10 | Time: 0m 1s\n",
            "\tTrain Loss: 0.715 | Train PPL:   2.043\n",
            "\t Val. Loss: 1.149 |  Val. PPL:   3.156\n"
          ]
        }
      ]
    },
    {
      "cell_type": "markdown",
      "metadata": {
        "id": "Sg6LW8eYGDmQ"
      },
      "source": [
        "Now, we implement a function that applies the model to a given string:"
      ]
    },
    {
      "cell_type": "code",
      "metadata": {
        "id": "fm8o_9eHnVu6"
      },
      "source": [
        "def chars2phonemes(word, model, max_len=50):\n",
        "    model.eval()\n",
        "    chars = torch.Tensor([chars_vocab([\"<BOS>\"] + list(word) + [\"<EOS>\"])]).long().to(device)    \n",
        "    with torch.no_grad():\n",
        "        hidden, encoder_outputs = model.encoder(chars)\n",
        "    trg_indexes = [phoneme_vocab[\"<BOS>\"]]\n",
        "\n",
        "    for i in range(max_len):\n",
        "        trg_tensor = torch.LongTensor([trg_indexes[-1]]).to(device)\n",
        "        with torch.no_grad():\n",
        "            output, hidden = model.decoder(trg_tensor, hidden, encoder_outputs)\n",
        "        pred_token = output.argmax(1).item()\n",
        "        trg_indexes.append(pred_token)\n",
        "        if pred_token == phoneme_vocab[\"<EOS>\"]:\n",
        "            break\n",
        "    \n",
        "    trg_tokens = [phoneme_vocab.get_itos()[i] for i in trg_indexes]\n",
        "    \n",
        "    return \" \".join(trg_tokens[1:-1])"
      ],
      "execution_count": null,
      "outputs": []
    },
    {
      "cell_type": "code",
      "metadata": {
        "id": "3w8xC1S2wM_n",
        "colab": {
          "base_uri": "https://localhost:8080/",
          "height": 35
        },
        "outputId": "5e8421e7-1a63-426c-debd-ffbd2645d864"
      },
      "source": [
        "chars2phonemes(\"appartement\", model)"
      ],
      "execution_count": null,
      "outputs": [
        {
          "output_type": "execute_result",
          "data": {
            "text/plain": [
              "'a p a ʁ t ə m ɑ̃'"
            ],
            "application/vnd.google.colaboratory.intrinsic+json": {
              "type": "string"
            }
          },
          "metadata": {},
          "execution_count": 39
        }
      ]
    },
    {
      "cell_type": "markdown",
      "metadata": {
        "id": "sWNzQcykwNpa"
      },
      "source": [
        "This should be a correct pronunciation ('a p a ʁ t ə m ɑ̃')."
      ]
    },
    {
      "cell_type": "markdown",
      "metadata": {
        "id": "FtnCHkV5GpPP"
      },
      "source": [
        "Now, we implement scoring functionality that allows to evaluate our model based on *phoneme error rate* (how many phonemes in the output are correct, compared to the reference). We use the implementation in jiwer package. The appropriate function is called `wer` (word error rate) because this is typically used to measure the word error rate of a speech recognition system."
      ]
    },
    {
      "cell_type": "code",
      "metadata": {
        "id": "WHyoSUan2-do",
        "colab": {
          "base_uri": "https://localhost:8080/"
        },
        "outputId": "3f1c9af0-6736-4741-fba6-bf3d15fe6804"
      },
      "source": [
        "! pip install jiwer"
      ],
      "execution_count": null,
      "outputs": [
        {
          "output_type": "stream",
          "name": "stdout",
          "text": [
            "Looking in indexes: https://pypi.org/simple, https://us-python.pkg.dev/colab-wheels/public/simple/\n",
            "Collecting jiwer\n",
            "  Downloading jiwer-3.0.1-py3-none-any.whl (21 kB)\n",
            "Requirement already satisfied: click<9.0.0,>=8.1.3 in /usr/local/lib/python3.9/dist-packages (from jiwer) (8.1.3)\n",
            "Collecting rapidfuzz==2.13.7\n",
            "  Downloading rapidfuzz-2.13.7-cp39-cp39-manylinux_2_17_x86_64.manylinux2014_x86_64.whl (2.2 MB)\n",
            "\u001b[2K     \u001b[90m━━━━━━━━━━━━━━━━━━━━━━━━━━━━━━━━━━━━━━━━\u001b[0m \u001b[32m2.2/2.2 MB\u001b[0m \u001b[31m49.1 MB/s\u001b[0m eta \u001b[36m0:00:00\u001b[0m\n",
            "\u001b[?25hInstalling collected packages: rapidfuzz, jiwer\n",
            "Successfully installed jiwer-3.0.1 rapidfuzz-2.13.7\n"
          ]
        }
      ]
    },
    {
      "cell_type": "code",
      "metadata": {
        "id": "7kxT81eImU4j",
        "colab": {
          "base_uri": "https://localhost:8080/"
        },
        "outputId": "26c27b42-3d43-4f0d-f073-686c0d964b70"
      },
      "source": [
        "import jiwer\n",
        "ref = \"a b a c\"\n",
        "hyp = \"a b a d\"\n",
        "jiwer.wer(ref, hyp)"
      ],
      "execution_count": null,
      "outputs": [
        {
          "output_type": "execute_result",
          "data": {
            "text/plain": [
              "0.25"
            ]
          },
          "metadata": {},
          "execution_count": 41
        }
      ]
    },
    {
      "cell_type": "markdown",
      "metadata": {
        "id": "Kv8AYK35oKFX"
      },
      "source": [
        "Both substitution, insertion and deletion errors are taken into account when computing WER:"
      ]
    },
    {
      "cell_type": "code",
      "metadata": {
        "id": "EYXPLTUOobvF",
        "colab": {
          "base_uri": "https://localhost:8080/"
        },
        "outputId": "6a01fbe4-5479-4657-df5b-10941457844f"
      },
      "source": [
        "ref = \"a b a c\"\n",
        "hyp = \"a b a a c\"\n",
        "jiwer.wer(ref, hyp)"
      ],
      "execution_count": null,
      "outputs": [
        {
          "output_type": "execute_result",
          "data": {
            "text/plain": [
              "0.25"
            ]
          },
          "metadata": {},
          "execution_count": 42
        }
      ]
    },
    {
      "cell_type": "code",
      "metadata": {
        "id": "J6a_1km6oh-X",
        "colab": {
          "base_uri": "https://localhost:8080/"
        },
        "outputId": "ba23b43b-c6d1-4b05-c785-f6ab8df880ba"
      },
      "source": [
        "ref = \"a b a c\"\n",
        "hyp = \"a b c\"\n",
        "jiwer.wer(ref, hyp)"
      ],
      "execution_count": null,
      "outputs": [
        {
          "output_type": "execute_result",
          "data": {
            "text/plain": [
              "0.25"
            ]
          },
          "metadata": {},
          "execution_count": 43
        }
      ]
    },
    {
      "cell_type": "markdown",
      "metadata": {
        "id": "1hn8SpTZGnfy"
      },
      "source": [
        "Finally, the function that computes the scoring metrics based on the development set:"
      ]
    },
    {
      "cell_type": "code",
      "metadata": {
        "id": "WeG3pEz1xrAQ"
      },
      "source": [
        "def per(model):\n",
        "  refs = [] \n",
        "  hyps = []\n",
        "  for item in iter(dev_dataset):\n",
        "    ref = \" \".join(item[\"phonemes\"])\n",
        "    hyp = chars2phonemes(\"\".join(item[\"chars\"]), model)\n",
        "    refs.append(ref)\n",
        "    hyps.append(hyp)\n",
        "\n",
        "  per = jiwer.wer(refs, hyps)\n",
        "  print(f\"Phoneme error rate: {per}\")"
      ],
      "execution_count": null,
      "outputs": []
    },
    {
      "cell_type": "code",
      "metadata": {
        "id": "SvVkRnBW1PD9",
        "colab": {
          "base_uri": "https://localhost:8080/"
        },
        "outputId": "4c8a5056-54cb-429d-abf4-019471bbc16b"
      },
      "source": [
        "per(model)"
      ],
      "execution_count": null,
      "outputs": [
        {
          "output_type": "stream",
          "name": "stdout",
          "text": [
            "Phoneme error rate: 0.19855884707766214\n"
          ]
        }
      ]
    },
    {
      "cell_type": "markdown",
      "metadata": {
        "id": "R4lr-wZOtRTQ"
      },
      "source": [
        "Finally, we implement a function that applies the model to our test data and saves it is a file called `submission.tsv`."
      ]
    },
    {
      "cell_type": "code",
      "metadata": {
        "id": "bfv_p23rk_Ad"
      },
      "source": [
        "def make_submission(model):\n",
        "  with open(\"submission.tsv\", \"w\") as f:\n",
        "    print(\"Word\\tPhonemes\", file=f)\n",
        "    for word in test_word_list:\n",
        "      hyp = chars2phonemes(word, model)\n",
        "      print(f\"{word}\\t{hyp}\", file=f)\n"
      ],
      "execution_count": null,
      "outputs": []
    },
    {
      "cell_type": "code",
      "metadata": {
        "id": "bVdpdrNuo9i8"
      },
      "source": [
        "make_submission(model)"
      ],
      "execution_count": null,
      "outputs": []
    },
    {
      "cell_type": "code",
      "metadata": {
        "id": "l7msWUvjrNW_",
        "colab": {
          "base_uri": "https://localhost:8080/"
        },
        "outputId": "73bb6792-c7d3-4bb1-e2ae-b7ddbccfdd15"
      },
      "source": [
        "!head submission.tsv"
      ],
      "execution_count": null,
      "outputs": [
        {
          "output_type": "stream",
          "name": "stdout",
          "text": [
            "Word\tPhonemes\n",
            "tandis\tt ɑ̃ d i\n",
            "serres\ts ɛ ʁ\n",
            "enfer\tɑ̃ f ɛ ʁ\n",
            "réunion\tʁ e y n i z ɔ̃\n",
            "moderne\tm ɔ d ɛ ʁ\n",
            "star\ts t a ʁ\n",
            "classique\tk a l s k a\n",
            "bientôt\tb j ɑ̃ t\n",
            "bouddhiste\tb u d d i s t\n"
          ]
        }
      ]
    },
    {
      "cell_type": "markdown",
      "metadata": {
        "id": "t03ik4CgTAUp"
      },
      "source": [
        "## Your assignment\n",
        "\n",
        "Your task is to improve the performance of the baseline model. You can use any method do this, with the following exceptions:\n",
        "  * You cannot use some some pretrained model that you found on the Internet that already does this task\n",
        "  * You cannot use additional French data for training\n",
        "  * You have to stick to basic Pytorch, and not use libraries that implement whole models for you (you can copy/paste code from there though, as long as you understand what this code is doing)\n",
        "  * You cannot hand-label additional data\n",
        "  * You are not allowed to fold the dev set into training data\n",
        "\n",
        "Some things you can do:\n",
        "\n",
        "  * Tune basic learning hyperparametes, such as number of epochs, learning rate, optimizer\n",
        "  * Tune model architecture (number of outputs in the layers, number of layers, etc)\n",
        "  * Add regularization (dropout, etc)\n",
        "\n",
        "But the most lucrative thing to try is to implement attention mechanism.  In the baseline model, decoder has to generate a pronunciation solely based on the hidden state passed from the encoder.\n",
        "\n",
        "You should try to implement attention mechanism between the encoder and decoder.\n",
        "\n",
        "More specifically, decoder should at each time step generate a new weighted view over the encoder GRU outputs (that are luckily already passed to the decoder's forward method). You should use the query-key-value based attention: output from the decoder's GRU is passed through a (learnable) linear transform that results in a query vector $q$. Another linear transform is applied to encoder outputs that results in key vectors $k_i$. Note that query and keys should have the same dimensionality. Now the query is compared to the keys (using dot product) and the results is softmaxed, resulting in attention weights $w_i$ over the encoder outputs. Encoder outputs are now passed through another linear transform (resulting in $v_i$ ) and summed up to form $v*$, using the computed weights. \n",
        "\n",
        "\n",
        "Luckily, most of the attention functionality is implemented in torch's `nn.MultiheadAttention` class. You just have to take care of the linear transforms and some other stuff.\n",
        "\n",
        "The picture below describes this. Note how how the decoder generates a character \"a\" based on the output from it's GRU *and* the output $v*$ from the attention mechanism."
      ]
    },
    {
      "cell_type": "markdown",
      "metadata": {
        "id": "djXt5AFyc4bn"
      },
      "source": [
        "<img src=\"data:image/png;base64,iVBORw0KGgoAAAANSUhEUgAAAkEAAAEZCAYAAACQMfGqAAAgy3RFWHRteGZpbGUAJTNDbXhmaWxlJTIwaG9zdCUzRCUyMmFwcC5kaWFncmFtcy5uZXQlMjIlMjBtb2RpZmllZCUzRCUyMjIwMjAtMDQtMjdUMTElM0E0MyUzQTM2LjYyOVolMjIlMjBhZ2VudCUzRCUyMjUuMCUyMChYMTElM0IlMjBMaW51eCUyMHg4Nl82NCklMjBBcHBsZVdlYktpdCUyRjUzNy4zNiUyMChLSFRNTCUyQyUyMGxpa2UlMjBHZWNrbyklMjBDaHJvbWUlMkY3MC4wLjM1MzguNzclMjBTYWZhcmklMkY1MzcuMzYlMjIlMjBldGFnJTNEJTIyRi14bFg1Tkl1YjJMR0p1azRNcFIlMjIlMjB2ZXJzaW9uJTNEJTIyMTMuMC4xJTIyJTIwdHlwZSUzRCUyMmdvb2dsZSUyMiUyMHBhZ2VzJTNEJTIyMyUyMiUzRSUzQ2RpYWdyYW0lMjBpZCUzRCUyMkM1UkJzNDNvRGEtS2R6WmVOdHV5JTIyJTIwbmFtZSUzRCUyMlBhZ2UtMSUyMiUzRTdWMWJtOW8yRVAwMVBHWSUyRmZKUGhjVzlKTDJtYmxMYWJQT1h6WWdYY05ZZ2FzVUIlMkJmZVcxaEcwSjF1Ym1zVmE4OEtGQkZyWm01c3pSUVRZZDUzYXklMkJwQUVzJTJGRnZKTVJ4eCUyQjZHcTQ1ejE3SHRudVd3MTlTd3pneHV6ODRNb3lRS001T1ZHd2JSRDh5TlhXNWRSQ0dlbHpwU1FtSWF6Y3JHSVpsTzhaQ1diRUdTa0dXNTIzY1NsNzkxRm95d1loZ01nMWkxUGtRaEhmUExzdjNjJTJGaE9PUm1QeHpSYnFaNTlNQXRHWlg4bDhISVJrV1RBNTl4M25OaUdFWnU4bXExc2NwM01uNXVYaDUlMkZWRCUyRlBFSmZmamw4JTJGeSUyRjRPJTJCYlglMkYlMkY2JTJGWjkzMldEdjl6bGtjd2tKbnRLRGglMkY2YyUyRkxIODlnbFpnOEhqJTJCMGVYUG8ydFA2JTJGZnVmelM2RnJNRnc3WjlQRW1TZWlZak1nMGlPOXo2MDFDRnRNUXA2TjJXU3Z2ODVHUUdUTmF6UGd2cG5UTll5RllVTUpNWXpxSiUyQmFkNEZkRXY2ZUZYSG05OTVZT2w3JTJCOVd4Y1phTktZMFdSY09TcHRmeFhocEl6JTJGc3BTV095NjR2dlNncEhDcm1rdmViazBVeXhLOU1JSThOR2lRalRGJTJGcFoyOENoaVVhSmhQTVRwSWRsJTJCQTRvTkZ6JTJCZVFDSHZLalRiJTJGY3Jld045JTJCd2VYdVluJTJCUnpFQyUyRjVOZ2VKM2lsZTA3S1k1VGNnVHZpVXhTWmhsU3FhcDg3OUhjU3laZ2pnYVRWbHp5R1lVTSUyRnZOTTA1b3hETHdtbjh3aWNMd0pYS1c0NGppd1N4NG1kRWxneHNsbXZpSnNnSHc2Z0NIcVJQTVIlMkZINEZIQVFzeEJ2TDNOSUVHayUyQkxxQ0JzSjNjSSUyQmlTZDhmbG5WMHo3enpJdkxPVnZGUGNYbmJxdGdRcE9MQ3A3SERxWllkMXJ1endkY21PYzBmNXNkSExEJTJGMUVJblk2RzNlajdwWGwyajNQNTY5V3lmdEk4bXFXWW53SXliR2Jjem9pUjBDaDBDcTZldVA0S2lnc0FtRUJGNEdnMEtzSmhSbVRoOEpDVDA4czdBTVRoWjR1VUhoaW9sQVo5ZjI2VVg5a1dEU1RIWDBsT3g0TlklMkJpOWxqRjBRVzR1bWJjcm8yb1duTGFubnJpYzFsY21PVU9nV2JxbHpsTkxNJTJCVGdTRzhxZ0xmejlINnJlRHJvb3V3dDhIUVJUZFc0MlFmRlEwZFBQSVJtNnBhcFducDE0TmRlb2ZySEJVWkRDYUl1WllsaFpOMnkyc2JXVFJYVXE1UFAzNnZxdEQ3NWZFMnFrNUlpNEhSZEd5bnA0RkJ2S29LMzAzWExiaFZmQjNYM20lMkJEcmRTVkdHJTJGUkhSa3ZWRHZWQVJHakNibDhVdmwwelUxZmhzN1ZRJTJCTVRBaFF4Wm1FYlkzWllSOWkwZ2RVbSUyQlVrN1ZMRHV0VHo1ZDVDUWxSYUFKdTYyTm9IUndxRGNWd1RzSXV5Y1JkbEMlMkIzdGVGcjUlMkJiZHg5TnA3ZDcyJTJCNUslMkJkM3RYaFY4N3pwT3MlMkY3V1pVT01qSXZRdE4weGxiWlhFZ0xIQm9WVGU1Y29MSWJJTXY5c0dlVlloZ1pHSmFLS3dLaU9JRmNIU2lrdXAlMkZYUXFaUWNhRW9wYWx6N1UlMkJUZ1VHOHFnbmRpWUhzb3BYJTJGWnNuRWtGUlhSVkgyYmlROEtpSzZtZ0FqT0piZVJjQlJNMHVtSVV6bndrY3czaGhIZHpJd3h1cUZTd2FCMVF4ZFVGSGtUbUliT1UlMkZtUUZDbCUyQnZXSjNuU1RCdXRCdGxuYVl2JTJGSTkwbkxVayUyQjU2cnVndVRpdVB3ZXdFVHJzU1FRcXNtSGJEclF3Y0xqQnVlTm93MzZaVkF3OVdoTFY5V05YQTAwWmxiMW8xOE9wdTIlMkZTMDJMYnA2U0s0S3BVVVdqWHd0TmxjZVhDb054WEJPekd3UGFwQno5T0ZZWiUyQmJLWHQxdDg0aTBBMWduaTViWW1WZ2cxNzllejFsNG95ajZYS3RnVjdmZTlyOERIN2k5WDBsR2duUEFOVW94MjVtZmU5MDkxcmZ5OTBiV2Q4TFZ4aDh1NzRNSE5EcmUyVHFqNyUyRlY1QVQySm1iSGdWM2ZJNVVNbVJFWTFRV2w3a1pUcE1WR1U2VExSbE9sa2tLdjc1RTJFdGpCb1E2cmNUSU1iTSUyRjYzamVWWVo5TUYwQjFoVkVmOUlsclNCZkJVd1pFYUYwQXFUJTJGZm1VYnZsUm9GclFzZ1UlMkZjeVZhTlJEN2EyeVklMkJsT3BjdWdQYlRCWFpzUnppdkxxQUtpcWJkYUNnREI3Z3VBTXAyMnF3TCUyQkVjNiUyRkZqYzZNUHFBZ0ttakF1TXlvTGkxNDRnTGU3JTJCRnBmVGZocmN0Z2M4JTJCdHBJWndlSE9yQTJLaiUyRmhzZVQlMkZwblVCYmZTemxqMzR6MWQzM3h2SCUyQnRyMjlHWmZYY0tYTiUyRmJQRGQlMkZZTDNzTW1xZjMxRTBzOTlNaENkbjhtZVVZYWIlMkI2cmZyRmJkUXY2cEwyRHB2b0YzbEQlMkIlMkZrY3c1cjVuOHBsMVQzJTJGWno3biUyRm44JTNEJTNDJTJGZGlhZ3JhbSUzRSUzQ2RpYWdyYW0lMjBpZCUzRCUyMjZqQWFzY3FDaGNLWTNKdUZCdVJUJTIyJTIwbmFtZSUzRCUyMlBhZ2UtMiUyMiUzRTdWMXRiNnMyRlA0MSUyQmJnS01KRDA0NzFwN3lidGJwcFVhZHZkbDRrR04lMkJGZWdpTkMybVMlMkZmcWF4Q2RnaEVFaDg3RkNwcXVJVDgyS2ZGeiUyRm42YkU3UXRQbDl1YzBXQzElMkJJeUdPUjQ0VmJrZm9ZZVE0dHVzNG8lMkZ6SENuZDd5Y1IxOTRKNUdvV3MwMEh3RlAySG1kQmkwazBVNG5XbFkwWkluRVdycW5CR2tnVFBzb29zU0ZQeVZ1MzJRdUxxVTFmQkhFdUNwMWtReTlLJTJGb2pCYnNGRjQxa0glMkJDNDdtQyUyRjVrMjJMZkxBUGVtUW5XaXlBa2J5VVJlaHloYVVwSXR2JTJCMDNFNXhuRThlbjVlWDFmUDAxOSUyQkQ4UEhmMlAlMkYlMkI4R2Y0ZFUzJTJCJTJCV2wlMkZzeSUyRm5YRklNSWNWSmR0bGJNJTJCV3VzeDJmTHh6UzZXTk5rbVlMTWlkSkVEOGVwSjlUc2tsQ25OJTJGVm9xMURuNiUyQkVyS2pRcHNMdk9NdDJ6QmFDVFVhb2FKRXRZJTJGWXQza2JaMyUyRm5sZHg1cmZXTTN5ejglMkZiTXVOSFc4a1dib3JYWlEzdiUyRkg3NVkzRFplOHRmdDElMkJmUG1nS3Vhd0pwdDBoazlNREdLbUdxUnpmR3JPdlphNnNRdURvWjZHeVJMVGw2VFhwVGdPc3VpMSUyQm5JQk0lMkZsNTBlJTJCZ1Z2cUJhZllNTGJQQnZBYnhoajBwa1BTZTRXMVdWZE02UzhrUFBDVXhTYWtrSVVtdSUyRkpjb2pnVlJFRWZ6aERabmRBWXdsWDklMkJ4V2tXVVElMkY4eEw1WVJtSDRiamx2aXlqRFQ2dmdmZWJmYUx5UnJJbTlLTDBCM282cSUyRnR0dGd0bGRYT2JETElpaE1XdSUyRkhVSUNkJTJGTkZLUnB3MmNVMTRuNzQzVWwlMkZhdlM3ZXhQOHpwUDhUbEo3VmFuSEhLU2tRRlhlNGJiekR2dGEzdUdiNGgxZHJWeVY5YkpMJTJGeUFSZlV5aGJzJTJCNm83aHU0bzNaYjd1aWZXY3NxSFh2aSUyQndlZ21hTGwlMkJxdTdER2tzdTJ5cWd2Rk40WENjaUFzeGNXYVVMaW1FNWg5eXFFc0ZUekhaUGFEQzc5RWNmRkNTU2gyb2FKU2g1Nm0xaGhRYmQlMkJFaURvQmpReG5HRXRGNlF3b2xYVnV0ZEY1VjR1N3RxMzRFOUQ0NVZqQ2VtVmJkNlZ3NWlMVUtvRFJ1UTkycFc2cnZNUDYxR1BGcDVidjF0VGQ4VTkzdCUyQiUyRjc5UmRlaDM3WWolMkIlMkJpc2ZyZVVFQmpBY045anBUMFJ6U3E4VDRISDgzckV6SmhmZUxES1huSXM2VDYyMDYxSjVxbDJ2WUh4OVhnVWplQ0RXMlo1dEp6ZFJJOUJEcmR0bzFob3pwYnVpb0RQbzdWN3JWS3VHMFBVdDBxTXU3R3hLcFZTdDdYMkJyRHFtTUdwUEVORGF2Z29CJTJCVTJkSWFlRXphZW9qVnp6SVVlY2hFOGhBeU1OQnZpJTJCUUlPT3ElMkYlMkYzQyUyQjB6NTFJOHNUSDQ3Mnk1UGtJdEN3djdBWTdWMmtzNm1yc3VBYWloWUp1QjhVOWglMkZ4aXclMkZZZjBIWTc3UmxVNUFxVUZOamxaNFFoOFFBYzIwN05JV21rUUkyZEVMaEdNUFRLTWMwYmN1R25MRVJtRVl1SE5wSXFyJTJGeGhNTFhMS0Z3akNsS1V1NThZOTBXdm42S0hwdXlQb2t1QXA1UXdGYm5LRWdvb0tIYldLdUVBcFJpVVY2NTE3V0lxNiUyQnQ2Vk9OMVc4UGdqRThqUmhXb1dFJTJGTW9hbnVURHlhQVlVc1B4T2Jha0x2OFhleDY4V2dCRW9vNk16SkVXdHVSZ2pLbHVRS1pSSkFVRjBnYVRJR01xa3M2bkRscmJRR0tnUkpFVTNYOXJTMTB3YUk2SnJ4bzVXVTRwU3BJZ0lqaWFQMFJ0JTJCc016bkk4NEp4V2V5TGdUenJKaWF3VENQa3NhZ21VY0VRNnRjTmtBQkxVOElDY3FjdEZ1UTVIV3VabnRPRTlZJTJGZDVOUjhkZTRsdHVBeFA1OGdGZmRCb1RrZlVCRE8xQkFqQktPQnh3bE9OTFdIJTJCbXFaZ2xjQnpZRTFaMDlvWWdsY0lkS0h6VmlZbTRZTjRLSiUyQlhDMHg4VFNvZ3pORXJqSUZCZnBiT3FxTExnMkJtckVFcmlncE5BNUxFRmZkVGNmWCUyQlVhRWRsTU9VaEhpbXpRMmI0cjh5UkRRJTJCcVNUcUR6ZWZmbVQ3enBITFpnenhWQjRwRWFMY21DczNOOE1YZHN5dkZGUmtwRmp1JTJGS201cUdkcEtCR0RuZ2MlMkZ5aGJtcHF4akd3TktNcm5raWtPTWYzaGtyJTJCTko4bjJkcUNqRURDZkRqNkkyRnhMWVhPOFQxNW9qUjFrYzZtcnNxQ2EyT2dSam0lMkJCMHJwNkF5eXVaazAxNVdxNHMzNyUyQmJWcmFrU0U1Z1k4bVZVWkhNSVhkUUxORFhpZ3U0eTBEbHVxZHU3VnJHN2lydGtyY1FPdW1ITTJjQU5pZnlYY2dDZlhFQTF0ZjZJWU9jQzVBYyUyQll6VmVxdVFGZXFRTVZPZXAyc3FyaUJvWktHalV1S1Z3eE40S0UlMkJYQzBSOExTV2dyTkRmakdsTWgwTm5WVkZsd2JBelhpQnZoa21PY28wQ21qTDI5RUdocndrM1FDblRMNnh3aVFja0glMkZldUFGJTJGYUxHd0tHNkx4TXZqOG1NaEhRQ2g2VVpVVEZJVm95clZERnl0Y3dESHFKaXBPcDJjTTNjZk0wTTZGa1RmdHNEZWMzWUwlMkIzTHRTdjlBRjdaalVjT0NnTThlWmxKUGslMkIlMkY4V2NUJTJGUHh5VGM4VTklMkZzY2dZVDJaVHlUTmclMkYlMkYzSGFQdlElMkYlMkZJaGc5JTJGZzglM0QlM0MlMkZkaWFncmFtJTNFJTNDZGlhZ3JhbSUyMGlkJTNEJTIyMjE4bjExaXBwZUM4YnppMjR3UXklMjIlMjBuYW1lJTNEJTIyUGFnZS0zJTIyJTNFN1YxYmM2TTJGUDQxZWVsTWR5eUo2JTJCUG1zdTFEZDdvejI1bHVuM2FJVFd3YWJMa1liJTJCTDk5UVViTUVoMkVKSGhTRExKVE1iSVFPRG9mT2Z5NlVpNklYZkwxOSUyQlNZTDM0VEdkaGZJTW5zOWNiY24lMkJEc1lkSTlqZHYyQjBhTEE4Zkd1WkpORHMwb1dQRDElMkJobldEUk9pdFp0TkFzM2pSTlRTdU0wV2pjYnAzUzFDcWRwb3kxSUV2clNQTzJKeHMzJTJGdWc3bUlkZndkUnJFZk92ZjBTeGRGSzlsVDQ3dHY0ZlJmRkglMkJaelFwdmxrRzVjbEZ3MllSek9oTHJZazgzSkM3aE5MMDhHbjVlaGZHdWV4S3Vld29lcnA5Q3AlMkZkNEslMkY3bjRINzdkSCUyRiUyRnYzWHc4MCUyQmRibWtlb1VrWEtVWHZqVnhEemYlMkZFY1RiUW1MRjI2YTdVb1FKM2E1bVlYNmJ5UTI1ZlZsRWFmaDFIVXp6YjE4eW5jbmFGdWt5em81UTl2RXBpdU03R3ROa2Z5MTVzdlBmckgyVEp2UTVySDNqN0glMkZ5SyUyQmdxcmJVZmZyTDI0c0hDSkExZm1iNXNFUVNxZWlmVDZwQXV3elRaWmRjVmQ3R0slMkZ0dzFEMSUyQk8ya0djb20xUjE0eXlNU2cwY2w3ZCUyQlNqMTdFTWglMkJBNmQ0RTh1M0FkOVNjNXRTZzRoWG5SVlcxMTB1QyUyRko4WElLWnhuNmkwT2FwQXM2cDZzZ2ZqaTIzallsZVR6bkQwclhoZnolMkJEZE4wVjVpeVlKdlNwblREMXlqOWxsJTJGJTJCd1M2TyUyRmlsdWxuJTJCJTJCZjYwZjdNcURWZmE2dFl2eXczJTJGSyUyQiUyQlVIeDh2MlIlMkJWMWglMkZmTFglMkJvZCUyRlpnSmhtNlRhZmpHZVlWeFQ0TmtIcjUxUCUyRnUwWGlSaEhLVFJqJTJCYkRYYnlYQ1FlUGdPdjNUTlBUWmpjMURjNktya0xHT2hWTlFSek5WOW5oTkpOb21MWGY1cmlKTWdmeXNmaGlHYzFtZTgwNWhicW1OZzBFUE96eHdNTkQ0czRhY1NlSE8xc1FkeDRrN213OTNSSzJ4ZENCJTJCa0tIQzRrT1ZNZEdoWlEyZE5TeFVZTUtFRG84UVhRZ1VMZUVKc0JtRUwlMkZMRHVKT2huQ1RkVUw2TWMlMkZEamg1ejMlMkZZcHlxVlZYREVyejNpTTZmVDUwRlNjZ0JUU0YzY0NxeTgyckw2NCUyRmZ0Tm85VEZsJTJGVyUyQiUyQjB1emR3MTJ0UlBXTkZxbG05cWR2JTJCUU5SMiUyRm0yUTF2aGx3bXJXZE9yMXpiNmZPekQ0Y0hPT3B0OVNidlYyVlAwOGpnUk1JNmFOenNqM0d6SEhUTERtd1BEVENzcWVjQThzaDF2ZGtwYThXanFwS3pJc1Qxd0FpJTJCYnVERGVzVGxXQlB2eEVFRU9uRkZvQW1OQ1prckVpVjJNTEIlMkZjbUNONFppNmRsVVk5NHd0R1VwaFFFbXRJYnluV2VyaSUyQjVMcThxN2N0UnI5SzVOUnJ5VjV0ZDg4djUlMkZrRmVuQ2EzUHhBWFQ2aW9DOWhnRWh0Q3NhUXN2aVY2NmolMkJhb1F5blc5NGZrclVTMSUyRjlVYndTWUxQMXlNNDkzWHhUeXhFb1BOWERFcnhtSkMlMkZscXJXRGhGWSUyRnpRQk5vWmolMkZ0cFZZVnhnd2dONDZHVWNlJTJCMm9MMFh5QTZVdzVYUHE1NFNoazBSTXhqaFZFaU9XcUJOMlFDRmljUkRaY2wxdmVKTG9LSllrWXVBU0l3UEE1MmdSQVplUHFiNSUyRllpRUNuaVNDcGc1R0pJbWlQQXFSclFNUUszbkxqajlnejNhUmRmaExTUE9PaCUyQmNzYnNKb3p5WEdFMHBWSFpOUjZPUkNWREZkQW1tN0VYUXAwcGlNZHRRWE5KRWRmWCUyRmZjS3JMMUFMN2J3JTJCbkVuYjQxUjlnT0JWclExZXprUWgwcGt5QSUyRllieXdYcDdnQ0ZMS3A3R2tjVUdHQjZqQWdmTDBsdEVRY1pTVmRsNXphSTBvM1NJS21jQmRHRVpMYVJZRmtkR2xsRVdJcUtsWk9RaTA2Qk9HZGtQWmNhMiUyRjlzTVhWaVQyM01TUjhiUzU2SDB5YklnVGE1amZCbU5GcW1Yc0xZNExxaUQxcVZXbEhQUTRNbk5LWUxhQ1phNVBPSjhTT2lSYnFxR2VWcUo1bXJHanJnZWd4NDdJdU82RmJKR3JhZElpWjNHN0l2RlJsM3BKb3V0eHNkdjAwM3MlMkJYZ0l1b253YzglMkJ2YlRVbzFuS2NXb2R0V01zeHptdVhKTEtzaSUyRkRMUEVJOVdDTExHaGxPU1pkaUNXc1FhRlpWUHFiNmNiSnFpNFZadktBVWhVanZxaTZyd1dkdG9FSThrd1hLVzNZSnNvZnBicEcxUjBFSDZ5MiUyQnlsRVR5d1lkRlZvOGQzSjFrYnB5QzdlQ3p1QTFJY2UzWlBuSTAxN0tac3Y0ZThyeGJUWjNiTW54MmZNSHlmRXRmdnJ4dFMyZnhWb084QnpmTW43Y1JOSnl0TWN4c2hPYXppRFVBczd4UiUyRkpIMHFXVUthamlrWEQ1bU1wSHdwd3ZoYzd4YlczcXVYcFhkVmtOUG1zREZjcnhiVkJLeDRRZzJ4YmRsOFFCWFJYTjVuY20wY1FpUWtlVE5zJTJCcVhGdUV6JTJGVUpORGRnZzg0ZE5jSnN5YzdIUHVQZCUyRklHNEFUYm5iT01HenRRbDlNb04ySHhkMGJYTk9tY3RCemczWUJ1JTJGT0tpazVXalA3QzZ5WENlSFVPZmNJdXdEY1FQMlNCckp1aFRSS1lyQWtiQXVrd0E1WHdyTkRaU1RFdFdIU04lMkJxTHEzQloyMmdRdHlBbzB1aERBY1U2Q0REd1dQZ3glMkZZSmRNcm9uQ0pBNmtYJTJCbXlzdjhtZDdERHhVZDNqaTVXRTFwYk5NZ05mVk0lMkJ4aUFIeSUyRldJUDJDMThzY3g5ZVk3OFFObVVCN2hnZmR1eW13WXBoUVZxc1NsckVhREV0Smd3Nm9pdm4lMkJ4Y1padSUyRktuUkZtRkI0VjFXOW5sMnBoejI5eWJmMXdadzVmViUyRk9mbXRFbmNWaHhBdnROeiUyRml0TDdTd0FpWGozTDV4T3BhMEFuSTdnUE9sRXM5cUFvMmwlMkZNRnhaanlWckFmT1JJbHJEN1FreWVYWkZFVnh4dTdsQkE4MDQ2bDVQWUNHUllFR09yJTJCdmZFd05nTVlPam9JRHpmajZXRDJBSmxwUzVvR3VDT2Z5aktxcVFGTXRSWE41YXZORlRkRXhRYmNMTFRpZWUxUlVjR3dVQlM0NXZoaEpWY2tSdFNTSFlCZHc3Rkp0cUlkNzYyZGFJajYzMU15RlN3OFJNMDdXc204d2UzcjVXTDJ5cHk3UG5xb0tka2N0c1BzWUV1dGpDTnpnUkVXMlJ3RE5OY3ZIZkt0RUpydE50TjZFN1JBTE51dHdtciUyRnJVJTJGU2FLMU4lMkZNUjJ6VkglMkI1eTNnTmMlMkJnRTVucXJLJTJGT05YeUJaRDh5SnBwMHVhTnJwQ2N4a1VnOXphS0lhNkVCWGtSNUIxJTJCQktSVUFIdW9HaUo3QzBrSUtnSTZxQnp2ZzlEJTJGVUFuZWlLM3RLcHFoem9CRmIwVmhCMGptS2dRM2gwZFNxZ3p2Y0VVWWNRcUslMkZ6JTJCV1diZjNBS3BBUjV3bEZlME9NYXlQeE5mZldBbXVoVVBJUkI1JTJCS1Z6NmtCMUxpaVdYQ29qV1dlS2tDdEd1Y1R3QnFHeEZyMW9CcUFUYlZTVDRUSFdrODF3Q1phN0lrdzdMN0o1WU9xRHpaMkZoTTgyTXpmNEU0UHNDRXNDTGJMYkNiVWVSNlRmM0xvJTJCT3cwSm5ZZ2ZvaHBUSlVNNjNiZ0Z6VU5BVHZQMUFHM0E5cXNOMkcyMDBXT3FOTkZzaEh1dXd4QnBZS0Y0clpzUGM5R2wwTXNCVmJKOEMwdWQ3TUkxdm5IelhiNVVORzY2ekNKc3YlMkJlejRHJTJCTDhqZUw4ZW1ObHZ4R0V5ZjUzdEklMkZMbE40eWhYc0o0WktZYjhuZkJHWkdEeUY3YW1mVFFoTlpwSllSTlM3amFoc0FuQmZFcGhwQW14VkRNaEJIWmRoUTV4aUNiRzRDSVFid1dsNEhKWm5VMkZwMzYwVVZvRzAwMEZXOGtJYnlwNE9ZJTJCbVFzWlU5TE1JJTJGMENtZ2lBTlRJVkFPYVVCcG9LdzlaZndwb0l2TSUyRmlZcHRrN1JuVEY5WURaQzJteGMyUk9NTkFYV2tnck8wd29UZXNZeWw1MDhabk93dnlNJTJGd0UlM0QlM0MlMkZkaWFncmFtJTNFJTNDJTJGbXhmaWxlJTNFYPKOVwAAIABJREFUeF7tnQm4FcW1tj8mEUUQ5+le9aKoiUSNEw5cFRwQiDFqcCJqVIg3zprgQBAUGUSNJGg0OBtU/I1/uGjEaARUTKI4IOZ3IA5xQFBREJQZzv+spvdxc9hDVVd1VXX318/jg+ecqlq13lXDt1fX7m4GXiRAAiRAAiRAAiRQQALNCugzXSYBEiABEiABEiABUARxEJAACZAACZAACRSSAEVQIcNOp0mABEiABEiABCiCOAZIgARIgARIgAQKSYAiqJBhp9MkQAIkQAIkQAIUQRwDJEACJEACJEAChSRgUwT1BjARwPImJOcC2CFlugcDuBnAninbYfMkkFcC/wTQCcDq2MHPANwFYHiFOZ0Gg5UANgOwII3G2SYJkAAJVCJgWwTdAGBXD6gpgjxAp8lcERAR9CsAE2KvOgIYB0B+38+BpxRBDiDTBAmQwNoEXIqgXwDYD8D6ADoAWAHgJwBmAxARc1P8N8kkXQTgOQAHArgRwIZx+asA/Dl24TIAZ8efHGWh3ivOBLUAcA2AnnG5NwGcB+BLAF8D+BOAowD8AMALHBAkQAIRgaYiSH4nmaE3AGwJ4AsAJwGQedwcwFfxPH0NwHoA5APQ0fE8fQbA+TFX+f2RAFYBmB7XWRiXHRWX/weA/mWZoGp2Lo/Xit0BvAzgeMaOBEiABEwI2BZB/wtgUZMOSUr9knjx/BmA7wFYEqfa5wAYCuAjACcD+GssfMYA6AbgbQA/jgWRZJimATgAwH8CuB3A3rEIujduV26HXRD//sx44R0AQBbN0wAsBXApgLHx30qpfxOGrEsCeSBQSQSJX/MBHBN/gJB51jUWQPsDeAjAjgB+CeAIAHJLXDI6jwB4AMDOALrEYkV+fxuAlvF68D6Aw2MxIx9mZD7LhyNpr5od+eAjYknWEPkQtSwP4OkDCZCAPwK2RVCt22HyCfK7AH4auys/S8r9DwDuA7BTEwwigq6PBU3pT7K4ilCShbIVgIvjPxwE4JY4E/RkvPjKJ1W5ZNEV0bVvLIK+A+A9f8hpmQSCJFBNBEkGVQSOZE9lvknmtnRtAUDE0J3xHJbbZ+XXs/EcfjT+Zed4/soaMCzO3sqfJLMkc1QyTj+vYedUADJ/5QMNLxIgARIwJuBaBInQOadMBMnPkim6PxYuJYdksdwmXij3KfPy/wKYCmC7OAUvt83kkttskt2RTNDT8adQWZjl2gBAWwBy0FMyQVJ3njE5NkAC+SJQSQTJPHwpvk0lc01uj8kt7NIlGVnJ4sotapnD8p9cW8X/yoeWEQAei3+WDI7M377xgevyLzJ8A2Db+DZaNTuSCZL5K7e3eZEACZCAMYEQRJDcKnsnPm8gnxwlfS5iR25hvRWn0uV8kCyML8ZnAjaNP3nK7TARNJIFkmyQLKpy++tEAIfGt+Z+F6fZ5XYbRZDxkGEDOSXQVATJBxQRNXJuTm4xy7yULKtkVOU2tcwxyfxKVlb+LtkiuW0mt5jlW6IijGSeygcUObsjt69ujeei3NKSbKzcPvt73Nb4+G9y27uaHckeUwTldADSLRLwQcC2CJLFb3EFR0TAnBLf8mqaCZKfZYH9dZy1kfv8sqjK4ivnD+SWmByMlsVVUuj/J25fDl7Kf3LIUsSRHKIWESS3yeRrvbLASh1ZsOXMgaT1KYJ8jDLazAIBEUFye1oOMMu8kcypnOuRLxnIeR65zojP1DXE81xuXb0Szzk55CxCSNaUp+JzPzIX5fdy9kduS0tWSeaszEX5kDIagLQlB6bl7J8IKvmKfDU7cjCaIigLo4l9JIGMELApgjLiMrtJAiRAAiRAAiRAAms+tfEiARIgARIgARIggcIRoAgqXMjpMAmQAAmQAAmQgBCgCOI4IAESIAESIAESKCQBiqBChp1OkwAJkAAJkAAJNOvfv798O4MXCZAACZBAgATGjh3LD6sBxoVdygeBSATddJO8tosXCZAACZBASAQuvvhiUASFFBH2JW8EKILyFlH6QwIkkBsCFEG5CSUdCZQARVCggWG3SIAESIAiiGOABNIlQBGULl+2TgIkQAKJCVAEJUbHiiSgRIAiSAkTC5EACZCAewIUQe6Z02KxCFAEFSve9JYESCBDBCiCMhQsdjWTBCiCMhm2sDt9yimnYNq0aXjrrbewwQYbNHb2mmuuwUEHHYTu3bvjvffew7Bhw3DnnXcmdqa8vdGjR2PWrFn43e9+l7g9ViSB0AhQBIUWEfYnbwQogvIWUc/+zJkzB126dME+++yDo48+GmeffXZjjw4//HBcdtllOOKIIzB58mSIiJk6dWriHpe39+WXX2LFihXYcsstE7fHiiQQGgGKoNAiwv7kjQBFUN4i6tkfye5IRubYY4/F0KFD8fLLL6NZs2byrBNcddVV2GabbTBixAhceeWV+Pjjj9GjRw/ce++9ePjhh/Gb3/wGq1evRvv27TFq1Ch07twZkuGRNpYuXYoFCxagVatWuOOOO/DYY481tnfDDTdg5syZjZmgf/zjH7jiiiuwePFitGzZEoMGDYrsvPLKKzj//POx22674dNPP8Xnn38OqXvwwQd7pkbzJFCZAEUQRwYJpEuAIihdvoVqfeXKldh1110xZswYdOvWDR07dsRdd92FI488MuJQLRP02muvoX///njyyScjATR9+nScdtppeOONNyJhJG288MILaNOmDc455xxstdVWGDJkyFrtlW6HicDac889MW7cuOjW29tvv92YeVq4cCEOPfRQvPjii1E/H3jggeh23NNPP12oONHZ7BCgCMpOrNjTbBKgCMpm3ILs9YQJEyCL9r/+9a8oA3PRRRdFZ38mTpxYUwRdf/31uPnmm7H11ls3+iVZmmeeeQZ//OMf8eabb+L3v/999DcRO++//34kjspFVUkE9enTBwMHDsTzzz/f2JacUTrssMOw9957o2/fvpG4kksyQ3K7Tv7lRQIhEqAICjEq7FOeCFAE5Smann3p1atXJCg23njjqCfLly/H3Llzo8zOd77znaqZoJEjR+Kdd96JbnOVro8++gjbbbddJHZESP32t79tFEGlnyuJoOOPPx6DBw+ODmaXrpNPPhldu3aNziqdddZZePXVVxtFUPnPnvHRPAmsQ4AiiIOCBNIlQBGULt/CtC7ZH8m0iMCQ22Cl66ijjsLOO+8cZXrkXM65556LH/zgB3j22WcxYMAAyPkduT11zDHHRL/r1KlTlP2RM0OSsZF61URQeXulTNDw4cOj22H3339/dDtM+nXIIYfgqaeewrJlyyiCCjMi8+EoRVA+4kgvwiVAERRubDLVM/nW1+zZs6OzOOXXlClTcMIJJ0Rnc0SYyJkdOYwsAkYyOXLNmDEjqifZHjlELWd/RNSImJF/q4kgyRKV2ps3b17jwWi5FSa3xORgtLQnYksyRJKlYiYoU8Oq8J2lCCr8ECCAlAlQBKUMmM2TAAmQQFICFEFJybEeCagRoAhS48RSJEACJOCcAEWQc+Q0WDACFEEFCzjdJQESyA4BiqDsxIo9zSYBiqBsxo29JgESKAABiqACBJkueiVAEeQVP42TAAmQQHUCFEEcHSSQLgGKoHT5snUSWIvAhhtuaJ3IN998Y71NNhgGAYqgMOLAXuSXAEVQfmNLzwIkICKooaHBWs/kEQAUQdZwBtcQRVBwIWGHckaAIihnAaU7YROgCAo7PqH1jiIotIiwP3kjQBGUt4jSn6AJUAQFHZ7gOkcRFFxI2KGcEaAIyllA6U7YBCiCwo5PaL2jCAotIuxP3ghQBOUtovQnaAIUQUGHJ7jOUQQFFxJ2KGcEKIJyFlC6EzYBiqCw4xNa7yiCQosI+5M3AhRBeYso/QmagI4IWrJkCR599FHMnTsX/fr1i14s2/Tit8OCDrdx5yiCjBGyARKoSYAiiAOEBBwS0BFBsgG+8MILWLFiBXbeeWc88MADFEEOYxWCKYqgEKLAPuSZAEVQnqNL34Ij0FQErVq1CjvssAMmTJiAvffeO+rviSeeiEMPPRTHHnssTj31VKy33nq44YYbsPvuu1MEBRfRdDtEEZQuX7ZOAt5EkK8n59Ku+aDnw/mSM6yUCRo8eDC++OIL3HzzzZg/fz522mknvPfee2jRogX+/e9/R7fB2rZtiy233LKiCEreG9b0ReDggw/GpEmT0Lx585pdoAjyFSHaLQoBryLIx5NzdW5HqAwC1TMZRbOrwq6IZSqNgw8++AD77rsvPv74Y9xxxx2YPn067r77biU8quNPqTEWckagffv2kfBt2bIlRZAz6jREAusSoAgyHBWqmxBFkCHonFSvNg569OiB/v37Y8SIERg9ejQOOuggJY9Vx59SYyzkjABFkDPUNEQCNQlQBBkOENVNiCLIEHROqlcbB4888ghGjRqFRYsW4Y033lD2VnX8KTfIgk4IUAQ5wUwjJFCXAEVQXUS1C6huQhRBhqBzUr3aOJBvgG233Xa47LLLcMkllyh7qzr+lBtkQScEKIKcYKYREqhLgCKoLiKKoHIC3HTNBowvMWzWa9a2TYAiyDZRtkcCyQhQBCXj1lhLVRT42vx82TXEmtvqjEduQ6vlGEWQFi4WJoHUCFAEGaKlCDIEWLDqFEEFC3gVdymCOA5IIAwCFEGGcaAIMgRYsOoUQQULOEUQA04CQRMISgTJczO23357fPrpp5DN4mc/+xneeustPPPMMxFEeXXAxIkTsdtuu60D1USM0K59zkGPeo+dowjyCD8g08wEBRQMdqXQBIISQRKJbt26Rd+O6d27N3bZZRd89dVXeOedd/Dhhx/ihBNOqPr1YRMRRLt6nFVmjOoTcVXaylMZX08szxPDPPhCEZSHKNKHPBAITgSNGTMmyv6cd955OPfcc9GhQweceeaZmDlzJhYvXoyhQ4dW5G4qgmjXLmfVRT4Pk8i2D/PmzcOOO+6I999/H5tttpnt5tleAARU5wdfmxFAsNiFXBMITgTJqwP++7//GxdeeGEkekQEvfnmm3jxxRdx2223YY899khFBNGuXc6qi3yuZ1dC50QAffbZZ9h4440xe/bshK2wWsgEVOcHRVDIUWTf8kAgOBEkUPfbb7/oybnjxo3DJptsgq5du2KDDTbArFmzqjI3zQTRrl3Oqot8HiaRbR/Kb5nxZbW26YbRnur8oAgKI17sRX4JBCmC5P1JN954Y/RpWN6yLAeijzvuOFx33XWpiiDatcdZdZHP79RK5lnHjh0xd+7cxsrMBiXjGHot1flBERR6JNm/rBMIUgQlgWojE0S79QmoclZd5OtbLFaJSgenmQ3K3xhQnR8UQfmLPT0KiwBFkGE8VEWBr69G+7Krusgb4s9V9Z122glz5sxZxydmg3IV5sgZ1flBEZS/2NOjsAhQBBnGgyKoMkDVRd4Qf66q1/r6PLNBuQo1RVC+wklvMkyAIsgweBRBFEGGQyiqLmfe/vKXv1RtSr4c8MQTT9gwxTYCIKD6IYGZoACCxS7kmgBFkGF4KYIoggyHUGP1u+66C6tXr46+DHD++efjhhtuwEYbbRT9vW/fvrbMsJ0ACFAEBRAEdoEEAHgVQbYjoHLLwNcTe4tmV3WRtz0GevXqhalTp9pulu01ISCZqccffzwSbLz0CajOD2aC9NmyBgnoEPAmglQ6uWLFCvTr1w+33347WrVqpVLFShnaNceousibW1q7hXbt2mH+/Plo0aKF7abXau/qq69GmzZtMGDAgFTt1Gvclb9N++HLbj0eWfm76vygCMpKRNnPrBIIWgSNGjUKw4cPx5VXXul0s6Fd8+GsusibW/IjgoYMGRK95PeXv/ylbRe02vMlRnzZ1YITcGHV+UERFHAQ2bVcEAhaBMnTopctW4b11lsv+nTv6qJdc9Kqi7y5pbVbkDM08tLdtG/TDB48ODqv84tf/MK2C1rtufK3aad82dWCE3Bh1flBERRwENm1XBAIVgRJNmbkyJGRCGrdujUuv/xyJ9kg2rXDWXWRtz2LXG3OFEFuxKbt8RFKe6rzgyIolIixH3klEKwIKmVjSuBdZYNo107WTXWRtz2xXImgq666KnrWy6WXXmrbBa32XPnLTJBWWOoWVp0fFEF1UbIACRgRCFIElWdjSt65yAbRLqxl3VQXeaPRW6Fy27Zto5fvyqML0rwGDRqEDh064JJLLknTTN22XfnbtCO+7NYFkpECqvODIigjAWU3M0sgSBHUNBvjKhtEu2tI28i6qS7ytmeOq82ZIsiN2LQ9PkJpT3V+UASFEjH2I68EghNBkydPRp8+fdCyZcuIuXxdvfT1+FWrVmH8+PHo3r279XjQrl3Oqou87UDKN7ZUnhdlavdXv/oVNt10U8gm5fNy5W9TH33Z9cnapm3V+UERZJM62yKBdQkEJ4Kki7Nnz27saadOnTBr1qzGn7fddtvU4ki79jirLvK2g+lqcx44cCA233xzXHTRRbZd0GrPlb8UQVphqVtYdX5QBNVFyQIkYEQgSBFU7lHRFvm8+Ku6yBuN3rLKQ4cOjZ5gXDoL1LNnT0i2Jq2rJILk/JHYlTe9y1fz07Zb8se1v77tphVHX+2qzg+KIF8Rot2iEKAIqhLpvIgR1YFs21/VRV61f9XKffHFF/j+97+P0aNHY/fdd8cee+yBGTNm4PXXX48eZPjSSy9BznrZvuSRDffddx9uueUWp3Z9+evLru24hdKe6vygCAolYuxHXglQBFEERQSyKoK23357zJs3Dw0NDWtFUs6PyTcK5ZbVu+++a33+0u4apGlzth64QBqkCAokEOxG4QlQBFEEZVYEyS0hyf6ceuqp0W2wkhAqbcwrV66MsjVypkxevWLrot01gjNtzrbiFWI7FEEhRoV9KiIBiiCKoMyKoAMOOCASOXILTC4RQiJ8JAMk/8r16quv4swzz8Tzzz9vbX7TrhvO1gIWYEMUQQEGhV0qJAGKIIqgzIqgo48+Gs8880xjBCUzIY9WaHpr7JBDDsGkSZOsTXDadcPZWsACbIgiKMCgsEuFJEARRBEUhAh6+umntZ//dOCBB+Kee+7BnnvuudatmfJbY6+88grOPvtsTJs2zdoEp901mba0OVsLWIANUQQFGBR2qZAEKIIogryLoA8//BD77LNPJGSuuOIK5TezX3vttdh1112jM0Hlt8BKt8YkIyQiSQ5GS7u2Ltpdc6sxbc624hViOxRBIUaFfSoiAYogiqAgRFCXLl2i5+yImJEMg6oY2nHHHSFf3y6dASoPp7QjD9csf9imrUlOu9+STJOzrXiF1g5FUGgRYX+KSoAiiCIoKBFUCke5GLrwwgsbX53SNFwLFy7EXnvtheuuuw6dO3eO/l9ugc2cOTN6WOLLL78MedO67Yt23XC2HbdQ2qMICiUS7EfRCXgTQfJcGl7ZJKDybq5evXph6tSpyg62adMGS5YsWae8vDfuxz/+MW6//faabQ0bNix6cnO7du2it8j37t0b8kDDtC/adcM57Ti6bp8iyDVx2iOBygS8iqCm3+Kp1MXyw5cug0i7VQZMs2bWX1AqZ4JKt8NKVuVN9qXbYpIJkp/rXfKy3X79+kWCqfTS3Xp1bPyddm1QLFYbFEHFije9DZcARVCV2FAE+RFB5eJHXnuhc40aNQrDhw+PHow4YMAAnapGZWnXCF8hK1MEFTLsdDpAAhRBFEERAVXRJ+VUbofpjPXSt8PkcLMciNYVPyVb8o6wZcuWRVmj+fPn63TBqCztGuErZGWKoEKGnU4HSIAiiCLIuwiSDiR5TlB56CQbM3LkyEgEyaFqOQ/kIhtEu244B7h2GnWJIsgIHyuTgDUCwYqgQYMG4dFHH40yFHIdc8wxuPrqq605Xq0h2q3NOY1MkI2glrIxpbZcZYNo123WzcZYCaENiqAQosA+kAAQnAiSWyLbbLMNbrrppujlmPJeqBkzZuD111+PbpPMnj0bLVq0sB472lXjXE8ETZ48Gd26dbMen1oNlmdjSuVcZINoF06zbk4HVcrGEoigIwA8lXK32DwJFI5AcCJo8803x7PPPovddtttnWC89tprkPc2ffLJJ9YDRbvfIq3FuZoIKgkCEagiWuUhha6uptkYV9kg2l1D2lXWzdV4cmFHUwTtAOD/AZBPf5IOH+mijxm2Ic/GEGbnZNgHdt0RgaBEkNyKKr0GoZr/8tbw9957D0OGDLGGiHbXRVmNc1MRVBI/0oKcx5EHE8oDCl2JIMk89enTJ3pxqlzydfXS1+PlNRzjx4/XfieZysCiXTecVWKRxTIJRNBrANrLNAPQQDFUM+oUQVmcFGv6vB2AswD8FoCtb7d0AHABgDsBfNwUTVAiSF6Eee+990a3wKpdr776Ks4666zoqcC2Ltpdl2Q1ziKCFixYEN2ulIPIJfFTasG1CBK7cou0dHXq1Gmt12SkKcZod1Yj9zQ525rnIbVjIIJKbpSLoRtF/9fwT8TT7+PsyGYA5gE4CcC/Q2JisS8igo6MM2ebAvgngP+xuKla7KqVpn4FYCsA58Wtyc8S54ustJ5+I5Lh7AmgP4BOAO4DcH38/2Ml2QygOYAxAO4GIJ94b4hjvArA9NjXhQCGA+gdz4c5AM4AIL+X562cDuBtANLm4wCkblhngg477DBMmTKlLnLVcnUbiguotqdaLs92RQTJE5wnTJgQZV2aXuuvvz6WLl2qioDlSECLQNeuXaMngzdvLmtidi/dJ6oDWAxggwoeLwfwYLzYVwPyUwDfA3BxXOAeALJB1Hqr8GAA9tLtwDMA5LDgagdRExF0PoB9Yj9FAEr2rNbtsSz7m0QEheLvyQCuAfAigDsAyGsGJFZy3RsLnJsBbA/gWgA/ATAQQBcAxwOQtznfFgujoQD+HmeT5PfCRQTSX+L25FtWMgYl07QvgKtk7gSVCZL3Pt19992QzEy1SzJA8lRgueVi66LddUlW41yeCRoxYkRUcflyWYfXXD4yQeW9l9ex2H6Okco4o10VSuZlVDMo5pbCaOHiiy/G2LFj5XxL6XZYqWOSCZJLzghJJujbSVi563vHG0fH+FO3HLIWoeDqkk9MbeJNK22bIoK2BnBhbEg2vIcA/Ffahsvad+lvEhFkG0VSf09sIoJELJeuY+NbWE/LU1QAPBJnMZ+NM0WPxgU7A/grADmIKn+Td3I9EWd7ytsTEXQIgLMB7AdgkIyLoETQ4MGD0bFjR5x22mlVA3TPPfdAHq531VUi4uxctLsux2qcK50JKhdDFEF2xqRqK0UTXxRB0ZmgkvhZ8ymk/iW3AvoCuAXAG/HtgrZlt0/qt2BeIukmmcSyiKBNAJQeGy8C8H4AuyZpLGEdl/5KZmQbAOfGfZWMiLw12uXtMBN/S7fDfgZARLpkKm+Khf3m8W0v+XbkUQBE8PwvABn7j8X+SpZTMkgScxE6+wPoHo95yZLKuQ3JgsqtsXfjW8N/LmUlgxJB4tDWW2+NJ554ouK5oOnTp+NHP/oRPv54nbNNCcfpt9Vo91sWtTjX+naYiCE5oOz622HlwS+aKCiavwUWQfLtMDkLIZkfVfFTmhqyQYyPbxvI5ihnDuQ2gZyTcXWZbJK6fRQRdEq8GcpbmUfF7C7RbcigvEt/5SzNmQAOAtAOwLT4cQpZEUHlmP8TQD8Av47P7kwCcBeA9QG8A+CHcSZTMjlyO0w43wpADj9LnOXw84Hx7WM5IyXCSbIqEnt5C/eHTWManAiSb/Rst912uO6669C5c2fIrSq5NTNz5kzIt7g++OCDVM4D0K4a53rPCTJ98rPBohNVLZooKJq/BRVB8ulWDvo+mXB+yEYwOj4Y3Cq+tSa32A5P2F6Sai5FgYggyQTIuRBhNzfOen2dpOMJ67j0V4StZLrkHIls8i/Eh8KzKILKcUvWRw4xy21UOUsm2Ru5hdU6FjwyfuWDwUvxrd0vAQwDcAKARbEQknNgkv2segUngko9la/AT5w4EbLoLVy4ED/84Q+t3gKrRoR2a3OuJ4ISLhjWqhVNFBTN3wKLIGtzxFNDLkWBJxfXMkt/Q4iCQh+CFUHSd/n20emnnx59bb707BcFn4yL0G4N1ZzCC1SNA1bWQNFEQdH8pQiyOVuctkVR4BS3c2OZjW/QImj48OHR+8LkEPTAgXL2y81FuxRBuiOtaGLEl78UQbojM5jymd0kExKkvwnBua4WtAiSZ87IU4jlsfzyr6uLdimCdMeaL1FQNLsUQbojM5jyFAXBhCKVjmQ2vsGKIMnGXHPNNZH4kZdhyqFoF9kg2q3NmWeCKi8gRRMjvvylCEplA3PRaGY3yYRw6G9CcK6reRVBrp2lPTsEfDyMULXnvjZn2lWNkFk5iiAzfh5rUxR4hO/AdGbj600E1QpK6aWc5bfAJBt0+eWXY8CA0vOv7IeVdhFl3dLmbD9y37ZIMZImXf+cKYKM4itfj5dXEcg7lGq9a8zISJXKmd0kE8KgvwnBua4WpAjaZJNNKp4BkrNB8+fberHsuqhpdw2TtDmnOcgpgtKkSxHkhu63VuLXZsizbmxc8q4weR+YPHBRXjTp8qIocEnbva3Mxjc4ETR58mT06dMnevKwXPJ19dLX4+WBhuPHj0f37vIcLLsX7brhbDdq67ZGEZQ24TXt++LMTJBRfOXNxvKgOXnPmPzr8srsJpkQEv1NCM51teBEkACYPXt2I4dOnTph1qxZjT9vu628Iy2di3bdcE4nen43Z1+ioGh2KYISzx7JAsmbw0X8yFdt5c3dLrNBFAWJQ5eJipmNb5AiqDzkRVvki+av7eldNH5F85ciKPGMKWWBSg24zgZldpNMSJz+JgTnuhpFUBXiRdtcfPlre8D78oN2bUeycnsUQYk4l2eBSg24zgZRFCQKXWYqZTa+FEEUQREBX5u47Snuyw/atR1JiiAhYOlgtAge2aS+AbAFgM9kygOQb4u5OhuU2U0y4cimvwnBua5GEUQRRBHgE/mqAAAgAElEQVRkYdZRBFmAqNAEM0EKkNYuIm/afjh+y/Y4AA3xm9X7AhgDoA+Ap7Rb1a9AUaDPLEs1MhtfiiCKIIogC0sNRZAFiApNUAQpQKpdpCSCjBvSbCCzm6Smn6Xi9DchONfVvIkg2TRsXypPMqZdc+oqnM2trN0C42ZOVCVuvjiremdbBIXur6XbYeV4KYJUB5tZOYogM37OansVQQ0NMh/tXKrvtJJFj3aTM1flnNxC5ZqMmxlR1bj54qzqXRoiyMd6oOovRZAqqeDKUQQFF5LKHaIIMgxU6JtL6JuaKn5fftCuaoSqLDDNmkElA6VqhSJIlVTVcswEGSNUaoAiSAmT/0IUQYYxoAgyBKhYnWJEEVSVYqGPU1XvKIJUSVEEGZMya4AiyIyfs9oUQYaoQ99cfIkHQ6zrVPflB+2aRVJ1fqhaoQhSJUURZEzKrAGKIDN+zmpTBBmiVl3ki7aZGmKlCCrY2TXV8dKzZ08899xzkHlXflU612PyO9X+NC2nuh6ots8zQaqkgitHERRcSCp3iCLIMFCqix5FkBnoovErmr+qo0OEzerVq9cp3lQUSQGV3/nirOovRZAqqeDKUQQFF5IMiaCXXnoJJ510Et555x1ljDbECO3Wx63KuX5LeiV8bVa0qxentDMjZr1Zt7av+Kr6QRGkSiq4chRBwYWEIigiUGvRowiqP2opguozqlVClZ+vzdmXXTOqyWuH7i9FUPLYeq5JEeQ5AKrmg7wdVi5G/v73v0dZoXHjxqFr165V/bKxudCuPc6qA1C1XK3N6pRTTsHee++NSy+9NGru1ltvxdSpU/HQQw+lOl5o1x5n1XFgu1ytcbV48WL8/Oc/h6wLm2yyCXbZZZfoQ9To0aONx5WqHxRBqqSCK0cRFFxIMpgJuueee3DGGWfg4Ycfxl577VUTqU0RRLvVUatytj3+a21WU6ZMwQUXXIDXX389Mrv//vtj2LBhOPxweW1SlYGv+Pwa2v2WX5qcbY8X1fZqxXfQoEF4++23MX78+OhZRwceeCC6d+9OEaQKd+1yFAXJuGWlVmbjG2wmqFu3btGTnc8666yai05phKhuzvVuh9Fu7Tmnytn2zK0VNxknnTp1woMPPogNNtgAvXv3xrvvvlvxYKzN8UK79jjbHi+q7dUaV126dMGVV16JY445Jmruuuuuw5w5cyiCVOFSBLUBsDIZrszVogjSDVk9MSKf4h9//HEce+yxmDBhQvQprNalujnT7rcUJc2fFmfd8VCvfL2zGyNHjsQnn3yC1q1bY+ONN8bAgQNTHy9igHbtcK4X/7T+XmtcyQciyTDKGiTXr3/9a3z44YcUQcmCkdlNMpm7oL8JwbmuFmwmqPTtsPvvvx+DBw/GjBkz0LZt26p8bIkg2rXD2fZArieC5s6dC/nkLtff/vY3bLPNNk5EEO3a4Wx7vKi2V2tcieiZPHky/vSnP2HlypU49NBDccABB1AEqcJlJoiZoGRjxWmt4EWQ0DjuuOOw6aab4vbbb3cmgmi3MmpVsWl7FNcTQaV4yWY1ceLEuuZV/aDddVHKfLTNuW7AUipQK77i42WXXYZJkyahXbt26NChQ3Q4mgejEwWDmZFE2DJTKbPxDVIEJQm7zU1Nxz7t6tBKXlZFjOi0zrhVpuWLs07sbJbV8ffaa6/FvHnzKIKSBSCzm2Qyd3k7LCE359UoggyRczM1BKhYXWezUmmScaMIEgI644oiSGVmVS1DEWSEL/jKmY0vRZDh2OJmaghQsbrOZqXSJONGEaQrgmyOK5W2pAyfE6RKKrhymRUFCUlm1l+KoIQRL1XjZmoIULE6RZAiqCrFQh+nZt4lr+1rXKn2mCJIlVRw5TIrChKSzKy/FEEJI04RZAhOs7qvzYp2NQPVpLiq+DKzkry2r/iq9pgiSJVUcOUyKwoSksysv15FUELYVavJU13rXbLo2b5o1zbRddtj3MwZhzxOzb1L1oKvcaXaW4ogVVLBlcusKEhIMrP+ehNBTUGvWLEC/fr1i74G36pVq4Rx0K9Gu/rMQq3BWLqJjC/Obrxb14pPfymCfEXd2G5mRUFCzzPrbzAiaNSoURg+fHj0mPoBAwYkjIN+NdrVZxZqjTFjxkDe98QxlG6EfM2ZdL2q3rpPfymCfEXd2G5mRUFCzzPrbzAiSN7SvGzZMqy33nqYP39+wjjoV6NdfWah1thss82wZMkSjqGUA+RrzqTsVtXmffpLEeQr6sZ2MysKEnqeWX+DEEHySUvewSQiSN79dPnllzvJBtGuG84JJ5VWtVtuuQVDhw7FokWLojEkT/qV/9K+OIbyM4YqjRVf8S31hSIo7RmcWvuZFQUJiWTW3yBEUOmTVgm+q2wQ7brNuiWcXErVNt98cyxevLixrJwrW7BggVJdk0LyOpelS5c2NuFq7BbNrkmMTOr64kwRZBK1IOpmVhQkpJdZf72LoPJPWiX4LrJBtAunWbeEE0up2q233oohQ4bg66+/biwvY0jOlklWMa1LziANGzYsyj65HLtFs5tW/Oq164tzeb+YCaoXpWD/nllRkJBoZv31LoKaZmNcZYNodw1pV5mLhBNLqdoWW2yBSl//Tjsb1DRL4GrsFs2u0iBIoZAvzhRBKQTTfZOZFQUJUWXWX68iaPLkyejTpw9atmwZcZevopa+Hr9q1SqMHz8e3bt3TxiT6tVo1w1n64Gr0OCUKVNw/PHHR2OoRYsWjWOooaEBMobGjRuHo446ynpXZAyddNJJaN68ufOxWyS71gOn2KCv+DbtHjNBigELr1hmRUFClJn116sIEtizZ89uZN6pUyfMmjWr8edtt902YTzqV6NdN5zrR8K8xEcffQQRPfJ04u9+97uYOXNmo5jmGDLnW2rB15yx54FeSyH4SxGkF7OASmdWFCRkmFl/vYugcuDy9FaVp9r26NEDzz33XMJYsVqeCRx88MGYNGlSY4bGla+qY9d2f4pm1zY/1fZ8caYIUo1QcOUyKwoSksysv5kUQbYXJNvtqQ6iotlV5ZLFckWLpS9/fY0NX/5SBPmKuLHdzIqChJ5n1l+KIAC+Frii2U04uTJRrW3bttG3xOSWnMuLY8gNbV+cKYLcxDcFK5kVBQlZZNZfiiCKoIRjntXKCfgSQb7s+hIFvkadL84UQb4ibmw3s6IgoeeZ9ZciiCIo4ZhntSKLIF+iwNeo8+UvRZCviBvbzawoSOh5Zv2lCKIISjjmWa2cwEYbbYSvvvrK+YFsX5uzL7u+Rp0vfymCfEXc2G5mRUFCzzPrL0UQRVDCMc9qFEHuz0D5GnUUQcbkM7tJJvSc/iYE57oaRRBFkOsxl0t7vjJBvuz6EgW+Bo8vzswE+Yq4sV2KIGOEbhqgCKIIcjPScm6lXbt2mD9/fvTUapeXr82ZIshNlCmC3HBOwQpFUApQ02iSIogiKI1xVbg2KYLyHXJfYpMiKLPjiiIoI6GjCKoignr16oWpU6dmJIzspm8C8qTqJ554wvlzgnxtzr7s+oqzL38pgnxF3NguRZAxQjcNUARVEUEuPtn7etaKL7tuhnSxrLgYp5WI+hIFvqLrizNFkHHEfwfgagCfGrek14AvEUR/9eIEiiCKIM0hw+IhEfC1OVMEuRkFFEFGnI8H8AcA4wGcadSSfmUfIoj+6seJIkiYVcqMuNhcfGVkfNlNMD5ZpQ4BF+OUmSDAF2eKIKMl4GMA2wJYDmALAF8ZtaZX2YcIor96MYpKMxNEEZRg2LBKKAR8bc7MBLkZARRBiTn3AXA3gA0ALAFwF4DzEremX9G1CKK/CeNLEZQBESSHtKdNm6Y/DavUWLlyJVq2bGmtPTbkj0CXLl28HMj2Jb58ke7Zs2c0B12/IHfVqlVoaGhYadFvmfjNATRYbFOlKdei4BMAW5d1TLJBmwL4WqWzFsrQXwsQazRhLb4UQRkQQXL7Sl7JYOtq37691fZs9Yvt6BNo3ry581d1SC+LJoIaGhoggsT1demll+KOO+5oZdGubM4ihFw741IUnATgDlnay7hJNkh+d4FFlrWaor/pgbYaX4qgjIigb775xtqQ4pkgaygL21DRRJCvQKd0OyzvIuiz+DaYCD3JookA6gBgPdHv8c9ph9SlCKK/BvGlCKoiglyceVAVI6rlVGe17fZU7bJcfghQBLmJJUWQNuf9AEwEcBWAsQBmA9gXwP4AbgMwAMC92q3qV3AlguivYXwpgiiC9Kc3axSeAEWQmyFAEWTMeQ6AvQDMjVtqDWCZcav1G3Algpr2hP5qxpciiCKo6nTu0aMHnnvuufrTnSUKR8DXE7KLBpoiyDjiIn72KNDDEumv5pChCKIIqjpkeNtMczaxOAlYJkARZAxUnhTdGYCcm3F5+coE0V/NKFMEUQRRBGlOGhYnAVcEUhJBLQCsduVDbMeXKBDx810An9PfVAlkNr4UQRRBFEGprg1snASSE6AISs4uriniZzcA84xb0mvAlyigv3px4hOjhVel2z78dlhlLprji8VJgAQMCFAEGcBbU/ULADsD+NK4Jb0GfIkg+qsXJ4ogiqDqI4ZngjRnE4uTgGUCFEHGQEX8dAQw37glvQZ8iSD6qxcniqBqIqht27ZYtGhRqo/JVxUZquVUY6/anmo5VbssRwIkoEeAIkiPV4XSIn52BLDAuCW9BnyJIPqrFyeKIIogZoI05wyLk4AzAhRBxqhF/Gzv+A3y0mlfIoj+ag4ZHoyuciaImSCeCdKcSyxOAtYJpCSCivAC1VIs5KWL/wFgofXg1G7Qlwiiv5qBpgiiCKo6ZHg7THM2sTgJWCZAEWQMVMTPtgAWGbek14AvEUR/9eK05naYZp3Uio8dOxb9+/ev275quboNxQUqtSe/69evX6pnglT9UC1n4m+lurbtqvaP5UiABL4lMHbs2GYWech6X6RM0NcAtgRg7w3UasHwJYLor1p8GkvZnFyapisWlwmq0ifVcqp9qtSePExMHiqWpkhU9UO1nIm/leratqvaP5YjARJIh0DRRJCIn80BLE4HZ9VWfYkg+qsZaBXBodmkUXHVTVe1nGpnKIIqk7LNWTUeLEcCJJAOgaKJIBE/mwJYkg7O4EQQ/dUMNEXQGmCVNnsXAkDVhmo51fCrtqdaTtUuy5EACfglUDQRJOKnA4CljrH7ygTRX81AUwRRBNUaMhRBmhOKxUkgcAJFE0EiftoDWOY4Lr5EEP3VDDRFEEUQRZDmpGFxEsgwAV8fbHyJguXyBeD4uT0uw0Z/3dA2ji9FEEUQRZCbyUorJBACgaKJIF9ihHbdjHZjzhRBFEEUQW4mK62QQAgEiiaCVgJoDWCVY/jGm3PC/tJfTXAUQRRBFEGak4bFSSDDBIomgkT8tAIgjzxxefkSQfRXM8oUQRRBFEGak4bFSSDDBIomglw8763ScPAlguiv5uT0KYLSeAihij+0qzlIKhRX4WxuhS2QAAmoEvC1rqn2z7YooL+q5KuXs7mOZza+NiHohqShocHeOG7WLHJFxR/a1Y1UWXkNzgZWWJUESECTgK91TbWb1jdJT/sH/a1MILPxVRENqkHXLedr0tKubqQoggyIsSoJOCHga11TdS6zm6Sqg03K0d+E4OJqzsYzRZBZoEovWFXh6CyoTVzyZdeQLKuTAAloEAh9nlMUaASzQlHG14BfrTsYKpu3gemaVX0FlXYNIsrbYQbwWJUE0iPga11T9YgiSJVU5XKMrwE/iqC14fkaTEWzazBkWZUESECTgK/1RbWbFEGqpCiChICz8ZzHTNARAJ6qMd7Sgls0u2ZTmrVJgAR0CPhaX3T6WKusrgiiv2F8eFeNf2bjm0cR9FX8hNAhAEZWiGBaIqhodlUnB8uRAAmYE/C1vpj3fE0Lupsk/c23CAomvnkUQacDuAVAS0mpAbi6iRhKSwQVza6txZHtkAAJ1Cfga32p3zO1EroiiP6u/SE+rX1LLXr1S2U2vnkUQRKuzwFsFsdtWZkYuhHA8hSfL1E0u/WnBkuQAAnYIuBrfbHRf91N0uc6Tn/1CWQ2vnkTQbVCtxzAgwBOT0EE0a7+pGENEiABcwK+1jXznidrgf4m47ZWrfjbUhZast5EmvGtqHfyJoJK/jT9xCSRkttikglaloIIKqpd6zOADZIACVQl4GtdsxESG5kCV+s4/dUnkNn45lEEld9LLk2aEWUxTeveatHs6k8T1iABEkhKwNf6krS/TevpbpL0F3CxbxU+vnkUQXLqfH0A8u2w8kFUCnZaIqhodm1NHrZDAiRQn4Cv9aV+z9RK6Iog+rs217T2LbXo1S+V2fjmUQQdCeDJGjFLazAVzW79acESJEACtgj4Wl9s9V93k6S/+RZBwcQ3jyKo3qRNSwTRbj0C/DsJkEBaBHyta6r+6Iqgeu3S33qEavw9hdcfZTa+FEEGA0mqagwmX5PWl11DsqxOAiSgQSD0eZ7ZTVIjBuVF6W9CcHE1Z+OZIsgsUBRBhvxYnQRIwAoBZ5tGwt5SFCQE51oUJOxmZuNLEZQw4qVqzAQZAmR1EiABGwQoggwoaqzjqlYyKwpUHWxSLrP+UgQljDhFkCE4VicBErBJgCLIgCZFkAG8NVUpghIglPd62b5URB3tmlNX4WxuhS2QAAmoEvC1rqn2z/omqWpYo5zNdY3+aoCvUNTZeLYZdDOXK9duBeBeedVFrDTTsFGpTdp1RZp2SIAEXBHwta6lkSlQYUZ/VSjZKWNb9Kn0ykp8QxdBV8QPPZRXXgxXoWKpDO1aAslmSIAEgiHga13zJYLor7uh50MEWYlv6CJoKYDW8ub3+F9XIaVdV6RphwRIwBUBX+uaLxFEf12NLPtnglR6biW+IYsgUXmDY/GzDMA1jrJBtOs266Yy2FmGBEjAjICvda3Ua9eZAvrrdh3PbHxDFkEllVeaRK6yQbS7JvvGiwRIID8EfK1rvkQQ/XW7jrsWQdbiG6oIKlfxpUnkIhtEu4ALzvnZWugJCYRPwNe6Vk7G5SZJf92v45mNb6giSDZigfoNgC0AfAZgQwByGjzNLAXtuuEc/rbBHpJAfgj4Wtd8iSD6634ddymCrMY3RBF0OICHAZwPYBwAeV6A9LMvgDEA+gB4KoX1iXbdcE4hdGySBEigCgFf61rT7rjaJOmvn3U8s/ENUQQ1nTwlEeR6laNd18RpjwRIIG0CvtY1V5tkKPsH/U17JK9p33g8UwRVD5Qx3IRjoGh2E2JiNRIggQQEfK0vFAUJgpWgCuOrCY0iiCKoRMDX5NEcsixOAiRgQMDXPKcIMgiaRlXGVwOWFKUIogiiCNKcNCxOAhkmwE3STfAo+txwNh7PFEEUQRRBbiYrrZBACASMN42ETlAUJASnWY3x1QRGEUQRRBGkOWlYnAQyTICbpJvgUfS54Ww8nimCKIIogtxMVlohgRAIGG8aCZ2gKEgITrMa46sJjCKIIogiSHPSsDgJZJgAN0k3waPoc8PZeDxTBFEEUQS5may0QgIhEDDeNBI6QVGQEJxmNcZXExhFEEUQRZDmpGFxEsgwAW6SboJH0eeGs/F4pgiiCKIIcjNZaYUEQiBgvGkkdIKiICE4zWqMryYwnyJIgmX7UvGHds2pq3A2t8IWSIAEVAn4WtdU+2dbBNFfVfLVy9lcxzMbX5sQdEPS0NBgbxw3axa5ouIP7epGqqy8BmcDK6xKAiSgScDXuqbaTeubpKf9g/5WJpDZ+KqIBtWg65bzNWlpVzdSFEEGxFiVBJwQ8LWuqTqX2U1S1cEm5ehvQnBxNWfjmSLILFDQyIw4C2oTl3zZNSTL6iRAAhoEQp/nFAUawaxQlPE14Fdrn6YIMgArVSmCDAGyOgmQgA0C3CQNKGqs46pWKPpUSVUu52w8UwSZBYoiyJAfq5MACVgh4GzTSNhbioKE4FzfHkrYzczGlyIoYcRL1TQ+QfhapHzZNSTL6iRAAhoEQp/nmd0kNWJQXpT+JgTnWvRRBJkFipkgQ36sTgIkYIUARZABRo0Ps6pWKIJUSfF2mBkpZmTq8gt9cazrAAuQAAnUJRD6PKcoqBvCmgUYXwN+PBi9Njxfg6lodg2GLKuSAAloEvC1vqh2kyJIlZTnzEjCbmY2vl5vhyWEXauaij/2ntD4bU9oN4VgskkSIAFlAr7WNdUOWt8kVQ1rlFNZx1Wbo7+qpKqIPrPqFWtXjK/NoKfQZ7QCcC+A0wHIoHJ10a4r0rRDAiTgioCvdU38sy0KVJjRXxVKdspkNr6hi6ArAAwBcDWA4XZipdQK7SphYiESIIEMEfC1rvkSQfTX3eD0IYKsxDd0EbQUQGsAy+N/XYWUdl2Rph0SIAFXBHyta75EEP11NbL8ZPqsxDdkESQqb3AsfpYBuMZRNoh23Wbd3E1TWiKB4hLwta6ViLvOFNBft+t4ZuMbsggqqbzSJHKVDaLdNdk3XiRAAvkh4Gtd8yWC6K/bddy1CLIW31BFULmKL00iF9kg2gVccM7P1kJPSCB8Ar7WtXIyLjdJ+ut+Hc9sfEMVQbIRC9RvAGwB4DMAGwLRt8XSzFLQrhvO4W8b7CEJ5IeAr3XNlwiiv+7XcZciyGp8QxRBhwN4GMD5AMYBkOdfSD/7AhgDoA+Ap1JYn2jXDecUQscmSYAEqhDwta417Y6rTZL++lnHMxvfEEVQ08lTEkGuVznadU2c9kiABNIm4Gtdc7VJhrJ/0N+0R/Ka9o3HM0VQ9UAZw004BopmNyEmViMBEkhAwNf6QlGQIFgJqjC+mtAogiiCSgR8TR7NIcviJEACBgR8zXOKIIOgaVRlfDVgSVGKIIogiiDNScPiJJBhAtwk3QSPos8NZ+PxTBFEEUQR5Gay0goJhEDAeNNI6ARFQUJwmtUYX01gFEEUQRRBmpOGxUkgwwS4SboJHkWfG87G45kiiCKIIsjNZKUVEgiBgPGmkdAJioKE4DSrMb6awCiCKIIogjQnDYuTQIYJcJN0EzyKPjecjcczRRBFEEWQm8lKKyQQAgHjTSOhExQFCcFpVmN8NYFRBFEEUQRpThoWJ4EME+Am6SZ4FH1uOBuPZ4ogiiCKIDeTlVZIIAQCxptGQicoChKC06zG+GoCy4IIGgzgak2/bBSnXRsU2QYJkEBIBHyta75EEP11M/oyG98siCA3IaQVEiABEiCBtAj42iTT8qdeu/S3HqFA/k4RFEgg2A0SIAESyDEBioIcBxdAZuNLEZTvgUnvSIAESCAEApndJBPCo78JwbmuRhHkmjjtkQAJkEDxCFAU5DvmmY0vRVC+Bya9IwESIIEQCGR2k0wIj/4mBOe6GkWQa+K0RwIkQALFI6ArCo4A8FSGMdHf2sELJr4UQWsH6nIAOwA4J8OTj10nARIoJoGl8fo1N0D3dUXBVwBaAxgCYGSA/tTrkkt/Q9i3XPpbj73W3ymCKIK0BgwLkwAJBEOgBYCjAXQA8AcANkXQTwDMBzAJwCoLHutukqcDuAVASwDyAEB5VlyWxJBLf7MogoKJb6giqD2A38efajYDMA/ASQD+bWEy1mpCBtORAGRx2RTAPwH8T7wYpGlaJvoNsW1ZcKYDuAjAwjSNAvgVgK0AnBfbkZ+Ft9jmRQIkECaB/wBwFgARKjMAjALwQiyC7gOwTyweRDg8Ersg5WVerwbwGYDzAbwFYHcAYwGsB6A5gDEA7gawP4ABAPaMBdadAD4ywKErCsTU5/F6JP+/rEwM3Rh/Jbtad3ztH+X9cemvr33Ll79W961QRdBPAXwPwMUx5XsAzAFwhcEkVKkqg0kWB1lExJ4IMfkUkvbtsYEAugA4HsBKALfFi9iZKp02KGN1MBn0g1VJgATqE9gQwEMAtgcga6IIHhEKpUsyQSPirMnOsTDaC4CIpnGxsPkUQF8AVwH4DgARN/Kh6+a43WtjcVVqcwsApwE4I/4QeiKAb+p3dZ0Scr7n8AT1mlZZDuDBuD/VmvO1f5T3x6W/vvYtX/5a3bdCFUECd+9YGHQE0DM+JCcCJc1LBtPWAC6MjewbLzr/laZRAM8CuB7Ao7GdzgD+CmDLlO1aHUwp95XNk0DRCYgIEgFQLoK+aCKCZP2S21hy/Tlev3YCIHUvLSsr9Q4GsEsshJ4GIP9J5kgy76VLMsMigkRYvA/g5IQiKEnsmmaCpA3JbkkmSMRQrcvH/pHEx/I6Sf31tW/58tfqvhWqCPpl/GlF7gm/AaA3gLZlt21M4VerL4NpkzgNLGVkIt0PYNe0DMbtPh9/gnss/lmyYFPjvqRpWjJQ2wA4NzYyFMBGvB2WJnK2TQLGBLYDcHacsXkpvpUu2RzJBMn6tTi2IB+qZP2SD1VyyPgXZZa/BHAogJkANo9vxcs3do6Ky+8Yl5esuJw3ugPAx8Y9V2+g/MxISfxIlkvl8rV/qPStWhkTf33tW778tbpvhSqCRACMj28LyaY8JU7ZyvmcNC8ZTKfEaeMl8b12Oa9zSZpGAQwCsF98O0zuJd8aH3aU1HOaV38AcsvtIADtAEyLM248E5QmdbZNAnYIyNlF+YC4MYB7YxEkZ39E+MiHGxFGks2WTJAIGVlj5HaYrHFyjki+CSuZJTn8fBeA9QG8A+CH8VmhBQDkg5mNg9G6Hsu3w6Q/8u0wVfFTsuFr/9D1sby8ib++9i1f/lrdt0IVQfJpZHSc1m0F4LV4wtq4p1wrcDKYusfncoSNfNVUDg1/bRJthbryKU0WJfFPRJd8upNbf/JpLc1LBKYsmHL48cP4DIEsrBRBaVJn2ySQDgHJBIkYkltiIoyGA3giNiUbh6wpcvhZbnddEK+rkiWSg9Ft4kPTcgtNPpT5vuQLKk8m7ISv/SNhd6NqJv762rd8+Wt13wpVBJnAZV0SIAESIAESIAESqEuAIqguIhYgARIgARIgARLIIwGKoDxGlT6RAAmQAAmQAAnUJUARVBcRC5AACZAACZAACeSRAEVQHis9XYQAAAAmSURBVKNKn0iABEiABEiABOoSoAiqi4gFSIAESIAESIAE8kjg/wMq7fLbZmPwlAAAAABJRU5ErkJggg==\" style=\"cursor:pointer;max-width:100%;\" onclick=\"(function(img){if(img.wnd!=null&&!img.wnd.closed){img.wnd.focus();}else{var r=function(evt){if(evt.data=='ready'&&evt.source==img.wnd){img.wnd.postMessage(decodeURIComponent(img.getAttribute('src')),'*');window.removeEventListener('message',r);}};window.addEventListener('message',r);img.wnd=window.open('https://app.diagrams.net/?client=1&lightbox=1&edit=_blank');}})(this);\"/>"
      ]
    },
    {
      "cell_type": "markdown",
      "metadata": {
        "id": "Ij-yW7NpaKaC"
      },
      "source": [
        "You only need modify the Decoder to implement this. \n",
        "\n"
      ]
    },
    {
      "cell_type": "markdown",
      "metadata": {
        "id": "yP6Gol0pcU7x"
      },
      "source": [
        "If implemented correctly, your phoneme error rate around 0.04 ... 0.08 (actually different training runs give quite different results). That is, attention really works very well in this task, compared to the more basic models."
      ]
    },
    {
      "cell_type": "markdown",
      "metadata": {
        "id": "OnWhZYPusRVv"
      },
      "source": [
        "**Another thing that you should try is to use the Transformer architecture**, i.e., get rid of the GRU layers in both encoder and decoder completely. You should also then use positional encoding in both encoder and decoder. There are plenty of tutorials and code samples about this, and see our lab about Machine Translation!\n",
        "\n"
      ]
    },
    {
      "cell_type": "markdown",
      "metadata": {
        "id": "19ePLdkht6Ze"
      },
      "source": [
        "## Grading\n",
        "\n",
        "In order to be graded, you have to submit the generated test pronunciations (i.e., the `submission.tsv` file generated by you improved model) to the evaluation leaderboard at http://bark.phon.ioc.ee/am3-leaderboard/. \n",
        "\n",
        "In the leaderboard, you have to enter your UniID and upload the generated `submission.tsv` file. *NB!* If you don't feel comfortable that other students see your score, use a nickname (i.e., could be random string only you know), but please be consistent, that is, use only one name across all your submissions. If you use a nickname, let me know what it is when you submit your code.\n",
        "\n",
        "*Another NB!* The leaderboard is totally unsecure and you don't even have to authenticate yourself, so please don't do stupid things, like uploading under other people's names, etc.\n",
        "\n",
        "Your grade is determined by the error rate of your best model on test data, compared to the average score of the top 3 students. \n",
        "\n",
        "More specifially:\n",
        "  * First, the average of the top 3 students' models will be computed. Let's call it $score_{top3}$. Let's also save the error rate of the baseline model to $score_{baseline}$.\n",
        "  * Then, we'll compute how much of the error rate reduction does your best score $score_i$ achieve  over the baseline, when baseline would give you 0% points and $score_{top3}$ 100% points. \n",
        "  * That is, your points will be calculated as $max(15, \\delta * 15)$, where \n",
        "  $\\delta=\\frac{score_{baseline} - score_{i}}{score_{baseline} - score_{top3}}$\n",
        "  * For example: baseline score is 0.18, top3 average  is 0.07, and your score 0.11. This would give you $\\delta=\\frac{0.18-0.11}{0.18-0.07}=0.63$ and $0.63 \\times 15 = 9.6 ≃ 10$ points.\n",
        "  \n",
        "\n",
        "\n",
        "### More rules!\n",
        "\n",
        "  * You can make *up to 20 submissions* to the leaderboard\n",
        "  * The leaderboard $score_{top3}$ will be taken at the time of the assignment deadline. Later submissions that make it to the top 3 will not change it.\n",
        "\n",
        "You should also submit the jupyter notebook (link) that reproduces your best model. Note that it's expected that multiple runs of the training won't have the same results. \n",
        "\n",
        "Please make sure that you share your notebook's link so that \"anyone with the link\" can see it."
      ]
    },
    {
      "cell_type": "code",
      "metadata": {
        "id": "PR2F5BrHu5OI"
      },
      "source": [],
      "execution_count": null,
      "outputs": []
    }
  ]
}